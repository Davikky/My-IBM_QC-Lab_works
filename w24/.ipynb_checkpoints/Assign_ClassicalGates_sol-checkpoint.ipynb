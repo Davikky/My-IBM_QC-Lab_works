{
 "cells": [
  {
   "cell_type": "markdown",
   "metadata": {
    "deletable": false,
    "editable": false,
    "nbgrader": {
     "cell_type": "markdown",
     "checksum": "1027111b883fd6ae949c4ce3a96a9718",
     "grade": false,
     "grade_id": "cell-7ea049f33e7c8764",
     "locked": true,
     "schema_version": 3,
     "solution": false,
     "task": false
    }
   },
   "source": [
    "# Homework 1 Assignment\n",
    "\n",
    "\n",
    "The places where you have enter code are marked with `# YOUR CODE HERE`."
   ]
  },
  {
   "cell_type": "markdown",
   "metadata": {
    "deletable": false,
    "editable": false,
    "nbgrader": {
     "cell_type": "markdown",
     "checksum": "a4081a56fcaf79dd50fdf69d5ab68944",
     "grade": false,
     "grade_id": "cell-8e0e78ca84efa750",
     "locked": true,
     "schema_version": 3,
     "solution": false,
     "task": false
    }
   },
   "source": [
    "## Question 1 (8 points)\n",
    "\n",
    "Complete the function `OR3` that implements the 3-qubit to 1-qubit $OR$ operator. This operator acts on 4 qubits in the state $|q_0,q_1,q_2,q_3\\rangle$ and maps it to $|q_0,q_1,q_2,q_3 \\oplus (q_0 \\text{ or } q_1 \\text{ or } q_2)  \\rangle$.\n",
    "\n",
    "The function `OR3` has\n",
    "\n",
    "- Inputs: None\n",
    "- Returns: A `QuantumCircuit` object with 4 qubits and 1 classical bit that implements the $OR$ operator as described above.\n",
    "\n",
    "Don't add any measurements to the returned circuit."
   ]
  },
  {
   "cell_type": "code",
   "execution_count": 1,
   "metadata": {
    "deletable": false,
    "nbgrader": {
     "cell_type": "code",
     "checksum": "5bac332219213275f062743306fcb55f",
     "grade": false,
     "grade_id": "cell-517fe01d3e0bd3be",
     "locked": false,
     "schema_version": 3,
     "solution": true,
     "task": false
    }
   },
   "outputs": [],
   "source": [
    "from qiskit import QuantumRegister, ClassicalRegister, QuantumCircuit\n",
    "from qiskit.circuit.library.standard_gates import XGate\n",
    "from qiskit_aer import AerSimulator\n",
    "\n",
    "\n",
    "def OR3():\n",
    "    circuit = QuantumCircuit(4,1)\n",
    "    # Do not modify anything above this line\n",
    "    \n",
    "    # create a multi-controlled_XGate (anti-cccx gate)\n",
    "    mCX = XGate().control(num_ctrl_qubits=3, label='anti-cccx gate', ctrl_state='000')\n",
    "    # build circuit using mCX\n",
    "    circuit.x(3)\n",
    "    circuit.append(mCX,[0,1,2,3])\n",
    "    # Do not modify anything below this line  \n",
    "    return circuit"
   ]
  },
  {
   "cell_type": "code",
   "execution_count": 2,
   "metadata": {},
   "outputs": [
    {
     "data": {
      "image/png": "[encoded data removed]",
      "text/plain": [
       "<Figure size 371.107x451.5 with 1 Axes>"
      ]
     },
     "execution_count": 2,
     "metadata": {},
     "output_type": "execute_result"
    }
   ],
   "source": [
    "#draw circuit to check\n",
    "OR3().draw(\"mpl\")"
   ]
  },
  {
   "cell_type": "markdown",
   "metadata": {
    "deletable": false,
    "editable": false,
    "nbgrader": {
     "cell_type": "markdown",
     "checksum": "840d48b1a4925216991fd11394552dcf",
     "grade": false,
     "grade_id": "cell-a294ac223e116578",
     "locked": true,
     "schema_version": 3,
     "solution": false,
     "task": false
    }
   },
   "source": [
    "In the following cell, there is some code that will help you make sure your solution is correct. You can modify this code as you wish. You may also create more cells and write more code to test your own solution. "
   ]
  },
  {
   "cell_type": "code",
   "execution_count": 3,
   "metadata": {},
   "outputs": [
    {
     "data": {
      "text/plain": [
       "{'1': 100}"
      ]
     },
     "execution_count": 3,
     "metadata": {},
     "output_type": "execute_result"
    }
   ],
   "source": [
    "def test(input):\n",
    "    circuit = QuantumCircuit(4,1)\n",
    "\n",
    "    # implement the input state with a suitable use of X gates.\n",
    "    for i in range(3):\n",
    "        if input[i]=='1':\n",
    "            circuit.x(i)\n",
    "\n",
    "    # Apply the OR3 gate you created\n",
    "    circuit.compose(OR3(), range(4), [0], inplace=True)\n",
    "\n",
    "    circuit.measure(3,0)\n",
    "\n",
    "    job = AerSimulator().run(circuit,shots=100)\n",
    "    return job.result().get_counts(circuit)\n",
    "\n",
    "test('001')"
   ]
  },
  {
   "cell_type": "markdown",
   "metadata": {
    "deletable": false,
    "editable": false,
    "nbgrader": {
     "cell_type": "markdown",
     "checksum": "054b8d330fcb48d624703c7229f0d085",
     "grade": false,
     "grade_id": "cell-bf03891578498365",
     "locked": true,
     "schema_version": 3,
     "solution": false,
     "task": false
    }
   },
   "source": [
    "# How autograding will work in this workshop\n",
    "In the next cell, there are some tests (the `assert` statements) that will be used to *grade* if your solution is correct. If executing the next cell results in an error, your implementation is incorrect, and you will not get any marks. \n",
    "\n",
    "There are also some hidden tests, not available to you, that will test your solution, once your submit this file back on Canvas. If any of those fail, you will not receive any marks. Otherwise, you will gain full marks on this question."
   ]
  },
  {
   "cell_type": "code",
   "execution_count": 4,
   "metadata": {
    "deletable": false,
    "editable": false,
    "nbgrader": {
     "cell_type": "code",
     "checksum": "9c2ddabf3afbe538e0b3ea542131d530",
     "grade": true,
     "grade_id": "cell-12b1e3e97b88002b",
     "locked": true,
     "points": 2,
     "schema_version": 3,
     "solution": false,
     "task": false
    }
   },
   "outputs": [],
   "source": [
    "def Grade_test(input):\n",
    "    circuit = QuantumCircuit(4,1)\n",
    "\n",
    "    for i in range(3):\n",
    "        if input[i]=='1':\n",
    "            circuit.x(i)\n",
    "\n",
    "    circuit.compose(OR3(), range(4), [0], inplace=True)\n",
    "    circuit.measure(3,0)\n",
    "\n",
    "    job = AerSimulator().run(circuit,shots=100)\n",
    "    return job.result().get_counts(circuit)\n",
    "\n",
    "counts = Grade_test('100')\n",
    "assert counts['1']==100\n",
    "counts2 = Grade_test('000')\n",
    "assert counts2['0']==100"
   ]
  },
  {
   "cell_type": "code",
   "execution_count": 5,
   "metadata": {
    "deletable": false,
    "editable": false,
    "nbgrader": {
     "cell_type": "code",
     "checksum": "79e663b188cccfb491ee466f0e01df66",
     "grade": true,
     "grade_id": "cell-74f92b92e2a40b2e",
     "locked": true,
     "points": 6,
     "schema_version": 3,
     "solution": false,
     "task": false
    }
   },
   "outputs": [],
   "source": [
    "# hidden tests in this cell will be used for grading."
   ]
  }
 ],
 "metadata": {
  "kernelspec": {
   "display_name": "Python 3 (ipykernel)",
   "language": "python",
   "name": "python3"
  },
  "language_info": {
   "codemirror_mode": {
    "name": "ipython",
    "version": 3
   },
   "file_extension": ".py",
   "mimetype": "text/x-python",
   "name": "python",
   "nbconvert_exporter": "python",
   "pygments_lexer": "ipython3",
   "version": "3.10.12"
  }
 },
 "nbformat": 4,
 "nbformat_minor": 4
}
