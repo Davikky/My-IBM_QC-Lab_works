{
 "cells": [
  {
   "cell_type": "markdown",
   "id": "969408f7-62e3-4e3a-8c44-f55248277bf8",
   "metadata": {},
   "source": [
    "# Python SDK Installation¶\n",
    "The Classiq platform has an accompanied Python SDK package that is integrated with the Classiq platform. After registering to the platform, one can install the SDK package.\n",
    "\n",
    "The package should be installed using pip with:"
   ]
  },
  {
   "cell_type": "code",
   "execution_count": null,
   "id": "b4050b08-0f24-4088-80ed-da656190eea6",
   "metadata": {},
   "outputs": [],
   "source": [
    "!pip install -U classiq"
   ]
  },
  {
   "cell_type": "code",
   "execution_count": 1,
   "id": "369d8d4f-797d-4a09-a25d-56581a5b1dbd",
   "metadata": {},
   "outputs": [
    {
     "name": "stderr",
     "output_type": "stream",
     "text": [
      "/home/student/.cirq/lib/python3.10/site-packages/classiq/_internals/authentication/token_manager.py:96: UserWarning: Device is already registered.\n",
      "Generating a new refresh token should only be done if the current refresh token is compromised.\n",
      "To do so, set the overwrite parameter to true\n",
      "  warnings.warn(\n"
     ]
    }
   ],
   "source": [
    "import classiq\n",
    "classiq.authenticate()"
   ]
  },
  {
   "cell_type": "markdown",
   "id": "55cb6212-0891-42a3-b121-3d79afe5c1ac",
   "metadata": {},
   "source": [
    "## Design (SDK) - Optimize (SDK) - Analyze (IDE) - Execute (SDK)¶\n",
    "Design your hello world quantum algorithm by running the following code in your favorite Python SDK environment (after installing Classiq):"
   ]
  },
  {
   "cell_type": "code",
   "execution_count": 2,
   "id": "d242c1ca-34f9-4c0a-a5c9-270b17bc2f5e",
   "metadata": {},
   "outputs": [],
   "source": [
    "from classiq import *\n",
    "\n",
    "\n",
    "@qfunc\n",
    "def main(x: Output[QNum], y: Output[QNum]):\n",
    "\n",
    "    allocate(4, x)\n",
    "    hadamard_transform(x)  # creates a uniform superposition\n",
    "    y |= x**2 + 1"
   ]
  },
  {
   "cell_type": "code",
   "execution_count": 3,
   "id": "ed5e43d8-5e55-41b2-8656-382b018644e2",
   "metadata": {},
   "outputs": [],
   "source": [
    "quantum_program = synthesize(create_model(main))"
   ]
  },
  {
   "cell_type": "code",
   "execution_count": 4,
   "id": "48767a45-af5a-420e-aa59-c786bdf30b8a",
   "metadata": {
    "scrolled": true
   },
   "outputs": [
    {
     "name": "stdout",
     "output_type": "stream",
     "text": [
      "Opening: https://platform.classiq.io/circuit/e12b7e93-e2a1-4acc-b48c-a0d2ca4dc8d1?version=0.42.2\n"
     ]
    }
   ],
   "source": [
    "show(quantum_program)"
   ]
  },
  {
   "cell_type": "code",
   "execution_count": 5,
   "id": "04ea79d4-49ab-48a7-99fb-f3019fa8f31c",
   "metadata": {},
   "outputs": [
    {
     "name": "stdout",
     "output_type": "stream",
     "text": [
      "[{'x': 11.0, 'y': 122.0}: 149, {'x': 14.0, 'y': 197.0}: 141, {'x': 3.0, 'y': 10.0}: 141, {'x': 9.0, 'y': 82.0}: 141, {'x': 8.0, 'y': 65.0}: 134, {'x': 10.0, 'y': 101.0}: 132, {'x': 6.0, 'y': 37.0}: 130, {'x': 13.0, 'y': 170.0}: 126, {'x': 12.0, 'y': 145.0}: 123, {'x': 7.0, 'y': 50.0}: 122, {'x': 1.0, 'y': 2.0}: 121, {'x': 5.0, 'y': 26.0}: 120, {'x': 0.0, 'y': 1.0}: 120, {'x': 2.0, 'y': 5.0}: 118, {'x': 15.0, 'y': 226.0}: 118, {'x': 4.0, 'y': 17.0}: 112]\n"
     ]
    }
   ],
   "source": [
    "job = execute(quantum_program)\n",
    "results = job.result()[0].value.parsed_counts\n",
    "print(results)"
   ]
  },
  {
   "cell_type": "code",
   "execution_count": null,
   "id": "3f6ff0ec-3fc3-40c3-b775-6f17545c66b5",
   "metadata": {},
   "outputs": [],
   "source": []
  },
  {
   "cell_type": "code",
   "execution_count": 6,
   "id": "56c75870-5cd2-427b-b020-374f81735f58",
   "metadata": {},
   "outputs": [],
   "source": [
    "write_qmod(create_model(main), \"hello_many_worlds\")"
   ]
  },
  {
   "cell_type": "markdown",
   "id": "e4544f4b-f10a-4380-b05d-12067329cd74",
   "metadata": {},
   "source": [
    "### Exercise 1: Follow the [Design - The Qmod Language Tutorial](https://nightly.docs.classiq.io/latest/classiq_101/classiq_concepts/design/#concrete-example)\n",
    "\n",
    "Task: Write within the IDE with the native syntax a quantum algorithm that coherently calculates y= 2*x + 4*z +2, where x and z are quantum numbers represented with 5 qubits each, and they are initialized in a superposition of all possible values."
   ]
  },
  {
   "cell_type": "raw",
   "id": "f8a237ec-de51-4ff3-a11f-042a71668a2f",
   "metadata": {},
   "source": [
    "#solution in Native IDE\n",
    "qfunc main(output x: qnum, output y: qnum, output z: qnum) {\n",
    "  allocate<5>(x);\n",
    "  allocate<5>(z);\n",
    "  hadamard_transform(x);\n",
    "  hadamard_transform(z);\n",
    "  y = (2 * x) + (4 * z) + 2;\n",
    "}"
   ]
  },
  {
   "cell_type": "code",
   "execution_count": null,
   "id": "45f15af0-8458-4a20-aacf-2e55b0994238",
   "metadata": {},
   "outputs": [],
   "source": [
    "#solution in Python\n",
    "from classiq import Output, QNum, allocate, hadamard_transform, qfunc\n",
    "\n",
    "\n",
    "@qfunc\n",
    "def main(x: Output[QNum], y: Output[QNum], z: Output[QNum]):\n",
    "\n",
    "    allocate(5, x)\n",
    "    allocate(5, z)\n",
    "    hadamard_transform(x)  # creates a uniform superposition\n",
    "    hadamard_transform(z)\n",
    "    y |= 2*x + 4*z + 2"
   ]
  },
  {
   "cell_type": "markdown",
   "id": "fb0165aa-86c4-4b51-bab6-1cbb260272a2",
   "metadata": {},
   "source": [
    "**continue on the platform**"
   ]
  },
  {
   "cell_type": "markdown",
   "id": "c53fbead-5cf4-49e7-aa54-68739024b987",
   "metadata": {},
   "source": [
    "### Exercise 2: Follow the [Design - Quantum Variables and Functions tutorial](https://nightly.docs.classiq.io/latest/classiq_101/classiq_concepts/design/quantum_variables_and_functions/)\n",
    "\n",
    "Task: Create another quantum function flip_lsb that flips the least significant bit"
   ]
  },
  {
   "cell_type": "raw",
   "id": "0ed83725-f4a3-4063-8736-fede31a10c83",
   "metadata": {},
   "source": [
    "#solution in Native IDE: copy code below into classiq IDE\n",
    "qfunc flip_lsb(reg: qbit[]) {\n",
    "  X(reg[0]);\n",
    "}"
   ]
  },
  {
   "cell_type": "raw",
   "id": "a75ff36f-5e9e-4fee-a74a-6c5d045e5104",
   "metadata": {},
   "source": [
    "#test: join this with the above code\n",
    "qfunc main(output indicator: qbit) {\n",
    "  x: qnum;\n",
    "  allocate<3>(x);\n",
    "  flip_lsb(x);\n",
    "  indicator = x == 1;\n",
    "}"
   ]
  },
  {
   "cell_type": "markdown",
   "id": "facd1c8f-4af7-4e7d-8001-cb411fe65d1b",
   "metadata": {},
   "source": [
    "### Exercise 3: Follow the [Optimize - The Synthesis Engine tutorial](https://nightly.docs.classiq.io/latest/classiq_101/classiq_concepts/optimize/)\n",
    "\n",
    "Task: Modify the constraints such that you optimize the circuit for minimal circuit depth using maximum 25 qubits. What are the circuit depth and width you receive? Are they different from the given example?"
   ]
  },
  {
   "cell_type": "markdown",
   "id": "331bce98-cdae-4707-b110-66825872eb8b",
   "metadata": {},
   "source": [
    "The task covered in the 'Design - The Qmod Language' tutorial is to create a quantum algorithm that calculates the arithmetic expression **$ y = x^2 + 1 $** in a superposition. The following model written in Qmod (Python) implements the desired task:"
   ]
  },
  {
   "cell_type": "code",
   "execution_count": 28,
   "id": "86b8c34a-a954-44bf-b424-d07abe494820",
   "metadata": {},
   "outputs": [],
   "source": [
    "from classiq import *\n",
    "\n",
    "\n",
    "@qfunc\n",
    "def main(x: Output[QNum], y: Output[QNum]):\n",
    "\n",
    "    allocate(4, x)\n",
    "    hadamard_transform(x)  # creates a uniform superposition\n",
    "    y |= x**2 + 1"
   ]
  },
  {
   "cell_type": "code",
   "execution_count": 29,
   "id": "838c648f-662b-4d60-abad-186e269cf1d2",
   "metadata": {},
   "outputs": [],
   "source": [
    "# one can always synthesize without any constraints or preferences:\n",
    "quantum_program = synthesize(create_model(main))"
   ]
  },
  {
   "cell_type": "code",
   "execution_count": 30,
   "id": "e1d385ca-ce3d-40a3-9b4c-cbaadee87d81",
   "metadata": {},
   "outputs": [],
   "source": [
    "# a constraint is required in this exercise: minimal circuit depth using maximum 25 qubits\n",
    "quantum_model = create_model(main)\n",
    "quantum_model_with_constraints = set_constraints(\n",
    "    quantum_model, Constraints(optimization_parameter=\"depth\", max_width=25)\n",
    ")\n",
    "\n",
    "# synthesize with constraints\n",
    "quantum_model_with_preferences = set_preferences(\n",
    "    quantum_model_with_constraints,\n",
    "    Preferences(backend_service_provider=\"IBM Quantum\", backend_name=\"ibm_brisbane\"),\n",
    ")\n",
    "\n",
    "quantum_program2 = synthesize(quantum_model_with_preferences)"
   ]
  },
  {
   "cell_type": "code",
   "execution_count": 31,
   "id": "134edd28-0a81-40f7-a5cd-2fc813abab30",
   "metadata": {},
   "outputs": [
    {
     "name": "stdout",
     "output_type": "stream",
     "text": [
      "The circuit width is 12 and the circuit_depth is 392\n"
     ]
    }
   ],
   "source": [
    "# check parameters for circuit without contraints\n",
    "circuit_width = QuantumProgram.from_qprog(quantum_program).data.width\n",
    "circuit_depth = QuantumProgram.from_qprog(quantum_program).transpiled_circuit.depth\n",
    "print(f\"The circuit width is {circuit_width} and the circuit_depth is {circuit_depth}\")"
   ]
  },
  {
   "cell_type": "code",
   "execution_count": 32,
   "id": "46b67554-536a-424f-893f-84cfe52ee91c",
   "metadata": {},
   "outputs": [
    {
     "name": "stdout",
     "output_type": "stream",
     "text": [
      "The circuit width is 21 and the circuit_depth is 1459\n"
     ]
    }
   ],
   "source": [
    "# check parameters for circuit with contraints\n",
    "circuit_width2 = QuantumProgram.from_qprog(quantum_program2).data.width\n",
    "circuit_depth2 = QuantumProgram.from_qprog(quantum_program2).transpiled_circuit.depth\n",
    "print(f\"The circuit width is {circuit_width2} and the circuit_depth is {circuit_depth2}\")"
   ]
  },
  {
   "cell_type": "markdown",
   "id": "e63fc018-d25b-4b84-a54b-34f8cc085aca",
   "metadata": {},
   "source": [
    "### Exercise 4: Follow the [Analyze - Classiq Visualization Tool tutorial](https://nightly.docs.classiq.io/latest/classiq_101/classiq_concepts/analyze/) in the IDE\n",
    "\n",
    "Task: Export the synthesized quantum program as a LaTeX file, and view it in a LaTeX Editor (it is recommended to use [Overleaf](https://www.overleaf.com/) -  a free, easy to use online LaTeX editor)"
   ]
  },
  {
   "cell_type": "markdown",
   "id": "6039db19-d8d6-4a70-a1a6-7ed884d2901b",
   "metadata": {},
   "source": [
    "### Exercise 5: Follow the [Execute](https://nightly.docs.classiq.io/latest/classiq_101/classiq_concepts/execute/) tutorial\n",
    "\n",
    "Task A: Adapt the code such that the quantum number x is allocated with 10 qubits. \n",
    "Task B: Execute the algorithm with 5096 shots and post process the results from your Python SDK. Plot a graph of all the measured values of x and y with the corresponding axes (make sure you receive the graph of y=x2 +1)."
   ]
  },
  {
   "cell_type": "code",
   "execution_count": 37,
   "id": "7d2b665f-51ab-4b60-a0ae-2edf0f3e2f59",
   "metadata": {},
   "outputs": [],
   "source": [
    "# Implementing task A: allocate 10 qubits to x\n",
    "from classiq import *\n",
    "\n",
    "\n",
    "@qfunc\n",
    "def main(x: Output[QNum], y: Output[QNum]):\n",
    "\n",
    "    allocate(10, x) #allocate 10 qubits\n",
    "    hadamard_transform(x)  # creates a uniform superposition\n",
    "    y |= x**2 + 1\n",
    "\n",
    "# synthesize algorithm in default settings\n",
    "# quantum_program = synthesize(create_model(main))\n"
   ]
  },
  {
   "cell_type": "code",
   "execution_count": 38,
   "id": "9bd14204-782c-4ef4-ae5a-3c7540b7d783",
   "metadata": {},
   "outputs": [],
   "source": [
    "# Implementing task B: Execute with 5096 shots\n",
    "from classiq.execution import ExecutionPreferences\n",
    "\n",
    "quantum_model = create_model(main)\n",
    "\n",
    "quantum_model_with_preferences = set_preferences(\n",
    "    quantum_model,\n",
    "    Preferences(backend_service_provider=\"IBM Quantum\", backend_name=\"ibm_brisbane\"),\n",
    ")\n",
    "\n",
    "\n",
    "quantum_model_with_execution_preferences = set_execution_preferences(\n",
    "    quantum_model_with_preferences,\n",
    "    ExecutionPreferences(\n",
    "        num_shots=5096, job_name=\"w24_ex5\", random_seed=767\n",
    "    )\n",
    ")"
   ]
  },
  {
   "cell_type": "raw",
   "id": "00670df6-0136-4757-9fbe-49989dd30d1f",
   "metadata": {},
   "source": [
    "# synthesize with execution option(s) above\n",
    "\n",
    "quantum_program_with_execution_preferences = synthesize(quantum_model_with_execution_preferences\n",
    ")\n",
    "job = execute(quantum_program_with_execution_preferences)"
   ]
  },
  {
   "cell_type": "raw",
   "id": "b4bf1951-a7e7-4e52-aae0-dbd00b4325dd",
   "metadata": {},
   "source": [
    "# access the result\n",
    "print(\n",
    "    f\"The job on the provider {job.provider} on the backend {job.backend_name} with {job.num_shots} shots is {job.status} can be accessed in the IDE with this URL: {job.ide_url}\"\n",
    ")"
   ]
  },
  {
   "cell_type": "raw",
   "id": "058e6c0f-8148-4235-a7c9-2faca4940693",
   "metadata": {},
   "source": [
    "#further accresults = job.result()[0].value"
   ]
  },
  {
   "cell_type": "code",
   "execution_count": 2,
   "id": "f6d1a864-fa15-47ba-a7e1-5ebe9a97df90",
   "metadata": {},
   "outputs": [],
   "source": [
    "import classiq\n",
    "classiq.authenticate()"
   ]
  },
  {
   "cell_type": "markdown",
   "id": "972218d3-b302-4e4b-ac68-50a3533c86d6",
   "metadata": {},
   "source": [
    "### Example on creating Multi-controlled X gate\n",
    "\n",
    "The multi-control-X applies X gate to one target qubit bit only if the logical AND of all control qubits is satisfied. The multi-control-X function incorporates numerous implementations for the multi-control-X gate, each with a different depth and number of auxiliary qubits"
   ]
  },
  {
   "cell_type": "code",
   "execution_count": 2,
   "id": "ff70129f-f390-4cfa-8adc-432357e794da",
   "metadata": {},
   "outputs": [],
   "source": [
    "from classiq import (\n",
    "    Output,\n",
    "    QArray,\n",
    "    QBit,\n",
    "    X,\n",
    "    allocate,\n",
    "    control,\n",
    "    create_model,\n",
    "    prepare_bell_state,\n",
    "    qfunc,\n",
    ")\n",
    "\n",
    "\n",
    "@qfunc\n",
    "def main(cntrl: Output[QArray[QBit]], target: Output[QBit]) -> None:\n",
    "    allocate(7, cntrl)\n",
    "    allocate(1, target)\n",
    "    control(ctrl=cntrl, operand=lambda: X(target))"
   ]
  },
  {
   "cell_type": "code",
   "execution_count": 3,
   "id": "45bd9e30-2a0d-44ba-9bcd-201312b77f8b",
   "metadata": {},
   "outputs": [],
   "source": [
    "qmod = create_model(main)"
   ]
  },
  {
   "cell_type": "code",
   "execution_count": 4,
   "id": "79521e00-9683-42e0-973a-dc2d5ffc67a8",
   "metadata": {},
   "outputs": [],
   "source": [
    "from classiq import synthesize, write_qmod\n",
    "\n",
    "write_qmod(qmod, \"mcx_example\")\n",
    "qprog = synthesize(qmod)"
   ]
  },
  {
   "cell_type": "code",
   "execution_count": 6,
   "id": "a2c10c0b-5037-49fa-ad0a-12acf5fbe4af",
   "metadata": {},
   "outputs": [
    {
     "name": "stdout",
     "output_type": "stream",
     "text": [
      "Opening: https://platform.classiq.io/circuit/e2f85f91-6858-4755-b78a-862491a701dc?version=0.42.2\n"
     ]
    }
   ],
   "source": [
    "from classiq import show\n",
    "show(qprog)"
   ]
  },
  {
   "cell_type": "markdown",
   "id": "58ec2357-8c71-4bcd-b261-618167fcc613",
   "metadata": {},
   "source": [
    "## w24 Assignment 6.6\n",
    "\n",
    "**Task A:** Synthesize 3 different implementations of an MCX (multi-control-x) with 5 control qubits and 1 target qubit (you should use the control quantum operation for implementing an MCX, follow this [tutorial](https://docs.classiq.io/latest/explore/functions/function_usage_examples/mcx/mcx_example/) that can be open in the IDE).\n",
    "One implementation should be optimized for minimized depth, the other for minimized width, and the third somewhere in between (choose yourself what is the maximal width / depth you apply).\n",
    "\n",
    "Export the 3 implementations as LaTeX files on the hierarchy level that demonstrates the differences between the implementations. Aggregate the implementations in 1 file and export it as a PDF and explain the key differences. (It is recommended to use [Overleaf](https://www.overleaf.com/) -  a free, easy to use online LaTeX editor)"
   ]
  },
  {
   "cell_type": "code",
   "execution_count": 7,
   "id": "34fe77f7-bc6a-4b93-ad78-5c749b699ccd",
   "metadata": {},
   "outputs": [],
   "source": [
    "from classiq import (\n",
    "    Output,\n",
    "    QArray,\n",
    "    QBit,\n",
    "    X,\n",
    "    allocate,\n",
    "    control,\n",
    "    create_model,\n",
    "    prepare_bell_state,\n",
    "    qfunc,\n",
    ")\n",
    "\n",
    "\n",
    "@qfunc\n",
    "def main(cntrl: Output[QArray[QBit]], target: Output[QBit]) -> None:\n",
    "    allocate(5, cntrl)\n",
    "    allocate(1, target)\n",
    "    control(ctrl=cntrl, operand=lambda: X(target))"
   ]
  },
  {
   "cell_type": "code",
   "execution_count": 8,
   "id": "adec8dcc-a904-4a80-a881-6770417c9fb3",
   "metadata": {},
   "outputs": [],
   "source": [
    "model = create_model(main)"
   ]
  },
  {
   "cell_type": "markdown",
   "id": "f2fa0ef7-7c05-4bad-9a1b-152bb9996492",
   "metadata": {},
   "source": [
    "### Implementation 1 optimized for minimized depth"
   ]
  },
  {
   "cell_type": "code",
   "execution_count": 10,
   "id": "01cc6dec-4e03-4682-8f1f-9f4496300ad1",
   "metadata": {},
   "outputs": [
    {
     "name": "stdout",
     "output_type": "stream",
     "text": [
      "The circuit width is 8 and the circuit_depth is 34\n"
     ]
    }
   ],
   "source": [
    "from classiq import *\n",
    "\n",
    "model1 = set_constraints(\n",
    "    model, Constraints(optimization_parameter=\"depth\")\n",
    ")\n",
    "\n",
    "qmod1 = synthesize(model1)\n",
    "\n",
    "# check parameters for circuit without contraints\n",
    "circuit_width = QuantumProgram.from_qprog(qmod1).data.width\n",
    "circuit_depth = QuantumProgram.from_qprog(qmod1).transpiled_circuit.depth\n",
    "print(f\"The circuit width is {circuit_width} and the circuit_depth is {circuit_depth}\")"
   ]
  },
  {
   "cell_type": "code",
   "execution_count": 11,
   "id": "ffdcf523-91b4-4033-9f08-3a8ce02f699f",
   "metadata": {},
   "outputs": [
    {
     "name": "stdout",
     "output_type": "stream",
     "text": [
      "Opening: https://platform.classiq.io/circuit/2f8e7924-fd64-4a16-aacc-db69071c3536?version=0.42.2\n"
     ]
    }
   ],
   "source": [
    "show(qmod1)"
   ]
  },
  {
   "cell_type": "code",
   "execution_count": null,
   "id": "a97eaaa7-0192-47f2-b5f0-ca90867f9b81",
   "metadata": {},
   "outputs": [],
   "source": []
  },
  {
   "cell_type": "markdown",
   "id": "d70e0a7d-cdb6-4ca1-a8c7-5a6a4b16a346",
   "metadata": {},
   "source": [
    "### Implementation 2 optimized for minimized width"
   ]
  },
  {
   "cell_type": "code",
   "execution_count": 12,
   "id": "4229c6fa-0c3a-4a2a-8857-24eab50457f4",
   "metadata": {},
   "outputs": [
    {
     "name": "stdout",
     "output_type": "stream",
     "text": [
      "The circuit width is 6 and the circuit_depth is 117\n"
     ]
    }
   ],
   "source": [
    "model2 = set_constraints(\n",
    "    model, Constraints(optimization_parameter=\"width\")\n",
    ")\n",
    "\n",
    "qmod2 = synthesize(model2)\n",
    "\n",
    "# check parameters for circuit without contraints\n",
    "circuit_width = QuantumProgram.from_qprog(qmod2).data.width\n",
    "circuit_depth = QuantumProgram.from_qprog(qmod2).transpiled_circuit.depth\n",
    "print(f\"The circuit width is {circuit_width} and the circuit_depth is {circuit_depth}\")"
   ]
  },
  {
   "cell_type": "code",
   "execution_count": 13,
   "id": "09740f2e-7452-4b5a-af38-2d7b490cfa09",
   "metadata": {},
   "outputs": [
    {
     "name": "stdout",
     "output_type": "stream",
     "text": [
      "Opening: https://platform.classiq.io/circuit/7a8deb95-57b2-4117-b7ba-9ce904013bdb?version=0.42.2\n"
     ]
    }
   ],
   "source": [
    "show(qmod2)"
   ]
  },
  {
   "cell_type": "markdown",
   "id": "6869b9e1-e5f6-4ca6-a7d8-973fafd2629a",
   "metadata": {},
   "source": [
    "### Implementation 2 optimized for optimal choice"
   ]
  },
  {
   "cell_type": "code",
   "execution_count": 16,
   "id": "9f5ea7e0-1c12-4202-81dd-21e3812fae97",
   "metadata": {},
   "outputs": [
    {
     "name": "stdout",
     "output_type": "stream",
     "text": [
      "The circuit width is 7 and the circuit_depth is 51\n"
     ]
    }
   ],
   "source": [
    "model3 = set_constraints(\n",
    "    model, Constraints(optimization_parameter=\"depth\", max_width=7)\n",
    ")\n",
    "\n",
    "qmod3 = synthesize(model3)\n",
    "\n",
    "# check parameters for circuit without contraints\n",
    "circuit_width = QuantumProgram.from_qprog(qmod3).data.width\n",
    "circuit_depth = QuantumProgram.from_qprog(qmod3).transpiled_circuit.depth\n",
    "print(f\"The circuit width is {circuit_width} and the circuit_depth is {circuit_depth}\")"
   ]
  },
  {
   "cell_type": "code",
   "execution_count": 17,
   "id": "cf92e958-95a9-4f10-a9a0-53649b31038e",
   "metadata": {},
   "outputs": [
    {
     "name": "stdout",
     "output_type": "stream",
     "text": [
      "Opening: https://platform.classiq.io/circuit/6bc39410-7677-4f3b-ba48-8400509532bf?version=0.42.2\n"
     ]
    }
   ],
   "source": [
    "show(qmod3)"
   ]
  },
  {
   "cell_type": "markdown",
   "id": "3e034aea-6735-40ae-968d-a3d317ffe5f8",
   "metadata": {},
   "source": [
    "**Task B:** Synthesize 2 different implementations of an MCX (multi-control-x) with 20 control qubits and 1 target qubit. Compare the circuit width and circuit depth required for each implementation."
   ]
  },
  {
   "cell_type": "code",
   "execution_count": 2,
   "id": "e01553fa-02bd-4aa6-9dff-4fae229a5a93",
   "metadata": {},
   "outputs": [],
   "source": [
    "from classiq import (\n",
    "    Output,\n",
    "    QArray,\n",
    "    QBit,\n",
    "    X,\n",
    "    allocate,\n",
    "    control,\n",
    "    create_model,\n",
    "    prepare_bell_state,\n",
    "    qfunc,\n",
    ")\n",
    "\n",
    "\n",
    "@qfunc\n",
    "def main(cntrl: Output[QArray[QBit]], target: Output[QBit]) -> None:\n",
    "    allocate(20, cntrl)\n",
    "    allocate(1, target)\n",
    "    control(ctrl=cntrl, operand=lambda: X(target))"
   ]
  },
  {
   "cell_type": "code",
   "execution_count": 3,
   "id": "140baaf2-792b-45d3-806f-2951ad5724b9",
   "metadata": {},
   "outputs": [],
   "source": [
    "model = create_model(main)"
   ]
  },
  {
   "cell_type": "markdown",
   "id": "750ff624-6fe6-46d4-a517-109408b85621",
   "metadata": {},
   "source": [
    "### Implementation 1 optimized for minimized depth"
   ]
  },
  {
   "cell_type": "code",
   "execution_count": 4,
   "id": "387d061c-65c0-44d1-9180-4dbde85ac73f",
   "metadata": {},
   "outputs": [
    {
     "name": "stdout",
     "output_type": "stream",
     "text": [
      "The circuit width is 30 and the circuit_depth is 66\n"
     ]
    }
   ],
   "source": [
    "from classiq import *\n",
    "\n",
    "model1 = set_constraints(\n",
    "    model, Constraints(optimization_parameter=\"depth\")\n",
    ")\n",
    "\n",
    "qmod1 = synthesize(model1)\n",
    "\n",
    "# check parameters for circuit without contraints\n",
    "circuit_width = QuantumProgram.from_qprog(qmod1).data.width\n",
    "circuit_depth = QuantumProgram.from_qprog(qmod1).transpiled_circuit.depth\n",
    "print(f\"The circuit width is {circuit_width} and the circuit depth is {circuit_depth}\")"
   ]
  },
  {
   "cell_type": "code",
   "execution_count": 6,
   "id": "c65732c3-1a67-4c9e-af97-53c113f9764e",
   "metadata": {},
   "outputs": [
    {
     "name": "stdout",
     "output_type": "stream",
     "text": [
      "Opening: https://platform.classiq.io/circuit/7b5661ee-62f9-4291-b5f7-9ddbacc8c5cb?version=0.42.2\n"
     ]
    }
   ],
   "source": [
    "show(qmod1)"
   ]
  },
  {
   "cell_type": "markdown",
   "id": "344faa11-a692-4535-b017-4708b45f954a",
   "metadata": {},
   "source": [
    "### Implementation 2 optimized for minimized width"
   ]
  },
  {
   "cell_type": "code",
   "execution_count": 5,
   "id": "b0440610-b99c-403c-ac5d-83844ce03bb0",
   "metadata": {},
   "outputs": [
    {
     "name": "stdout",
     "output_type": "stream",
     "text": [
      "The circuit width is 22 and the circuit depth is 1894\n"
     ]
    }
   ],
   "source": [
    "model2 = set_constraints(\n",
    "    model, Constraints(optimization_parameter=\"width\")\n",
    ")\n",
    "\n",
    "qmod2 = synthesize(model2)\n",
    "\n",
    "# check parameters for circuit without contraints\n",
    "circuit_width = QuantumProgram.from_qprog(qmod2).data.width\n",
    "circuit_depth = QuantumProgram.from_qprog(qmod2).transpiled_circuit.depth\n",
    "print(f\"The circuit width is {circuit_width} and the circuit depth is {circuit_depth}\")"
   ]
  },
  {
   "cell_type": "code",
   "execution_count": 7,
   "id": "c9fc0117-afbc-4272-bcf6-8aeeb94233ad",
   "metadata": {},
   "outputs": [
    {
     "name": "stdout",
     "output_type": "stream",
     "text": [
      "Opening: https://platform.classiq.io/circuit/b1e8caed-f37a-475c-aa17-9c1be284a2d6?version=0.42.2\n"
     ]
    }
   ],
   "source": [
    "show(qmod2)"
   ]
  },
  {
   "cell_type": "code",
   "execution_count": null,
   "id": "e2d6e070-db2e-478f-8455-10d542e00d73",
   "metadata": {},
   "outputs": [],
   "source": []
  }
 ],
 "metadata": {
  "kernelspec": {
   "display_name": "Python 3 (ipykernel)",
   "language": "python",
   "name": "python3"
  },
  "language_info": {
   "codemirror_mode": {
    "name": "ipython",
    "version": 3
   },
   "file_extension": ".py",
   "mimetype": "text/x-python",
   "name": "python",
   "nbconvert_exporter": "python",
   "pygments_lexer": "ipython3",
   "version": "3.10.12"
  }
 },
 "nbformat": 4,
 "nbformat_minor": 5
}
