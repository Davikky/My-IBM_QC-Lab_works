{
  "nbformat": 4,
  "nbformat_minor": 0,
  "metadata": {
    "kernelspec": {
      "display_name": "Python 3",
      "language": "python",
      "name": "python3"
    },
    "language_info": {
      "name": "python",
      "version": "3.7.1",
      "mimetype": "text/x-python",
      "codemirror_mode": {
        "name": "ipython",
        "version": 3
      },
      "pygments_lexer": "ipython3",
      "nbconvert_exporter": "python",
      "file_extension": ".py"
    },
    "colab": {
      "provenance": [],
      "collapsed_sections": [
        "yqrF_w734Vev",
        "vy-jW1cxs-II",
        "KZqUZtuG4Vfs",
        "8gRG8c5q8YuF",
        "G5eZNRlb-WOg",
        "90qSyvbx0Bhg",
        "2cLSdDwVEAzI",
        "RzDt6wvaFHzl",
        "WR_Y1tZyF2wn",
        "8unt5jMzbF9k",
        "0yQrQEphicEz",
        "Y-BaW4BF0LXm",
        "s62gZjAn0nNc",
        "sBWTR3x61Bfk",
        "iAipEw-n9Lm3"
      ],
      "include_colab_link": true
    },
    "nteract": {
      "version": "0.23.1"
    },
    "widgets": {
      "application/vnd.jupyter.widget-state+json": {
        "6911f7fe33f24877be569c9d80de0f6a": {
          "model_module": "@jupyter-widgets/controls",
          "model_name": "VBoxModel",
          "model_module_version": "1.5.0",
          "state": {
            "_dom_classes": [],
            "_model_module": "@jupyter-widgets/controls",
            "_model_module_version": "1.5.0",
            "_model_name": "VBoxModel",
            "_view_count": null,
            "_view_module": "@jupyter-widgets/controls",
            "_view_module_version": "1.5.0",
            "_view_name": "VBoxView",
            "box_style": "",
            "children": [
              "IPY_MODEL_237cb0930f1946d9a0fed185b93e1884",
              "IPY_MODEL_7ba2f9e2465a44af977e96f307f8c830",
              "IPY_MODEL_844eb4300821457bb33de84b0174dbfb"
            ],
            "layout": "IPY_MODEL_ec33beae56394e749b08337ecd5cbe09"
          }
        },
        "237cb0930f1946d9a0fed185b93e1884": {
          "model_module": "@jupyter-widgets/controls",
          "model_name": "HBoxModel",
          "model_module_version": "1.5.0",
          "state": {
            "_dom_classes": [],
            "_model_module": "@jupyter-widgets/controls",
            "_model_module_version": "1.5.0",
            "_model_name": "HBoxModel",
            "_view_count": null,
            "_view_module": "@jupyter-widgets/controls",
            "_view_module_version": "1.5.0",
            "_view_name": "HBoxView",
            "box_style": "",
            "children": [
              "IPY_MODEL_9f99733216a54c8996f1c57fbeed0dd1",
              "IPY_MODEL_bf7b386f38e74b5cacc4f3f075831cc2"
            ],
            "layout": "IPY_MODEL_4fe2c16735ea4c53ba645e251f2d1d15"
          }
        },
        "7ba2f9e2465a44af977e96f307f8c830": {
          "model_module": "@jupyter-widgets/output",
          "model_name": "OutputModel",
          "model_module_version": "1.0.0",
          "state": {
            "_dom_classes": [],
            "_model_module": "@jupyter-widgets/output",
            "_model_module_version": "1.0.0",
            "_model_name": "OutputModel",
            "_view_count": null,
            "_view_module": "@jupyter-widgets/output",
            "_view_module_version": "1.0.0",
            "_view_name": "OutputView",
            "layout": "IPY_MODEL_dca7578d61fd4b03bc95c3c4d4e47334",
            "msg_id": "",
            "outputs": [
              {
                "output_type": "display_data",
                "data": {
                  "application/3dmoljs_load.v0": "<div id=\"3dmolviewer_17231309193624485\"  style=\"position: relative; width: 600px; height: 400px;\">\n        <p id=\"3dmolwarning_17231309193624485\" style=\"background-color:#ffcccc;color:black\">3Dmol.js failed to load for some reason.  Please check your browser console for error messages.<br></p>\n        </div>\n<script>\n\nvar loadScriptAsync = function(uri){\n  return new Promise((resolve, reject) => {\n    //this is to ignore the existence of requirejs amd\n    var savedexports, savedmodule;\n    if (typeof exports !== 'undefined') savedexports = exports;\n    else exports = {}\n    if (typeof module !== 'undefined') savedmodule = module;\n    else module = {}\n\n    var tag = document.createElement('script');\n    tag.src = uri;\n    tag.async = true;\n    tag.onload = () => {\n        exports = savedexports;\n        module = savedmodule;\n        resolve();\n    };\n  var firstScriptTag = document.getElementsByTagName('script')[0];\n  firstScriptTag.parentNode.insertBefore(tag, firstScriptTag);\n});\n};\n\nif(typeof $3Dmolpromise === 'undefined') {\n$3Dmolpromise = null;\n  $3Dmolpromise = loadScriptAsync('https://cdnjs.cloudflare.com/ajax/libs/3Dmol/2.3.0/3Dmol-min.js');\n}\n\nvar viewer_17231309193624485 = null;\nvar warn = document.getElementById(\"3dmolwarning_17231309193624485\");\nif(warn) {\n    warn.parentNode.removeChild(warn);\n}\n$3Dmolpromise.then(function() {\nviewer_17231309193624485 = $3Dmol.createViewer(document.getElementById(\"3dmolviewer_17231309193624485\"),{backgroundColor:\"white\"});\nviewer_17231309193624485.zoomTo();\n\tviewer_17231309193624485.addModelsAsFrames(\"CRYST1    3.920    3.920    3.920  90.00  90.00  90.00 P 1\\nMODEL     1\\nATOM      0   Pt MOL     1       0.000   0.000   0.000  0.00  0.00          Pt\\nATOM      1   Pt MOL     1       0.000   1.960   1.960  0.00  0.00          Pt\\nATOM      2   Pt MOL     1       1.960   0.000   1.960  0.00  0.00          Pt\\nATOM      3   Pt MOL     1       1.960   1.960   0.000  0.00  0.00          Pt\\nENDMOL\\n\",\"pdb\");\n\t\tviewer_17231309193624485.getModel(-1).setStyle({\"model\": -1},{\"sphere\": {\"scale\": 0.4, \"color\": \"0xda70d6\"}, \"stick\": {\"radius\": 0.1, \"color\": \"0xda70d6\"}});\n\t\tviewer_17231309193624485.getModel(-1).setStyle({\"elem\": \"H\", \"model\": -1},{\"sphere\": {\"scale\": 0.4, \"color\": \"white\"}, \"stick\": {\"radius\": 0.1, \"color\": \"white\"}});\n\t\tviewer_17231309193624485.getModel(-1).setStyle({\"elem\": \"C\", \"model\": -1},{\"sphere\": {\"scale\": 0.4, \"color\": \"black\"}, \"stick\": {\"radius\": 0.1, \"color\": \"black\"}});\n\t\tviewer_17231309193624485.getModel(-1).setStyle({\"elem\": \"N\", \"model\": -1},{\"sphere\": {\"scale\": 0.4, \"color\": \"blue\"}, \"stick\": {\"radius\": 0.1, \"color\": \"blue\"}});\n\t\tviewer_17231309193624485.getModel(-1).setStyle({\"elem\": \"O\", \"model\": -1},{\"sphere\": {\"scale\": 0.4, \"color\": \"red\"}, \"stick\": {\"radius\": 0.1, \"color\": \"red\"}});\n\t\tviewer_17231309193624485.getModel(-1).setStyle({\"elem\": \"F\", \"model\": -1},{\"sphere\": {\"scale\": 0.4, \"color\": \"green\"}, \"stick\": {\"radius\": 0.1, \"color\": \"green\"}});\n\t\tviewer_17231309193624485.getModel(-1).setStyle({\"elem\": \"Cl\", \"model\": -1},{\"sphere\": {\"scale\": 0.4, \"color\": \"green\"}, \"stick\": {\"radius\": 0.1, \"color\": \"green\"}});\n\t\tviewer_17231309193624485.getModel(-1).setStyle({\"elem\": \"Br\", \"model\": -1},{\"sphere\": {\"scale\": 0.4, \"color\": \"0x8b0000\"}, \"stick\": {\"radius\": 0.1, \"color\": \"0x8b0000\"}});\n\t\tviewer_17231309193624485.getModel(-1).setStyle({\"elem\": \"I\", \"model\": -1},{\"sphere\": {\"scale\": 0.4, \"color\": \"0x9400d3\"}, \"stick\": {\"radius\": 0.1, \"color\": \"0x9400d3\"}});\n\t\tviewer_17231309193624485.getModel(-1).setStyle({\"elem\": \"He\", \"model\": -1},{\"sphere\": {\"scale\": 0.4, \"color\": \"cyan\"}, \"stick\": {\"radius\": 0.1, \"color\": \"cyan\"}});\n\t\tviewer_17231309193624485.getModel(-1).setStyle({\"elem\": \"Ne\", \"model\": -1},{\"sphere\": {\"scale\": 0.4, \"color\": \"cyan\"}, \"stick\": {\"radius\": 0.1, \"color\": \"cyan\"}});\n\t\tviewer_17231309193624485.getModel(-1).setStyle({\"elem\": \"Ar\", \"model\": -1},{\"sphere\": {\"scale\": 0.4, \"color\": \"cyan\"}, \"stick\": {\"radius\": 0.1, \"color\": \"cyan\"}});\n\t\tviewer_17231309193624485.getModel(-1).setStyle({\"elem\": \"Ce\", \"model\": -1},{\"sphere\": {\"scale\": 0.4, \"color\": \"cyan\"}, \"stick\": {\"radius\": 0.1, \"color\": \"cyan\"}});\n\t\tviewer_17231309193624485.getModel(-1).setStyle({\"elem\": \"Kr\", \"model\": -1},{\"sphere\": {\"scale\": 0.4, \"color\": \"cyan\"}, \"stick\": {\"radius\": 0.1, \"color\": \"cyan\"}});\n\t\tviewer_17231309193624485.getModel(-1).setStyle({\"elem\": \"P\", \"model\": -1},{\"sphere\": {\"scale\": 0.4, \"color\": \"orange\"}, \"stick\": {\"radius\": 0.1, \"color\": \"orange\"}});\n\t\tviewer_17231309193624485.getModel(-1).setStyle({\"elem\": \"S\", \"model\": -1},{\"sphere\": {\"scale\": 0.4, \"color\": \"yellow\"}, \"stick\": {\"radius\": 0.1, \"color\": \"yellow\"}});\n\t\tviewer_17231309193624485.getModel(-1).setStyle({\"elem\": \"B\", \"model\": -1},{\"sphere\": {\"scale\": 0.4, \"color\": \"0xffa07a\"}, \"stick\": {\"radius\": 0.1, \"color\": \"0xffa07a\"}});\n\t\tviewer_17231309193624485.getModel(-1).setStyle({\"elem\": \"Li\", \"model\": -1},{\"sphere\": {\"scale\": 0.4, \"color\": \"0x32cd32\"}, \"stick\": {\"radius\": 0.1, \"color\": \"0x32cd32\"}});\n\t\tviewer_17231309193624485.getModel(-1).setStyle({\"elem\": \"Na\", \"model\": -1},{\"sphere\": {\"scale\": 0.4, \"color\": \"violet\"}, \"stick\": {\"radius\": 0.1, \"color\": \"violet\"}});\n\t\tviewer_17231309193624485.getModel(-1).setStyle({\"elem\": \"K\", \"model\": -1},{\"sphere\": {\"scale\": 0.4, \"color\": \"violet\"}, \"stick\": {\"radius\": 0.1, \"color\": \"violet\"}});\n\t\tviewer_17231309193624485.getModel(-1).setStyle({\"elem\": \"Rb\", \"model\": -1},{\"sphere\": {\"scale\": 0.4, \"color\": \"violet\"}, \"stick\": {\"radius\": 0.1, \"color\": \"violet\"}});\n\t\tviewer_17231309193624485.getModel(-1).setStyle({\"elem\": \"Cs\", \"model\": -1},{\"sphere\": {\"scale\": 0.4, \"color\": \"violet\"}, \"stick\": {\"radius\": 0.1, \"color\": \"violet\"}});\n\t\tviewer_17231309193624485.getModel(-1).setStyle({\"elem\": \"Fr\", \"model\": -1},{\"sphere\": {\"scale\": 0.4, \"color\": \"violet\"}, \"stick\": {\"radius\": 0.1, \"color\": \"violet\"}});\n\t\tviewer_17231309193624485.getModel(-1).setStyle({\"elem\": \"Be\", \"model\": -1},{\"sphere\": {\"scale\": 0.4, \"color\": \"0x2e8b57\"}, \"stick\": {\"radius\": 0.1, \"color\": \"0x2e8b57\"}});\n\t\tviewer_17231309193624485.getModel(-1).setStyle({\"elem\": \"Mg\", \"model\": -1},{\"sphere\": {\"scale\": 0.4, \"color\": \"0x2e8b57\"}, \"stick\": {\"radius\": 0.1, \"color\": \"0x2e8b57\"}});\n\t\tviewer_17231309193624485.getModel(-1).setStyle({\"elem\": \"Ca\", \"model\": -1},{\"sphere\": {\"scale\": 0.4, \"color\": \"0x2e8b57\"}, \"stick\": {\"radius\": 0.1, \"color\": \"0x2e8b57\"}});\n\t\tviewer_17231309193624485.getModel(-1).setStyle({\"elem\": \"Sr\", \"model\": -1},{\"sphere\": {\"scale\": 0.4, \"color\": \"0x2e8b57\"}, \"stick\": {\"radius\": 0.1, \"color\": \"0x2e8b57\"}});\n\t\tviewer_17231309193624485.getModel(-1).setStyle({\"elem\": \"Ba\", \"model\": -1},{\"sphere\": {\"scale\": 0.4, \"color\": \"0x2e8b57\"}, \"stick\": {\"radius\": 0.1, \"color\": \"0x2e8b57\"}});\n\t\tviewer_17231309193624485.getModel(-1).setStyle({\"elem\": \"Ra\", \"model\": -1},{\"sphere\": {\"scale\": 0.4, \"color\": \"0x2e8b57\"}, \"stick\": {\"radius\": 0.1, \"color\": \"0x2e8b57\"}});\n\t\tviewer_17231309193624485.getModel(-1).setStyle({\"elem\": \"Ti\", \"model\": -1},{\"sphere\": {\"scale\": 0.4, \"color\": \"0x48d1cc\"}, \"stick\": {\"radius\": 0.1, \"color\": \"0x48d1cc\"}});\n\t\tviewer_17231309193624485.getModel(-1).setStyle({\"elem\": \"Fe\", \"model\": -1},{\"sphere\": {\"scale\": 0.4, \"color\": \"0xff8c00\"}, \"stick\": {\"radius\": 0.1, \"color\": \"0xff8c00\"}});\n\t\tviewer_17231309193624485.getModel(-1).setStyle({\"elem\": \"Sc\", \"model\": -1},{\"sphere\": {\"scale\": 0.4, \"color\": \"0x6b8e23\"}, \"stick\": {\"radius\": 0.1, \"color\": \"0x6b8e23\"}});\n\t\tviewer_17231309193624485.getModel(-1).setStyle({\"elem\": \"V\", \"model\": -1},{\"sphere\": {\"scale\": 0.4, \"color\": \"0xC71585\"}, \"stick\": {\"radius\": 0.1, \"color\": \"0xC71585\"}});\n\t\tviewer_17231309193624485.getModel(-1).setStyle({\"elem\": \"Cr\", \"model\": -1},{\"sphere\": {\"scale\": 0.4, \"color\": \"0x87cefa\"}, \"stick\": {\"radius\": 0.1, \"color\": \"0x87cefa\"}});\n\t\tviewer_17231309193624485.getModel(-1).setStyle({\"elem\": \"Mn\", \"model\": -1},{\"sphere\": {\"scale\": 0.4, \"color\": \"0x8b008b\"}, \"stick\": {\"radius\": 0.1, \"color\": \"0x8b008b\"}});\n\t\tviewer_17231309193624485.getModel(-1).setStyle({\"elem\": \"Co\", \"model\": -1},{\"sphere\": {\"scale\": 0.4, \"color\": \"0x00008b\"}, \"stick\": {\"radius\": 0.1, \"color\": \"0x00008b\"}});\n\t\tviewer_17231309193624485.getModel(-1).setStyle({\"elem\": \"Ni\", \"model\": -1},{\"sphere\": {\"scale\": 0.4, \"color\": \"blue\"}, \"stick\": {\"radius\": 0.1, \"color\": \"blue\"}});\n\t\tviewer_17231309193624485.getModel(-1).setStyle({\"elem\": \"Cu\", \"model\": -1},{\"sphere\": {\"scale\": 0.4, \"color\": \"0x8b0000\"}, \"stick\": {\"radius\": 0.1, \"color\": \"0x8b0000\"}});\n\t\tviewer_17231309193624485.getModel(-1).setStyle({\"elem\": \"Zn\", \"model\": -1},{\"sphere\": {\"scale\": 0.4, \"color\": \"0xadd8e6\"}, \"stick\": {\"radius\": 0.1, \"color\": \"0xadd8e6\"}});\n\t\tviewer_17231309193624485.getModel(-1).setStyle({\"elem\": \"Pt\", \"model\": -1},{\"sphere\": {\"scale\": 0.4, \"color\": \"cyan\"}, \"stick\": {\"radius\": 0.1, \"color\": \"cyan\"}});\n\t\tviewer_17231309193624485.getModel(-1).setStyle({\"elem\": \"Ir\", \"model\": -1},{\"sphere\": {\"scale\": 0.4, \"color\": \"violet\"}, \"stick\": {\"radius\": 0.1, \"color\": \"violet\"}});\n\t\tviewer_17231309193624485.getModel(-1).setFrame(-1);\n\tviewer_17231309193624485.addUnitCell({\"model\": 0},{\"box\": {\"linewidth\": 1.0, \"color\": \"black\"}, \"astyle\": {\"hidden\": true}, \"bstyle\": {\"hidden\": true}, \"cstyle\": {\"hidden\": true}});\n\tviewer_17231309193624485.zoomTo();\n\tviewer_17231309193624485.setHoverable({},true,\"function(atom, viewer, event, container) {\\n                 if(!atom.label) {\\n                   atom.label = viewer.addLabel(\\n                     atom.serial + \\\" \\\" + atom.atom,\\n                     {position: atom,\\n                      backgroundColor: 'mintcream',\\n                      fontColor:'black'});\\n                  }\\n                }\",\"function(atom, viewer) {\\n                 if(atom.label) {\\n                   viewer.removeLabel(atom.label);\\n                   delete atom.label;\\n                 }\\n               }\");\nviewer_17231309193624485.render();\n});\n</script>",
                  "text/html": "<div id=\"3dmolviewer_17231309193624485\"  style=\"position: relative; width: 600px; height: 400px;\">\n        <p id=\"3dmolwarning_17231309193624485\" style=\"background-color:#ffcccc;color:black\">3Dmol.js failed to load for some reason.  Please check your browser console for error messages.<br></p>\n        </div>\n<script>\n\nvar loadScriptAsync = function(uri){\n  return new Promise((resolve, reject) => {\n    //this is to ignore the existence of requirejs amd\n    var savedexports, savedmodule;\n    if (typeof exports !== 'undefined') savedexports = exports;\n    else exports = {}\n    if (typeof module !== 'undefined') savedmodule = module;\n    else module = {}\n\n    var tag = document.createElement('script');\n    tag.src = uri;\n    tag.async = true;\n    tag.onload = () => {\n        exports = savedexports;\n        module = savedmodule;\n        resolve();\n    };\n  var firstScriptTag = document.getElementsByTagName('script')[0];\n  firstScriptTag.parentNode.insertBefore(tag, firstScriptTag);\n});\n};\n\nif(typeof $3Dmolpromise === 'undefined') {\n$3Dmolpromise = null;\n  $3Dmolpromise = loadScriptAsync('https://cdnjs.cloudflare.com/ajax/libs/3Dmol/2.3.0/3Dmol-min.js');\n}\n\nvar viewer_17231309193624485 = null;\nvar warn = document.getElementById(\"3dmolwarning_17231309193624485\");\nif(warn) {\n    warn.parentNode.removeChild(warn);\n}\n$3Dmolpromise.then(function() {\nviewer_17231309193624485 = $3Dmol.createViewer(document.getElementById(\"3dmolviewer_17231309193624485\"),{backgroundColor:\"white\"});\nviewer_17231309193624485.zoomTo();\n\tviewer_17231309193624485.addModelsAsFrames(\"CRYST1    3.920    3.920    3.920  90.00  90.00  90.00 P 1\\nMODEL     1\\nATOM      0   Pt MOL     1       0.000   0.000   0.000  0.00  0.00          Pt\\nATOM      1   Pt MOL     1       0.000   1.960   1.960  0.00  0.00          Pt\\nATOM      2   Pt MOL     1       1.960   0.000   1.960  0.00  0.00          Pt\\nATOM      3   Pt MOL     1       1.960   1.960   0.000  0.00  0.00          Pt\\nENDMOL\\n\",\"pdb\");\n\t\tviewer_17231309193624485.getModel(-1).setStyle({\"model\": -1},{\"sphere\": {\"scale\": 0.4, \"color\": \"0xda70d6\"}, \"stick\": {\"radius\": 0.1, \"color\": \"0xda70d6\"}});\n\t\tviewer_17231309193624485.getModel(-1).setStyle({\"elem\": \"H\", \"model\": -1},{\"sphere\": {\"scale\": 0.4, \"color\": \"white\"}, \"stick\": {\"radius\": 0.1, \"color\": \"white\"}});\n\t\tviewer_17231309193624485.getModel(-1).setStyle({\"elem\": \"C\", \"model\": -1},{\"sphere\": {\"scale\": 0.4, \"color\": \"black\"}, \"stick\": {\"radius\": 0.1, \"color\": \"black\"}});\n\t\tviewer_17231309193624485.getModel(-1).setStyle({\"elem\": \"N\", \"model\": -1},{\"sphere\": {\"scale\": 0.4, \"color\": \"blue\"}, \"stick\": {\"radius\": 0.1, \"color\": \"blue\"}});\n\t\tviewer_17231309193624485.getModel(-1).setStyle({\"elem\": \"O\", \"model\": -1},{\"sphere\": {\"scale\": 0.4, \"color\": \"red\"}, \"stick\": {\"radius\": 0.1, \"color\": \"red\"}});\n\t\tviewer_17231309193624485.getModel(-1).setStyle({\"elem\": \"F\", \"model\": -1},{\"sphere\": {\"scale\": 0.4, \"color\": \"green\"}, \"stick\": {\"radius\": 0.1, \"color\": \"green\"}});\n\t\tviewer_17231309193624485.getModel(-1).setStyle({\"elem\": \"Cl\", \"model\": -1},{\"sphere\": {\"scale\": 0.4, \"color\": \"green\"}, \"stick\": {\"radius\": 0.1, \"color\": \"green\"}});\n\t\tviewer_17231309193624485.getModel(-1).setStyle({\"elem\": \"Br\", \"model\": -1},{\"sphere\": {\"scale\": 0.4, \"color\": \"0x8b0000\"}, \"stick\": {\"radius\": 0.1, \"color\": \"0x8b0000\"}});\n\t\tviewer_17231309193624485.getModel(-1).setStyle({\"elem\": \"I\", \"model\": -1},{\"sphere\": {\"scale\": 0.4, \"color\": \"0x9400d3\"}, \"stick\": {\"radius\": 0.1, \"color\": \"0x9400d3\"}});\n\t\tviewer_17231309193624485.getModel(-1).setStyle({\"elem\": \"He\", \"model\": -1},{\"sphere\": {\"scale\": 0.4, \"color\": \"cyan\"}, \"stick\": {\"radius\": 0.1, \"color\": \"cyan\"}});\n\t\tviewer_17231309193624485.getModel(-1).setStyle({\"elem\": \"Ne\", \"model\": -1},{\"sphere\": {\"scale\": 0.4, \"color\": \"cyan\"}, \"stick\": {\"radius\": 0.1, \"color\": \"cyan\"}});\n\t\tviewer_17231309193624485.getModel(-1).setStyle({\"elem\": \"Ar\", \"model\": -1},{\"sphere\": {\"scale\": 0.4, \"color\": \"cyan\"}, \"stick\": {\"radius\": 0.1, \"color\": \"cyan\"}});\n\t\tviewer_17231309193624485.getModel(-1).setStyle({\"elem\": \"Ce\", \"model\": -1},{\"sphere\": {\"scale\": 0.4, \"color\": \"cyan\"}, \"stick\": {\"radius\": 0.1, \"color\": \"cyan\"}});\n\t\tviewer_17231309193624485.getModel(-1).setStyle({\"elem\": \"Kr\", \"model\": -1},{\"sphere\": {\"scale\": 0.4, \"color\": \"cyan\"}, \"stick\": {\"radius\": 0.1, \"color\": \"cyan\"}});\n\t\tviewer_17231309193624485.getModel(-1).setStyle({\"elem\": \"P\", \"model\": -1},{\"sphere\": {\"scale\": 0.4, \"color\": \"orange\"}, \"stick\": {\"radius\": 0.1, \"color\": \"orange\"}});\n\t\tviewer_17231309193624485.getModel(-1).setStyle({\"elem\": \"S\", \"model\": -1},{\"sphere\": {\"scale\": 0.4, \"color\": \"yellow\"}, \"stick\": {\"radius\": 0.1, \"color\": \"yellow\"}});\n\t\tviewer_17231309193624485.getModel(-1).setStyle({\"elem\": \"B\", \"model\": -1},{\"sphere\": {\"scale\": 0.4, \"color\": \"0xffa07a\"}, \"stick\": {\"radius\": 0.1, \"color\": \"0xffa07a\"}});\n\t\tviewer_17231309193624485.getModel(-1).setStyle({\"elem\": \"Li\", \"model\": -1},{\"sphere\": {\"scale\": 0.4, \"color\": \"0x32cd32\"}, \"stick\": {\"radius\": 0.1, \"color\": \"0x32cd32\"}});\n\t\tviewer_17231309193624485.getModel(-1).setStyle({\"elem\": \"Na\", \"model\": -1},{\"sphere\": {\"scale\": 0.4, \"color\": \"violet\"}, \"stick\": {\"radius\": 0.1, \"color\": \"violet\"}});\n\t\tviewer_17231309193624485.getModel(-1).setStyle({\"elem\": \"K\", \"model\": -1},{\"sphere\": {\"scale\": 0.4, \"color\": \"violet\"}, \"stick\": {\"radius\": 0.1, \"color\": \"violet\"}});\n\t\tviewer_17231309193624485.getModel(-1).setStyle({\"elem\": \"Rb\", \"model\": -1},{\"sphere\": {\"scale\": 0.4, \"color\": \"violet\"}, \"stick\": {\"radius\": 0.1, \"color\": \"violet\"}});\n\t\tviewer_17231309193624485.getModel(-1).setStyle({\"elem\": \"Cs\", \"model\": -1},{\"sphere\": {\"scale\": 0.4, \"color\": \"violet\"}, \"stick\": {\"radius\": 0.1, \"color\": \"violet\"}});\n\t\tviewer_17231309193624485.getModel(-1).setStyle({\"elem\": \"Fr\", \"model\": -1},{\"sphere\": {\"scale\": 0.4, \"color\": \"violet\"}, \"stick\": {\"radius\": 0.1, \"color\": \"violet\"}});\n\t\tviewer_17231309193624485.getModel(-1).setStyle({\"elem\": \"Be\", \"model\": -1},{\"sphere\": {\"scale\": 0.4, \"color\": \"0x2e8b57\"}, \"stick\": {\"radius\": 0.1, \"color\": \"0x2e8b57\"}});\n\t\tviewer_17231309193624485.getModel(-1).setStyle({\"elem\": \"Mg\", \"model\": -1},{\"sphere\": {\"scale\": 0.4, \"color\": \"0x2e8b57\"}, \"stick\": {\"radius\": 0.1, \"color\": \"0x2e8b57\"}});\n\t\tviewer_17231309193624485.getModel(-1).setStyle({\"elem\": \"Ca\", \"model\": -1},{\"sphere\": {\"scale\": 0.4, \"color\": \"0x2e8b57\"}, \"stick\": {\"radius\": 0.1, \"color\": \"0x2e8b57\"}});\n\t\tviewer_17231309193624485.getModel(-1).setStyle({\"elem\": \"Sr\", \"model\": -1},{\"sphere\": {\"scale\": 0.4, \"color\": \"0x2e8b57\"}, \"stick\": {\"radius\": 0.1, \"color\": \"0x2e8b57\"}});\n\t\tviewer_17231309193624485.getModel(-1).setStyle({\"elem\": \"Ba\", \"model\": -1},{\"sphere\": {\"scale\": 0.4, \"color\": \"0x2e8b57\"}, \"stick\": {\"radius\": 0.1, \"color\": \"0x2e8b57\"}});\n\t\tviewer_17231309193624485.getModel(-1).setStyle({\"elem\": \"Ra\", \"model\": -1},{\"sphere\": {\"scale\": 0.4, \"color\": \"0x2e8b57\"}, \"stick\": {\"radius\": 0.1, \"color\": \"0x2e8b57\"}});\n\t\tviewer_17231309193624485.getModel(-1).setStyle({\"elem\": \"Ti\", \"model\": -1},{\"sphere\": {\"scale\": 0.4, \"color\": \"0x48d1cc\"}, \"stick\": {\"radius\": 0.1, \"color\": \"0x48d1cc\"}});\n\t\tviewer_17231309193624485.getModel(-1).setStyle({\"elem\": \"Fe\", \"model\": -1},{\"sphere\": {\"scale\": 0.4, \"color\": \"0xff8c00\"}, \"stick\": {\"radius\": 0.1, \"color\": \"0xff8c00\"}});\n\t\tviewer_17231309193624485.getModel(-1).setStyle({\"elem\": \"Sc\", \"model\": -1},{\"sphere\": {\"scale\": 0.4, \"color\": \"0x6b8e23\"}, \"stick\": {\"radius\": 0.1, \"color\": \"0x6b8e23\"}});\n\t\tviewer_17231309193624485.getModel(-1).setStyle({\"elem\": \"V\", \"model\": -1},{\"sphere\": {\"scale\": 0.4, \"color\": \"0xC71585\"}, \"stick\": {\"radius\": 0.1, \"color\": \"0xC71585\"}});\n\t\tviewer_17231309193624485.getModel(-1).setStyle({\"elem\": \"Cr\", \"model\": -1},{\"sphere\": {\"scale\": 0.4, \"color\": \"0x87cefa\"}, \"stick\": {\"radius\": 0.1, \"color\": \"0x87cefa\"}});\n\t\tviewer_17231309193624485.getModel(-1).setStyle({\"elem\": \"Mn\", \"model\": -1},{\"sphere\": {\"scale\": 0.4, \"color\": \"0x8b008b\"}, \"stick\": {\"radius\": 0.1, \"color\": \"0x8b008b\"}});\n\t\tviewer_17231309193624485.getModel(-1).setStyle({\"elem\": \"Co\", \"model\": -1},{\"sphere\": {\"scale\": 0.4, \"color\": \"0x00008b\"}, \"stick\": {\"radius\": 0.1, \"color\": \"0x00008b\"}});\n\t\tviewer_17231309193624485.getModel(-1).setStyle({\"elem\": \"Ni\", \"model\": -1},{\"sphere\": {\"scale\": 0.4, \"color\": \"blue\"}, \"stick\": {\"radius\": 0.1, \"color\": \"blue\"}});\n\t\tviewer_17231309193624485.getModel(-1).setStyle({\"elem\": \"Cu\", \"model\": -1},{\"sphere\": {\"scale\": 0.4, \"color\": \"0x8b0000\"}, \"stick\": {\"radius\": 0.1, \"color\": \"0x8b0000\"}});\n\t\tviewer_17231309193624485.getModel(-1).setStyle({\"elem\": \"Zn\", \"model\": -1},{\"sphere\": {\"scale\": 0.4, \"color\": \"0xadd8e6\"}, \"stick\": {\"radius\": 0.1, \"color\": \"0xadd8e6\"}});\n\t\tviewer_17231309193624485.getModel(-1).setStyle({\"elem\": \"Pt\", \"model\": -1},{\"sphere\": {\"scale\": 0.4, \"color\": \"cyan\"}, \"stick\": {\"radius\": 0.1, \"color\": \"cyan\"}});\n\t\tviewer_17231309193624485.getModel(-1).setStyle({\"elem\": \"Ir\", \"model\": -1},{\"sphere\": {\"scale\": 0.4, \"color\": \"violet\"}, \"stick\": {\"radius\": 0.1, \"color\": \"violet\"}});\n\t\tviewer_17231309193624485.getModel(-1).setFrame(-1);\n\tviewer_17231309193624485.addUnitCell({\"model\": 0},{\"box\": {\"linewidth\": 1.0, \"color\": \"black\"}, \"astyle\": {\"hidden\": true}, \"bstyle\": {\"hidden\": true}, \"cstyle\": {\"hidden\": true}});\n\tviewer_17231309193624485.zoomTo();\n\tviewer_17231309193624485.setHoverable({},true,\"function(atom, viewer, event, container) {\\n                 if(!atom.label) {\\n                   atom.label = viewer.addLabel(\\n                     atom.serial + \\\" \\\" + atom.atom,\\n                     {position: atom,\\n                      backgroundColor: 'mintcream',\\n                      fontColor:'black'});\\n                  }\\n                }\",\"function(atom, viewer) {\\n                 if(atom.label) {\\n                   viewer.removeLabel(atom.label);\\n                   delete atom.label;\\n                 }\\n               }\");\nviewer_17231309193624485.render();\n});\n</script>"
                },
                "metadata": {}
              },
              {
                "output_type": "display_data",
                "data": {
                  "application/3dmoljs_load.v0": "<script>\n            $3Dmolpromise.then(function() { //wrap in promise for non-interactive functionality\n                \t\tviewer_17231309193624485.getModel(-1).setFrame(0);\n\t\tviewer_17231309193624485.getModel(-1).setStyle({\"model\": 0},{\"sphere\": {\"scale\": 0.4, \"color\": \"0xda70d6\"}, \"stick\": {\"radius\": 0.1, \"color\": \"0xda70d6\"}});\n\t\tviewer_17231309193624485.getModel(-1).setStyle({\"elem\": \"H\", \"model\": 0},{\"sphere\": {\"scale\": 0.4, \"color\": \"white\"}, \"stick\": {\"radius\": 0.1, \"color\": \"white\"}});\n\t\tviewer_17231309193624485.getModel(-1).setStyle({\"elem\": \"C\", \"model\": 0},{\"sphere\": {\"scale\": 0.4, \"color\": \"black\"}, \"stick\": {\"radius\": 0.1, \"color\": \"black\"}});\n\t\tviewer_17231309193624485.getModel(-1).setStyle({\"elem\": \"N\", \"model\": 0},{\"sphere\": {\"scale\": 0.4, \"color\": \"blue\"}, \"stick\": {\"radius\": 0.1, \"color\": \"blue\"}});\n\t\tviewer_17231309193624485.getModel(-1).setStyle({\"elem\": \"O\", \"model\": 0},{\"sphere\": {\"scale\": 0.4, \"color\": \"red\"}, \"stick\": {\"radius\": 0.1, \"color\": \"red\"}});\n\t\tviewer_17231309193624485.getModel(-1).setStyle({\"elem\": \"F\", \"model\": 0},{\"sphere\": {\"scale\": 0.4, \"color\": \"green\"}, \"stick\": {\"radius\": 0.1, \"color\": \"green\"}});\n\t\tviewer_17231309193624485.getModel(-1).setStyle({\"elem\": \"Cl\", \"model\": 0},{\"sphere\": {\"scale\": 0.4, \"color\": \"green\"}, \"stick\": {\"radius\": 0.1, \"color\": \"green\"}});\n\t\tviewer_17231309193624485.getModel(-1).setStyle({\"elem\": \"Br\", \"model\": 0},{\"sphere\": {\"scale\": 0.4, \"color\": \"0x8b0000\"}, \"stick\": {\"radius\": 0.1, \"color\": \"0x8b0000\"}});\n\t\tviewer_17231309193624485.getModel(-1).setStyle({\"elem\": \"I\", \"model\": 0},{\"sphere\": {\"scale\": 0.4, \"color\": \"0x9400d3\"}, \"stick\": {\"radius\": 0.1, \"color\": \"0x9400d3\"}});\n\t\tviewer_17231309193624485.getModel(-1).setStyle({\"elem\": \"He\", \"model\": 0},{\"sphere\": {\"scale\": 0.4, \"color\": \"cyan\"}, \"stick\": {\"radius\": 0.1, \"color\": \"cyan\"}});\n\t\tviewer_17231309193624485.getModel(-1).setStyle({\"elem\": \"Ne\", \"model\": 0},{\"sphere\": {\"scale\": 0.4, \"color\": \"cyan\"}, \"stick\": {\"radius\": 0.1, \"color\": \"cyan\"}});\n\t\tviewer_17231309193624485.getModel(-1).setStyle({\"elem\": \"Ar\", \"model\": 0},{\"sphere\": {\"scale\": 0.4, \"color\": \"cyan\"}, \"stick\": {\"radius\": 0.1, \"color\": \"cyan\"}});\n\t\tviewer_17231309193624485.getModel(-1).setStyle({\"elem\": \"Ce\", \"model\": 0},{\"sphere\": {\"scale\": 0.4, \"color\": \"cyan\"}, \"stick\": {\"radius\": 0.1, \"color\": \"cyan\"}});\n\t\tviewer_17231309193624485.getModel(-1).setStyle({\"elem\": \"Kr\", \"model\": 0},{\"sphere\": {\"scale\": 0.4, \"color\": \"cyan\"}, \"stick\": {\"radius\": 0.1, \"color\": \"cyan\"}});\n\t\tviewer_17231309193624485.getModel(-1).setStyle({\"elem\": \"P\", \"model\": 0},{\"sphere\": {\"scale\": 0.4, \"color\": \"orange\"}, \"stick\": {\"radius\": 0.1, \"color\": \"orange\"}});\n\t\tviewer_17231309193624485.getModel(-1).setStyle({\"elem\": \"S\", \"model\": 0},{\"sphere\": {\"scale\": 0.4, \"color\": \"yellow\"}, \"stick\": {\"radius\": 0.1, \"color\": \"yellow\"}});\n\t\tviewer_17231309193624485.getModel(-1).setStyle({\"elem\": \"B\", \"model\": 0},{\"sphere\": {\"scale\": 0.4, \"color\": \"0xffa07a\"}, \"stick\": {\"radius\": 0.1, \"color\": \"0xffa07a\"}});\n\t\tviewer_17231309193624485.getModel(-1).setStyle({\"elem\": \"Li\", \"model\": 0},{\"sphere\": {\"scale\": 0.4, \"color\": \"0x32cd32\"}, \"stick\": {\"radius\": 0.1, \"color\": \"0x32cd32\"}});\n\t\tviewer_17231309193624485.getModel(-1).setStyle({\"elem\": \"Na\", \"model\": 0},{\"sphere\": {\"scale\": 0.4, \"color\": \"violet\"}, \"stick\": {\"radius\": 0.1, \"color\": \"violet\"}});\n\t\tviewer_17231309193624485.getModel(-1).setStyle({\"elem\": \"K\", \"model\": 0},{\"sphere\": {\"scale\": 0.4, \"color\": \"violet\"}, \"stick\": {\"radius\": 0.1, \"color\": \"violet\"}});\n\t\tviewer_17231309193624485.getModel(-1).setStyle({\"elem\": \"Rb\", \"model\": 0},{\"sphere\": {\"scale\": 0.4, \"color\": \"violet\"}, \"stick\": {\"radius\": 0.1, \"color\": \"violet\"}});\n\t\tviewer_17231309193624485.getModel(-1).setStyle({\"elem\": \"Cs\", \"model\": 0},{\"sphere\": {\"scale\": 0.4, \"color\": \"violet\"}, \"stick\": {\"radius\": 0.1, \"color\": \"violet\"}});\n\t\tviewer_17231309193624485.getModel(-1).setStyle({\"elem\": \"Fr\", \"model\": 0},{\"sphere\": {\"scale\": 0.4, \"color\": \"violet\"}, \"stick\": {\"radius\": 0.1, \"color\": \"violet\"}});\n\t\tviewer_17231309193624485.getModel(-1).setStyle({\"elem\": \"Be\", \"model\": 0},{\"sphere\": {\"scale\": 0.4, \"color\": \"0x2e8b57\"}, \"stick\": {\"radius\": 0.1, \"color\": \"0x2e8b57\"}});\n\t\tviewer_17231309193624485.getModel(-1).setStyle({\"elem\": \"Mg\", \"model\": 0},{\"sphere\": {\"scale\": 0.4, \"color\": \"0x2e8b57\"}, \"stick\": {\"radius\": 0.1, \"color\": \"0x2e8b57\"}});\n\t\tviewer_17231309193624485.getModel(-1).setStyle({\"elem\": \"Ca\", \"model\": 0},{\"sphere\": {\"scale\": 0.4, \"color\": \"0x2e8b57\"}, \"stick\": {\"radius\": 0.1, \"color\": \"0x2e8b57\"}});\n\t\tviewer_17231309193624485.getModel(-1).setStyle({\"elem\": \"Sr\", \"model\": 0},{\"sphere\": {\"scale\": 0.4, \"color\": \"0x2e8b57\"}, \"stick\": {\"radius\": 0.1, \"color\": \"0x2e8b57\"}});\n\t\tviewer_17231309193624485.getModel(-1).setStyle({\"elem\": \"Ba\", \"model\": 0},{\"sphere\": {\"scale\": 0.4, \"color\": \"0x2e8b57\"}, \"stick\": {\"radius\": 0.1, \"color\": \"0x2e8b57\"}});\n\t\tviewer_17231309193624485.getModel(-1).setStyle({\"elem\": \"Ra\", \"model\": 0},{\"sphere\": {\"scale\": 0.4, \"color\": \"0x2e8b57\"}, \"stick\": {\"radius\": 0.1, \"color\": \"0x2e8b57\"}});\n\t\tviewer_17231309193624485.getModel(-1).setStyle({\"elem\": \"Ti\", \"model\": 0},{\"sphere\": {\"scale\": 0.4, \"color\": \"0x48d1cc\"}, \"stick\": {\"radius\": 0.1, \"color\": \"0x48d1cc\"}});\n\t\tviewer_17231309193624485.getModel(-1).setStyle({\"elem\": \"Fe\", \"model\": 0},{\"sphere\": {\"scale\": 0.4, \"color\": \"0xff8c00\"}, \"stick\": {\"radius\": 0.1, \"color\": \"0xff8c00\"}});\n\t\tviewer_17231309193624485.getModel(-1).setStyle({\"elem\": \"Sc\", \"model\": 0},{\"sphere\": {\"scale\": 0.4, \"color\": \"0x6b8e23\"}, \"stick\": {\"radius\": 0.1, \"color\": \"0x6b8e23\"}});\n\t\tviewer_17231309193624485.getModel(-1).setStyle({\"elem\": \"V\", \"model\": 0},{\"sphere\": {\"scale\": 0.4, \"color\": \"0xC71585\"}, \"stick\": {\"radius\": 0.1, \"color\": \"0xC71585\"}});\n\t\tviewer_17231309193624485.getModel(-1).setStyle({\"elem\": \"Cr\", \"model\": 0},{\"sphere\": {\"scale\": 0.4, \"color\": \"0x87cefa\"}, \"stick\": {\"radius\": 0.1, \"color\": \"0x87cefa\"}});\n\t\tviewer_17231309193624485.getModel(-1).setStyle({\"elem\": \"Mn\", \"model\": 0},{\"sphere\": {\"scale\": 0.4, \"color\": \"0x8b008b\"}, \"stick\": {\"radius\": 0.1, \"color\": \"0x8b008b\"}});\n\t\tviewer_17231309193624485.getModel(-1).setStyle({\"elem\": \"Co\", \"model\": 0},{\"sphere\": {\"scale\": 0.4, \"color\": \"0x00008b\"}, \"stick\": {\"radius\": 0.1, \"color\": \"0x00008b\"}});\n\t\tviewer_17231309193624485.getModel(-1).setStyle({\"elem\": \"Ni\", \"model\": 0},{\"sphere\": {\"scale\": 0.4, \"color\": \"blue\"}, \"stick\": {\"radius\": 0.1, \"color\": \"blue\"}});\n\t\tviewer_17231309193624485.getModel(-1).setStyle({\"elem\": \"Cu\", \"model\": 0},{\"sphere\": {\"scale\": 0.4, \"color\": \"0x8b0000\"}, \"stick\": {\"radius\": 0.1, \"color\": \"0x8b0000\"}});\n\t\tviewer_17231309193624485.getModel(-1).setStyle({\"elem\": \"Zn\", \"model\": 0},{\"sphere\": {\"scale\": 0.4, \"color\": \"0xadd8e6\"}, \"stick\": {\"radius\": 0.1, \"color\": \"0xadd8e6\"}});\n\t\tviewer_17231309193624485.getModel(-1).setStyle({\"elem\": \"Pt\", \"model\": 0},{\"sphere\": {\"scale\": 0.4, \"color\": \"cyan\"}, \"stick\": {\"radius\": 0.1, \"color\": \"cyan\"}});\n\t\tviewer_17231309193624485.getModel(-1).setStyle({\"elem\": \"Ir\", \"model\": 0},{\"sphere\": {\"scale\": 0.4, \"color\": \"violet\"}, \"stick\": {\"radius\": 0.1, \"color\": \"violet\"}});\n\t\tviewer_17231309193624485.getModel(-1).setFrame(0);\n\t\tviewer_17231309193624485.getModel(-1).setStyle({\"model\": 0},{\"sphere\": {\"scale\": 0.4, \"color\": \"0xda70d6\"}, \"stick\": {\"radius\": 0.1, \"color\": \"0xda70d6\"}});\n\t\tviewer_17231309193624485.getModel(-1).setStyle({\"elem\": \"H\", \"model\": 0},{\"sphere\": {\"scale\": 0.4, \"color\": \"white\"}, \"stick\": {\"radius\": 0.1, \"color\": \"white\"}});\n\t\tviewer_17231309193624485.getModel(-1).setStyle({\"elem\": \"C\", \"model\": 0},{\"sphere\": {\"scale\": 0.4, \"color\": \"black\"}, \"stick\": {\"radius\": 0.1, \"color\": \"black\"}});\n\t\tviewer_17231309193624485.getModel(-1).setStyle({\"elem\": \"N\", \"model\": 0},{\"sphere\": {\"scale\": 0.4, \"color\": \"blue\"}, \"stick\": {\"radius\": 0.1, \"color\": \"blue\"}});\n\t\tviewer_17231309193624485.getModel(-1).setStyle({\"elem\": \"O\", \"model\": 0},{\"sphere\": {\"scale\": 0.4, \"color\": \"red\"}, \"stick\": {\"radius\": 0.1, \"color\": \"red\"}});\n\t\tviewer_17231309193624485.getModel(-1).setStyle({\"elem\": \"F\", \"model\": 0},{\"sphere\": {\"scale\": 0.4, \"color\": \"green\"}, \"stick\": {\"radius\": 0.1, \"color\": \"green\"}});\n\t\tviewer_17231309193624485.getModel(-1).setStyle({\"elem\": \"Cl\", \"model\": 0},{\"sphere\": {\"scale\": 0.4, \"color\": \"green\"}, \"stick\": {\"radius\": 0.1, \"color\": \"green\"}});\n\t\tviewer_17231309193624485.getModel(-1).setStyle({\"elem\": \"Br\", \"model\": 0},{\"sphere\": {\"scale\": 0.4, \"color\": \"0x8b0000\"}, \"stick\": {\"radius\": 0.1, \"color\": \"0x8b0000\"}});\n\t\tviewer_17231309193624485.getModel(-1).setStyle({\"elem\": \"I\", \"model\": 0},{\"sphere\": {\"scale\": 0.4, \"color\": \"0x9400d3\"}, \"stick\": {\"radius\": 0.1, \"color\": \"0x9400d3\"}});\n\t\tviewer_17231309193624485.getModel(-1).setStyle({\"elem\": \"He\", \"model\": 0},{\"sphere\": {\"scale\": 0.4, \"color\": \"cyan\"}, \"stick\": {\"radius\": 0.1, \"color\": \"cyan\"}});\n\t\tviewer_17231309193624485.getModel(-1).setStyle({\"elem\": \"Ne\", \"model\": 0},{\"sphere\": {\"scale\": 0.4, \"color\": \"cyan\"}, \"stick\": {\"radius\": 0.1, \"color\": \"cyan\"}});\n\t\tviewer_17231309193624485.getModel(-1).setStyle({\"elem\": \"Ar\", \"model\": 0},{\"sphere\": {\"scale\": 0.4, \"color\": \"cyan\"}, \"stick\": {\"radius\": 0.1, \"color\": \"cyan\"}});\n\t\tviewer_17231309193624485.getModel(-1).setStyle({\"elem\": \"Ce\", \"model\": 0},{\"sphere\": {\"scale\": 0.4, \"color\": \"cyan\"}, \"stick\": {\"radius\": 0.1, \"color\": \"cyan\"}});\n\t\tviewer_17231309193624485.getModel(-1).setStyle({\"elem\": \"Kr\", \"model\": 0},{\"sphere\": {\"scale\": 0.4, \"color\": \"cyan\"}, \"stick\": {\"radius\": 0.1, \"color\": \"cyan\"}});\n\t\tviewer_17231309193624485.getModel(-1).setStyle({\"elem\": \"P\", \"model\": 0},{\"sphere\": {\"scale\": 0.4, \"color\": \"orange\"}, \"stick\": {\"radius\": 0.1, \"color\": \"orange\"}});\n\t\tviewer_17231309193624485.getModel(-1).setStyle({\"elem\": \"S\", \"model\": 0},{\"sphere\": {\"scale\": 0.4, \"color\": \"yellow\"}, \"stick\": {\"radius\": 0.1, \"color\": \"yellow\"}});\n\t\tviewer_17231309193624485.getModel(-1).setStyle({\"elem\": \"B\", \"model\": 0},{\"sphere\": {\"scale\": 0.4, \"color\": \"0xffa07a\"}, \"stick\": {\"radius\": 0.1, \"color\": \"0xffa07a\"}});\n\t\tviewer_17231309193624485.getModel(-1).setStyle({\"elem\": \"Li\", \"model\": 0},{\"sphere\": {\"scale\": 0.4, \"color\": \"0x32cd32\"}, \"stick\": {\"radius\": 0.1, \"color\": \"0x32cd32\"}});\n\t\tviewer_17231309193624485.getModel(-1).setStyle({\"elem\": \"Na\", \"model\": 0},{\"sphere\": {\"scale\": 0.4, \"color\": \"violet\"}, \"stick\": {\"radius\": 0.1, \"color\": \"violet\"}});\n\t\tviewer_17231309193624485.getModel(-1).setStyle({\"elem\": \"K\", \"model\": 0},{\"sphere\": {\"scale\": 0.4, \"color\": \"violet\"}, \"stick\": {\"radius\": 0.1, \"color\": \"violet\"}});\n\t\tviewer_17231309193624485.getModel(-1).setStyle({\"elem\": \"Rb\", \"model\": 0},{\"sphere\": {\"scale\": 0.4, \"color\": \"violet\"}, \"stick\": {\"radius\": 0.1, \"color\": \"violet\"}});\n\t\tviewer_17231309193624485.getModel(-1).setStyle({\"elem\": \"Cs\", \"model\": 0},{\"sphere\": {\"scale\": 0.4, \"color\": \"violet\"}, \"stick\": {\"radius\": 0.1, \"color\": \"violet\"}});\n\t\tviewer_17231309193624485.getModel(-1).setStyle({\"elem\": \"Fr\", \"model\": 0},{\"sphere\": {\"scale\": 0.4, \"color\": \"violet\"}, \"stick\": {\"radius\": 0.1, \"color\": \"violet\"}});\n\t\tviewer_17231309193624485.getModel(-1).setStyle({\"elem\": \"Be\", \"model\": 0},{\"sphere\": {\"scale\": 0.4, \"color\": \"0x2e8b57\"}, \"stick\": {\"radius\": 0.1, \"color\": \"0x2e8b57\"}});\n\t\tviewer_17231309193624485.getModel(-1).setStyle({\"elem\": \"Mg\", \"model\": 0},{\"sphere\": {\"scale\": 0.4, \"color\": \"0x2e8b57\"}, \"stick\": {\"radius\": 0.1, \"color\": \"0x2e8b57\"}});\n\t\tviewer_17231309193624485.getModel(-1).setStyle({\"elem\": \"Ca\", \"model\": 0},{\"sphere\": {\"scale\": 0.4, \"color\": \"0x2e8b57\"}, \"stick\": {\"radius\": 0.1, \"color\": \"0x2e8b57\"}});\n\t\tviewer_17231309193624485.getModel(-1).setStyle({\"elem\": \"Sr\", \"model\": 0},{\"sphere\": {\"scale\": 0.4, \"color\": \"0x2e8b57\"}, \"stick\": {\"radius\": 0.1, \"color\": \"0x2e8b57\"}});\n\t\tviewer_17231309193624485.getModel(-1).setStyle({\"elem\": \"Ba\", \"model\": 0},{\"sphere\": {\"scale\": 0.4, \"color\": \"0x2e8b57\"}, \"stick\": {\"radius\": 0.1, \"color\": \"0x2e8b57\"}});\n\t\tviewer_17231309193624485.getModel(-1).setStyle({\"elem\": \"Ra\", \"model\": 0},{\"sphere\": {\"scale\": 0.4, \"color\": \"0x2e8b57\"}, \"stick\": {\"radius\": 0.1, \"color\": \"0x2e8b57\"}});\n\t\tviewer_17231309193624485.getModel(-1).setStyle({\"elem\": \"Ti\", \"model\": 0},{\"sphere\": {\"scale\": 0.4, \"color\": \"0x48d1cc\"}, \"stick\": {\"radius\": 0.1, \"color\": \"0x48d1cc\"}});\n\t\tviewer_17231309193624485.getModel(-1).setStyle({\"elem\": \"Fe\", \"model\": 0},{\"sphere\": {\"scale\": 0.4, \"color\": \"0xff8c00\"}, \"stick\": {\"radius\": 0.1, \"color\": \"0xff8c00\"}});\n\t\tviewer_17231309193624485.getModel(-1).setStyle({\"elem\": \"Sc\", \"model\": 0},{\"sphere\": {\"scale\": 0.4, \"color\": \"0x6b8e23\"}, \"stick\": {\"radius\": 0.1, \"color\": \"0x6b8e23\"}});\n\t\tviewer_17231309193624485.getModel(-1).setStyle({\"elem\": \"V\", \"model\": 0},{\"sphere\": {\"scale\": 0.4, \"color\": \"0xC71585\"}, \"stick\": {\"radius\": 0.1, \"color\": \"0xC71585\"}});\n\t\tviewer_17231309193624485.getModel(-1).setStyle({\"elem\": \"Cr\", \"model\": 0},{\"sphere\": {\"scale\": 0.4, \"color\": \"0x87cefa\"}, \"stick\": {\"radius\": 0.1, \"color\": \"0x87cefa\"}});\n\t\tviewer_17231309193624485.getModel(-1).setStyle({\"elem\": \"Mn\", \"model\": 0},{\"sphere\": {\"scale\": 0.4, \"color\": \"0x8b008b\"}, \"stick\": {\"radius\": 0.1, \"color\": \"0x8b008b\"}});\n\t\tviewer_17231309193624485.getModel(-1).setStyle({\"elem\": \"Co\", \"model\": 0},{\"sphere\": {\"scale\": 0.4, \"color\": \"0x00008b\"}, \"stick\": {\"radius\": 0.1, \"color\": \"0x00008b\"}});\n\t\tviewer_17231309193624485.getModel(-1).setStyle({\"elem\": \"Ni\", \"model\": 0},{\"sphere\": {\"scale\": 0.4, \"color\": \"blue\"}, \"stick\": {\"radius\": 0.1, \"color\": \"blue\"}});\n\t\tviewer_17231309193624485.getModel(-1).setStyle({\"elem\": \"Cu\", \"model\": 0},{\"sphere\": {\"scale\": 0.4, \"color\": \"0x8b0000\"}, \"stick\": {\"radius\": 0.1, \"color\": \"0x8b0000\"}});\n\t\tviewer_17231309193624485.getModel(-1).setStyle({\"elem\": \"Zn\", \"model\": 0},{\"sphere\": {\"scale\": 0.4, \"color\": \"0xadd8e6\"}, \"stick\": {\"radius\": 0.1, \"color\": \"0xadd8e6\"}});\n\t\tviewer_17231309193624485.getModel(-1).setStyle({\"elem\": \"Pt\", \"model\": 0},{\"sphere\": {\"scale\": 0.4, \"color\": \"cyan\"}, \"stick\": {\"radius\": 0.1, \"color\": \"cyan\"}});\n\t\tviewer_17231309193624485.getModel(-1).setStyle({\"elem\": \"Ir\", \"model\": 0},{\"sphere\": {\"scale\": 0.4, \"color\": \"violet\"}, \"stick\": {\"radius\": 0.1, \"color\": \"violet\"}});\n\t\tviewer_17231309193624485.getModel(-1).setFrame(0);\n\tviewer_17231309193624485.setHoverable({},true,\"function(atom, viewer, event, container) {\\n                 if(!atom.label) {\\n                   atom.label = viewer.addLabel(\\n                     atom.serial + \\\" \\\" + atom.atom,\\n                     {position: atom,\\n                      backgroundColor: 'mintcream',\\n                      fontColor:'black'});\\n                  }\\n                }\",\"function(atom, viewer) {\\n                 if(atom.label) {\\n                   viewer.removeLabel(atom.label);\\n                   delete atom.label;\\n                 }\\n               }\");\n\n                viewer_17231309193624485.render();\n            });\n            </script>",
                  "text/html": "<script>\n            $3Dmolpromise.then(function() { //wrap in promise for non-interactive functionality\n                \t\tviewer_17231309193624485.getModel(-1).setFrame(0);\n\t\tviewer_17231309193624485.getModel(-1).setStyle({\"model\": 0},{\"sphere\": {\"scale\": 0.4, \"color\": \"0xda70d6\"}, \"stick\": {\"radius\": 0.1, \"color\": \"0xda70d6\"}});\n\t\tviewer_17231309193624485.getModel(-1).setStyle({\"elem\": \"H\", \"model\": 0},{\"sphere\": {\"scale\": 0.4, \"color\": \"white\"}, \"stick\": {\"radius\": 0.1, \"color\": \"white\"}});\n\t\tviewer_17231309193624485.getModel(-1).setStyle({\"elem\": \"C\", \"model\": 0},{\"sphere\": {\"scale\": 0.4, \"color\": \"black\"}, \"stick\": {\"radius\": 0.1, \"color\": \"black\"}});\n\t\tviewer_17231309193624485.getModel(-1).setStyle({\"elem\": \"N\", \"model\": 0},{\"sphere\": {\"scale\": 0.4, \"color\": \"blue\"}, \"stick\": {\"radius\": 0.1, \"color\": \"blue\"}});\n\t\tviewer_17231309193624485.getModel(-1).setStyle({\"elem\": \"O\", \"model\": 0},{\"sphere\": {\"scale\": 0.4, \"color\": \"red\"}, \"stick\": {\"radius\": 0.1, \"color\": \"red\"}});\n\t\tviewer_17231309193624485.getModel(-1).setStyle({\"elem\": \"F\", \"model\": 0},{\"sphere\": {\"scale\": 0.4, \"color\": \"green\"}, \"stick\": {\"radius\": 0.1, \"color\": \"green\"}});\n\t\tviewer_17231309193624485.getModel(-1).setStyle({\"elem\": \"Cl\", \"model\": 0},{\"sphere\": {\"scale\": 0.4, \"color\": \"green\"}, \"stick\": {\"radius\": 0.1, \"color\": \"green\"}});\n\t\tviewer_17231309193624485.getModel(-1).setStyle({\"elem\": \"Br\", \"model\": 0},{\"sphere\": {\"scale\": 0.4, \"color\": \"0x8b0000\"}, \"stick\": {\"radius\": 0.1, \"color\": \"0x8b0000\"}});\n\t\tviewer_17231309193624485.getModel(-1).setStyle({\"elem\": \"I\", \"model\": 0},{\"sphere\": {\"scale\": 0.4, \"color\": \"0x9400d3\"}, \"stick\": {\"radius\": 0.1, \"color\": \"0x9400d3\"}});\n\t\tviewer_17231309193624485.getModel(-1).setStyle({\"elem\": \"He\", \"model\": 0},{\"sphere\": {\"scale\": 0.4, \"color\": \"cyan\"}, \"stick\": {\"radius\": 0.1, \"color\": \"cyan\"}});\n\t\tviewer_17231309193624485.getModel(-1).setStyle({\"elem\": \"Ne\", \"model\": 0},{\"sphere\": {\"scale\": 0.4, \"color\": \"cyan\"}, \"stick\": {\"radius\": 0.1, \"color\": \"cyan\"}});\n\t\tviewer_17231309193624485.getModel(-1).setStyle({\"elem\": \"Ar\", \"model\": 0},{\"sphere\": {\"scale\": 0.4, \"color\": \"cyan\"}, \"stick\": {\"radius\": 0.1, \"color\": \"cyan\"}});\n\t\tviewer_17231309193624485.getModel(-1).setStyle({\"elem\": \"Ce\", \"model\": 0},{\"sphere\": {\"scale\": 0.4, \"color\": \"cyan\"}, \"stick\": {\"radius\": 0.1, \"color\": \"cyan\"}});\n\t\tviewer_17231309193624485.getModel(-1).setStyle({\"elem\": \"Kr\", \"model\": 0},{\"sphere\": {\"scale\": 0.4, \"color\": \"cyan\"}, \"stick\": {\"radius\": 0.1, \"color\": \"cyan\"}});\n\t\tviewer_17231309193624485.getModel(-1).setStyle({\"elem\": \"P\", \"model\": 0},{\"sphere\": {\"scale\": 0.4, \"color\": \"orange\"}, \"stick\": {\"radius\": 0.1, \"color\": \"orange\"}});\n\t\tviewer_17231309193624485.getModel(-1).setStyle({\"elem\": \"S\", \"model\": 0},{\"sphere\": {\"scale\": 0.4, \"color\": \"yellow\"}, \"stick\": {\"radius\": 0.1, \"color\": \"yellow\"}});\n\t\tviewer_17231309193624485.getModel(-1).setStyle({\"elem\": \"B\", \"model\": 0},{\"sphere\": {\"scale\": 0.4, \"color\": \"0xffa07a\"}, \"stick\": {\"radius\": 0.1, \"color\": \"0xffa07a\"}});\n\t\tviewer_17231309193624485.getModel(-1).setStyle({\"elem\": \"Li\", \"model\": 0},{\"sphere\": {\"scale\": 0.4, \"color\": \"0x32cd32\"}, \"stick\": {\"radius\": 0.1, \"color\": \"0x32cd32\"}});\n\t\tviewer_17231309193624485.getModel(-1).setStyle({\"elem\": \"Na\", \"model\": 0},{\"sphere\": {\"scale\": 0.4, \"color\": \"violet\"}, \"stick\": {\"radius\": 0.1, \"color\": \"violet\"}});\n\t\tviewer_17231309193624485.getModel(-1).setStyle({\"elem\": \"K\", \"model\": 0},{\"sphere\": {\"scale\": 0.4, \"color\": \"violet\"}, \"stick\": {\"radius\": 0.1, \"color\": \"violet\"}});\n\t\tviewer_17231309193624485.getModel(-1).setStyle({\"elem\": \"Rb\", \"model\": 0},{\"sphere\": {\"scale\": 0.4, \"color\": \"violet\"}, \"stick\": {\"radius\": 0.1, \"color\": \"violet\"}});\n\t\tviewer_17231309193624485.getModel(-1).setStyle({\"elem\": \"Cs\", \"model\": 0},{\"sphere\": {\"scale\": 0.4, \"color\": \"violet\"}, \"stick\": {\"radius\": 0.1, \"color\": \"violet\"}});\n\t\tviewer_17231309193624485.getModel(-1).setStyle({\"elem\": \"Fr\", \"model\": 0},{\"sphere\": {\"scale\": 0.4, \"color\": \"violet\"}, \"stick\": {\"radius\": 0.1, \"color\": \"violet\"}});\n\t\tviewer_17231309193624485.getModel(-1).setStyle({\"elem\": \"Be\", \"model\": 0},{\"sphere\": {\"scale\": 0.4, \"color\": \"0x2e8b57\"}, \"stick\": {\"radius\": 0.1, \"color\": \"0x2e8b57\"}});\n\t\tviewer_17231309193624485.getModel(-1).setStyle({\"elem\": \"Mg\", \"model\": 0},{\"sphere\": {\"scale\": 0.4, \"color\": \"0x2e8b57\"}, \"stick\": {\"radius\": 0.1, \"color\": \"0x2e8b57\"}});\n\t\tviewer_17231309193624485.getModel(-1).setStyle({\"elem\": \"Ca\", \"model\": 0},{\"sphere\": {\"scale\": 0.4, \"color\": \"0x2e8b57\"}, \"stick\": {\"radius\": 0.1, \"color\": \"0x2e8b57\"}});\n\t\tviewer_17231309193624485.getModel(-1).setStyle({\"elem\": \"Sr\", \"model\": 0},{\"sphere\": {\"scale\": 0.4, \"color\": \"0x2e8b57\"}, \"stick\": {\"radius\": 0.1, \"color\": \"0x2e8b57\"}});\n\t\tviewer_17231309193624485.getModel(-1).setStyle({\"elem\": \"Ba\", \"model\": 0},{\"sphere\": {\"scale\": 0.4, \"color\": \"0x2e8b57\"}, \"stick\": {\"radius\": 0.1, \"color\": \"0x2e8b57\"}});\n\t\tviewer_17231309193624485.getModel(-1).setStyle({\"elem\": \"Ra\", \"model\": 0},{\"sphere\": {\"scale\": 0.4, \"color\": \"0x2e8b57\"}, \"stick\": {\"radius\": 0.1, \"color\": \"0x2e8b57\"}});\n\t\tviewer_17231309193624485.getModel(-1).setStyle({\"elem\": \"Ti\", \"model\": 0},{\"sphere\": {\"scale\": 0.4, \"color\": \"0x48d1cc\"}, \"stick\": {\"radius\": 0.1, \"color\": \"0x48d1cc\"}});\n\t\tviewer_17231309193624485.getModel(-1).setStyle({\"elem\": \"Fe\", \"model\": 0},{\"sphere\": {\"scale\": 0.4, \"color\": \"0xff8c00\"}, \"stick\": {\"radius\": 0.1, \"color\": \"0xff8c00\"}});\n\t\tviewer_17231309193624485.getModel(-1).setStyle({\"elem\": \"Sc\", \"model\": 0},{\"sphere\": {\"scale\": 0.4, \"color\": \"0x6b8e23\"}, \"stick\": {\"radius\": 0.1, \"color\": \"0x6b8e23\"}});\n\t\tviewer_17231309193624485.getModel(-1).setStyle({\"elem\": \"V\", \"model\": 0},{\"sphere\": {\"scale\": 0.4, \"color\": \"0xC71585\"}, \"stick\": {\"radius\": 0.1, \"color\": \"0xC71585\"}});\n\t\tviewer_17231309193624485.getModel(-1).setStyle({\"elem\": \"Cr\", \"model\": 0},{\"sphere\": {\"scale\": 0.4, \"color\": \"0x87cefa\"}, \"stick\": {\"radius\": 0.1, \"color\": \"0x87cefa\"}});\n\t\tviewer_17231309193624485.getModel(-1).setStyle({\"elem\": \"Mn\", \"model\": 0},{\"sphere\": {\"scale\": 0.4, \"color\": \"0x8b008b\"}, \"stick\": {\"radius\": 0.1, \"color\": \"0x8b008b\"}});\n\t\tviewer_17231309193624485.getModel(-1).setStyle({\"elem\": \"Co\", \"model\": 0},{\"sphere\": {\"scale\": 0.4, \"color\": \"0x00008b\"}, \"stick\": {\"radius\": 0.1, \"color\": \"0x00008b\"}});\n\t\tviewer_17231309193624485.getModel(-1).setStyle({\"elem\": \"Ni\", \"model\": 0},{\"sphere\": {\"scale\": 0.4, \"color\": \"blue\"}, \"stick\": {\"radius\": 0.1, \"color\": \"blue\"}});\n\t\tviewer_17231309193624485.getModel(-1).setStyle({\"elem\": \"Cu\", \"model\": 0},{\"sphere\": {\"scale\": 0.4, \"color\": \"0x8b0000\"}, \"stick\": {\"radius\": 0.1, \"color\": \"0x8b0000\"}});\n\t\tviewer_17231309193624485.getModel(-1).setStyle({\"elem\": \"Zn\", \"model\": 0},{\"sphere\": {\"scale\": 0.4, \"color\": \"0xadd8e6\"}, \"stick\": {\"radius\": 0.1, \"color\": \"0xadd8e6\"}});\n\t\tviewer_17231309193624485.getModel(-1).setStyle({\"elem\": \"Pt\", \"model\": 0},{\"sphere\": {\"scale\": 0.4, \"color\": \"cyan\"}, \"stick\": {\"radius\": 0.1, \"color\": \"cyan\"}});\n\t\tviewer_17231309193624485.getModel(-1).setStyle({\"elem\": \"Ir\", \"model\": 0},{\"sphere\": {\"scale\": 0.4, \"color\": \"violet\"}, \"stick\": {\"radius\": 0.1, \"color\": \"violet\"}});\n\t\tviewer_17231309193624485.getModel(-1).setFrame(0);\n\t\tviewer_17231309193624485.getModel(-1).setStyle({\"model\": 0},{\"sphere\": {\"scale\": 0.4, \"color\": \"0xda70d6\"}, \"stick\": {\"radius\": 0.1, \"color\": \"0xda70d6\"}});\n\t\tviewer_17231309193624485.getModel(-1).setStyle({\"elem\": \"H\", \"model\": 0},{\"sphere\": {\"scale\": 0.4, \"color\": \"white\"}, \"stick\": {\"radius\": 0.1, \"color\": \"white\"}});\n\t\tviewer_17231309193624485.getModel(-1).setStyle({\"elem\": \"C\", \"model\": 0},{\"sphere\": {\"scale\": 0.4, \"color\": \"black\"}, \"stick\": {\"radius\": 0.1, \"color\": \"black\"}});\n\t\tviewer_17231309193624485.getModel(-1).setStyle({\"elem\": \"N\", \"model\": 0},{\"sphere\": {\"scale\": 0.4, \"color\": \"blue\"}, \"stick\": {\"radius\": 0.1, \"color\": \"blue\"}});\n\t\tviewer_17231309193624485.getModel(-1).setStyle({\"elem\": \"O\", \"model\": 0},{\"sphere\": {\"scale\": 0.4, \"color\": \"red\"}, \"stick\": {\"radius\": 0.1, \"color\": \"red\"}});\n\t\tviewer_17231309193624485.getModel(-1).setStyle({\"elem\": \"F\", \"model\": 0},{\"sphere\": {\"scale\": 0.4, \"color\": \"green\"}, \"stick\": {\"radius\": 0.1, \"color\": \"green\"}});\n\t\tviewer_17231309193624485.getModel(-1).setStyle({\"elem\": \"Cl\", \"model\": 0},{\"sphere\": {\"scale\": 0.4, \"color\": \"green\"}, \"stick\": {\"radius\": 0.1, \"color\": \"green\"}});\n\t\tviewer_17231309193624485.getModel(-1).setStyle({\"elem\": \"Br\", \"model\": 0},{\"sphere\": {\"scale\": 0.4, \"color\": \"0x8b0000\"}, \"stick\": {\"radius\": 0.1, \"color\": \"0x8b0000\"}});\n\t\tviewer_17231309193624485.getModel(-1).setStyle({\"elem\": \"I\", \"model\": 0},{\"sphere\": {\"scale\": 0.4, \"color\": \"0x9400d3\"}, \"stick\": {\"radius\": 0.1, \"color\": \"0x9400d3\"}});\n\t\tviewer_17231309193624485.getModel(-1).setStyle({\"elem\": \"He\", \"model\": 0},{\"sphere\": {\"scale\": 0.4, \"color\": \"cyan\"}, \"stick\": {\"radius\": 0.1, \"color\": \"cyan\"}});\n\t\tviewer_17231309193624485.getModel(-1).setStyle({\"elem\": \"Ne\", \"model\": 0},{\"sphere\": {\"scale\": 0.4, \"color\": \"cyan\"}, \"stick\": {\"radius\": 0.1, \"color\": \"cyan\"}});\n\t\tviewer_17231309193624485.getModel(-1).setStyle({\"elem\": \"Ar\", \"model\": 0},{\"sphere\": {\"scale\": 0.4, \"color\": \"cyan\"}, \"stick\": {\"radius\": 0.1, \"color\": \"cyan\"}});\n\t\tviewer_17231309193624485.getModel(-1).setStyle({\"elem\": \"Ce\", \"model\": 0},{\"sphere\": {\"scale\": 0.4, \"color\": \"cyan\"}, \"stick\": {\"radius\": 0.1, \"color\": \"cyan\"}});\n\t\tviewer_17231309193624485.getModel(-1).setStyle({\"elem\": \"Kr\", \"model\": 0},{\"sphere\": {\"scale\": 0.4, \"color\": \"cyan\"}, \"stick\": {\"radius\": 0.1, \"color\": \"cyan\"}});\n\t\tviewer_17231309193624485.getModel(-1).setStyle({\"elem\": \"P\", \"model\": 0},{\"sphere\": {\"scale\": 0.4, \"color\": \"orange\"}, \"stick\": {\"radius\": 0.1, \"color\": \"orange\"}});\n\t\tviewer_17231309193624485.getModel(-1).setStyle({\"elem\": \"S\", \"model\": 0},{\"sphere\": {\"scale\": 0.4, \"color\": \"yellow\"}, \"stick\": {\"radius\": 0.1, \"color\": \"yellow\"}});\n\t\tviewer_17231309193624485.getModel(-1).setStyle({\"elem\": \"B\", \"model\": 0},{\"sphere\": {\"scale\": 0.4, \"color\": \"0xffa07a\"}, \"stick\": {\"radius\": 0.1, \"color\": \"0xffa07a\"}});\n\t\tviewer_17231309193624485.getModel(-1).setStyle({\"elem\": \"Li\", \"model\": 0},{\"sphere\": {\"scale\": 0.4, \"color\": \"0x32cd32\"}, \"stick\": {\"radius\": 0.1, \"color\": \"0x32cd32\"}});\n\t\tviewer_17231309193624485.getModel(-1).setStyle({\"elem\": \"Na\", \"model\": 0},{\"sphere\": {\"scale\": 0.4, \"color\": \"violet\"}, \"stick\": {\"radius\": 0.1, \"color\": \"violet\"}});\n\t\tviewer_17231309193624485.getModel(-1).setStyle({\"elem\": \"K\", \"model\": 0},{\"sphere\": {\"scale\": 0.4, \"color\": \"violet\"}, \"stick\": {\"radius\": 0.1, \"color\": \"violet\"}});\n\t\tviewer_17231309193624485.getModel(-1).setStyle({\"elem\": \"Rb\", \"model\": 0},{\"sphere\": {\"scale\": 0.4, \"color\": \"violet\"}, \"stick\": {\"radius\": 0.1, \"color\": \"violet\"}});\n\t\tviewer_17231309193624485.getModel(-1).setStyle({\"elem\": \"Cs\", \"model\": 0},{\"sphere\": {\"scale\": 0.4, \"color\": \"violet\"}, \"stick\": {\"radius\": 0.1, \"color\": \"violet\"}});\n\t\tviewer_17231309193624485.getModel(-1).setStyle({\"elem\": \"Fr\", \"model\": 0},{\"sphere\": {\"scale\": 0.4, \"color\": \"violet\"}, \"stick\": {\"radius\": 0.1, \"color\": \"violet\"}});\n\t\tviewer_17231309193624485.getModel(-1).setStyle({\"elem\": \"Be\", \"model\": 0},{\"sphere\": {\"scale\": 0.4, \"color\": \"0x2e8b57\"}, \"stick\": {\"radius\": 0.1, \"color\": \"0x2e8b57\"}});\n\t\tviewer_17231309193624485.getModel(-1).setStyle({\"elem\": \"Mg\", \"model\": 0},{\"sphere\": {\"scale\": 0.4, \"color\": \"0x2e8b57\"}, \"stick\": {\"radius\": 0.1, \"color\": \"0x2e8b57\"}});\n\t\tviewer_17231309193624485.getModel(-1).setStyle({\"elem\": \"Ca\", \"model\": 0},{\"sphere\": {\"scale\": 0.4, \"color\": \"0x2e8b57\"}, \"stick\": {\"radius\": 0.1, \"color\": \"0x2e8b57\"}});\n\t\tviewer_17231309193624485.getModel(-1).setStyle({\"elem\": \"Sr\", \"model\": 0},{\"sphere\": {\"scale\": 0.4, \"color\": \"0x2e8b57\"}, \"stick\": {\"radius\": 0.1, \"color\": \"0x2e8b57\"}});\n\t\tviewer_17231309193624485.getModel(-1).setStyle({\"elem\": \"Ba\", \"model\": 0},{\"sphere\": {\"scale\": 0.4, \"color\": \"0x2e8b57\"}, \"stick\": {\"radius\": 0.1, \"color\": \"0x2e8b57\"}});\n\t\tviewer_17231309193624485.getModel(-1).setStyle({\"elem\": \"Ra\", \"model\": 0},{\"sphere\": {\"scale\": 0.4, \"color\": \"0x2e8b57\"}, \"stick\": {\"radius\": 0.1, \"color\": \"0x2e8b57\"}});\n\t\tviewer_17231309193624485.getModel(-1).setStyle({\"elem\": \"Ti\", \"model\": 0},{\"sphere\": {\"scale\": 0.4, \"color\": \"0x48d1cc\"}, \"stick\": {\"radius\": 0.1, \"color\": \"0x48d1cc\"}});\n\t\tviewer_17231309193624485.getModel(-1).setStyle({\"elem\": \"Fe\", \"model\": 0},{\"sphere\": {\"scale\": 0.4, \"color\": \"0xff8c00\"}, \"stick\": {\"radius\": 0.1, \"color\": \"0xff8c00\"}});\n\t\tviewer_17231309193624485.getModel(-1).setStyle({\"elem\": \"Sc\", \"model\": 0},{\"sphere\": {\"scale\": 0.4, \"color\": \"0x6b8e23\"}, \"stick\": {\"radius\": 0.1, \"color\": \"0x6b8e23\"}});\n\t\tviewer_17231309193624485.getModel(-1).setStyle({\"elem\": \"V\", \"model\": 0},{\"sphere\": {\"scale\": 0.4, \"color\": \"0xC71585\"}, \"stick\": {\"radius\": 0.1, \"color\": \"0xC71585\"}});\n\t\tviewer_17231309193624485.getModel(-1).setStyle({\"elem\": \"Cr\", \"model\": 0},{\"sphere\": {\"scale\": 0.4, \"color\": \"0x87cefa\"}, \"stick\": {\"radius\": 0.1, \"color\": \"0x87cefa\"}});\n\t\tviewer_17231309193624485.getModel(-1).setStyle({\"elem\": \"Mn\", \"model\": 0},{\"sphere\": {\"scale\": 0.4, \"color\": \"0x8b008b\"}, \"stick\": {\"radius\": 0.1, \"color\": \"0x8b008b\"}});\n\t\tviewer_17231309193624485.getModel(-1).setStyle({\"elem\": \"Co\", \"model\": 0},{\"sphere\": {\"scale\": 0.4, \"color\": \"0x00008b\"}, \"stick\": {\"radius\": 0.1, \"color\": \"0x00008b\"}});\n\t\tviewer_17231309193624485.getModel(-1).setStyle({\"elem\": \"Ni\", \"model\": 0},{\"sphere\": {\"scale\": 0.4, \"color\": \"blue\"}, \"stick\": {\"radius\": 0.1, \"color\": \"blue\"}});\n\t\tviewer_17231309193624485.getModel(-1).setStyle({\"elem\": \"Cu\", \"model\": 0},{\"sphere\": {\"scale\": 0.4, \"color\": \"0x8b0000\"}, \"stick\": {\"radius\": 0.1, \"color\": \"0x8b0000\"}});\n\t\tviewer_17231309193624485.getModel(-1).setStyle({\"elem\": \"Zn\", \"model\": 0},{\"sphere\": {\"scale\": 0.4, \"color\": \"0xadd8e6\"}, \"stick\": {\"radius\": 0.1, \"color\": \"0xadd8e6\"}});\n\t\tviewer_17231309193624485.getModel(-1).setStyle({\"elem\": \"Pt\", \"model\": 0},{\"sphere\": {\"scale\": 0.4, \"color\": \"cyan\"}, \"stick\": {\"radius\": 0.1, \"color\": \"cyan\"}});\n\t\tviewer_17231309193624485.getModel(-1).setStyle({\"elem\": \"Ir\", \"model\": 0},{\"sphere\": {\"scale\": 0.4, \"color\": \"violet\"}, \"stick\": {\"radius\": 0.1, \"color\": \"violet\"}});\n\t\tviewer_17231309193624485.getModel(-1).setFrame(0);\n\tviewer_17231309193624485.setHoverable({},true,\"function(atom, viewer, event, container) {\\n                 if(!atom.label) {\\n                   atom.label = viewer.addLabel(\\n                     atom.serial + \\\" \\\" + atom.atom,\\n                     {position: atom,\\n                      backgroundColor: 'mintcream',\\n                      fontColor:'black'});\\n                  }\\n                }\",\"function(atom, viewer) {\\n                 if(atom.label) {\\n                   viewer.removeLabel(atom.label);\\n                   delete atom.label;\\n                 }\\n               }\");\n\n                viewer_17231309193624485.render();\n            });\n            </script>"
                },
                "metadata": {}
              }
            ]
          }
        },
        "844eb4300821457bb33de84b0174dbfb": {
          "model_module": "@jupyter-widgets/controls",
          "model_name": "HBoxModel",
          "model_module_version": "1.5.0",
          "state": {
            "_dom_classes": [],
            "_model_module": "@jupyter-widgets/controls",
            "_model_module_version": "1.5.0",
            "_model_name": "HBoxModel",
            "_view_count": null,
            "_view_module": "@jupyter-widgets/controls",
            "_view_module_version": "1.5.0",
            "_view_name": "HBoxView",
            "box_style": "",
            "children": [
              "IPY_MODEL_0fac33b958ed43009ef4ab6f2f0abaa2",
              "IPY_MODEL_206f11489866442f9fc07a027dc88add"
            ],
            "layout": "IPY_MODEL_7b40ea74a4c145ea9812e8dd6a09d0ca"
          }
        },
        "ec33beae56394e749b08337ecd5cbe09": {
          "model_module": "@jupyter-widgets/base",
          "model_name": "LayoutModel",
          "model_module_version": "1.2.0",
          "state": {
            "_model_module": "@jupyter-widgets/base",
            "_model_module_version": "1.2.0",
            "_model_name": "LayoutModel",
            "_view_count": null,
            "_view_module": "@jupyter-widgets/base",
            "_view_module_version": "1.2.0",
            "_view_name": "LayoutView",
            "align_content": null,
            "align_items": "center",
            "align_self": null,
            "border": null,
            "bottom": null,
            "display": null,
            "flex": null,
            "flex_flow": null,
            "grid_area": null,
            "grid_auto_columns": null,
            "grid_auto_flow": null,
            "grid_auto_rows": null,
            "grid_column": null,
            "grid_gap": null,
            "grid_row": null,
            "grid_template_areas": null,
            "grid_template_columns": null,
            "grid_template_rows": null,
            "height": null,
            "justify_content": null,
            "justify_items": null,
            "left": null,
            "margin": null,
            "max_height": null,
            "max_width": null,
            "min_height": null,
            "min_width": null,
            "object_fit": null,
            "object_position": null,
            "order": null,
            "overflow": null,
            "overflow_x": null,
            "overflow_y": null,
            "padding": null,
            "right": null,
            "top": null,
            "visibility": null,
            "width": null
          }
        },
        "9f99733216a54c8996f1c57fbeed0dd1": {
          "model_module": "@jupyter-widgets/controls",
          "model_name": "DropdownModel",
          "model_module_version": "1.5.0",
          "state": {
            "_dom_classes": [],
            "_model_module": "@jupyter-widgets/controls",
            "_model_module_version": "1.5.0",
            "_model_name": "DropdownModel",
            "_options_labels": [
              "0"
            ],
            "_view_count": null,
            "_view_module": "@jupyter-widgets/controls",
            "_view_module_version": "1.5.0",
            "_view_name": "DropdownView",
            "description": "Model",
            "description_tooltip": null,
            "disabled": false,
            "index": 0,
            "layout": "IPY_MODEL_f31aa52578974fefb5d9f41997e0e693",
            "style": "IPY_MODEL_10a66c1df01e4c838fd666297a6b67f5"
          }
        },
        "bf7b386f38e74b5cacc4f3f075831cc2": {
          "model_module": "@jupyter-widgets/controls",
          "model_name": "DropdownModel",
          "model_module_version": "1.5.0",
          "state": {
            "_dom_classes": [],
            "_model_module": "@jupyter-widgets/controls",
            "_model_module_version": "1.5.0",
            "_model_name": "DropdownModel",
            "_options_labels": [
              "sticks",
              "ballsticks",
              "vanderwaals",
              "default"
            ],
            "_view_count": null,
            "_view_module": "@jupyter-widgets/controls",
            "_view_module_version": "1.5.0",
            "_view_name": "DropdownView",
            "description": "Style",
            "description_tooltip": null,
            "disabled": false,
            "index": 3,
            "layout": "IPY_MODEL_6ed5f696acdb49608d382cf21ef4798b",
            "style": "IPY_MODEL_871f630c862e481ea55385afb1ea9e8b"
          }
        },
        "4fe2c16735ea4c53ba645e251f2d1d15": {
          "model_module": "@jupyter-widgets/base",
          "model_name": "LayoutModel",
          "model_module_version": "1.2.0",
          "state": {
            "_model_module": "@jupyter-widgets/base",
            "_model_module_version": "1.2.0",
            "_model_name": "LayoutModel",
            "_view_count": null,
            "_view_module": "@jupyter-widgets/base",
            "_view_module_version": "1.2.0",
            "_view_name": "LayoutView",
            "align_content": null,
            "align_items": null,
            "align_self": null,
            "border": null,
            "bottom": null,
            "display": null,
            "flex": null,
            "flex_flow": null,
            "grid_area": null,
            "grid_auto_columns": null,
            "grid_auto_flow": null,
            "grid_auto_rows": null,
            "grid_column": null,
            "grid_gap": null,
            "grid_row": null,
            "grid_template_areas": null,
            "grid_template_columns": null,
            "grid_template_rows": null,
            "height": null,
            "justify_content": null,
            "justify_items": null,
            "left": null,
            "margin": null,
            "max_height": null,
            "max_width": null,
            "min_height": null,
            "min_width": null,
            "object_fit": null,
            "object_position": null,
            "order": null,
            "overflow": null,
            "overflow_x": null,
            "overflow_y": null,
            "padding": null,
            "right": null,
            "top": null,
            "visibility": null,
            "width": null
          }
        },
        "0fac33b958ed43009ef4ab6f2f0abaa2": {
          "model_module": "@jupyter-widgets/controls",
          "model_name": "VBoxModel",
          "model_module_version": "1.5.0",
          "state": {
            "_dom_classes": [],
            "_model_module": "@jupyter-widgets/controls",
            "_model_module_version": "1.5.0",
            "_model_name": "VBoxModel",
            "_view_count": null,
            "_view_module": "@jupyter-widgets/controls",
            "_view_module_version": "1.5.0",
            "_view_name": "VBoxView",
            "box_style": "",
            "children": [
              "IPY_MODEL_e4109a3bbcf945118650e96fbe5c3b02",
              "IPY_MODEL_c3dcb33e0e054d70921def8fdec5abd2"
            ],
            "layout": "IPY_MODEL_0d6304fd92bd4acd9e0303bebe3e73d3"
          }
        },
        "206f11489866442f9fc07a027dc88add": {
          "model_module": "@jupyter-widgets/controls",
          "model_name": "VBoxModel",
          "model_module_version": "1.5.0",
          "state": {
            "_dom_classes": [],
            "_model_module": "@jupyter-widgets/controls",
            "_model_module_version": "1.5.0",
            "_model_name": "VBoxModel",
            "_view_count": null,
            "_view_module": "@jupyter-widgets/controls",
            "_view_module_version": "1.5.0",
            "_view_name": "VBoxView",
            "box_style": "",
            "children": [
              "IPY_MODEL_b084214049844454a79105ecf9142f63",
              "IPY_MODEL_6f9689d19cf545e284abca0c40b4441b"
            ],
            "layout": "IPY_MODEL_dd71e0a79ce645d391e5bb602a6da3d3"
          }
        },
        "7b40ea74a4c145ea9812e8dd6a09d0ca": {
          "model_module": "@jupyter-widgets/base",
          "model_name": "LayoutModel",
          "model_module_version": "1.2.0",
          "state": {
            "_model_module": "@jupyter-widgets/base",
            "_model_module_version": "1.2.0",
            "_model_name": "LayoutModel",
            "_view_count": null,
            "_view_module": "@jupyter-widgets/base",
            "_view_module_version": "1.2.0",
            "_view_name": "LayoutView",
            "align_content": null,
            "align_items": null,
            "align_self": null,
            "border": null,
            "bottom": null,
            "display": null,
            "flex": null,
            "flex_flow": null,
            "grid_area": null,
            "grid_auto_columns": null,
            "grid_auto_flow": null,
            "grid_auto_rows": null,
            "grid_column": null,
            "grid_gap": null,
            "grid_row": null,
            "grid_template_areas": null,
            "grid_template_columns": null,
            "grid_template_rows": null,
            "height": null,
            "justify_content": null,
            "justify_items": null,
            "left": null,
            "margin": null,
            "max_height": null,
            "max_width": null,
            "min_height": null,
            "min_width": null,
            "object_fit": null,
            "object_position": null,
            "order": null,
            "overflow": null,
            "overflow_x": null,
            "overflow_y": null,
            "padding": null,
            "right": null,
            "top": null,
            "visibility": null,
            "width": null
          }
        },
        "f31aa52578974fefb5d9f41997e0e693": {
          "model_module": "@jupyter-widgets/base",
          "model_name": "LayoutModel",
          "model_module_version": "1.2.0",
          "state": {
            "_model_module": "@jupyter-widgets/base",
            "_model_module_version": "1.2.0",
            "_model_name": "LayoutModel",
            "_view_count": null,
            "_view_module": "@jupyter-widgets/base",
            "_view_module_version": "1.2.0",
            "_view_name": "LayoutView",
            "align_content": null,
            "align_items": null,
            "align_self": null,
            "border": null,
            "bottom": null,
            "display": null,
            "flex": null,
            "flex_flow": null,
            "grid_area": null,
            "grid_auto_columns": null,
            "grid_auto_flow": null,
            "grid_auto_rows": null,
            "grid_column": null,
            "grid_gap": null,
            "grid_row": null,
            "grid_template_areas": null,
            "grid_template_columns": null,
            "grid_template_rows": null,
            "height": null,
            "justify_content": null,
            "justify_items": null,
            "left": null,
            "margin": null,
            "max_height": null,
            "max_width": null,
            "min_height": null,
            "min_width": null,
            "object_fit": null,
            "object_position": null,
            "order": null,
            "overflow": null,
            "overflow_x": null,
            "overflow_y": null,
            "padding": null,
            "right": null,
            "top": null,
            "visibility": null,
            "width": null
          }
        },
        "10a66c1df01e4c838fd666297a6b67f5": {
          "model_module": "@jupyter-widgets/controls",
          "model_name": "DescriptionStyleModel",
          "model_module_version": "1.5.0",
          "state": {
            "_model_module": "@jupyter-widgets/controls",
            "_model_module_version": "1.5.0",
            "_model_name": "DescriptionStyleModel",
            "_view_count": null,
            "_view_module": "@jupyter-widgets/base",
            "_view_module_version": "1.2.0",
            "_view_name": "StyleView",
            "description_width": ""
          }
        },
        "6ed5f696acdb49608d382cf21ef4798b": {
          "model_module": "@jupyter-widgets/base",
          "model_name": "LayoutModel",
          "model_module_version": "1.2.0",
          "state": {
            "_model_module": "@jupyter-widgets/base",
            "_model_module_version": "1.2.0",
            "_model_name": "LayoutModel",
            "_view_count": null,
            "_view_module": "@jupyter-widgets/base",
            "_view_module_version": "1.2.0",
            "_view_name": "LayoutView",
            "align_content": null,
            "align_items": null,
            "align_self": null,
            "border": null,
            "bottom": null,
            "display": null,
            "flex": null,
            "flex_flow": null,
            "grid_area": null,
            "grid_auto_columns": null,
            "grid_auto_flow": null,
            "grid_auto_rows": null,
            "grid_column": null,
            "grid_gap": null,
            "grid_row": null,
            "grid_template_areas": null,
            "grid_template_columns": null,
            "grid_template_rows": null,
            "height": null,
            "justify_content": null,
            "justify_items": null,
            "left": null,
            "margin": null,
            "max_height": null,
            "max_width": null,
            "min_height": null,
            "min_width": null,
            "object_fit": null,
            "object_position": null,
            "order": null,
            "overflow": null,
            "overflow_x": null,
            "overflow_y": null,
            "padding": null,
            "right": null,
            "top": null,
            "visibility": null,
            "width": null
          }
        },
        "871f630c862e481ea55385afb1ea9e8b": {
          "model_module": "@jupyter-widgets/controls",
          "model_name": "DescriptionStyleModel",
          "model_module_version": "1.5.0",
          "state": {
            "_model_module": "@jupyter-widgets/controls",
            "_model_module_version": "1.5.0",
            "_model_name": "DescriptionStyleModel",
            "_view_count": null,
            "_view_module": "@jupyter-widgets/base",
            "_view_module_version": "1.2.0",
            "_view_name": "StyleView",
            "description_width": ""
          }
        },
        "e4109a3bbcf945118650e96fbe5c3b02": {
          "model_module": "@jupyter-widgets/controls",
          "model_name": "BoundedIntTextModel",
          "model_module_version": "1.5.0",
          "state": {
            "_dom_classes": [],
            "_model_module": "@jupyter-widgets/controls",
            "_model_module_version": "1.5.0",
            "_model_name": "BoundedIntTextModel",
            "_view_count": null,
            "_view_module": "@jupyter-widgets/controls",
            "_view_module_version": "1.5.0",
            "_view_name": "IntTextView",
            "continuous_update": false,
            "description": "Step",
            "description_tooltip": null,
            "disabled": false,
            "layout": "IPY_MODEL_d90464763209463fb57672059ba3f494",
            "max": 1,
            "min": 1,
            "step": 1,
            "style": "IPY_MODEL_ed1bdb8510f645f99923367f60c9f08b",
            "value": 1
          }
        },
        "c3dcb33e0e054d70921def8fdec5abd2": {
          "model_module": "@jupyter-widgets/controls",
          "model_name": "IntTextModel",
          "model_module_version": "1.5.0",
          "state": {
            "_dom_classes": [],
            "_model_module": "@jupyter-widgets/controls",
            "_model_module_version": "1.5.0",
            "_model_name": "IntTextModel",
            "_view_count": null,
            "_view_module": "@jupyter-widgets/controls",
            "_view_module_version": "1.5.0",
            "_view_name": "IntTextView",
            "continuous_update": false,
            "description": "Delay (ms)",
            "description_tooltip": null,
            "disabled": false,
            "layout": "IPY_MODEL_35ee55f7ebe643768332fe5730f5a05e",
            "step": 1,
            "style": "IPY_MODEL_f22d56d7f1554478bde29ba3814848d0",
            "value": 100
          }
        },
        "0d6304fd92bd4acd9e0303bebe3e73d3": {
          "model_module": "@jupyter-widgets/base",
          "model_name": "LayoutModel",
          "model_module_version": "1.2.0",
          "state": {
            "_model_module": "@jupyter-widgets/base",
            "_model_module_version": "1.2.0",
            "_model_name": "LayoutModel",
            "_view_count": null,
            "_view_module": "@jupyter-widgets/base",
            "_view_module_version": "1.2.0",
            "_view_name": "LayoutView",
            "align_content": null,
            "align_items": null,
            "align_self": null,
            "border": null,
            "bottom": null,
            "display": null,
            "flex": null,
            "flex_flow": null,
            "grid_area": null,
            "grid_auto_columns": null,
            "grid_auto_flow": null,
            "grid_auto_rows": null,
            "grid_column": null,
            "grid_gap": null,
            "grid_row": null,
            "grid_template_areas": null,
            "grid_template_columns": null,
            "grid_template_rows": null,
            "height": null,
            "justify_content": null,
            "justify_items": null,
            "left": null,
            "margin": null,
            "max_height": null,
            "max_width": null,
            "min_height": null,
            "min_width": null,
            "object_fit": null,
            "object_position": null,
            "order": null,
            "overflow": null,
            "overflow_x": null,
            "overflow_y": null,
            "padding": null,
            "right": null,
            "top": null,
            "visibility": null,
            "width": null
          }
        },
        "b084214049844454a79105ecf9142f63": {
          "model_module": "@jupyter-widgets/controls",
          "model_name": "IntSliderModel",
          "model_module_version": "1.5.0",
          "state": {
            "_dom_classes": [],
            "_model_module": "@jupyter-widgets/controls",
            "_model_module_version": "1.5.0",
            "_model_name": "IntSliderModel",
            "_view_count": null,
            "_view_module": "@jupyter-widgets/controls",
            "_view_module_version": "1.5.0",
            "_view_name": "IntSliderView",
            "continuous_update": true,
            "description": "Frame",
            "description_tooltip": null,
            "disabled": false,
            "layout": "IPY_MODEL_4724af294d7548b3a51cc60361a0422d",
            "max": 0,
            "min": 0,
            "orientation": "horizontal",
            "readout": true,
            "readout_format": "d",
            "step": 1,
            "style": "IPY_MODEL_506e7f790c054263a6258aed2c7d7df8",
            "value": 0
          }
        },
        "6f9689d19cf545e284abca0c40b4441b": {
          "model_module": "@jupyter-widgets/controls",
          "model_name": "HBoxModel",
          "model_module_version": "1.5.0",
          "state": {
            "_dom_classes": [],
            "_model_module": "@jupyter-widgets/controls",
            "_model_module_version": "1.5.0",
            "_model_name": "HBoxModel",
            "_view_count": null,
            "_view_module": "@jupyter-widgets/controls",
            "_view_module_version": "1.5.0",
            "_view_name": "HBoxView",
            "box_style": "",
            "children": [
              "IPY_MODEL_5a942fd8b4b54c17b74cfb1849ae761c",
              "IPY_MODEL_31d2a1daf9064270b57c5fe688e72809",
              "IPY_MODEL_d469fdbbbc8f42038a504a85a0e43a2a"
            ],
            "layout": "IPY_MODEL_0a539d505dcf440db85fbe1c71b0abe3"
          }
        },
        "dd71e0a79ce645d391e5bb602a6da3d3": {
          "model_module": "@jupyter-widgets/base",
          "model_name": "LayoutModel",
          "model_module_version": "1.2.0",
          "state": {
            "_model_module": "@jupyter-widgets/base",
            "_model_module_version": "1.2.0",
            "_model_name": "LayoutModel",
            "_view_count": null,
            "_view_module": "@jupyter-widgets/base",
            "_view_module_version": "1.2.0",
            "_view_name": "LayoutView",
            "align_content": null,
            "align_items": "center",
            "align_self": null,
            "border": null,
            "bottom": null,
            "display": null,
            "flex": null,
            "flex_flow": null,
            "grid_area": null,
            "grid_auto_columns": null,
            "grid_auto_flow": null,
            "grid_auto_rows": null,
            "grid_column": null,
            "grid_gap": null,
            "grid_row": null,
            "grid_template_areas": null,
            "grid_template_columns": null,
            "grid_template_rows": null,
            "height": null,
            "justify_content": null,
            "justify_items": null,
            "left": null,
            "margin": null,
            "max_height": null,
            "max_width": null,
            "min_height": null,
            "min_width": null,
            "object_fit": null,
            "object_position": null,
            "order": null,
            "overflow": null,
            "overflow_x": null,
            "overflow_y": null,
            "padding": null,
            "right": null,
            "top": null,
            "visibility": null,
            "width": null
          }
        },
        "d90464763209463fb57672059ba3f494": {
          "model_module": "@jupyter-widgets/base",
          "model_name": "LayoutModel",
          "model_module_version": "1.2.0",
          "state": {
            "_model_module": "@jupyter-widgets/base",
            "_model_module_version": "1.2.0",
            "_model_name": "LayoutModel",
            "_view_count": null,
            "_view_module": "@jupyter-widgets/base",
            "_view_module_version": "1.2.0",
            "_view_name": "LayoutView",
            "align_content": null,
            "align_items": null,
            "align_self": null,
            "border": null,
            "bottom": null,
            "display": null,
            "flex": null,
            "flex_flow": null,
            "grid_area": null,
            "grid_auto_columns": null,
            "grid_auto_flow": null,
            "grid_auto_rows": null,
            "grid_column": null,
            "grid_gap": null,
            "grid_row": null,
            "grid_template_areas": null,
            "grid_template_columns": null,
            "grid_template_rows": null,
            "height": null,
            "justify_content": null,
            "justify_items": null,
            "left": null,
            "margin": null,
            "max_height": null,
            "max_width": "150px",
            "min_height": null,
            "min_width": null,
            "object_fit": null,
            "object_position": null,
            "order": null,
            "overflow": null,
            "overflow_x": null,
            "overflow_y": null,
            "padding": null,
            "right": null,
            "top": null,
            "visibility": null,
            "width": null
          }
        },
        "ed1bdb8510f645f99923367f60c9f08b": {
          "model_module": "@jupyter-widgets/controls",
          "model_name": "DescriptionStyleModel",
          "model_module_version": "1.5.0",
          "state": {
            "_model_module": "@jupyter-widgets/controls",
            "_model_module_version": "1.5.0",
            "_model_name": "DescriptionStyleModel",
            "_view_count": null,
            "_view_module": "@jupyter-widgets/base",
            "_view_module_version": "1.2.0",
            "_view_name": "StyleView",
            "description_width": ""
          }
        },
        "35ee55f7ebe643768332fe5730f5a05e": {
          "model_module": "@jupyter-widgets/base",
          "model_name": "LayoutModel",
          "model_module_version": "1.2.0",
          "state": {
            "_model_module": "@jupyter-widgets/base",
            "_model_module_version": "1.2.0",
            "_model_name": "LayoutModel",
            "_view_count": null,
            "_view_module": "@jupyter-widgets/base",
            "_view_module_version": "1.2.0",
            "_view_name": "LayoutView",
            "align_content": null,
            "align_items": null,
            "align_self": null,
            "border": null,
            "bottom": null,
            "display": null,
            "flex": null,
            "flex_flow": null,
            "grid_area": null,
            "grid_auto_columns": null,
            "grid_auto_flow": null,
            "grid_auto_rows": null,
            "grid_column": null,
            "grid_gap": null,
            "grid_row": null,
            "grid_template_areas": null,
            "grid_template_columns": null,
            "grid_template_rows": null,
            "height": null,
            "justify_content": null,
            "justify_items": null,
            "left": null,
            "margin": null,
            "max_height": null,
            "max_width": "150px",
            "min_height": null,
            "min_width": null,
            "object_fit": null,
            "object_position": null,
            "order": null,
            "overflow": null,
            "overflow_x": null,
            "overflow_y": null,
            "padding": null,
            "right": null,
            "top": null,
            "visibility": null,
            "width": null
          }
        },
        "f22d56d7f1554478bde29ba3814848d0": {
          "model_module": "@jupyter-widgets/controls",
          "model_name": "DescriptionStyleModel",
          "model_module_version": "1.5.0",
          "state": {
            "_model_module": "@jupyter-widgets/controls",
            "_model_module_version": "1.5.0",
            "_model_name": "DescriptionStyleModel",
            "_view_count": null,
            "_view_module": "@jupyter-widgets/base",
            "_view_module_version": "1.2.0",
            "_view_name": "StyleView",
            "description_width": ""
          }
        },
        "4724af294d7548b3a51cc60361a0422d": {
          "model_module": "@jupyter-widgets/base",
          "model_name": "LayoutModel",
          "model_module_version": "1.2.0",
          "state": {
            "_model_module": "@jupyter-widgets/base",
            "_model_module_version": "1.2.0",
            "_model_name": "LayoutModel",
            "_view_count": null,
            "_view_module": "@jupyter-widgets/base",
            "_view_module_version": "1.2.0",
            "_view_name": "LayoutView",
            "align_content": null,
            "align_items": null,
            "align_self": null,
            "border": null,
            "bottom": null,
            "display": null,
            "flex": null,
            "flex_flow": null,
            "grid_area": null,
            "grid_auto_columns": null,
            "grid_auto_flow": null,
            "grid_auto_rows": null,
            "grid_column": null,
            "grid_gap": null,
            "grid_row": null,
            "grid_template_areas": null,
            "grid_template_columns": null,
            "grid_template_rows": null,
            "height": null,
            "justify_content": null,
            "justify_items": null,
            "left": null,
            "margin": null,
            "max_height": null,
            "max_width": null,
            "min_height": null,
            "min_width": null,
            "object_fit": null,
            "object_position": null,
            "order": null,
            "overflow": null,
            "overflow_x": null,
            "overflow_y": null,
            "padding": null,
            "right": null,
            "top": null,
            "visibility": null,
            "width": "600px"
          }
        },
        "506e7f790c054263a6258aed2c7d7df8": {
          "model_module": "@jupyter-widgets/controls",
          "model_name": "SliderStyleModel",
          "model_module_version": "1.5.0",
          "state": {
            "_model_module": "@jupyter-widgets/controls",
            "_model_module_version": "1.5.0",
            "_model_name": "SliderStyleModel",
            "_view_count": null,
            "_view_module": "@jupyter-widgets/base",
            "_view_module_version": "1.2.0",
            "_view_name": "StyleView",
            "description_width": "",
            "handle_color": null
          }
        },
        "5a942fd8b4b54c17b74cfb1849ae761c": {
          "model_module": "@jupyter-widgets/controls",
          "model_name": "ButtonModel",
          "model_module_version": "1.5.0",
          "state": {
            "_dom_classes": [],
            "_model_module": "@jupyter-widgets/controls",
            "_model_module_version": "1.5.0",
            "_model_name": "ButtonModel",
            "_view_count": null,
            "_view_module": "@jupyter-widgets/controls",
            "_view_module_version": "1.5.0",
            "_view_name": "ButtonView",
            "button_style": "",
            "description": "◀◀",
            "disabled": false,
            "icon": "",
            "layout": "IPY_MODEL_df8d8d3241994111bec825a744eced78",
            "style": "IPY_MODEL_7f29f003f53049cfa9325c535983e7cb",
            "tooltip": ""
          }
        },
        "31d2a1daf9064270b57c5fe688e72809": {
          "model_module": "@jupyter-widgets/controls",
          "model_name": "PlayModel",
          "model_module_version": "1.5.0",
          "state": {
            "_dom_classes": [],
            "_model_module": "@jupyter-widgets/controls",
            "_model_module_version": "1.5.0",
            "_model_name": "PlayModel",
            "_playing": false,
            "_repeat": false,
            "_view_count": null,
            "_view_module": "@jupyter-widgets/controls",
            "_view_module_version": "1.5.0",
            "_view_name": "PlayView",
            "description": "Animate",
            "description_tooltip": null,
            "disabled": false,
            "interval": 100,
            "layout": "IPY_MODEL_2ffcda1dc64045348a30faeebc3ecf7b",
            "max": 0,
            "min": 0,
            "show_repeat": true,
            "step": 1,
            "style": "IPY_MODEL_3b246c0450aa470a96a9fb46efcc7319",
            "value": 0
          }
        },
        "d469fdbbbc8f42038a504a85a0e43a2a": {
          "model_module": "@jupyter-widgets/controls",
          "model_name": "ButtonModel",
          "model_module_version": "1.5.0",
          "state": {
            "_dom_classes": [],
            "_model_module": "@jupyter-widgets/controls",
            "_model_module_version": "1.5.0",
            "_model_name": "ButtonModel",
            "_view_count": null,
            "_view_module": "@jupyter-widgets/controls",
            "_view_module_version": "1.5.0",
            "_view_name": "ButtonView",
            "button_style": "",
            "description": "▶▶",
            "disabled": false,
            "icon": "",
            "layout": "IPY_MODEL_19d5f17d257f47498dee135b3f29f36b",
            "style": "IPY_MODEL_90d91339162246de8a439a56ef05184e",
            "tooltip": ""
          }
        },
        "0a539d505dcf440db85fbe1c71b0abe3": {
          "model_module": "@jupyter-widgets/base",
          "model_name": "LayoutModel",
          "model_module_version": "1.2.0",
          "state": {
            "_model_module": "@jupyter-widgets/base",
            "_model_module_version": "1.2.0",
            "_model_name": "LayoutModel",
            "_view_count": null,
            "_view_module": "@jupyter-widgets/base",
            "_view_module_version": "1.2.0",
            "_view_name": "LayoutView",
            "align_content": null,
            "align_items": null,
            "align_self": null,
            "border": null,
            "bottom": null,
            "display": null,
            "flex": null,
            "flex_flow": null,
            "grid_area": null,
            "grid_auto_columns": null,
            "grid_auto_flow": null,
            "grid_auto_rows": null,
            "grid_column": null,
            "grid_gap": null,
            "grid_row": null,
            "grid_template_areas": null,
            "grid_template_columns": null,
            "grid_template_rows": null,
            "height": null,
            "justify_content": null,
            "justify_items": null,
            "left": null,
            "margin": null,
            "max_height": null,
            "max_width": null,
            "min_height": null,
            "min_width": null,
            "object_fit": null,
            "object_position": null,
            "order": null,
            "overflow": null,
            "overflow_x": null,
            "overflow_y": null,
            "padding": null,
            "right": null,
            "top": null,
            "visibility": null,
            "width": null
          }
        },
        "df8d8d3241994111bec825a744eced78": {
          "model_module": "@jupyter-widgets/base",
          "model_name": "LayoutModel",
          "model_module_version": "1.2.0",
          "state": {
            "_model_module": "@jupyter-widgets/base",
            "_model_module_version": "1.2.0",
            "_model_name": "LayoutModel",
            "_view_count": null,
            "_view_module": "@jupyter-widgets/base",
            "_view_module_version": "1.2.0",
            "_view_name": "LayoutView",
            "align_content": null,
            "align_items": null,
            "align_self": null,
            "border": null,
            "bottom": null,
            "display": null,
            "flex": null,
            "flex_flow": null,
            "grid_area": null,
            "grid_auto_columns": null,
            "grid_auto_flow": null,
            "grid_auto_rows": null,
            "grid_column": null,
            "grid_gap": null,
            "grid_row": null,
            "grid_template_areas": null,
            "grid_template_columns": null,
            "grid_template_rows": null,
            "height": null,
            "justify_content": null,
            "justify_items": null,
            "left": null,
            "margin": null,
            "max_height": null,
            "max_width": null,
            "min_height": null,
            "min_width": null,
            "object_fit": null,
            "object_position": null,
            "order": null,
            "overflow": null,
            "overflow_x": null,
            "overflow_y": null,
            "padding": null,
            "right": null,
            "top": null,
            "visibility": null,
            "width": "auto"
          }
        },
        "7f29f003f53049cfa9325c535983e7cb": {
          "model_module": "@jupyter-widgets/controls",
          "model_name": "ButtonStyleModel",
          "model_module_version": "1.5.0",
          "state": {
            "_model_module": "@jupyter-widgets/controls",
            "_model_module_version": "1.5.0",
            "_model_name": "ButtonStyleModel",
            "_view_count": null,
            "_view_module": "@jupyter-widgets/base",
            "_view_module_version": "1.2.0",
            "_view_name": "StyleView",
            "button_color": null,
            "font_weight": ""
          }
        },
        "2ffcda1dc64045348a30faeebc3ecf7b": {
          "model_module": "@jupyter-widgets/base",
          "model_name": "LayoutModel",
          "model_module_version": "1.2.0",
          "state": {
            "_model_module": "@jupyter-widgets/base",
            "_model_module_version": "1.2.0",
            "_model_name": "LayoutModel",
            "_view_count": null,
            "_view_module": "@jupyter-widgets/base",
            "_view_module_version": "1.2.0",
            "_view_name": "LayoutView",
            "align_content": null,
            "align_items": null,
            "align_self": null,
            "border": null,
            "bottom": null,
            "display": null,
            "flex": null,
            "flex_flow": null,
            "grid_area": null,
            "grid_auto_columns": null,
            "grid_auto_flow": null,
            "grid_auto_rows": null,
            "grid_column": null,
            "grid_gap": null,
            "grid_row": null,
            "grid_template_areas": null,
            "grid_template_columns": null,
            "grid_template_rows": null,
            "height": null,
            "justify_content": null,
            "justify_items": null,
            "left": null,
            "margin": null,
            "max_height": null,
            "max_width": null,
            "min_height": null,
            "min_width": null,
            "object_fit": null,
            "object_position": null,
            "order": null,
            "overflow": null,
            "overflow_x": null,
            "overflow_y": null,
            "padding": null,
            "right": null,
            "top": null,
            "visibility": null,
            "width": null
          }
        },
        "3b246c0450aa470a96a9fb46efcc7319": {
          "model_module": "@jupyter-widgets/controls",
          "model_name": "DescriptionStyleModel",
          "model_module_version": "1.5.0",
          "state": {
            "_model_module": "@jupyter-widgets/controls",
            "_model_module_version": "1.5.0",
            "_model_name": "DescriptionStyleModel",
            "_view_count": null,
            "_view_module": "@jupyter-widgets/base",
            "_view_module_version": "1.2.0",
            "_view_name": "StyleView",
            "description_width": ""
          }
        },
        "19d5f17d257f47498dee135b3f29f36b": {
          "model_module": "@jupyter-widgets/base",
          "model_name": "LayoutModel",
          "model_module_version": "1.2.0",
          "state": {
            "_model_module": "@jupyter-widgets/base",
            "_model_module_version": "1.2.0",
            "_model_name": "LayoutModel",
            "_view_count": null,
            "_view_module": "@jupyter-widgets/base",
            "_view_module_version": "1.2.0",
            "_view_name": "LayoutView",
            "align_content": null,
            "align_items": null,
            "align_self": null,
            "border": null,
            "bottom": null,
            "display": null,
            "flex": null,
            "flex_flow": null,
            "grid_area": null,
            "grid_auto_columns": null,
            "grid_auto_flow": null,
            "grid_auto_rows": null,
            "grid_column": null,
            "grid_gap": null,
            "grid_row": null,
            "grid_template_areas": null,
            "grid_template_columns": null,
            "grid_template_rows": null,
            "height": null,
            "justify_content": null,
            "justify_items": null,
            "left": null,
            "margin": null,
            "max_height": null,
            "max_width": null,
            "min_height": null,
            "min_width": null,
            "object_fit": null,
            "object_position": null,
            "order": null,
            "overflow": null,
            "overflow_x": null,
            "overflow_y": null,
            "padding": null,
            "right": null,
            "top": null,
            "visibility": null,
            "width": "auto"
          }
        },
        "90d91339162246de8a439a56ef05184e": {
          "model_module": "@jupyter-widgets/controls",
          "model_name": "ButtonStyleModel",
          "model_module_version": "1.5.0",
          "state": {
            "_model_module": "@jupyter-widgets/controls",
            "_model_module_version": "1.5.0",
            "_model_name": "ButtonStyleModel",
            "_view_count": null,
            "_view_module": "@jupyter-widgets/base",
            "_view_module_version": "1.2.0",
            "_view_name": "StyleView",
            "button_color": null,
            "font_weight": ""
          }
        },
        "dca7578d61fd4b03bc95c3c4d4e47334": {
          "model_module": "@jupyter-widgets/base",
          "model_name": "LayoutModel",
          "model_module_version": "1.2.0",
          "state": {
            "_model_module": "@jupyter-widgets/base",
            "_model_module_version": "1.2.0",
            "_model_name": "LayoutModel",
            "_view_count": null,
            "_view_module": "@jupyter-widgets/base",
            "_view_module_version": "1.2.0",
            "_view_name": "LayoutView",
            "align_content": null,
            "align_items": null,
            "align_self": null,
            "border": "1px solid black",
            "bottom": null,
            "display": null,
            "flex": null,
            "flex_flow": null,
            "grid_area": null,
            "grid_auto_columns": null,
            "grid_auto_flow": null,
            "grid_auto_rows": null,
            "grid_column": null,
            "grid_gap": null,
            "grid_row": null,
            "grid_template_areas": null,
            "grid_template_columns": null,
            "grid_template_rows": null,
            "height": "402px",
            "justify_content": null,
            "justify_items": null,
            "left": null,
            "margin": null,
            "max_height": null,
            "max_width": null,
            "min_height": null,
            "min_width": null,
            "object_fit": null,
            "object_position": null,
            "order": null,
            "overflow": null,
            "overflow_x": null,
            "overflow_y": null,
            "padding": null,
            "right": null,
            "top": null,
            "visibility": null,
            "width": "602px"
          }
        },
        "7bf93a88a538411f9c6c3e9df4bb1f30": {
          "model_module": "@jupyter-widgets/controls",
          "model_name": "VBoxModel",
          "model_module_version": "1.5.0",
          "state": {
            "_dom_classes": [],
            "_model_module": "@jupyter-widgets/controls",
            "_model_module_version": "1.5.0",
            "_model_name": "VBoxModel",
            "_view_count": null,
            "_view_module": "@jupyter-widgets/controls",
            "_view_module_version": "1.5.0",
            "_view_name": "VBoxView",
            "box_style": "",
            "children": [
              "IPY_MODEL_b9e1c748d26340a887076535cbcb007f",
              "IPY_MODEL_668f4dd2c3dc44b9abcae2d096c281a3",
              "IPY_MODEL_2498befa80314135bd5a3edd0117db1b"
            ],
            "layout": "IPY_MODEL_1aff0c4ab9734ead95b06ab8984e0e2a"
          }
        },
        "b9e1c748d26340a887076535cbcb007f": {
          "model_module": "@jupyter-widgets/controls",
          "model_name": "HBoxModel",
          "model_module_version": "1.5.0",
          "state": {
            "_dom_classes": [],
            "_model_module": "@jupyter-widgets/controls",
            "_model_module_version": "1.5.0",
            "_model_name": "HBoxModel",
            "_view_count": null,
            "_view_module": "@jupyter-widgets/controls",
            "_view_module_version": "1.5.0",
            "_view_name": "HBoxView",
            "box_style": "",
            "children": [
              "IPY_MODEL_c9de7e91008b499687c9a180aee7d945",
              "IPY_MODEL_d995ed48abb8431fb8a0ffe02549f938"
            ],
            "layout": "IPY_MODEL_090348f512694316b66f07afbe669522"
          }
        },
        "668f4dd2c3dc44b9abcae2d096c281a3": {
          "model_module": "@jupyter-widgets/output",
          "model_name": "OutputModel",
          "model_module_version": "1.0.0",
          "state": {
            "_dom_classes": [],
            "_model_module": "@jupyter-widgets/output",
            "_model_module_version": "1.0.0",
            "_model_name": "OutputModel",
            "_view_count": null,
            "_view_module": "@jupyter-widgets/output",
            "_view_module_version": "1.0.0",
            "_view_name": "OutputView",
            "layout": "IPY_MODEL_7433ea5711fa49b4979f080ec9cc2929",
            "msg_id": "",
            "outputs": [
              {
                "output_type": "display_data",
                "data": {
                  "application/3dmoljs_load.v0": "<div id=\"3dmolviewer_17231309349846315\"  style=\"position: relative; width: 600px; height: 400px;\">\n        <p id=\"3dmolwarning_17231309349846315\" style=\"background-color:#ffcccc;color:black\">3Dmol.js failed to load for some reason.  Please check your browser console for error messages.<br></p>\n        </div>\n<script>\n\nvar loadScriptAsync = function(uri){\n  return new Promise((resolve, reject) => {\n    //this is to ignore the existence of requirejs amd\n    var savedexports, savedmodule;\n    if (typeof exports !== 'undefined') savedexports = exports;\n    else exports = {}\n    if (typeof module !== 'undefined') savedmodule = module;\n    else module = {}\n\n    var tag = document.createElement('script');\n    tag.src = uri;\n    tag.async = true;\n    tag.onload = () => {\n        exports = savedexports;\n        module = savedmodule;\n        resolve();\n    };\n  var firstScriptTag = document.getElementsByTagName('script')[0];\n  firstScriptTag.parentNode.insertBefore(tag, firstScriptTag);\n});\n};\n\nif(typeof $3Dmolpromise === 'undefined') {\n$3Dmolpromise = null;\n  $3Dmolpromise = loadScriptAsync('https://cdnjs.cloudflare.com/ajax/libs/3Dmol/2.3.0/3Dmol-min.js');\n}\n\nvar viewer_17231309349846315 = null;\nvar warn = document.getElementById(\"3dmolwarning_17231309349846315\");\nif(warn) {\n    warn.parentNode.removeChild(warn);\n}\n$3Dmolpromise.then(function() {\nviewer_17231309349846315 = $3Dmol.createViewer(document.getElementById(\"3dmolviewer_17231309349846315\"),{backgroundColor:\"white\"});\nviewer_17231309349846315.zoomTo();\n\tviewer_17231309349846315.addModelsAsFrames(\"CRYST1    7.840    7.840    7.840  90.00  90.00  90.00 P 1\\nMODEL     1\\nATOM      0   Pt MOL     1       0.000   0.000   0.000  0.00  0.00          Pt\\nATOM      1   Pt MOL     1       0.000   0.000   3.920  0.00  0.00          Pt\\nATOM      2   Pt MOL     1       0.000   3.920   0.000  0.00  0.00          Pt\\nATOM      3   Pt MOL     1       0.000   3.920   3.920  0.00  0.00          Pt\\nATOM      4   Pt MOL     1       3.920   0.000   0.000  0.00  0.00          Pt\\nATOM      5   Pt MOL     1       3.920   0.000   3.920  0.00  0.00          Pt\\nATOM      6   Pt MOL     1       3.920   3.920   0.000  0.00  0.00          Pt\\nATOM      7   Pt MOL     1       3.920   3.920   3.920  0.00  0.00          Pt\\nATOM      8   Pt MOL     1       0.000   1.960   1.960  0.00  0.00          Pt\\nATOM      9   Pt MOL     1       0.000   1.960   5.880  0.00  0.00          Pt\\nATOM     10   Pt MOL     1       0.000   5.880   1.960  0.00  0.00          Pt\\nATOM     11   Pt MOL     1       0.000   5.880   5.880  0.00  0.00          Pt\\nATOM     12   Pt MOL     1       3.920   1.960   1.960  0.00  0.00          Pt\\nATOM     13   Pt MOL     1       3.920   1.960   5.880  0.00  0.00          Pt\\nATOM     14   Pt MOL     1       3.920   5.880   1.960  0.00  0.00          Pt\\nATOM     15   Pt MOL     1       3.920   5.880   5.880  0.00  0.00          Pt\\nATOM     16   Pt MOL     1       1.960   0.000   1.960  0.00  0.00          Pt\\nATOM     17   Pt MOL     1       1.960   0.000   5.880  0.00  0.00          Pt\\nATOM     18   Pt MOL     1       1.960   3.920   1.960  0.00  0.00          Pt\\nATOM     19   Pt MOL     1       1.960   3.920   5.880  0.00  0.00          Pt\\nATOM     20   Pt MOL     1       5.880   0.000   1.960  0.00  0.00          Pt\\nATOM     21   Pt MOL     1       5.880   0.000   5.880  0.00  0.00          Pt\\nATOM     22   Pt MOL     1       5.880   3.920   1.960  0.00  0.00          Pt\\nATOM     23   Pt MOL     1       5.880   3.920   5.880  0.00  0.00          Pt\\nATOM     24   Pt MOL     1       1.960   1.960   0.000  0.00  0.00          Pt\\nATOM     25   Pt MOL     1       1.960   1.960   3.920  0.00  0.00          Pt\\nATOM     26   Pt MOL     1       1.960   5.880   0.000  0.00  0.00          Pt\\nATOM     27   Pt MOL     1       1.960   5.880   3.920  0.00  0.00          Pt\\nATOM     28   Pt MOL     1       5.880   1.960   0.000  0.00  0.00          Pt\\nATOM     29   Pt MOL     1       5.880   1.960   3.920  0.00  0.00          Pt\\nATOM     30   Pt MOL     1       5.880   5.880   0.000  0.00  0.00          Pt\\nATOM     31   Pt MOL     1       5.880   5.880   3.920  0.00  0.00          Pt\\nENDMOL\\n\",\"pdb\");\n\t\tviewer_17231309349846315.getModel(-1).setStyle({\"model\": -1},{\"sphere\": {\"scale\": 0.4, \"color\": \"0xda70d6\"}, \"stick\": {\"radius\": 0.1, \"color\": \"0xda70d6\"}});\n\t\tviewer_17231309349846315.getModel(-1).setStyle({\"elem\": \"H\", \"model\": -1},{\"sphere\": {\"scale\": 0.4, \"color\": \"white\"}, \"stick\": {\"radius\": 0.1, \"color\": \"white\"}});\n\t\tviewer_17231309349846315.getModel(-1).setStyle({\"elem\": \"C\", \"model\": -1},{\"sphere\": {\"scale\": 0.4, \"color\": \"black\"}, \"stick\": {\"radius\": 0.1, \"color\": \"black\"}});\n\t\tviewer_17231309349846315.getModel(-1).setStyle({\"elem\": \"N\", \"model\": -1},{\"sphere\": {\"scale\": 0.4, \"color\": \"blue\"}, \"stick\": {\"radius\": 0.1, \"color\": \"blue\"}});\n\t\tviewer_17231309349846315.getModel(-1).setStyle({\"elem\": \"O\", \"model\": -1},{\"sphere\": {\"scale\": 0.4, \"color\": \"red\"}, \"stick\": {\"radius\": 0.1, \"color\": \"red\"}});\n\t\tviewer_17231309349846315.getModel(-1).setStyle({\"elem\": \"F\", \"model\": -1},{\"sphere\": {\"scale\": 0.4, \"color\": \"green\"}, \"stick\": {\"radius\": 0.1, \"color\": \"green\"}});\n\t\tviewer_17231309349846315.getModel(-1).setStyle({\"elem\": \"Cl\", \"model\": -1},{\"sphere\": {\"scale\": 0.4, \"color\": \"green\"}, \"stick\": {\"radius\": 0.1, \"color\": \"green\"}});\n\t\tviewer_17231309349846315.getModel(-1).setStyle({\"elem\": \"Br\", \"model\": -1},{\"sphere\": {\"scale\": 0.4, \"color\": \"0x8b0000\"}, \"stick\": {\"radius\": 0.1, \"color\": \"0x8b0000\"}});\n\t\tviewer_17231309349846315.getModel(-1).setStyle({\"elem\": \"I\", \"model\": -1},{\"sphere\": {\"scale\": 0.4, \"color\": \"0x9400d3\"}, \"stick\": {\"radius\": 0.1, \"color\": \"0x9400d3\"}});\n\t\tviewer_17231309349846315.getModel(-1).setStyle({\"elem\": \"He\", \"model\": -1},{\"sphere\": {\"scale\": 0.4, \"color\": \"cyan\"}, \"stick\": {\"radius\": 0.1, \"color\": \"cyan\"}});\n\t\tviewer_17231309349846315.getModel(-1).setStyle({\"elem\": \"Ne\", \"model\": -1},{\"sphere\": {\"scale\": 0.4, \"color\": \"cyan\"}, \"stick\": {\"radius\": 0.1, \"color\": \"cyan\"}});\n\t\tviewer_17231309349846315.getModel(-1).setStyle({\"elem\": \"Ar\", \"model\": -1},{\"sphere\": {\"scale\": 0.4, \"color\": \"cyan\"}, \"stick\": {\"radius\": 0.1, \"color\": \"cyan\"}});\n\t\tviewer_17231309349846315.getModel(-1).setStyle({\"elem\": \"Ce\", \"model\": -1},{\"sphere\": {\"scale\": 0.4, \"color\": \"cyan\"}, \"stick\": {\"radius\": 0.1, \"color\": \"cyan\"}});\n\t\tviewer_17231309349846315.getModel(-1).setStyle({\"elem\": \"Kr\", \"model\": -1},{\"sphere\": {\"scale\": 0.4, \"color\": \"cyan\"}, \"stick\": {\"radius\": 0.1, \"color\": \"cyan\"}});\n\t\tviewer_17231309349846315.getModel(-1).setStyle({\"elem\": \"P\", \"model\": -1},{\"sphere\": {\"scale\": 0.4, \"color\": \"orange\"}, \"stick\": {\"radius\": 0.1, \"color\": \"orange\"}});\n\t\tviewer_17231309349846315.getModel(-1).setStyle({\"elem\": \"S\", \"model\": -1},{\"sphere\": {\"scale\": 0.4, \"color\": \"yellow\"}, \"stick\": {\"radius\": 0.1, \"color\": \"yellow\"}});\n\t\tviewer_17231309349846315.getModel(-1).setStyle({\"elem\": \"B\", \"model\": -1},{\"sphere\": {\"scale\": 0.4, \"color\": \"0xffa07a\"}, \"stick\": {\"radius\": 0.1, \"color\": \"0xffa07a\"}});\n\t\tviewer_17231309349846315.getModel(-1).setStyle({\"elem\": \"Li\", \"model\": -1},{\"sphere\": {\"scale\": 0.4, \"color\": \"0x32cd32\"}, \"stick\": {\"radius\": 0.1, \"color\": \"0x32cd32\"}});\n\t\tviewer_17231309349846315.getModel(-1).setStyle({\"elem\": \"Na\", \"model\": -1},{\"sphere\": {\"scale\": 0.4, \"color\": \"violet\"}, \"stick\": {\"radius\": 0.1, \"color\": \"violet\"}});\n\t\tviewer_17231309349846315.getModel(-1).setStyle({\"elem\": \"K\", \"model\": -1},{\"sphere\": {\"scale\": 0.4, \"color\": \"violet\"}, \"stick\": {\"radius\": 0.1, \"color\": \"violet\"}});\n\t\tviewer_17231309349846315.getModel(-1).setStyle({\"elem\": \"Rb\", \"model\": -1},{\"sphere\": {\"scale\": 0.4, \"color\": \"violet\"}, \"stick\": {\"radius\": 0.1, \"color\": \"violet\"}});\n\t\tviewer_17231309349846315.getModel(-1).setStyle({\"elem\": \"Cs\", \"model\": -1},{\"sphere\": {\"scale\": 0.4, \"color\": \"violet\"}, \"stick\": {\"radius\": 0.1, \"color\": \"violet\"}});\n\t\tviewer_17231309349846315.getModel(-1).setStyle({\"elem\": \"Fr\", \"model\": -1},{\"sphere\": {\"scale\": 0.4, \"color\": \"violet\"}, \"stick\": {\"radius\": 0.1, \"color\": \"violet\"}});\n\t\tviewer_17231309349846315.getModel(-1).setStyle({\"elem\": \"Be\", \"model\": -1},{\"sphere\": {\"scale\": 0.4, \"color\": \"0x2e8b57\"}, \"stick\": {\"radius\": 0.1, \"color\": \"0x2e8b57\"}});\n\t\tviewer_17231309349846315.getModel(-1).setStyle({\"elem\": \"Mg\", \"model\": -1},{\"sphere\": {\"scale\": 0.4, \"color\": \"0x2e8b57\"}, \"stick\": {\"radius\": 0.1, \"color\": \"0x2e8b57\"}});\n\t\tviewer_17231309349846315.getModel(-1).setStyle({\"elem\": \"Ca\", \"model\": -1},{\"sphere\": {\"scale\": 0.4, \"color\": \"0x2e8b57\"}, \"stick\": {\"radius\": 0.1, \"color\": \"0x2e8b57\"}});\n\t\tviewer_17231309349846315.getModel(-1).setStyle({\"elem\": \"Sr\", \"model\": -1},{\"sphere\": {\"scale\": 0.4, \"color\": \"0x2e8b57\"}, \"stick\": {\"radius\": 0.1, \"color\": \"0x2e8b57\"}});\n\t\tviewer_17231309349846315.getModel(-1).setStyle({\"elem\": \"Ba\", \"model\": -1},{\"sphere\": {\"scale\": 0.4, \"color\": \"0x2e8b57\"}, \"stick\": {\"radius\": 0.1, \"color\": \"0x2e8b57\"}});\n\t\tviewer_17231309349846315.getModel(-1).setStyle({\"elem\": \"Ra\", \"model\": -1},{\"sphere\": {\"scale\": 0.4, \"color\": \"0x2e8b57\"}, \"stick\": {\"radius\": 0.1, \"color\": \"0x2e8b57\"}});\n\t\tviewer_17231309349846315.getModel(-1).setStyle({\"elem\": \"Ti\", \"model\": -1},{\"sphere\": {\"scale\": 0.4, \"color\": \"0x48d1cc\"}, \"stick\": {\"radius\": 0.1, \"color\": \"0x48d1cc\"}});\n\t\tviewer_17231309349846315.getModel(-1).setStyle({\"elem\": \"Fe\", \"model\": -1},{\"sphere\": {\"scale\": 0.4, \"color\": \"0xff8c00\"}, \"stick\": {\"radius\": 0.1, \"color\": \"0xff8c00\"}});\n\t\tviewer_17231309349846315.getModel(-1).setStyle({\"elem\": \"Sc\", \"model\": -1},{\"sphere\": {\"scale\": 0.4, \"color\": \"0x6b8e23\"}, \"stick\": {\"radius\": 0.1, \"color\": \"0x6b8e23\"}});\n\t\tviewer_17231309349846315.getModel(-1).setStyle({\"elem\": \"V\", \"model\": -1},{\"sphere\": {\"scale\": 0.4, \"color\": \"0xC71585\"}, \"stick\": {\"radius\": 0.1, \"color\": \"0xC71585\"}});\n\t\tviewer_17231309349846315.getModel(-1).setStyle({\"elem\": \"Cr\", \"model\": -1},{\"sphere\": {\"scale\": 0.4, \"color\": \"0x87cefa\"}, \"stick\": {\"radius\": 0.1, \"color\": \"0x87cefa\"}});\n\t\tviewer_17231309349846315.getModel(-1).setStyle({\"elem\": \"Mn\", \"model\": -1},{\"sphere\": {\"scale\": 0.4, \"color\": \"0x8b008b\"}, \"stick\": {\"radius\": 0.1, \"color\": \"0x8b008b\"}});\n\t\tviewer_17231309349846315.getModel(-1).setStyle({\"elem\": \"Co\", \"model\": -1},{\"sphere\": {\"scale\": 0.4, \"color\": \"0x00008b\"}, \"stick\": {\"radius\": 0.1, \"color\": \"0x00008b\"}});\n\t\tviewer_17231309349846315.getModel(-1).setStyle({\"elem\": \"Ni\", \"model\": -1},{\"sphere\": {\"scale\": 0.4, \"color\": \"blue\"}, \"stick\": {\"radius\": 0.1, \"color\": \"blue\"}});\n\t\tviewer_17231309349846315.getModel(-1).setStyle({\"elem\": \"Cu\", \"model\": -1},{\"sphere\": {\"scale\": 0.4, \"color\": \"0x8b0000\"}, \"stick\": {\"radius\": 0.1, \"color\": \"0x8b0000\"}});\n\t\tviewer_17231309349846315.getModel(-1).setStyle({\"elem\": \"Zn\", \"model\": -1},{\"sphere\": {\"scale\": 0.4, \"color\": \"0xadd8e6\"}, \"stick\": {\"radius\": 0.1, \"color\": \"0xadd8e6\"}});\n\t\tviewer_17231309349846315.getModel(-1).setStyle({\"elem\": \"Pt\", \"model\": -1},{\"sphere\": {\"scale\": 0.4, \"color\": \"cyan\"}, \"stick\": {\"radius\": 0.1, \"color\": \"cyan\"}});\n\t\tviewer_17231309349846315.getModel(-1).setStyle({\"elem\": \"Ir\", \"model\": -1},{\"sphere\": {\"scale\": 0.4, \"color\": \"violet\"}, \"stick\": {\"radius\": 0.1, \"color\": \"violet\"}});\n\t\tviewer_17231309349846315.getModel(-1).setFrame(-1);\n\tviewer_17231309349846315.addUnitCell({\"model\": 0},{\"box\": {\"linewidth\": 1.0, \"color\": \"black\"}, \"astyle\": {\"hidden\": true}, \"bstyle\": {\"hidden\": true}, \"cstyle\": {\"hidden\": true}});\n\tviewer_17231309349846315.zoomTo();\n\tviewer_17231309349846315.setHoverable({},true,\"function(atom, viewer, event, container) {\\n                 if(!atom.label) {\\n                   atom.label = viewer.addLabel(\\n                     atom.serial + \\\" \\\" + atom.atom,\\n                     {position: atom,\\n                      backgroundColor: 'mintcream',\\n                      fontColor:'black'});\\n                  }\\n                }\",\"function(atom, viewer) {\\n                 if(atom.label) {\\n                   viewer.removeLabel(atom.label);\\n                   delete atom.label;\\n                 }\\n               }\");\nviewer_17231309349846315.render();\n});\n</script>",
                  "text/html": "<div id=\"3dmolviewer_17231309349846315\"  style=\"position: relative; width: 600px; height: 400px;\">\n        <p id=\"3dmolwarning_17231309349846315\" style=\"background-color:#ffcccc;color:black\">3Dmol.js failed to load for some reason.  Please check your browser console for error messages.<br></p>\n        </div>\n<script>\n\nvar loadScriptAsync = function(uri){\n  return new Promise((resolve, reject) => {\n    //this is to ignore the existence of requirejs amd\n    var savedexports, savedmodule;\n    if (typeof exports !== 'undefined') savedexports = exports;\n    else exports = {}\n    if (typeof module !== 'undefined') savedmodule = module;\n    else module = {}\n\n    var tag = document.createElement('script');\n    tag.src = uri;\n    tag.async = true;\n    tag.onload = () => {\n        exports = savedexports;\n        module = savedmodule;\n        resolve();\n    };\n  var firstScriptTag = document.getElementsByTagName('script')[0];\n  firstScriptTag.parentNode.insertBefore(tag, firstScriptTag);\n});\n};\n\nif(typeof $3Dmolpromise === 'undefined') {\n$3Dmolpromise = null;\n  $3Dmolpromise = loadScriptAsync('https://cdnjs.cloudflare.com/ajax/libs/3Dmol/2.3.0/3Dmol-min.js');\n}\n\nvar viewer_17231309349846315 = null;\nvar warn = document.getElementById(\"3dmolwarning_17231309349846315\");\nif(warn) {\n    warn.parentNode.removeChild(warn);\n}\n$3Dmolpromise.then(function() {\nviewer_17231309349846315 = $3Dmol.createViewer(document.getElementById(\"3dmolviewer_17231309349846315\"),{backgroundColor:\"white\"});\nviewer_17231309349846315.zoomTo();\n\tviewer_17231309349846315.addModelsAsFrames(\"CRYST1    7.840    7.840    7.840  90.00  90.00  90.00 P 1\\nMODEL     1\\nATOM      0   Pt MOL     1       0.000   0.000   0.000  0.00  0.00          Pt\\nATOM      1   Pt MOL     1       0.000   0.000   3.920  0.00  0.00          Pt\\nATOM      2   Pt MOL     1       0.000   3.920   0.000  0.00  0.00          Pt\\nATOM      3   Pt MOL     1       0.000   3.920   3.920  0.00  0.00          Pt\\nATOM      4   Pt MOL     1       3.920   0.000   0.000  0.00  0.00          Pt\\nATOM      5   Pt MOL     1       3.920   0.000   3.920  0.00  0.00          Pt\\nATOM      6   Pt MOL     1       3.920   3.920   0.000  0.00  0.00          Pt\\nATOM      7   Pt MOL     1       3.920   3.920   3.920  0.00  0.00          Pt\\nATOM      8   Pt MOL     1       0.000   1.960   1.960  0.00  0.00          Pt\\nATOM      9   Pt MOL     1       0.000   1.960   5.880  0.00  0.00          Pt\\nATOM     10   Pt MOL     1       0.000   5.880   1.960  0.00  0.00          Pt\\nATOM     11   Pt MOL     1       0.000   5.880   5.880  0.00  0.00          Pt\\nATOM     12   Pt MOL     1       3.920   1.960   1.960  0.00  0.00          Pt\\nATOM     13   Pt MOL     1       3.920   1.960   5.880  0.00  0.00          Pt\\nATOM     14   Pt MOL     1       3.920   5.880   1.960  0.00  0.00          Pt\\nATOM     15   Pt MOL     1       3.920   5.880   5.880  0.00  0.00          Pt\\nATOM     16   Pt MOL     1       1.960   0.000   1.960  0.00  0.00          Pt\\nATOM     17   Pt MOL     1       1.960   0.000   5.880  0.00  0.00          Pt\\nATOM     18   Pt MOL     1       1.960   3.920   1.960  0.00  0.00          Pt\\nATOM     19   Pt MOL     1       1.960   3.920   5.880  0.00  0.00          Pt\\nATOM     20   Pt MOL     1       5.880   0.000   1.960  0.00  0.00          Pt\\nATOM     21   Pt MOL     1       5.880   0.000   5.880  0.00  0.00          Pt\\nATOM     22   Pt MOL     1       5.880   3.920   1.960  0.00  0.00          Pt\\nATOM     23   Pt MOL     1       5.880   3.920   5.880  0.00  0.00          Pt\\nATOM     24   Pt MOL     1       1.960   1.960   0.000  0.00  0.00          Pt\\nATOM     25   Pt MOL     1       1.960   1.960   3.920  0.00  0.00          Pt\\nATOM     26   Pt MOL     1       1.960   5.880   0.000  0.00  0.00          Pt\\nATOM     27   Pt MOL     1       1.960   5.880   3.920  0.00  0.00          Pt\\nATOM     28   Pt MOL     1       5.880   1.960   0.000  0.00  0.00          Pt\\nATOM     29   Pt MOL     1       5.880   1.960   3.920  0.00  0.00          Pt\\nATOM     30   Pt MOL     1       5.880   5.880   0.000  0.00  0.00          Pt\\nATOM     31   Pt MOL     1       5.880   5.880   3.920  0.00  0.00          Pt\\nENDMOL\\n\",\"pdb\");\n\t\tviewer_17231309349846315.getModel(-1).setStyle({\"model\": -1},{\"sphere\": {\"scale\": 0.4, \"color\": \"0xda70d6\"}, \"stick\": {\"radius\": 0.1, \"color\": \"0xda70d6\"}});\n\t\tviewer_17231309349846315.getModel(-1).setStyle({\"elem\": \"H\", \"model\": -1},{\"sphere\": {\"scale\": 0.4, \"color\": \"white\"}, \"stick\": {\"radius\": 0.1, \"color\": \"white\"}});\n\t\tviewer_17231309349846315.getModel(-1).setStyle({\"elem\": \"C\", \"model\": -1},{\"sphere\": {\"scale\": 0.4, \"color\": \"black\"}, \"stick\": {\"radius\": 0.1, \"color\": \"black\"}});\n\t\tviewer_17231309349846315.getModel(-1).setStyle({\"elem\": \"N\", \"model\": -1},{\"sphere\": {\"scale\": 0.4, \"color\": \"blue\"}, \"stick\": {\"radius\": 0.1, \"color\": \"blue\"}});\n\t\tviewer_17231309349846315.getModel(-1).setStyle({\"elem\": \"O\", \"model\": -1},{\"sphere\": {\"scale\": 0.4, \"color\": \"red\"}, \"stick\": {\"radius\": 0.1, \"color\": \"red\"}});\n\t\tviewer_17231309349846315.getModel(-1).setStyle({\"elem\": \"F\", \"model\": -1},{\"sphere\": {\"scale\": 0.4, \"color\": \"green\"}, \"stick\": {\"radius\": 0.1, \"color\": \"green\"}});\n\t\tviewer_17231309349846315.getModel(-1).setStyle({\"elem\": \"Cl\", \"model\": -1},{\"sphere\": {\"scale\": 0.4, \"color\": \"green\"}, \"stick\": {\"radius\": 0.1, \"color\": \"green\"}});\n\t\tviewer_17231309349846315.getModel(-1).setStyle({\"elem\": \"Br\", \"model\": -1},{\"sphere\": {\"scale\": 0.4, \"color\": \"0x8b0000\"}, \"stick\": {\"radius\": 0.1, \"color\": \"0x8b0000\"}});\n\t\tviewer_17231309349846315.getModel(-1).setStyle({\"elem\": \"I\", \"model\": -1},{\"sphere\": {\"scale\": 0.4, \"color\": \"0x9400d3\"}, \"stick\": {\"radius\": 0.1, \"color\": \"0x9400d3\"}});\n\t\tviewer_17231309349846315.getModel(-1).setStyle({\"elem\": \"He\", \"model\": -1},{\"sphere\": {\"scale\": 0.4, \"color\": \"cyan\"}, \"stick\": {\"radius\": 0.1, \"color\": \"cyan\"}});\n\t\tviewer_17231309349846315.getModel(-1).setStyle({\"elem\": \"Ne\", \"model\": -1},{\"sphere\": {\"scale\": 0.4, \"color\": \"cyan\"}, \"stick\": {\"radius\": 0.1, \"color\": \"cyan\"}});\n\t\tviewer_17231309349846315.getModel(-1).setStyle({\"elem\": \"Ar\", \"model\": -1},{\"sphere\": {\"scale\": 0.4, \"color\": \"cyan\"}, \"stick\": {\"radius\": 0.1, \"color\": \"cyan\"}});\n\t\tviewer_17231309349846315.getModel(-1).setStyle({\"elem\": \"Ce\", \"model\": -1},{\"sphere\": {\"scale\": 0.4, \"color\": \"cyan\"}, \"stick\": {\"radius\": 0.1, \"color\": \"cyan\"}});\n\t\tviewer_17231309349846315.getModel(-1).setStyle({\"elem\": \"Kr\", \"model\": -1},{\"sphere\": {\"scale\": 0.4, \"color\": \"cyan\"}, \"stick\": {\"radius\": 0.1, \"color\": \"cyan\"}});\n\t\tviewer_17231309349846315.getModel(-1).setStyle({\"elem\": \"P\", \"model\": -1},{\"sphere\": {\"scale\": 0.4, \"color\": \"orange\"}, \"stick\": {\"radius\": 0.1, \"color\": \"orange\"}});\n\t\tviewer_17231309349846315.getModel(-1).setStyle({\"elem\": \"S\", \"model\": -1},{\"sphere\": {\"scale\": 0.4, \"color\": \"yellow\"}, \"stick\": {\"radius\": 0.1, \"color\": \"yellow\"}});\n\t\tviewer_17231309349846315.getModel(-1).setStyle({\"elem\": \"B\", \"model\": -1},{\"sphere\": {\"scale\": 0.4, \"color\": \"0xffa07a\"}, \"stick\": {\"radius\": 0.1, \"color\": \"0xffa07a\"}});\n\t\tviewer_17231309349846315.getModel(-1).setStyle({\"elem\": \"Li\", \"model\": -1},{\"sphere\": {\"scale\": 0.4, \"color\": \"0x32cd32\"}, \"stick\": {\"radius\": 0.1, \"color\": \"0x32cd32\"}});\n\t\tviewer_17231309349846315.getModel(-1).setStyle({\"elem\": \"Na\", \"model\": -1},{\"sphere\": {\"scale\": 0.4, \"color\": \"violet\"}, \"stick\": {\"radius\": 0.1, \"color\": \"violet\"}});\n\t\tviewer_17231309349846315.getModel(-1).setStyle({\"elem\": \"K\", \"model\": -1},{\"sphere\": {\"scale\": 0.4, \"color\": \"violet\"}, \"stick\": {\"radius\": 0.1, \"color\": \"violet\"}});\n\t\tviewer_17231309349846315.getModel(-1).setStyle({\"elem\": \"Rb\", \"model\": -1},{\"sphere\": {\"scale\": 0.4, \"color\": \"violet\"}, \"stick\": {\"radius\": 0.1, \"color\": \"violet\"}});\n\t\tviewer_17231309349846315.getModel(-1).setStyle({\"elem\": \"Cs\", \"model\": -1},{\"sphere\": {\"scale\": 0.4, \"color\": \"violet\"}, \"stick\": {\"radius\": 0.1, \"color\": \"violet\"}});\n\t\tviewer_17231309349846315.getModel(-1).setStyle({\"elem\": \"Fr\", \"model\": -1},{\"sphere\": {\"scale\": 0.4, \"color\": \"violet\"}, \"stick\": {\"radius\": 0.1, \"color\": \"violet\"}});\n\t\tviewer_17231309349846315.getModel(-1).setStyle({\"elem\": \"Be\", \"model\": -1},{\"sphere\": {\"scale\": 0.4, \"color\": \"0x2e8b57\"}, \"stick\": {\"radius\": 0.1, \"color\": \"0x2e8b57\"}});\n\t\tviewer_17231309349846315.getModel(-1).setStyle({\"elem\": \"Mg\", \"model\": -1},{\"sphere\": {\"scale\": 0.4, \"color\": \"0x2e8b57\"}, \"stick\": {\"radius\": 0.1, \"color\": \"0x2e8b57\"}});\n\t\tviewer_17231309349846315.getModel(-1).setStyle({\"elem\": \"Ca\", \"model\": -1},{\"sphere\": {\"scale\": 0.4, \"color\": \"0x2e8b57\"}, \"stick\": {\"radius\": 0.1, \"color\": \"0x2e8b57\"}});\n\t\tviewer_17231309349846315.getModel(-1).setStyle({\"elem\": \"Sr\", \"model\": -1},{\"sphere\": {\"scale\": 0.4, \"color\": \"0x2e8b57\"}, \"stick\": {\"radius\": 0.1, \"color\": \"0x2e8b57\"}});\n\t\tviewer_17231309349846315.getModel(-1).setStyle({\"elem\": \"Ba\", \"model\": -1},{\"sphere\": {\"scale\": 0.4, \"color\": \"0x2e8b57\"}, \"stick\": {\"radius\": 0.1, \"color\": \"0x2e8b57\"}});\n\t\tviewer_17231309349846315.getModel(-1).setStyle({\"elem\": \"Ra\", \"model\": -1},{\"sphere\": {\"scale\": 0.4, \"color\": \"0x2e8b57\"}, \"stick\": {\"radius\": 0.1, \"color\": \"0x2e8b57\"}});\n\t\tviewer_17231309349846315.getModel(-1).setStyle({\"elem\": \"Ti\", \"model\": -1},{\"sphere\": {\"scale\": 0.4, \"color\": \"0x48d1cc\"}, \"stick\": {\"radius\": 0.1, \"color\": \"0x48d1cc\"}});\n\t\tviewer_17231309349846315.getModel(-1).setStyle({\"elem\": \"Fe\", \"model\": -1},{\"sphere\": {\"scale\": 0.4, \"color\": \"0xff8c00\"}, \"stick\": {\"radius\": 0.1, \"color\": \"0xff8c00\"}});\n\t\tviewer_17231309349846315.getModel(-1).setStyle({\"elem\": \"Sc\", \"model\": -1},{\"sphere\": {\"scale\": 0.4, \"color\": \"0x6b8e23\"}, \"stick\": {\"radius\": 0.1, \"color\": \"0x6b8e23\"}});\n\t\tviewer_17231309349846315.getModel(-1).setStyle({\"elem\": \"V\", \"model\": -1},{\"sphere\": {\"scale\": 0.4, \"color\": \"0xC71585\"}, \"stick\": {\"radius\": 0.1, \"color\": \"0xC71585\"}});\n\t\tviewer_17231309349846315.getModel(-1).setStyle({\"elem\": \"Cr\", \"model\": -1},{\"sphere\": {\"scale\": 0.4, \"color\": \"0x87cefa\"}, \"stick\": {\"radius\": 0.1, \"color\": \"0x87cefa\"}});\n\t\tviewer_17231309349846315.getModel(-1).setStyle({\"elem\": \"Mn\", \"model\": -1},{\"sphere\": {\"scale\": 0.4, \"color\": \"0x8b008b\"}, \"stick\": {\"radius\": 0.1, \"color\": \"0x8b008b\"}});\n\t\tviewer_17231309349846315.getModel(-1).setStyle({\"elem\": \"Co\", \"model\": -1},{\"sphere\": {\"scale\": 0.4, \"color\": \"0x00008b\"}, \"stick\": {\"radius\": 0.1, \"color\": \"0x00008b\"}});\n\t\tviewer_17231309349846315.getModel(-1).setStyle({\"elem\": \"Ni\", \"model\": -1},{\"sphere\": {\"scale\": 0.4, \"color\": \"blue\"}, \"stick\": {\"radius\": 0.1, \"color\": \"blue\"}});\n\t\tviewer_17231309349846315.getModel(-1).setStyle({\"elem\": \"Cu\", \"model\": -1},{\"sphere\": {\"scale\": 0.4, \"color\": \"0x8b0000\"}, \"stick\": {\"radius\": 0.1, \"color\": \"0x8b0000\"}});\n\t\tviewer_17231309349846315.getModel(-1).setStyle({\"elem\": \"Zn\", \"model\": -1},{\"sphere\": {\"scale\": 0.4, \"color\": \"0xadd8e6\"}, \"stick\": {\"radius\": 0.1, \"color\": \"0xadd8e6\"}});\n\t\tviewer_17231309349846315.getModel(-1).setStyle({\"elem\": \"Pt\", \"model\": -1},{\"sphere\": {\"scale\": 0.4, \"color\": \"cyan\"}, \"stick\": {\"radius\": 0.1, \"color\": \"cyan\"}});\n\t\tviewer_17231309349846315.getModel(-1).setStyle({\"elem\": \"Ir\", \"model\": -1},{\"sphere\": {\"scale\": 0.4, \"color\": \"violet\"}, \"stick\": {\"radius\": 0.1, \"color\": \"violet\"}});\n\t\tviewer_17231309349846315.getModel(-1).setFrame(-1);\n\tviewer_17231309349846315.addUnitCell({\"model\": 0},{\"box\": {\"linewidth\": 1.0, \"color\": \"black\"}, \"astyle\": {\"hidden\": true}, \"bstyle\": {\"hidden\": true}, \"cstyle\": {\"hidden\": true}});\n\tviewer_17231309349846315.zoomTo();\n\tviewer_17231309349846315.setHoverable({},true,\"function(atom, viewer, event, container) {\\n                 if(!atom.label) {\\n                   atom.label = viewer.addLabel(\\n                     atom.serial + \\\" \\\" + atom.atom,\\n                     {position: atom,\\n                      backgroundColor: 'mintcream',\\n                      fontColor:'black'});\\n                  }\\n                }\",\"function(atom, viewer) {\\n                 if(atom.label) {\\n                   viewer.removeLabel(atom.label);\\n                   delete atom.label;\\n                 }\\n               }\");\nviewer_17231309349846315.render();\n});\n</script>"
                },
                "metadata": {}
              },
              {
                "output_type": "display_data",
                "data": {
                  "application/3dmoljs_load.v0": "<script>\n            $3Dmolpromise.then(function() { //wrap in promise for non-interactive functionality\n                \t\tviewer_17231309349846315.getModel(-1).setFrame(0);\n\t\tviewer_17231309349846315.getModel(-1).setStyle({\"model\": 0},{\"sphere\": {\"scale\": 0.4, \"color\": \"0xda70d6\"}, \"stick\": {\"radius\": 0.1, \"color\": \"0xda70d6\"}});\n\t\tviewer_17231309349846315.getModel(-1).setStyle({\"elem\": \"H\", \"model\": 0},{\"sphere\": {\"scale\": 0.4, \"color\": \"white\"}, \"stick\": {\"radius\": 0.1, \"color\": \"white\"}});\n\t\tviewer_17231309349846315.getModel(-1).setStyle({\"elem\": \"C\", \"model\": 0},{\"sphere\": {\"scale\": 0.4, \"color\": \"black\"}, \"stick\": {\"radius\": 0.1, \"color\": \"black\"}});\n\t\tviewer_17231309349846315.getModel(-1).setStyle({\"elem\": \"N\", \"model\": 0},{\"sphere\": {\"scale\": 0.4, \"color\": \"blue\"}, \"stick\": {\"radius\": 0.1, \"color\": \"blue\"}});\n\t\tviewer_17231309349846315.getModel(-1).setStyle({\"elem\": \"O\", \"model\": 0},{\"sphere\": {\"scale\": 0.4, \"color\": \"red\"}, \"stick\": {\"radius\": 0.1, \"color\": \"red\"}});\n\t\tviewer_17231309349846315.getModel(-1).setStyle({\"elem\": \"F\", \"model\": 0},{\"sphere\": {\"scale\": 0.4, \"color\": \"green\"}, \"stick\": {\"radius\": 0.1, \"color\": \"green\"}});\n\t\tviewer_17231309349846315.getModel(-1).setStyle({\"elem\": \"Cl\", \"model\": 0},{\"sphere\": {\"scale\": 0.4, \"color\": \"green\"}, \"stick\": {\"radius\": 0.1, \"color\": \"green\"}});\n\t\tviewer_17231309349846315.getModel(-1).setStyle({\"elem\": \"Br\", \"model\": 0},{\"sphere\": {\"scale\": 0.4, \"color\": \"0x8b0000\"}, \"stick\": {\"radius\": 0.1, \"color\": \"0x8b0000\"}});\n\t\tviewer_17231309349846315.getModel(-1).setStyle({\"elem\": \"I\", \"model\": 0},{\"sphere\": {\"scale\": 0.4, \"color\": \"0x9400d3\"}, \"stick\": {\"radius\": 0.1, \"color\": \"0x9400d3\"}});\n\t\tviewer_17231309349846315.getModel(-1).setStyle({\"elem\": \"He\", \"model\": 0},{\"sphere\": {\"scale\": 0.4, \"color\": \"cyan\"}, \"stick\": {\"radius\": 0.1, \"color\": \"cyan\"}});\n\t\tviewer_17231309349846315.getModel(-1).setStyle({\"elem\": \"Ne\", \"model\": 0},{\"sphere\": {\"scale\": 0.4, \"color\": \"cyan\"}, \"stick\": {\"radius\": 0.1, \"color\": \"cyan\"}});\n\t\tviewer_17231309349846315.getModel(-1).setStyle({\"elem\": \"Ar\", \"model\": 0},{\"sphere\": {\"scale\": 0.4, \"color\": \"cyan\"}, \"stick\": {\"radius\": 0.1, \"color\": \"cyan\"}});\n\t\tviewer_17231309349846315.getModel(-1).setStyle({\"elem\": \"Ce\", \"model\": 0},{\"sphere\": {\"scale\": 0.4, \"color\": \"cyan\"}, \"stick\": {\"radius\": 0.1, \"color\": \"cyan\"}});\n\t\tviewer_17231309349846315.getModel(-1).setStyle({\"elem\": \"Kr\", \"model\": 0},{\"sphere\": {\"scale\": 0.4, \"color\": \"cyan\"}, \"stick\": {\"radius\": 0.1, \"color\": \"cyan\"}});\n\t\tviewer_17231309349846315.getModel(-1).setStyle({\"elem\": \"P\", \"model\": 0},{\"sphere\": {\"scale\": 0.4, \"color\": \"orange\"}, \"stick\": {\"radius\": 0.1, \"color\": \"orange\"}});\n\t\tviewer_17231309349846315.getModel(-1).setStyle({\"elem\": \"S\", \"model\": 0},{\"sphere\": {\"scale\": 0.4, \"color\": \"yellow\"}, \"stick\": {\"radius\": 0.1, \"color\": \"yellow\"}});\n\t\tviewer_17231309349846315.getModel(-1).setStyle({\"elem\": \"B\", \"model\": 0},{\"sphere\": {\"scale\": 0.4, \"color\": \"0xffa07a\"}, \"stick\": {\"radius\": 0.1, \"color\": \"0xffa07a\"}});\n\t\tviewer_17231309349846315.getModel(-1).setStyle({\"elem\": \"Li\", \"model\": 0},{\"sphere\": {\"scale\": 0.4, \"color\": \"0x32cd32\"}, \"stick\": {\"radius\": 0.1, \"color\": \"0x32cd32\"}});\n\t\tviewer_17231309349846315.getModel(-1).setStyle({\"elem\": \"Na\", \"model\": 0},{\"sphere\": {\"scale\": 0.4, \"color\": \"violet\"}, \"stick\": {\"radius\": 0.1, \"color\": \"violet\"}});\n\t\tviewer_17231309349846315.getModel(-1).setStyle({\"elem\": \"K\", \"model\": 0},{\"sphere\": {\"scale\": 0.4, \"color\": \"violet\"}, \"stick\": {\"radius\": 0.1, \"color\": \"violet\"}});\n\t\tviewer_17231309349846315.getModel(-1).setStyle({\"elem\": \"Rb\", \"model\": 0},{\"sphere\": {\"scale\": 0.4, \"color\": \"violet\"}, \"stick\": {\"radius\": 0.1, \"color\": \"violet\"}});\n\t\tviewer_17231309349846315.getModel(-1).setStyle({\"elem\": \"Cs\", \"model\": 0},{\"sphere\": {\"scale\": 0.4, \"color\": \"violet\"}, \"stick\": {\"radius\": 0.1, \"color\": \"violet\"}});\n\t\tviewer_17231309349846315.getModel(-1).setStyle({\"elem\": \"Fr\", \"model\": 0},{\"sphere\": {\"scale\": 0.4, \"color\": \"violet\"}, \"stick\": {\"radius\": 0.1, \"color\": \"violet\"}});\n\t\tviewer_17231309349846315.getModel(-1).setStyle({\"elem\": \"Be\", \"model\": 0},{\"sphere\": {\"scale\": 0.4, \"color\": \"0x2e8b57\"}, \"stick\": {\"radius\": 0.1, \"color\": \"0x2e8b57\"}});\n\t\tviewer_17231309349846315.getModel(-1).setStyle({\"elem\": \"Mg\", \"model\": 0},{\"sphere\": {\"scale\": 0.4, \"color\": \"0x2e8b57\"}, \"stick\": {\"radius\": 0.1, \"color\": \"0x2e8b57\"}});\n\t\tviewer_17231309349846315.getModel(-1).setStyle({\"elem\": \"Ca\", \"model\": 0},{\"sphere\": {\"scale\": 0.4, \"color\": \"0x2e8b57\"}, \"stick\": {\"radius\": 0.1, \"color\": \"0x2e8b57\"}});\n\t\tviewer_17231309349846315.getModel(-1).setStyle({\"elem\": \"Sr\", \"model\": 0},{\"sphere\": {\"scale\": 0.4, \"color\": \"0x2e8b57\"}, \"stick\": {\"radius\": 0.1, \"color\": \"0x2e8b57\"}});\n\t\tviewer_17231309349846315.getModel(-1).setStyle({\"elem\": \"Ba\", \"model\": 0},{\"sphere\": {\"scale\": 0.4, \"color\": \"0x2e8b57\"}, \"stick\": {\"radius\": 0.1, \"color\": \"0x2e8b57\"}});\n\t\tviewer_17231309349846315.getModel(-1).setStyle({\"elem\": \"Ra\", \"model\": 0},{\"sphere\": {\"scale\": 0.4, \"color\": \"0x2e8b57\"}, \"stick\": {\"radius\": 0.1, \"color\": \"0x2e8b57\"}});\n\t\tviewer_17231309349846315.getModel(-1).setStyle({\"elem\": \"Ti\", \"model\": 0},{\"sphere\": {\"scale\": 0.4, \"color\": \"0x48d1cc\"}, \"stick\": {\"radius\": 0.1, \"color\": \"0x48d1cc\"}});\n\t\tviewer_17231309349846315.getModel(-1).setStyle({\"elem\": \"Fe\", \"model\": 0},{\"sphere\": {\"scale\": 0.4, \"color\": \"0xff8c00\"}, \"stick\": {\"radius\": 0.1, \"color\": \"0xff8c00\"}});\n\t\tviewer_17231309349846315.getModel(-1).setStyle({\"elem\": \"Sc\", \"model\": 0},{\"sphere\": {\"scale\": 0.4, \"color\": \"0x6b8e23\"}, \"stick\": {\"radius\": 0.1, \"color\": \"0x6b8e23\"}});\n\t\tviewer_17231309349846315.getModel(-1).setStyle({\"elem\": \"V\", \"model\": 0},{\"sphere\": {\"scale\": 0.4, \"color\": \"0xC71585\"}, \"stick\": {\"radius\": 0.1, \"color\": \"0xC71585\"}});\n\t\tviewer_17231309349846315.getModel(-1).setStyle({\"elem\": \"Cr\", \"model\": 0},{\"sphere\": {\"scale\": 0.4, \"color\": \"0x87cefa\"}, \"stick\": {\"radius\": 0.1, \"color\": \"0x87cefa\"}});\n\t\tviewer_17231309349846315.getModel(-1).setStyle({\"elem\": \"Mn\", \"model\": 0},{\"sphere\": {\"scale\": 0.4, \"color\": \"0x8b008b\"}, \"stick\": {\"radius\": 0.1, \"color\": \"0x8b008b\"}});\n\t\tviewer_17231309349846315.getModel(-1).setStyle({\"elem\": \"Co\", \"model\": 0},{\"sphere\": {\"scale\": 0.4, \"color\": \"0x00008b\"}, \"stick\": {\"radius\": 0.1, \"color\": \"0x00008b\"}});\n\t\tviewer_17231309349846315.getModel(-1).setStyle({\"elem\": \"Ni\", \"model\": 0},{\"sphere\": {\"scale\": 0.4, \"color\": \"blue\"}, \"stick\": {\"radius\": 0.1, \"color\": \"blue\"}});\n\t\tviewer_17231309349846315.getModel(-1).setStyle({\"elem\": \"Cu\", \"model\": 0},{\"sphere\": {\"scale\": 0.4, \"color\": \"0x8b0000\"}, \"stick\": {\"radius\": 0.1, \"color\": \"0x8b0000\"}});\n\t\tviewer_17231309349846315.getModel(-1).setStyle({\"elem\": \"Zn\", \"model\": 0},{\"sphere\": {\"scale\": 0.4, \"color\": \"0xadd8e6\"}, \"stick\": {\"radius\": 0.1, \"color\": \"0xadd8e6\"}});\n\t\tviewer_17231309349846315.getModel(-1).setStyle({\"elem\": \"Pt\", \"model\": 0},{\"sphere\": {\"scale\": 0.4, \"color\": \"cyan\"}, \"stick\": {\"radius\": 0.1, \"color\": \"cyan\"}});\n\t\tviewer_17231309349846315.getModel(-1).setStyle({\"elem\": \"Ir\", \"model\": 0},{\"sphere\": {\"scale\": 0.4, \"color\": \"violet\"}, \"stick\": {\"radius\": 0.1, \"color\": \"violet\"}});\n\t\tviewer_17231309349846315.getModel(-1).setFrame(0);\n\t\tviewer_17231309349846315.getModel(-1).setStyle({\"model\": 0},{\"sphere\": {\"scale\": 0.4, \"color\": \"0xda70d6\"}, \"stick\": {\"radius\": 0.1, \"color\": \"0xda70d6\"}});\n\t\tviewer_17231309349846315.getModel(-1).setStyle({\"elem\": \"H\", \"model\": 0},{\"sphere\": {\"scale\": 0.4, \"color\": \"white\"}, \"stick\": {\"radius\": 0.1, \"color\": \"white\"}});\n\t\tviewer_17231309349846315.getModel(-1).setStyle({\"elem\": \"C\", \"model\": 0},{\"sphere\": {\"scale\": 0.4, \"color\": \"black\"}, \"stick\": {\"radius\": 0.1, \"color\": \"black\"}});\n\t\tviewer_17231309349846315.getModel(-1).setStyle({\"elem\": \"N\", \"model\": 0},{\"sphere\": {\"scale\": 0.4, \"color\": \"blue\"}, \"stick\": {\"radius\": 0.1, \"color\": \"blue\"}});\n\t\tviewer_17231309349846315.getModel(-1).setStyle({\"elem\": \"O\", \"model\": 0},{\"sphere\": {\"scale\": 0.4, \"color\": \"red\"}, \"stick\": {\"radius\": 0.1, \"color\": \"red\"}});\n\t\tviewer_17231309349846315.getModel(-1).setStyle({\"elem\": \"F\", \"model\": 0},{\"sphere\": {\"scale\": 0.4, \"color\": \"green\"}, \"stick\": {\"radius\": 0.1, \"color\": \"green\"}});\n\t\tviewer_17231309349846315.getModel(-1).setStyle({\"elem\": \"Cl\", \"model\": 0},{\"sphere\": {\"scale\": 0.4, \"color\": \"green\"}, \"stick\": {\"radius\": 0.1, \"color\": \"green\"}});\n\t\tviewer_17231309349846315.getModel(-1).setStyle({\"elem\": \"Br\", \"model\": 0},{\"sphere\": {\"scale\": 0.4, \"color\": \"0x8b0000\"}, \"stick\": {\"radius\": 0.1, \"color\": \"0x8b0000\"}});\n\t\tviewer_17231309349846315.getModel(-1).setStyle({\"elem\": \"I\", \"model\": 0},{\"sphere\": {\"scale\": 0.4, \"color\": \"0x9400d3\"}, \"stick\": {\"radius\": 0.1, \"color\": \"0x9400d3\"}});\n\t\tviewer_17231309349846315.getModel(-1).setStyle({\"elem\": \"He\", \"model\": 0},{\"sphere\": {\"scale\": 0.4, \"color\": \"cyan\"}, \"stick\": {\"radius\": 0.1, \"color\": \"cyan\"}});\n\t\tviewer_17231309349846315.getModel(-1).setStyle({\"elem\": \"Ne\", \"model\": 0},{\"sphere\": {\"scale\": 0.4, \"color\": \"cyan\"}, \"stick\": {\"radius\": 0.1, \"color\": \"cyan\"}});\n\t\tviewer_17231309349846315.getModel(-1).setStyle({\"elem\": \"Ar\", \"model\": 0},{\"sphere\": {\"scale\": 0.4, \"color\": \"cyan\"}, \"stick\": {\"radius\": 0.1, \"color\": \"cyan\"}});\n\t\tviewer_17231309349846315.getModel(-1).setStyle({\"elem\": \"Ce\", \"model\": 0},{\"sphere\": {\"scale\": 0.4, \"color\": \"cyan\"}, \"stick\": {\"radius\": 0.1, \"color\": \"cyan\"}});\n\t\tviewer_17231309349846315.getModel(-1).setStyle({\"elem\": \"Kr\", \"model\": 0},{\"sphere\": {\"scale\": 0.4, \"color\": \"cyan\"}, \"stick\": {\"radius\": 0.1, \"color\": \"cyan\"}});\n\t\tviewer_17231309349846315.getModel(-1).setStyle({\"elem\": \"P\", \"model\": 0},{\"sphere\": {\"scale\": 0.4, \"color\": \"orange\"}, \"stick\": {\"radius\": 0.1, \"color\": \"orange\"}});\n\t\tviewer_17231309349846315.getModel(-1).setStyle({\"elem\": \"S\", \"model\": 0},{\"sphere\": {\"scale\": 0.4, \"color\": \"yellow\"}, \"stick\": {\"radius\": 0.1, \"color\": \"yellow\"}});\n\t\tviewer_17231309349846315.getModel(-1).setStyle({\"elem\": \"B\", \"model\": 0},{\"sphere\": {\"scale\": 0.4, \"color\": \"0xffa07a\"}, \"stick\": {\"radius\": 0.1, \"color\": \"0xffa07a\"}});\n\t\tviewer_17231309349846315.getModel(-1).setStyle({\"elem\": \"Li\", \"model\": 0},{\"sphere\": {\"scale\": 0.4, \"color\": \"0x32cd32\"}, \"stick\": {\"radius\": 0.1, \"color\": \"0x32cd32\"}});\n\t\tviewer_17231309349846315.getModel(-1).setStyle({\"elem\": \"Na\", \"model\": 0},{\"sphere\": {\"scale\": 0.4, \"color\": \"violet\"}, \"stick\": {\"radius\": 0.1, \"color\": \"violet\"}});\n\t\tviewer_17231309349846315.getModel(-1).setStyle({\"elem\": \"K\", \"model\": 0},{\"sphere\": {\"scale\": 0.4, \"color\": \"violet\"}, \"stick\": {\"radius\": 0.1, \"color\": \"violet\"}});\n\t\tviewer_17231309349846315.getModel(-1).setStyle({\"elem\": \"Rb\", \"model\": 0},{\"sphere\": {\"scale\": 0.4, \"color\": \"violet\"}, \"stick\": {\"radius\": 0.1, \"color\": \"violet\"}});\n\t\tviewer_17231309349846315.getModel(-1).setStyle({\"elem\": \"Cs\", \"model\": 0},{\"sphere\": {\"scale\": 0.4, \"color\": \"violet\"}, \"stick\": {\"radius\": 0.1, \"color\": \"violet\"}});\n\t\tviewer_17231309349846315.getModel(-1).setStyle({\"elem\": \"Fr\", \"model\": 0},{\"sphere\": {\"scale\": 0.4, \"color\": \"violet\"}, \"stick\": {\"radius\": 0.1, \"color\": \"violet\"}});\n\t\tviewer_17231309349846315.getModel(-1).setStyle({\"elem\": \"Be\", \"model\": 0},{\"sphere\": {\"scale\": 0.4, \"color\": \"0x2e8b57\"}, \"stick\": {\"radius\": 0.1, \"color\": \"0x2e8b57\"}});\n\t\tviewer_17231309349846315.getModel(-1).setStyle({\"elem\": \"Mg\", \"model\": 0},{\"sphere\": {\"scale\": 0.4, \"color\": \"0x2e8b57\"}, \"stick\": {\"radius\": 0.1, \"color\": \"0x2e8b57\"}});\n\t\tviewer_17231309349846315.getModel(-1).setStyle({\"elem\": \"Ca\", \"model\": 0},{\"sphere\": {\"scale\": 0.4, \"color\": \"0x2e8b57\"}, \"stick\": {\"radius\": 0.1, \"color\": \"0x2e8b57\"}});\n\t\tviewer_17231309349846315.getModel(-1).setStyle({\"elem\": \"Sr\", \"model\": 0},{\"sphere\": {\"scale\": 0.4, \"color\": \"0x2e8b57\"}, \"stick\": {\"radius\": 0.1, \"color\": \"0x2e8b57\"}});\n\t\tviewer_17231309349846315.getModel(-1).setStyle({\"elem\": \"Ba\", \"model\": 0},{\"sphere\": {\"scale\": 0.4, \"color\": \"0x2e8b57\"}, \"stick\": {\"radius\": 0.1, \"color\": \"0x2e8b57\"}});\n\t\tviewer_17231309349846315.getModel(-1).setStyle({\"elem\": \"Ra\", \"model\": 0},{\"sphere\": {\"scale\": 0.4, \"color\": \"0x2e8b57\"}, \"stick\": {\"radius\": 0.1, \"color\": \"0x2e8b57\"}});\n\t\tviewer_17231309349846315.getModel(-1).setStyle({\"elem\": \"Ti\", \"model\": 0},{\"sphere\": {\"scale\": 0.4, \"color\": \"0x48d1cc\"}, \"stick\": {\"radius\": 0.1, \"color\": \"0x48d1cc\"}});\n\t\tviewer_17231309349846315.getModel(-1).setStyle({\"elem\": \"Fe\", \"model\": 0},{\"sphere\": {\"scale\": 0.4, \"color\": \"0xff8c00\"}, \"stick\": {\"radius\": 0.1, \"color\": \"0xff8c00\"}});\n\t\tviewer_17231309349846315.getModel(-1).setStyle({\"elem\": \"Sc\", \"model\": 0},{\"sphere\": {\"scale\": 0.4, \"color\": \"0x6b8e23\"}, \"stick\": {\"radius\": 0.1, \"color\": \"0x6b8e23\"}});\n\t\tviewer_17231309349846315.getModel(-1).setStyle({\"elem\": \"V\", \"model\": 0},{\"sphere\": {\"scale\": 0.4, \"color\": \"0xC71585\"}, \"stick\": {\"radius\": 0.1, \"color\": \"0xC71585\"}});\n\t\tviewer_17231309349846315.getModel(-1).setStyle({\"elem\": \"Cr\", \"model\": 0},{\"sphere\": {\"scale\": 0.4, \"color\": \"0x87cefa\"}, \"stick\": {\"radius\": 0.1, \"color\": \"0x87cefa\"}});\n\t\tviewer_17231309349846315.getModel(-1).setStyle({\"elem\": \"Mn\", \"model\": 0},{\"sphere\": {\"scale\": 0.4, \"color\": \"0x8b008b\"}, \"stick\": {\"radius\": 0.1, \"color\": \"0x8b008b\"}});\n\t\tviewer_17231309349846315.getModel(-1).setStyle({\"elem\": \"Co\", \"model\": 0},{\"sphere\": {\"scale\": 0.4, \"color\": \"0x00008b\"}, \"stick\": {\"radius\": 0.1, \"color\": \"0x00008b\"}});\n\t\tviewer_17231309349846315.getModel(-1).setStyle({\"elem\": \"Ni\", \"model\": 0},{\"sphere\": {\"scale\": 0.4, \"color\": \"blue\"}, \"stick\": {\"radius\": 0.1, \"color\": \"blue\"}});\n\t\tviewer_17231309349846315.getModel(-1).setStyle({\"elem\": \"Cu\", \"model\": 0},{\"sphere\": {\"scale\": 0.4, \"color\": \"0x8b0000\"}, \"stick\": {\"radius\": 0.1, \"color\": \"0x8b0000\"}});\n\t\tviewer_17231309349846315.getModel(-1).setStyle({\"elem\": \"Zn\", \"model\": 0},{\"sphere\": {\"scale\": 0.4, \"color\": \"0xadd8e6\"}, \"stick\": {\"radius\": 0.1, \"color\": \"0xadd8e6\"}});\n\t\tviewer_17231309349846315.getModel(-1).setStyle({\"elem\": \"Pt\", \"model\": 0},{\"sphere\": {\"scale\": 0.4, \"color\": \"cyan\"}, \"stick\": {\"radius\": 0.1, \"color\": \"cyan\"}});\n\t\tviewer_17231309349846315.getModel(-1).setStyle({\"elem\": \"Ir\", \"model\": 0},{\"sphere\": {\"scale\": 0.4, \"color\": \"violet\"}, \"stick\": {\"radius\": 0.1, \"color\": \"violet\"}});\n\t\tviewer_17231309349846315.getModel(-1).setFrame(0);\n\tviewer_17231309349846315.setHoverable({},true,\"function(atom, viewer, event, container) {\\n                 if(!atom.label) {\\n                   atom.label = viewer.addLabel(\\n                     atom.serial + \\\" \\\" + atom.atom,\\n                     {position: atom,\\n                      backgroundColor: 'mintcream',\\n                      fontColor:'black'});\\n                  }\\n                }\",\"function(atom, viewer) {\\n                 if(atom.label) {\\n                   viewer.removeLabel(atom.label);\\n                   delete atom.label;\\n                 }\\n               }\");\n\n                viewer_17231309349846315.render();\n            });\n            </script>",
                  "text/html": "<script>\n            $3Dmolpromise.then(function() { //wrap in promise for non-interactive functionality\n                \t\tviewer_17231309349846315.getModel(-1).setFrame(0);\n\t\tviewer_17231309349846315.getModel(-1).setStyle({\"model\": 0},{\"sphere\": {\"scale\": 0.4, \"color\": \"0xda70d6\"}, \"stick\": {\"radius\": 0.1, \"color\": \"0xda70d6\"}});\n\t\tviewer_17231309349846315.getModel(-1).setStyle({\"elem\": \"H\", \"model\": 0},{\"sphere\": {\"scale\": 0.4, \"color\": \"white\"}, \"stick\": {\"radius\": 0.1, \"color\": \"white\"}});\n\t\tviewer_17231309349846315.getModel(-1).setStyle({\"elem\": \"C\", \"model\": 0},{\"sphere\": {\"scale\": 0.4, \"color\": \"black\"}, \"stick\": {\"radius\": 0.1, \"color\": \"black\"}});\n\t\tviewer_17231309349846315.getModel(-1).setStyle({\"elem\": \"N\", \"model\": 0},{\"sphere\": {\"scale\": 0.4, \"color\": \"blue\"}, \"stick\": {\"radius\": 0.1, \"color\": \"blue\"}});\n\t\tviewer_17231309349846315.getModel(-1).setStyle({\"elem\": \"O\", \"model\": 0},{\"sphere\": {\"scale\": 0.4, \"color\": \"red\"}, \"stick\": {\"radius\": 0.1, \"color\": \"red\"}});\n\t\tviewer_17231309349846315.getModel(-1).setStyle({\"elem\": \"F\", \"model\": 0},{\"sphere\": {\"scale\": 0.4, \"color\": \"green\"}, \"stick\": {\"radius\": 0.1, \"color\": \"green\"}});\n\t\tviewer_17231309349846315.getModel(-1).setStyle({\"elem\": \"Cl\", \"model\": 0},{\"sphere\": {\"scale\": 0.4, \"color\": \"green\"}, \"stick\": {\"radius\": 0.1, \"color\": \"green\"}});\n\t\tviewer_17231309349846315.getModel(-1).setStyle({\"elem\": \"Br\", \"model\": 0},{\"sphere\": {\"scale\": 0.4, \"color\": \"0x8b0000\"}, \"stick\": {\"radius\": 0.1, \"color\": \"0x8b0000\"}});\n\t\tviewer_17231309349846315.getModel(-1).setStyle({\"elem\": \"I\", \"model\": 0},{\"sphere\": {\"scale\": 0.4, \"color\": \"0x9400d3\"}, \"stick\": {\"radius\": 0.1, \"color\": \"0x9400d3\"}});\n\t\tviewer_17231309349846315.getModel(-1).setStyle({\"elem\": \"He\", \"model\": 0},{\"sphere\": {\"scale\": 0.4, \"color\": \"cyan\"}, \"stick\": {\"radius\": 0.1, \"color\": \"cyan\"}});\n\t\tviewer_17231309349846315.getModel(-1).setStyle({\"elem\": \"Ne\", \"model\": 0},{\"sphere\": {\"scale\": 0.4, \"color\": \"cyan\"}, \"stick\": {\"radius\": 0.1, \"color\": \"cyan\"}});\n\t\tviewer_17231309349846315.getModel(-1).setStyle({\"elem\": \"Ar\", \"model\": 0},{\"sphere\": {\"scale\": 0.4, \"color\": \"cyan\"}, \"stick\": {\"radius\": 0.1, \"color\": \"cyan\"}});\n\t\tviewer_17231309349846315.getModel(-1).setStyle({\"elem\": \"Ce\", \"model\": 0},{\"sphere\": {\"scale\": 0.4, \"color\": \"cyan\"}, \"stick\": {\"radius\": 0.1, \"color\": \"cyan\"}});\n\t\tviewer_17231309349846315.getModel(-1).setStyle({\"elem\": \"Kr\", \"model\": 0},{\"sphere\": {\"scale\": 0.4, \"color\": \"cyan\"}, \"stick\": {\"radius\": 0.1, \"color\": \"cyan\"}});\n\t\tviewer_17231309349846315.getModel(-1).setStyle({\"elem\": \"P\", \"model\": 0},{\"sphere\": {\"scale\": 0.4, \"color\": \"orange\"}, \"stick\": {\"radius\": 0.1, \"color\": \"orange\"}});\n\t\tviewer_17231309349846315.getModel(-1).setStyle({\"elem\": \"S\", \"model\": 0},{\"sphere\": {\"scale\": 0.4, \"color\": \"yellow\"}, \"stick\": {\"radius\": 0.1, \"color\": \"yellow\"}});\n\t\tviewer_17231309349846315.getModel(-1).setStyle({\"elem\": \"B\", \"model\": 0},{\"sphere\": {\"scale\": 0.4, \"color\": \"0xffa07a\"}, \"stick\": {\"radius\": 0.1, \"color\": \"0xffa07a\"}});\n\t\tviewer_17231309349846315.getModel(-1).setStyle({\"elem\": \"Li\", \"model\": 0},{\"sphere\": {\"scale\": 0.4, \"color\": \"0x32cd32\"}, \"stick\": {\"radius\": 0.1, \"color\": \"0x32cd32\"}});\n\t\tviewer_17231309349846315.getModel(-1).setStyle({\"elem\": \"Na\", \"model\": 0},{\"sphere\": {\"scale\": 0.4, \"color\": \"violet\"}, \"stick\": {\"radius\": 0.1, \"color\": \"violet\"}});\n\t\tviewer_17231309349846315.getModel(-1).setStyle({\"elem\": \"K\", \"model\": 0},{\"sphere\": {\"scale\": 0.4, \"color\": \"violet\"}, \"stick\": {\"radius\": 0.1, \"color\": \"violet\"}});\n\t\tviewer_17231309349846315.getModel(-1).setStyle({\"elem\": \"Rb\", \"model\": 0},{\"sphere\": {\"scale\": 0.4, \"color\": \"violet\"}, \"stick\": {\"radius\": 0.1, \"color\": \"violet\"}});\n\t\tviewer_17231309349846315.getModel(-1).setStyle({\"elem\": \"Cs\", \"model\": 0},{\"sphere\": {\"scale\": 0.4, \"color\": \"violet\"}, \"stick\": {\"radius\": 0.1, \"color\": \"violet\"}});\n\t\tviewer_17231309349846315.getModel(-1).setStyle({\"elem\": \"Fr\", \"model\": 0},{\"sphere\": {\"scale\": 0.4, \"color\": \"violet\"}, \"stick\": {\"radius\": 0.1, \"color\": \"violet\"}});\n\t\tviewer_17231309349846315.getModel(-1).setStyle({\"elem\": \"Be\", \"model\": 0},{\"sphere\": {\"scale\": 0.4, \"color\": \"0x2e8b57\"}, \"stick\": {\"radius\": 0.1, \"color\": \"0x2e8b57\"}});\n\t\tviewer_17231309349846315.getModel(-1).setStyle({\"elem\": \"Mg\", \"model\": 0},{\"sphere\": {\"scale\": 0.4, \"color\": \"0x2e8b57\"}, \"stick\": {\"radius\": 0.1, \"color\": \"0x2e8b57\"}});\n\t\tviewer_17231309349846315.getModel(-1).setStyle({\"elem\": \"Ca\", \"model\": 0},{\"sphere\": {\"scale\": 0.4, \"color\": \"0x2e8b57\"}, \"stick\": {\"radius\": 0.1, \"color\": \"0x2e8b57\"}});\n\t\tviewer_17231309349846315.getModel(-1).setStyle({\"elem\": \"Sr\", \"model\": 0},{\"sphere\": {\"scale\": 0.4, \"color\": \"0x2e8b57\"}, \"stick\": {\"radius\": 0.1, \"color\": \"0x2e8b57\"}});\n\t\tviewer_17231309349846315.getModel(-1).setStyle({\"elem\": \"Ba\", \"model\": 0},{\"sphere\": {\"scale\": 0.4, \"color\": \"0x2e8b57\"}, \"stick\": {\"radius\": 0.1, \"color\": \"0x2e8b57\"}});\n\t\tviewer_17231309349846315.getModel(-1).setStyle({\"elem\": \"Ra\", \"model\": 0},{\"sphere\": {\"scale\": 0.4, \"color\": \"0x2e8b57\"}, \"stick\": {\"radius\": 0.1, \"color\": \"0x2e8b57\"}});\n\t\tviewer_17231309349846315.getModel(-1).setStyle({\"elem\": \"Ti\", \"model\": 0},{\"sphere\": {\"scale\": 0.4, \"color\": \"0x48d1cc\"}, \"stick\": {\"radius\": 0.1, \"color\": \"0x48d1cc\"}});\n\t\tviewer_17231309349846315.getModel(-1).setStyle({\"elem\": \"Fe\", \"model\": 0},{\"sphere\": {\"scale\": 0.4, \"color\": \"0xff8c00\"}, \"stick\": {\"radius\": 0.1, \"color\": \"0xff8c00\"}});\n\t\tviewer_17231309349846315.getModel(-1).setStyle({\"elem\": \"Sc\", \"model\": 0},{\"sphere\": {\"scale\": 0.4, \"color\": \"0x6b8e23\"}, \"stick\": {\"radius\": 0.1, \"color\": \"0x6b8e23\"}});\n\t\tviewer_17231309349846315.getModel(-1).setStyle({\"elem\": \"V\", \"model\": 0},{\"sphere\": {\"scale\": 0.4, \"color\": \"0xC71585\"}, \"stick\": {\"radius\": 0.1, \"color\": \"0xC71585\"}});\n\t\tviewer_17231309349846315.getModel(-1).setStyle({\"elem\": \"Cr\", \"model\": 0},{\"sphere\": {\"scale\": 0.4, \"color\": \"0x87cefa\"}, \"stick\": {\"radius\": 0.1, \"color\": \"0x87cefa\"}});\n\t\tviewer_17231309349846315.getModel(-1).setStyle({\"elem\": \"Mn\", \"model\": 0},{\"sphere\": {\"scale\": 0.4, \"color\": \"0x8b008b\"}, \"stick\": {\"radius\": 0.1, \"color\": \"0x8b008b\"}});\n\t\tviewer_17231309349846315.getModel(-1).setStyle({\"elem\": \"Co\", \"model\": 0},{\"sphere\": {\"scale\": 0.4, \"color\": \"0x00008b\"}, \"stick\": {\"radius\": 0.1, \"color\": \"0x00008b\"}});\n\t\tviewer_17231309349846315.getModel(-1).setStyle({\"elem\": \"Ni\", \"model\": 0},{\"sphere\": {\"scale\": 0.4, \"color\": \"blue\"}, \"stick\": {\"radius\": 0.1, \"color\": \"blue\"}});\n\t\tviewer_17231309349846315.getModel(-1).setStyle({\"elem\": \"Cu\", \"model\": 0},{\"sphere\": {\"scale\": 0.4, \"color\": \"0x8b0000\"}, \"stick\": {\"radius\": 0.1, \"color\": \"0x8b0000\"}});\n\t\tviewer_17231309349846315.getModel(-1).setStyle({\"elem\": \"Zn\", \"model\": 0},{\"sphere\": {\"scale\": 0.4, \"color\": \"0xadd8e6\"}, \"stick\": {\"radius\": 0.1, \"color\": \"0xadd8e6\"}});\n\t\tviewer_17231309349846315.getModel(-1).setStyle({\"elem\": \"Pt\", \"model\": 0},{\"sphere\": {\"scale\": 0.4, \"color\": \"cyan\"}, \"stick\": {\"radius\": 0.1, \"color\": \"cyan\"}});\n\t\tviewer_17231309349846315.getModel(-1).setStyle({\"elem\": \"Ir\", \"model\": 0},{\"sphere\": {\"scale\": 0.4, \"color\": \"violet\"}, \"stick\": {\"radius\": 0.1, \"color\": \"violet\"}});\n\t\tviewer_17231309349846315.getModel(-1).setFrame(0);\n\t\tviewer_17231309349846315.getModel(-1).setStyle({\"model\": 0},{\"sphere\": {\"scale\": 0.4, \"color\": \"0xda70d6\"}, \"stick\": {\"radius\": 0.1, \"color\": \"0xda70d6\"}});\n\t\tviewer_17231309349846315.getModel(-1).setStyle({\"elem\": \"H\", \"model\": 0},{\"sphere\": {\"scale\": 0.4, \"color\": \"white\"}, \"stick\": {\"radius\": 0.1, \"color\": \"white\"}});\n\t\tviewer_17231309349846315.getModel(-1).setStyle({\"elem\": \"C\", \"model\": 0},{\"sphere\": {\"scale\": 0.4, \"color\": \"black\"}, \"stick\": {\"radius\": 0.1, \"color\": \"black\"}});\n\t\tviewer_17231309349846315.getModel(-1).setStyle({\"elem\": \"N\", \"model\": 0},{\"sphere\": {\"scale\": 0.4, \"color\": \"blue\"}, \"stick\": {\"radius\": 0.1, \"color\": \"blue\"}});\n\t\tviewer_17231309349846315.getModel(-1).setStyle({\"elem\": \"O\", \"model\": 0},{\"sphere\": {\"scale\": 0.4, \"color\": \"red\"}, \"stick\": {\"radius\": 0.1, \"color\": \"red\"}});\n\t\tviewer_17231309349846315.getModel(-1).setStyle({\"elem\": \"F\", \"model\": 0},{\"sphere\": {\"scale\": 0.4, \"color\": \"green\"}, \"stick\": {\"radius\": 0.1, \"color\": \"green\"}});\n\t\tviewer_17231309349846315.getModel(-1).setStyle({\"elem\": \"Cl\", \"model\": 0},{\"sphere\": {\"scale\": 0.4, \"color\": \"green\"}, \"stick\": {\"radius\": 0.1, \"color\": \"green\"}});\n\t\tviewer_17231309349846315.getModel(-1).setStyle({\"elem\": \"Br\", \"model\": 0},{\"sphere\": {\"scale\": 0.4, \"color\": \"0x8b0000\"}, \"stick\": {\"radius\": 0.1, \"color\": \"0x8b0000\"}});\n\t\tviewer_17231309349846315.getModel(-1).setStyle({\"elem\": \"I\", \"model\": 0},{\"sphere\": {\"scale\": 0.4, \"color\": \"0x9400d3\"}, \"stick\": {\"radius\": 0.1, \"color\": \"0x9400d3\"}});\n\t\tviewer_17231309349846315.getModel(-1).setStyle({\"elem\": \"He\", \"model\": 0},{\"sphere\": {\"scale\": 0.4, \"color\": \"cyan\"}, \"stick\": {\"radius\": 0.1, \"color\": \"cyan\"}});\n\t\tviewer_17231309349846315.getModel(-1).setStyle({\"elem\": \"Ne\", \"model\": 0},{\"sphere\": {\"scale\": 0.4, \"color\": \"cyan\"}, \"stick\": {\"radius\": 0.1, \"color\": \"cyan\"}});\n\t\tviewer_17231309349846315.getModel(-1).setStyle({\"elem\": \"Ar\", \"model\": 0},{\"sphere\": {\"scale\": 0.4, \"color\": \"cyan\"}, \"stick\": {\"radius\": 0.1, \"color\": \"cyan\"}});\n\t\tviewer_17231309349846315.getModel(-1).setStyle({\"elem\": \"Ce\", \"model\": 0},{\"sphere\": {\"scale\": 0.4, \"color\": \"cyan\"}, \"stick\": {\"radius\": 0.1, \"color\": \"cyan\"}});\n\t\tviewer_17231309349846315.getModel(-1).setStyle({\"elem\": \"Kr\", \"model\": 0},{\"sphere\": {\"scale\": 0.4, \"color\": \"cyan\"}, \"stick\": {\"radius\": 0.1, \"color\": \"cyan\"}});\n\t\tviewer_17231309349846315.getModel(-1).setStyle({\"elem\": \"P\", \"model\": 0},{\"sphere\": {\"scale\": 0.4, \"color\": \"orange\"}, \"stick\": {\"radius\": 0.1, \"color\": \"orange\"}});\n\t\tviewer_17231309349846315.getModel(-1).setStyle({\"elem\": \"S\", \"model\": 0},{\"sphere\": {\"scale\": 0.4, \"color\": \"yellow\"}, \"stick\": {\"radius\": 0.1, \"color\": \"yellow\"}});\n\t\tviewer_17231309349846315.getModel(-1).setStyle({\"elem\": \"B\", \"model\": 0},{\"sphere\": {\"scale\": 0.4, \"color\": \"0xffa07a\"}, \"stick\": {\"radius\": 0.1, \"color\": \"0xffa07a\"}});\n\t\tviewer_17231309349846315.getModel(-1).setStyle({\"elem\": \"Li\", \"model\": 0},{\"sphere\": {\"scale\": 0.4, \"color\": \"0x32cd32\"}, \"stick\": {\"radius\": 0.1, \"color\": \"0x32cd32\"}});\n\t\tviewer_17231309349846315.getModel(-1).setStyle({\"elem\": \"Na\", \"model\": 0},{\"sphere\": {\"scale\": 0.4, \"color\": \"violet\"}, \"stick\": {\"radius\": 0.1, \"color\": \"violet\"}});\n\t\tviewer_17231309349846315.getModel(-1).setStyle({\"elem\": \"K\", \"model\": 0},{\"sphere\": {\"scale\": 0.4, \"color\": \"violet\"}, \"stick\": {\"radius\": 0.1, \"color\": \"violet\"}});\n\t\tviewer_17231309349846315.getModel(-1).setStyle({\"elem\": \"Rb\", \"model\": 0},{\"sphere\": {\"scale\": 0.4, \"color\": \"violet\"}, \"stick\": {\"radius\": 0.1, \"color\": \"violet\"}});\n\t\tviewer_17231309349846315.getModel(-1).setStyle({\"elem\": \"Cs\", \"model\": 0},{\"sphere\": {\"scale\": 0.4, \"color\": \"violet\"}, \"stick\": {\"radius\": 0.1, \"color\": \"violet\"}});\n\t\tviewer_17231309349846315.getModel(-1).setStyle({\"elem\": \"Fr\", \"model\": 0},{\"sphere\": {\"scale\": 0.4, \"color\": \"violet\"}, \"stick\": {\"radius\": 0.1, \"color\": \"violet\"}});\n\t\tviewer_17231309349846315.getModel(-1).setStyle({\"elem\": \"Be\", \"model\": 0},{\"sphere\": {\"scale\": 0.4, \"color\": \"0x2e8b57\"}, \"stick\": {\"radius\": 0.1, \"color\": \"0x2e8b57\"}});\n\t\tviewer_17231309349846315.getModel(-1).setStyle({\"elem\": \"Mg\", \"model\": 0},{\"sphere\": {\"scale\": 0.4, \"color\": \"0x2e8b57\"}, \"stick\": {\"radius\": 0.1, \"color\": \"0x2e8b57\"}});\n\t\tviewer_17231309349846315.getModel(-1).setStyle({\"elem\": \"Ca\", \"model\": 0},{\"sphere\": {\"scale\": 0.4, \"color\": \"0x2e8b57\"}, \"stick\": {\"radius\": 0.1, \"color\": \"0x2e8b57\"}});\n\t\tviewer_17231309349846315.getModel(-1).setStyle({\"elem\": \"Sr\", \"model\": 0},{\"sphere\": {\"scale\": 0.4, \"color\": \"0x2e8b57\"}, \"stick\": {\"radius\": 0.1, \"color\": \"0x2e8b57\"}});\n\t\tviewer_17231309349846315.getModel(-1).setStyle({\"elem\": \"Ba\", \"model\": 0},{\"sphere\": {\"scale\": 0.4, \"color\": \"0x2e8b57\"}, \"stick\": {\"radius\": 0.1, \"color\": \"0x2e8b57\"}});\n\t\tviewer_17231309349846315.getModel(-1).setStyle({\"elem\": \"Ra\", \"model\": 0},{\"sphere\": {\"scale\": 0.4, \"color\": \"0x2e8b57\"}, \"stick\": {\"radius\": 0.1, \"color\": \"0x2e8b57\"}});\n\t\tviewer_17231309349846315.getModel(-1).setStyle({\"elem\": \"Ti\", \"model\": 0},{\"sphere\": {\"scale\": 0.4, \"color\": \"0x48d1cc\"}, \"stick\": {\"radius\": 0.1, \"color\": \"0x48d1cc\"}});\n\t\tviewer_17231309349846315.getModel(-1).setStyle({\"elem\": \"Fe\", \"model\": 0},{\"sphere\": {\"scale\": 0.4, \"color\": \"0xff8c00\"}, \"stick\": {\"radius\": 0.1, \"color\": \"0xff8c00\"}});\n\t\tviewer_17231309349846315.getModel(-1).setStyle({\"elem\": \"Sc\", \"model\": 0},{\"sphere\": {\"scale\": 0.4, \"color\": \"0x6b8e23\"}, \"stick\": {\"radius\": 0.1, \"color\": \"0x6b8e23\"}});\n\t\tviewer_17231309349846315.getModel(-1).setStyle({\"elem\": \"V\", \"model\": 0},{\"sphere\": {\"scale\": 0.4, \"color\": \"0xC71585\"}, \"stick\": {\"radius\": 0.1, \"color\": \"0xC71585\"}});\n\t\tviewer_17231309349846315.getModel(-1).setStyle({\"elem\": \"Cr\", \"model\": 0},{\"sphere\": {\"scale\": 0.4, \"color\": \"0x87cefa\"}, \"stick\": {\"radius\": 0.1, \"color\": \"0x87cefa\"}});\n\t\tviewer_17231309349846315.getModel(-1).setStyle({\"elem\": \"Mn\", \"model\": 0},{\"sphere\": {\"scale\": 0.4, \"color\": \"0x8b008b\"}, \"stick\": {\"radius\": 0.1, \"color\": \"0x8b008b\"}});\n\t\tviewer_17231309349846315.getModel(-1).setStyle({\"elem\": \"Co\", \"model\": 0},{\"sphere\": {\"scale\": 0.4, \"color\": \"0x00008b\"}, \"stick\": {\"radius\": 0.1, \"color\": \"0x00008b\"}});\n\t\tviewer_17231309349846315.getModel(-1).setStyle({\"elem\": \"Ni\", \"model\": 0},{\"sphere\": {\"scale\": 0.4, \"color\": \"blue\"}, \"stick\": {\"radius\": 0.1, \"color\": \"blue\"}});\n\t\tviewer_17231309349846315.getModel(-1).setStyle({\"elem\": \"Cu\", \"model\": 0},{\"sphere\": {\"scale\": 0.4, \"color\": \"0x8b0000\"}, \"stick\": {\"radius\": 0.1, \"color\": \"0x8b0000\"}});\n\t\tviewer_17231309349846315.getModel(-1).setStyle({\"elem\": \"Zn\", \"model\": 0},{\"sphere\": {\"scale\": 0.4, \"color\": \"0xadd8e6\"}, \"stick\": {\"radius\": 0.1, \"color\": \"0xadd8e6\"}});\n\t\tviewer_17231309349846315.getModel(-1).setStyle({\"elem\": \"Pt\", \"model\": 0},{\"sphere\": {\"scale\": 0.4, \"color\": \"cyan\"}, \"stick\": {\"radius\": 0.1, \"color\": \"cyan\"}});\n\t\tviewer_17231309349846315.getModel(-1).setStyle({\"elem\": \"Ir\", \"model\": 0},{\"sphere\": {\"scale\": 0.4, \"color\": \"violet\"}, \"stick\": {\"radius\": 0.1, \"color\": \"violet\"}});\n\t\tviewer_17231309349846315.getModel(-1).setFrame(0);\n\tviewer_17231309349846315.setHoverable({},true,\"function(atom, viewer, event, container) {\\n                 if(!atom.label) {\\n                   atom.label = viewer.addLabel(\\n                     atom.serial + \\\" \\\" + atom.atom,\\n                     {position: atom,\\n                      backgroundColor: 'mintcream',\\n                      fontColor:'black'});\\n                  }\\n                }\",\"function(atom, viewer) {\\n                 if(atom.label) {\\n                   viewer.removeLabel(atom.label);\\n                   delete atom.label;\\n                 }\\n               }\");\n\n                viewer_17231309349846315.render();\n            });\n            </script>"
                },
                "metadata": {}
              }
            ]
          }
        },
        "2498befa80314135bd5a3edd0117db1b": {
          "model_module": "@jupyter-widgets/controls",
          "model_name": "HBoxModel",
          "model_module_version": "1.5.0",
          "state": {
            "_dom_classes": [],
            "_model_module": "@jupyter-widgets/controls",
            "_model_module_version": "1.5.0",
            "_model_name": "HBoxModel",
            "_view_count": null,
            "_view_module": "@jupyter-widgets/controls",
            "_view_module_version": "1.5.0",
            "_view_name": "HBoxView",
            "box_style": "",
            "children": [
              "IPY_MODEL_2649bc434fc34ed394a5999d6f2b6a02",
              "IPY_MODEL_d62b15d46dbe48ae9fa43936918c95a1"
            ],
            "layout": "IPY_MODEL_55c84538b81b4c25b3baf71020d729c1"
          }
        },
        "1aff0c4ab9734ead95b06ab8984e0e2a": {
          "model_module": "@jupyter-widgets/base",
          "model_name": "LayoutModel",
          "model_module_version": "1.2.0",
          "state": {
            "_model_module": "@jupyter-widgets/base",
            "_model_module_version": "1.2.0",
            "_model_name": "LayoutModel",
            "_view_count": null,
            "_view_module": "@jupyter-widgets/base",
            "_view_module_version": "1.2.0",
            "_view_name": "LayoutView",
            "align_content": null,
            "align_items": "center",
            "align_self": null,
            "border": null,
            "bottom": null,
            "display": null,
            "flex": null,
            "flex_flow": null,
            "grid_area": null,
            "grid_auto_columns": null,
            "grid_auto_flow": null,
            "grid_auto_rows": null,
            "grid_column": null,
            "grid_gap": null,
            "grid_row": null,
            "grid_template_areas": null,
            "grid_template_columns": null,
            "grid_template_rows": null,
            "height": null,
            "justify_content": null,
            "justify_items": null,
            "left": null,
            "margin": null,
            "max_height": null,
            "max_width": null,
            "min_height": null,
            "min_width": null,
            "object_fit": null,
            "object_position": null,
            "order": null,
            "overflow": null,
            "overflow_x": null,
            "overflow_y": null,
            "padding": null,
            "right": null,
            "top": null,
            "visibility": null,
            "width": null
          }
        },
        "c9de7e91008b499687c9a180aee7d945": {
          "model_module": "@jupyter-widgets/controls",
          "model_name": "DropdownModel",
          "model_module_version": "1.5.0",
          "state": {
            "_dom_classes": [],
            "_model_module": "@jupyter-widgets/controls",
            "_model_module_version": "1.5.0",
            "_model_name": "DropdownModel",
            "_options_labels": [
              "0"
            ],
            "_view_count": null,
            "_view_module": "@jupyter-widgets/controls",
            "_view_module_version": "1.5.0",
            "_view_name": "DropdownView",
            "description": "Model",
            "description_tooltip": null,
            "disabled": false,
            "index": 0,
            "layout": "IPY_MODEL_b68a2fb1f91941d5a87e7916a518b845",
            "style": "IPY_MODEL_0e0fc123587a4089a715d8e10793fc88"
          }
        },
        "d995ed48abb8431fb8a0ffe02549f938": {
          "model_module": "@jupyter-widgets/controls",
          "model_name": "DropdownModel",
          "model_module_version": "1.5.0",
          "state": {
            "_dom_classes": [],
            "_model_module": "@jupyter-widgets/controls",
            "_model_module_version": "1.5.0",
            "_model_name": "DropdownModel",
            "_options_labels": [
              "sticks",
              "ballsticks",
              "vanderwaals",
              "default"
            ],
            "_view_count": null,
            "_view_module": "@jupyter-widgets/controls",
            "_view_module_version": "1.5.0",
            "_view_name": "DropdownView",
            "description": "Style",
            "description_tooltip": null,
            "disabled": false,
            "index": 3,
            "layout": "IPY_MODEL_9fbcf057c0af48d5868383dec20cf307",
            "style": "IPY_MODEL_e3685279c6e74027a516dfc7a74e5131"
          }
        },
        "090348f512694316b66f07afbe669522": {
          "model_module": "@jupyter-widgets/base",
          "model_name": "LayoutModel",
          "model_module_version": "1.2.0",
          "state": {
            "_model_module": "@jupyter-widgets/base",
            "_model_module_version": "1.2.0",
            "_model_name": "LayoutModel",
            "_view_count": null,
            "_view_module": "@jupyter-widgets/base",
            "_view_module_version": "1.2.0",
            "_view_name": "LayoutView",
            "align_content": null,
            "align_items": null,
            "align_self": null,
            "border": null,
            "bottom": null,
            "display": null,
            "flex": null,
            "flex_flow": null,
            "grid_area": null,
            "grid_auto_columns": null,
            "grid_auto_flow": null,
            "grid_auto_rows": null,
            "grid_column": null,
            "grid_gap": null,
            "grid_row": null,
            "grid_template_areas": null,
            "grid_template_columns": null,
            "grid_template_rows": null,
            "height": null,
            "justify_content": null,
            "justify_items": null,
            "left": null,
            "margin": null,
            "max_height": null,
            "max_width": null,
            "min_height": null,
            "min_width": null,
            "object_fit": null,
            "object_position": null,
            "order": null,
            "overflow": null,
            "overflow_x": null,
            "overflow_y": null,
            "padding": null,
            "right": null,
            "top": null,
            "visibility": null,
            "width": null
          }
        },
        "2649bc434fc34ed394a5999d6f2b6a02": {
          "model_module": "@jupyter-widgets/controls",
          "model_name": "VBoxModel",
          "model_module_version": "1.5.0",
          "state": {
            "_dom_classes": [],
            "_model_module": "@jupyter-widgets/controls",
            "_model_module_version": "1.5.0",
            "_model_name": "VBoxModel",
            "_view_count": null,
            "_view_module": "@jupyter-widgets/controls",
            "_view_module_version": "1.5.0",
            "_view_name": "VBoxView",
            "box_style": "",
            "children": [
              "IPY_MODEL_e125469fc2a54eb1a842363536a9e4a0",
              "IPY_MODEL_62cb76c2ad7c4bcc9ee1462507f1b5a7"
            ],
            "layout": "IPY_MODEL_fd70a95b10bb412bafcad03dd6442b44"
          }
        },
        "d62b15d46dbe48ae9fa43936918c95a1": {
          "model_module": "@jupyter-widgets/controls",
          "model_name": "VBoxModel",
          "model_module_version": "1.5.0",
          "state": {
            "_dom_classes": [],
            "_model_module": "@jupyter-widgets/controls",
            "_model_module_version": "1.5.0",
            "_model_name": "VBoxModel",
            "_view_count": null,
            "_view_module": "@jupyter-widgets/controls",
            "_view_module_version": "1.5.0",
            "_view_name": "VBoxView",
            "box_style": "",
            "children": [
              "IPY_MODEL_382eeac8ced34bfcb763c01777d541e0",
              "IPY_MODEL_5c4cb0981a2649c9b8a4eac55d2095f0"
            ],
            "layout": "IPY_MODEL_42e4f93f0e124d9e8f290c2c4c92cdc1"
          }
        },
        "55c84538b81b4c25b3baf71020d729c1": {
          "model_module": "@jupyter-widgets/base",
          "model_name": "LayoutModel",
          "model_module_version": "1.2.0",
          "state": {
            "_model_module": "@jupyter-widgets/base",
            "_model_module_version": "1.2.0",
            "_model_name": "LayoutModel",
            "_view_count": null,
            "_view_module": "@jupyter-widgets/base",
            "_view_module_version": "1.2.0",
            "_view_name": "LayoutView",
            "align_content": null,
            "align_items": null,
            "align_self": null,
            "border": null,
            "bottom": null,
            "display": null,
            "flex": null,
            "flex_flow": null,
            "grid_area": null,
            "grid_auto_columns": null,
            "grid_auto_flow": null,
            "grid_auto_rows": null,
            "grid_column": null,
            "grid_gap": null,
            "grid_row": null,
            "grid_template_areas": null,
            "grid_template_columns": null,
            "grid_template_rows": null,
            "height": null,
            "justify_content": null,
            "justify_items": null,
            "left": null,
            "margin": null,
            "max_height": null,
            "max_width": null,
            "min_height": null,
            "min_width": null,
            "object_fit": null,
            "object_position": null,
            "order": null,
            "overflow": null,
            "overflow_x": null,
            "overflow_y": null,
            "padding": null,
            "right": null,
            "top": null,
            "visibility": null,
            "width": null
          }
        },
        "b68a2fb1f91941d5a87e7916a518b845": {
          "model_module": "@jupyter-widgets/base",
          "model_name": "LayoutModel",
          "model_module_version": "1.2.0",
          "state": {
            "_model_module": "@jupyter-widgets/base",
            "_model_module_version": "1.2.0",
            "_model_name": "LayoutModel",
            "_view_count": null,
            "_view_module": "@jupyter-widgets/base",
            "_view_module_version": "1.2.0",
            "_view_name": "LayoutView",
            "align_content": null,
            "align_items": null,
            "align_self": null,
            "border": null,
            "bottom": null,
            "display": null,
            "flex": null,
            "flex_flow": null,
            "grid_area": null,
            "grid_auto_columns": null,
            "grid_auto_flow": null,
            "grid_auto_rows": null,
            "grid_column": null,
            "grid_gap": null,
            "grid_row": null,
            "grid_template_areas": null,
            "grid_template_columns": null,
            "grid_template_rows": null,
            "height": null,
            "justify_content": null,
            "justify_items": null,
            "left": null,
            "margin": null,
            "max_height": null,
            "max_width": null,
            "min_height": null,
            "min_width": null,
            "object_fit": null,
            "object_position": null,
            "order": null,
            "overflow": null,
            "overflow_x": null,
            "overflow_y": null,
            "padding": null,
            "right": null,
            "top": null,
            "visibility": null,
            "width": null
          }
        },
        "0e0fc123587a4089a715d8e10793fc88": {
          "model_module": "@jupyter-widgets/controls",
          "model_name": "DescriptionStyleModel",
          "model_module_version": "1.5.0",
          "state": {
            "_model_module": "@jupyter-widgets/controls",
            "_model_module_version": "1.5.0",
            "_model_name": "DescriptionStyleModel",
            "_view_count": null,
            "_view_module": "@jupyter-widgets/base",
            "_view_module_version": "1.2.0",
            "_view_name": "StyleView",
            "description_width": ""
          }
        },
        "9fbcf057c0af48d5868383dec20cf307": {
          "model_module": "@jupyter-widgets/base",
          "model_name": "LayoutModel",
          "model_module_version": "1.2.0",
          "state": {
            "_model_module": "@jupyter-widgets/base",
            "_model_module_version": "1.2.0",
            "_model_name": "LayoutModel",
            "_view_count": null,
            "_view_module": "@jupyter-widgets/base",
            "_view_module_version": "1.2.0",
            "_view_name": "LayoutView",
            "align_content": null,
            "align_items": null,
            "align_self": null,
            "border": null,
            "bottom": null,
            "display": null,
            "flex": null,
            "flex_flow": null,
            "grid_area": null,
            "grid_auto_columns": null,
            "grid_auto_flow": null,
            "grid_auto_rows": null,
            "grid_column": null,
            "grid_gap": null,
            "grid_row": null,
            "grid_template_areas": null,
            "grid_template_columns": null,
            "grid_template_rows": null,
            "height": null,
            "justify_content": null,
            "justify_items": null,
            "left": null,
            "margin": null,
            "max_height": null,
            "max_width": null,
            "min_height": null,
            "min_width": null,
            "object_fit": null,
            "object_position": null,
            "order": null,
            "overflow": null,
            "overflow_x": null,
            "overflow_y": null,
            "padding": null,
            "right": null,
            "top": null,
            "visibility": null,
            "width": null
          }
        },
        "e3685279c6e74027a516dfc7a74e5131": {
          "model_module": "@jupyter-widgets/controls",
          "model_name": "DescriptionStyleModel",
          "model_module_version": "1.5.0",
          "state": {
            "_model_module": "@jupyter-widgets/controls",
            "_model_module_version": "1.5.0",
            "_model_name": "DescriptionStyleModel",
            "_view_count": null,
            "_view_module": "@jupyter-widgets/base",
            "_view_module_version": "1.2.0",
            "_view_name": "StyleView",
            "description_width": ""
          }
        },
        "e125469fc2a54eb1a842363536a9e4a0": {
          "model_module": "@jupyter-widgets/controls",
          "model_name": "BoundedIntTextModel",
          "model_module_version": "1.5.0",
          "state": {
            "_dom_classes": [],
            "_model_module": "@jupyter-widgets/controls",
            "_model_module_version": "1.5.0",
            "_model_name": "BoundedIntTextModel",
            "_view_count": null,
            "_view_module": "@jupyter-widgets/controls",
            "_view_module_version": "1.5.0",
            "_view_name": "IntTextView",
            "continuous_update": false,
            "description": "Step",
            "description_tooltip": null,
            "disabled": false,
            "layout": "IPY_MODEL_9892782ba19445b48b7368116b4c3701",
            "max": 1,
            "min": 1,
            "step": 1,
            "style": "IPY_MODEL_10e7f03e18b949ed9ec8816fbcbc8eb8",
            "value": 1
          }
        },
        "62cb76c2ad7c4bcc9ee1462507f1b5a7": {
          "model_module": "@jupyter-widgets/controls",
          "model_name": "IntTextModel",
          "model_module_version": "1.5.0",
          "state": {
            "_dom_classes": [],
            "_model_module": "@jupyter-widgets/controls",
            "_model_module_version": "1.5.0",
            "_model_name": "IntTextModel",
            "_view_count": null,
            "_view_module": "@jupyter-widgets/controls",
            "_view_module_version": "1.5.0",
            "_view_name": "IntTextView",
            "continuous_update": false,
            "description": "Delay (ms)",
            "description_tooltip": null,
            "disabled": false,
            "layout": "IPY_MODEL_56904cf4ca594e07b49cea08f73600e5",
            "step": 1,
            "style": "IPY_MODEL_c73ed3b8aee14f03b00fa8b0a0e650bd",
            "value": 100
          }
        },
        "fd70a95b10bb412bafcad03dd6442b44": {
          "model_module": "@jupyter-widgets/base",
          "model_name": "LayoutModel",
          "model_module_version": "1.2.0",
          "state": {
            "_model_module": "@jupyter-widgets/base",
            "_model_module_version": "1.2.0",
            "_model_name": "LayoutModel",
            "_view_count": null,
            "_view_module": "@jupyter-widgets/base",
            "_view_module_version": "1.2.0",
            "_view_name": "LayoutView",
            "align_content": null,
            "align_items": null,
            "align_self": null,
            "border": null,
            "bottom": null,
            "display": null,
            "flex": null,
            "flex_flow": null,
            "grid_area": null,
            "grid_auto_columns": null,
            "grid_auto_flow": null,
            "grid_auto_rows": null,
            "grid_column": null,
            "grid_gap": null,
            "grid_row": null,
            "grid_template_areas": null,
            "grid_template_columns": null,
            "grid_template_rows": null,
            "height": null,
            "justify_content": null,
            "justify_items": null,
            "left": null,
            "margin": null,
            "max_height": null,
            "max_width": null,
            "min_height": null,
            "min_width": null,
            "object_fit": null,
            "object_position": null,
            "order": null,
            "overflow": null,
            "overflow_x": null,
            "overflow_y": null,
            "padding": null,
            "right": null,
            "top": null,
            "visibility": null,
            "width": null
          }
        },
        "382eeac8ced34bfcb763c01777d541e0": {
          "model_module": "@jupyter-widgets/controls",
          "model_name": "IntSliderModel",
          "model_module_version": "1.5.0",
          "state": {
            "_dom_classes": [],
            "_model_module": "@jupyter-widgets/controls",
            "_model_module_version": "1.5.0",
            "_model_name": "IntSliderModel",
            "_view_count": null,
            "_view_module": "@jupyter-widgets/controls",
            "_view_module_version": "1.5.0",
            "_view_name": "IntSliderView",
            "continuous_update": true,
            "description": "Frame",
            "description_tooltip": null,
            "disabled": false,
            "layout": "IPY_MODEL_f1f2caffa9b343169d8eacc7aa6a966e",
            "max": 0,
            "min": 0,
            "orientation": "horizontal",
            "readout": true,
            "readout_format": "d",
            "step": 1,
            "style": "IPY_MODEL_53a4065e0f274ce6be4a719f1047dc6a",
            "value": 0
          }
        },
        "5c4cb0981a2649c9b8a4eac55d2095f0": {
          "model_module": "@jupyter-widgets/controls",
          "model_name": "HBoxModel",
          "model_module_version": "1.5.0",
          "state": {
            "_dom_classes": [],
            "_model_module": "@jupyter-widgets/controls",
            "_model_module_version": "1.5.0",
            "_model_name": "HBoxModel",
            "_view_count": null,
            "_view_module": "@jupyter-widgets/controls",
            "_view_module_version": "1.5.0",
            "_view_name": "HBoxView",
            "box_style": "",
            "children": [
              "IPY_MODEL_f85722ab079d4ad9bfde227db3a2a2a6",
              "IPY_MODEL_4415b9d8082645f8a329dc32bce9009c",
              "IPY_MODEL_2684f041fda34139a84e22c398f4e678"
            ],
            "layout": "IPY_MODEL_5a3c23a5a79049c8aa0368338bd1edd3"
          }
        },
        "42e4f93f0e124d9e8f290c2c4c92cdc1": {
          "model_module": "@jupyter-widgets/base",
          "model_name": "LayoutModel",
          "model_module_version": "1.2.0",
          "state": {
            "_model_module": "@jupyter-widgets/base",
            "_model_module_version": "1.2.0",
            "_model_name": "LayoutModel",
            "_view_count": null,
            "_view_module": "@jupyter-widgets/base",
            "_view_module_version": "1.2.0",
            "_view_name": "LayoutView",
            "align_content": null,
            "align_items": "center",
            "align_self": null,
            "border": null,
            "bottom": null,
            "display": null,
            "flex": null,
            "flex_flow": null,
            "grid_area": null,
            "grid_auto_columns": null,
            "grid_auto_flow": null,
            "grid_auto_rows": null,
            "grid_column": null,
            "grid_gap": null,
            "grid_row": null,
            "grid_template_areas": null,
            "grid_template_columns": null,
            "grid_template_rows": null,
            "height": null,
            "justify_content": null,
            "justify_items": null,
            "left": null,
            "margin": null,
            "max_height": null,
            "max_width": null,
            "min_height": null,
            "min_width": null,
            "object_fit": null,
            "object_position": null,
            "order": null,
            "overflow": null,
            "overflow_x": null,
            "overflow_y": null,
            "padding": null,
            "right": null,
            "top": null,
            "visibility": null,
            "width": null
          }
        },
        "9892782ba19445b48b7368116b4c3701": {
          "model_module": "@jupyter-widgets/base",
          "model_name": "LayoutModel",
          "model_module_version": "1.2.0",
          "state": {
            "_model_module": "@jupyter-widgets/base",
            "_model_module_version": "1.2.0",
            "_model_name": "LayoutModel",
            "_view_count": null,
            "_view_module": "@jupyter-widgets/base",
            "_view_module_version": "1.2.0",
            "_view_name": "LayoutView",
            "align_content": null,
            "align_items": null,
            "align_self": null,
            "border": null,
            "bottom": null,
            "display": null,
            "flex": null,
            "flex_flow": null,
            "grid_area": null,
            "grid_auto_columns": null,
            "grid_auto_flow": null,
            "grid_auto_rows": null,
            "grid_column": null,
            "grid_gap": null,
            "grid_row": null,
            "grid_template_areas": null,
            "grid_template_columns": null,
            "grid_template_rows": null,
            "height": null,
            "justify_content": null,
            "justify_items": null,
            "left": null,
            "margin": null,
            "max_height": null,
            "max_width": "150px",
            "min_height": null,
            "min_width": null,
            "object_fit": null,
            "object_position": null,
            "order": null,
            "overflow": null,
            "overflow_x": null,
            "overflow_y": null,
            "padding": null,
            "right": null,
            "top": null,
            "visibility": null,
            "width": null
          }
        },
        "10e7f03e18b949ed9ec8816fbcbc8eb8": {
          "model_module": "@jupyter-widgets/controls",
          "model_name": "DescriptionStyleModel",
          "model_module_version": "1.5.0",
          "state": {
            "_model_module": "@jupyter-widgets/controls",
            "_model_module_version": "1.5.0",
            "_model_name": "DescriptionStyleModel",
            "_view_count": null,
            "_view_module": "@jupyter-widgets/base",
            "_view_module_version": "1.2.0",
            "_view_name": "StyleView",
            "description_width": ""
          }
        },
        "56904cf4ca594e07b49cea08f73600e5": {
          "model_module": "@jupyter-widgets/base",
          "model_name": "LayoutModel",
          "model_module_version": "1.2.0",
          "state": {
            "_model_module": "@jupyter-widgets/base",
            "_model_module_version": "1.2.0",
            "_model_name": "LayoutModel",
            "_view_count": null,
            "_view_module": "@jupyter-widgets/base",
            "_view_module_version": "1.2.0",
            "_view_name": "LayoutView",
            "align_content": null,
            "align_items": null,
            "align_self": null,
            "border": null,
            "bottom": null,
            "display": null,
            "flex": null,
            "flex_flow": null,
            "grid_area": null,
            "grid_auto_columns": null,
            "grid_auto_flow": null,
            "grid_auto_rows": null,
            "grid_column": null,
            "grid_gap": null,
            "grid_row": null,
            "grid_template_areas": null,
            "grid_template_columns": null,
            "grid_template_rows": null,
            "height": null,
            "justify_content": null,
            "justify_items": null,
            "left": null,
            "margin": null,
            "max_height": null,
            "max_width": "150px",
            "min_height": null,
            "min_width": null,
            "object_fit": null,
            "object_position": null,
            "order": null,
            "overflow": null,
            "overflow_x": null,
            "overflow_y": null,
            "padding": null,
            "right": null,
            "top": null,
            "visibility": null,
            "width": null
          }
        },
        "c73ed3b8aee14f03b00fa8b0a0e650bd": {
          "model_module": "@jupyter-widgets/controls",
          "model_name": "DescriptionStyleModel",
          "model_module_version": "1.5.0",
          "state": {
            "_model_module": "@jupyter-widgets/controls",
            "_model_module_version": "1.5.0",
            "_model_name": "DescriptionStyleModel",
            "_view_count": null,
            "_view_module": "@jupyter-widgets/base",
            "_view_module_version": "1.2.0",
            "_view_name": "StyleView",
            "description_width": ""
          }
        },
        "f1f2caffa9b343169d8eacc7aa6a966e": {
          "model_module": "@jupyter-widgets/base",
          "model_name": "LayoutModel",
          "model_module_version": "1.2.0",
          "state": {
            "_model_module": "@jupyter-widgets/base",
            "_model_module_version": "1.2.0",
            "_model_name": "LayoutModel",
            "_view_count": null,
            "_view_module": "@jupyter-widgets/base",
            "_view_module_version": "1.2.0",
            "_view_name": "LayoutView",
            "align_content": null,
            "align_items": null,
            "align_self": null,
            "border": null,
            "bottom": null,
            "display": null,
            "flex": null,
            "flex_flow": null,
            "grid_area": null,
            "grid_auto_columns": null,
            "grid_auto_flow": null,
            "grid_auto_rows": null,
            "grid_column": null,
            "grid_gap": null,
            "grid_row": null,
            "grid_template_areas": null,
            "grid_template_columns": null,
            "grid_template_rows": null,
            "height": null,
            "justify_content": null,
            "justify_items": null,
            "left": null,
            "margin": null,
            "max_height": null,
            "max_width": null,
            "min_height": null,
            "min_width": null,
            "object_fit": null,
            "object_position": null,
            "order": null,
            "overflow": null,
            "overflow_x": null,
            "overflow_y": null,
            "padding": null,
            "right": null,
            "top": null,
            "visibility": null,
            "width": "600px"
          }
        },
        "53a4065e0f274ce6be4a719f1047dc6a": {
          "model_module": "@jupyter-widgets/controls",
          "model_name": "SliderStyleModel",
          "model_module_version": "1.5.0",
          "state": {
            "_model_module": "@jupyter-widgets/controls",
            "_model_module_version": "1.5.0",
            "_model_name": "SliderStyleModel",
            "_view_count": null,
            "_view_module": "@jupyter-widgets/base",
            "_view_module_version": "1.2.0",
            "_view_name": "StyleView",
            "description_width": "",
            "handle_color": null
          }
        },
        "f85722ab079d4ad9bfde227db3a2a2a6": {
          "model_module": "@jupyter-widgets/controls",
          "model_name": "ButtonModel",
          "model_module_version": "1.5.0",
          "state": {
            "_dom_classes": [],
            "_model_module": "@jupyter-widgets/controls",
            "_model_module_version": "1.5.0",
            "_model_name": "ButtonModel",
            "_view_count": null,
            "_view_module": "@jupyter-widgets/controls",
            "_view_module_version": "1.5.0",
            "_view_name": "ButtonView",
            "button_style": "",
            "description": "◀◀",
            "disabled": false,
            "icon": "",
            "layout": "IPY_MODEL_b76e97d0f54a4572a98362430384d6d4",
            "style": "IPY_MODEL_ff2970da6b2f46f99edceb265eca934b",
            "tooltip": ""
          }
        },
        "4415b9d8082645f8a329dc32bce9009c": {
          "model_module": "@jupyter-widgets/controls",
          "model_name": "PlayModel",
          "model_module_version": "1.5.0",
          "state": {
            "_dom_classes": [],
            "_model_module": "@jupyter-widgets/controls",
            "_model_module_version": "1.5.0",
            "_model_name": "PlayModel",
            "_playing": false,
            "_repeat": false,
            "_view_count": null,
            "_view_module": "@jupyter-widgets/controls",
            "_view_module_version": "1.5.0",
            "_view_name": "PlayView",
            "description": "Animate",
            "description_tooltip": null,
            "disabled": false,
            "interval": 100,
            "layout": "IPY_MODEL_980f64e1cb39447cbf356cb1a71ac43a",
            "max": 0,
            "min": 0,
            "show_repeat": true,
            "step": 1,
            "style": "IPY_MODEL_062e331a3916435580f00a15a431f50e",
            "value": 0
          }
        },
        "2684f041fda34139a84e22c398f4e678": {
          "model_module": "@jupyter-widgets/controls",
          "model_name": "ButtonModel",
          "model_module_version": "1.5.0",
          "state": {
            "_dom_classes": [],
            "_model_module": "@jupyter-widgets/controls",
            "_model_module_version": "1.5.0",
            "_model_name": "ButtonModel",
            "_view_count": null,
            "_view_module": "@jupyter-widgets/controls",
            "_view_module_version": "1.5.0",
            "_view_name": "ButtonView",
            "button_style": "",
            "description": "▶▶",
            "disabled": false,
            "icon": "",
            "layout": "IPY_MODEL_2be5c39cc25e454e821fa0cb3b0f00a5",
            "style": "IPY_MODEL_d32a5883e89d46758fb894ea8e3675cc",
            "tooltip": ""
          }
        },
        "5a3c23a5a79049c8aa0368338bd1edd3": {
          "model_module": "@jupyter-widgets/base",
          "model_name": "LayoutModel",
          "model_module_version": "1.2.0",
          "state": {
            "_model_module": "@jupyter-widgets/base",
            "_model_module_version": "1.2.0",
            "_model_name": "LayoutModel",
            "_view_count": null,
            "_view_module": "@jupyter-widgets/base",
            "_view_module_version": "1.2.0",
            "_view_name": "LayoutView",
            "align_content": null,
            "align_items": null,
            "align_self": null,
            "border": null,
            "bottom": null,
            "display": null,
            "flex": null,
            "flex_flow": null,
            "grid_area": null,
            "grid_auto_columns": null,
            "grid_auto_flow": null,
            "grid_auto_rows": null,
            "grid_column": null,
            "grid_gap": null,
            "grid_row": null,
            "grid_template_areas": null,
            "grid_template_columns": null,
            "grid_template_rows": null,
            "height": null,
            "justify_content": null,
            "justify_items": null,
            "left": null,
            "margin": null,
            "max_height": null,
            "max_width": null,
            "min_height": null,
            "min_width": null,
            "object_fit": null,
            "object_position": null,
            "order": null,
            "overflow": null,
            "overflow_x": null,
            "overflow_y": null,
            "padding": null,
            "right": null,
            "top": null,
            "visibility": null,
            "width": null
          }
        },
        "b76e97d0f54a4572a98362430384d6d4": {
          "model_module": "@jupyter-widgets/base",
          "model_name": "LayoutModel",
          "model_module_version": "1.2.0",
          "state": {
            "_model_module": "@jupyter-widgets/base",
            "_model_module_version": "1.2.0",
            "_model_name": "LayoutModel",
            "_view_count": null,
            "_view_module": "@jupyter-widgets/base",
            "_view_module_version": "1.2.0",
            "_view_name": "LayoutView",
            "align_content": null,
            "align_items": null,
            "align_self": null,
            "border": null,
            "bottom": null,
            "display": null,
            "flex": null,
            "flex_flow": null,
            "grid_area": null,
            "grid_auto_columns": null,
            "grid_auto_flow": null,
            "grid_auto_rows": null,
            "grid_column": null,
            "grid_gap": null,
            "grid_row": null,
            "grid_template_areas": null,
            "grid_template_columns": null,
            "grid_template_rows": null,
            "height": null,
            "justify_content": null,
            "justify_items": null,
            "left": null,
            "margin": null,
            "max_height": null,
            "max_width": null,
            "min_height": null,
            "min_width": null,
            "object_fit": null,
            "object_position": null,
            "order": null,
            "overflow": null,
            "overflow_x": null,
            "overflow_y": null,
            "padding": null,
            "right": null,
            "top": null,
            "visibility": null,
            "width": "auto"
          }
        },
        "ff2970da6b2f46f99edceb265eca934b": {
          "model_module": "@jupyter-widgets/controls",
          "model_name": "ButtonStyleModel",
          "model_module_version": "1.5.0",
          "state": {
            "_model_module": "@jupyter-widgets/controls",
            "_model_module_version": "1.5.0",
            "_model_name": "ButtonStyleModel",
            "_view_count": null,
            "_view_module": "@jupyter-widgets/base",
            "_view_module_version": "1.2.0",
            "_view_name": "StyleView",
            "button_color": null,
            "font_weight": ""
          }
        },
        "980f64e1cb39447cbf356cb1a71ac43a": {
          "model_module": "@jupyter-widgets/base",
          "model_name": "LayoutModel",
          "model_module_version": "1.2.0",
          "state": {
            "_model_module": "@jupyter-widgets/base",
            "_model_module_version": "1.2.0",
            "_model_name": "LayoutModel",
            "_view_count": null,
            "_view_module": "@jupyter-widgets/base",
            "_view_module_version": "1.2.0",
            "_view_name": "LayoutView",
            "align_content": null,
            "align_items": null,
            "align_self": null,
            "border": null,
            "bottom": null,
            "display": null,
            "flex": null,
            "flex_flow": null,
            "grid_area": null,
            "grid_auto_columns": null,
            "grid_auto_flow": null,
            "grid_auto_rows": null,
            "grid_column": null,
            "grid_gap": null,
            "grid_row": null,
            "grid_template_areas": null,
            "grid_template_columns": null,
            "grid_template_rows": null,
            "height": null,
            "justify_content": null,
            "justify_items": null,
            "left": null,
            "margin": null,
            "max_height": null,
            "max_width": null,
            "min_height": null,
            "min_width": null,
            "object_fit": null,
            "object_position": null,
            "order": null,
            "overflow": null,
            "overflow_x": null,
            "overflow_y": null,
            "padding": null,
            "right": null,
            "top": null,
            "visibility": null,
            "width": null
          }
        },
        "062e331a3916435580f00a15a431f50e": {
          "model_module": "@jupyter-widgets/controls",
          "model_name": "DescriptionStyleModel",
          "model_module_version": "1.5.0",
          "state": {
            "_model_module": "@jupyter-widgets/controls",
            "_model_module_version": "1.5.0",
            "_model_name": "DescriptionStyleModel",
            "_view_count": null,
            "_view_module": "@jupyter-widgets/base",
            "_view_module_version": "1.2.0",
            "_view_name": "StyleView",
            "description_width": ""
          }
        },
        "2be5c39cc25e454e821fa0cb3b0f00a5": {
          "model_module": "@jupyter-widgets/base",
          "model_name": "LayoutModel",
          "model_module_version": "1.2.0",
          "state": {
            "_model_module": "@jupyter-widgets/base",
            "_model_module_version": "1.2.0",
            "_model_name": "LayoutModel",
            "_view_count": null,
            "_view_module": "@jupyter-widgets/base",
            "_view_module_version": "1.2.0",
            "_view_name": "LayoutView",
            "align_content": null,
            "align_items": null,
            "align_self": null,
            "border": null,
            "bottom": null,
            "display": null,
            "flex": null,
            "flex_flow": null,
            "grid_area": null,
            "grid_auto_columns": null,
            "grid_auto_flow": null,
            "grid_auto_rows": null,
            "grid_column": null,
            "grid_gap": null,
            "grid_row": null,
            "grid_template_areas": null,
            "grid_template_columns": null,
            "grid_template_rows": null,
            "height": null,
            "justify_content": null,
            "justify_items": null,
            "left": null,
            "margin": null,
            "max_height": null,
            "max_width": null,
            "min_height": null,
            "min_width": null,
            "object_fit": null,
            "object_position": null,
            "order": null,
            "overflow": null,
            "overflow_x": null,
            "overflow_y": null,
            "padding": null,
            "right": null,
            "top": null,
            "visibility": null,
            "width": "auto"
          }
        },
        "d32a5883e89d46758fb894ea8e3675cc": {
          "model_module": "@jupyter-widgets/controls",
          "model_name": "ButtonStyleModel",
          "model_module_version": "1.5.0",
          "state": {
            "_model_module": "@jupyter-widgets/controls",
            "_model_module_version": "1.5.0",
            "_model_name": "ButtonStyleModel",
            "_view_count": null,
            "_view_module": "@jupyter-widgets/base",
            "_view_module_version": "1.2.0",
            "_view_name": "StyleView",
            "button_color": null,
            "font_weight": ""
          }
        },
        "7433ea5711fa49b4979f080ec9cc2929": {
          "model_module": "@jupyter-widgets/base",
          "model_name": "LayoutModel",
          "model_module_version": "1.2.0",
          "state": {
            "_model_module": "@jupyter-widgets/base",
            "_model_module_version": "1.2.0",
            "_model_name": "LayoutModel",
            "_view_count": null,
            "_view_module": "@jupyter-widgets/base",
            "_view_module_version": "1.2.0",
            "_view_name": "LayoutView",
            "align_content": null,
            "align_items": null,
            "align_self": null,
            "border": "1px solid black",
            "bottom": null,
            "display": null,
            "flex": null,
            "flex_flow": null,
            "grid_area": null,
            "grid_auto_columns": null,
            "grid_auto_flow": null,
            "grid_auto_rows": null,
            "grid_column": null,
            "grid_gap": null,
            "grid_row": null,
            "grid_template_areas": null,
            "grid_template_columns": null,
            "grid_template_rows": null,
            "height": "402px",
            "justify_content": null,
            "justify_items": null,
            "left": null,
            "margin": null,
            "max_height": null,
            "max_width": null,
            "min_height": null,
            "min_width": null,
            "object_fit": null,
            "object_position": null,
            "order": null,
            "overflow": null,
            "overflow_x": null,
            "overflow_y": null,
            "padding": null,
            "right": null,
            "top": null,
            "visibility": null,
            "width": "602px"
          }
        },
        "927820a4b53448c4b583816c9156d3d7": {
          "model_module": "@jupyter-widgets/controls",
          "model_name": "VBoxModel",
          "model_module_version": "1.5.0",
          "state": {
            "_dom_classes": [],
            "_model_module": "@jupyter-widgets/controls",
            "_model_module_version": "1.5.0",
            "_model_name": "VBoxModel",
            "_view_count": null,
            "_view_module": "@jupyter-widgets/controls",
            "_view_module_version": "1.5.0",
            "_view_name": "VBoxView",
            "box_style": "",
            "children": [
              "IPY_MODEL_0f533fc29f6f46f5b2b8612d4397fb28",
              "IPY_MODEL_c721255eef9942e48f5a2d8c376b55a5",
              "IPY_MODEL_c2516ba10c4c41f7adcaa82a545fb6d4"
            ],
            "layout": "IPY_MODEL_f9d8410d53924f33b700a5a0f65d2f62"
          }
        },
        "0f533fc29f6f46f5b2b8612d4397fb28": {
          "model_module": "@jupyter-widgets/controls",
          "model_name": "HBoxModel",
          "model_module_version": "1.5.0",
          "state": {
            "_dom_classes": [],
            "_model_module": "@jupyter-widgets/controls",
            "_model_module_version": "1.5.0",
            "_model_name": "HBoxModel",
            "_view_count": null,
            "_view_module": "@jupyter-widgets/controls",
            "_view_module_version": "1.5.0",
            "_view_name": "HBoxView",
            "box_style": "",
            "children": [
              "IPY_MODEL_4f845bb1be2f4a30993ab4f6f962cdea",
              "IPY_MODEL_5313410546074d64bd99cdbaba63e456"
            ],
            "layout": "IPY_MODEL_394f8ecb44364e66af7638c54c27fea1"
          }
        },
        "c721255eef9942e48f5a2d8c376b55a5": {
          "model_module": "@jupyter-widgets/output",
          "model_name": "OutputModel",
          "model_module_version": "1.0.0",
          "state": {
            "_dom_classes": [],
            "_model_module": "@jupyter-widgets/output",
            "_model_module_version": "1.0.0",
            "_model_name": "OutputModel",
            "_view_count": null,
            "_view_module": "@jupyter-widgets/output",
            "_view_module_version": "1.0.0",
            "_view_name": "OutputView",
            "layout": "IPY_MODEL_85830f1a449a4dd28d4f18ff8436d1f0",
            "msg_id": "",
            "outputs": [
              {
                "output_type": "display_data",
                "data": {
                  "application/3dmoljs_load.v0": "<div id=\"3dmolviewer_17231315683470066\"  style=\"position: relative; width: 600px; height: 400px;\">\n        <p id=\"3dmolwarning_17231315683470066\" style=\"background-color:#ffcccc;color:black\">3Dmol.js failed to load for some reason.  Please check your browser console for error messages.<br></p>\n        </div>\n<script>\n\nvar loadScriptAsync = function(uri){\n  return new Promise((resolve, reject) => {\n    //this is to ignore the existence of requirejs amd\n    var savedexports, savedmodule;\n    if (typeof exports !== 'undefined') savedexports = exports;\n    else exports = {}\n    if (typeof module !== 'undefined') savedmodule = module;\n    else module = {}\n\n    var tag = document.createElement('script');\n    tag.src = uri;\n    tag.async = true;\n    tag.onload = () => {\n        exports = savedexports;\n        module = savedmodule;\n        resolve();\n    };\n  var firstScriptTag = document.getElementsByTagName('script')[0];\n  firstScriptTag.parentNode.insertBefore(tag, firstScriptTag);\n});\n};\n\nif(typeof $3Dmolpromise === 'undefined') {\n$3Dmolpromise = null;\n  $3Dmolpromise = loadScriptAsync('https://cdnjs.cloudflare.com/ajax/libs/3Dmol/2.3.0/3Dmol-min.js');\n}\n\nvar viewer_17231315683470066 = null;\nvar warn = document.getElementById(\"3dmolwarning_17231315683470066\");\nif(warn) {\n    warn.parentNode.removeChild(warn);\n}\n$3Dmolpromise.then(function() {\nviewer_17231315683470066 = $3Dmol.createViewer(document.getElementById(\"3dmolviewer_17231315683470066\"),{backgroundColor:\"white\"});\nviewer_17231315683470066.zoomTo();\n\tviewer_17231315683470066.addModelsAsFrames(\"CRYST1    4.282    6.056    6.056  90.00  90.00  90.00 P 1\\nMODEL     1\\nATOM      0   Ni MOL     1       0.000   3.028   3.028  0.00  0.00          Ni\\nATOM      1   Ni MOL     1       0.000   0.000   3.028  0.00  0.00          Ni\\nATOM      2   Ni MOL     1       2.141   4.542   4.542  0.00  0.00          Ni\\nATOM      3   Ni MOL     1       2.141   1.514   4.542  0.00  0.00          Ni\\nATOM      4   Pt MOL     1       0.000   0.000   0.000  0.00  0.00          Pt\\nATOM      5   Pt MOL     1       0.000   3.028   0.000  0.00  0.00          Pt\\nATOM      6   Pt MOL     1       2.141   1.514   1.514  0.00  0.00          Pt\\nATOM      7   Pt MOL     1       2.141   4.542   1.514  0.00  0.00          Pt\\nENDMOL\\n\",\"pdb\");\n\t\tviewer_17231315683470066.getModel(-1).setStyle({\"model\": -1},{\"sphere\": {\"scale\": 0.4, \"color\": \"0xda70d6\"}, \"stick\": {\"radius\": 0.1, \"color\": \"0xda70d6\"}});\n\t\tviewer_17231315683470066.getModel(-1).setStyle({\"elem\": \"H\", \"model\": -1},{\"sphere\": {\"scale\": 0.4, \"color\": \"white\"}, \"stick\": {\"radius\": 0.1, \"color\": \"white\"}});\n\t\tviewer_17231315683470066.getModel(-1).setStyle({\"elem\": \"C\", \"model\": -1},{\"sphere\": {\"scale\": 0.4, \"color\": \"black\"}, \"stick\": {\"radius\": 0.1, \"color\": \"black\"}});\n\t\tviewer_17231315683470066.getModel(-1).setStyle({\"elem\": \"N\", \"model\": -1},{\"sphere\": {\"scale\": 0.4, \"color\": \"blue\"}, \"stick\": {\"radius\": 0.1, \"color\": \"blue\"}});\n\t\tviewer_17231315683470066.getModel(-1).setStyle({\"elem\": \"O\", \"model\": -1},{\"sphere\": {\"scale\": 0.4, \"color\": \"red\"}, \"stick\": {\"radius\": 0.1, \"color\": \"red\"}});\n\t\tviewer_17231315683470066.getModel(-1).setStyle({\"elem\": \"F\", \"model\": -1},{\"sphere\": {\"scale\": 0.4, \"color\": \"green\"}, \"stick\": {\"radius\": 0.1, \"color\": \"green\"}});\n\t\tviewer_17231315683470066.getModel(-1).setStyle({\"elem\": \"Cl\", \"model\": -1},{\"sphere\": {\"scale\": 0.4, \"color\": \"green\"}, \"stick\": {\"radius\": 0.1, \"color\": \"green\"}});\n\t\tviewer_17231315683470066.getModel(-1).setStyle({\"elem\": \"Br\", \"model\": -1},{\"sphere\": {\"scale\": 0.4, \"color\": \"0x8b0000\"}, \"stick\": {\"radius\": 0.1, \"color\": \"0x8b0000\"}});\n\t\tviewer_17231315683470066.getModel(-1).setStyle({\"elem\": \"I\", \"model\": -1},{\"sphere\": {\"scale\": 0.4, \"color\": \"0x9400d3\"}, \"stick\": {\"radius\": 0.1, \"color\": \"0x9400d3\"}});\n\t\tviewer_17231315683470066.getModel(-1).setStyle({\"elem\": \"He\", \"model\": -1},{\"sphere\": {\"scale\": 0.4, \"color\": \"cyan\"}, \"stick\": {\"radius\": 0.1, \"color\": \"cyan\"}});\n\t\tviewer_17231315683470066.getModel(-1).setStyle({\"elem\": \"Ne\", \"model\": -1},{\"sphere\": {\"scale\": 0.4, \"color\": \"cyan\"}, \"stick\": {\"radius\": 0.1, \"color\": \"cyan\"}});\n\t\tviewer_17231315683470066.getModel(-1).setStyle({\"elem\": \"Ar\", \"model\": -1},{\"sphere\": {\"scale\": 0.4, \"color\": \"cyan\"}, \"stick\": {\"radius\": 0.1, \"color\": \"cyan\"}});\n\t\tviewer_17231315683470066.getModel(-1).setStyle({\"elem\": \"Ce\", \"model\": -1},{\"sphere\": {\"scale\": 0.4, \"color\": \"cyan\"}, \"stick\": {\"radius\": 0.1, \"color\": \"cyan\"}});\n\t\tviewer_17231315683470066.getModel(-1).setStyle({\"elem\": \"Kr\", \"model\": -1},{\"sphere\": {\"scale\": 0.4, \"color\": \"cyan\"}, \"stick\": {\"radius\": 0.1, \"color\": \"cyan\"}});\n\t\tviewer_17231315683470066.getModel(-1).setStyle({\"elem\": \"P\", \"model\": -1},{\"sphere\": {\"scale\": 0.4, \"color\": \"orange\"}, \"stick\": {\"radius\": 0.1, \"color\": \"orange\"}});\n\t\tviewer_17231315683470066.getModel(-1).setStyle({\"elem\": \"S\", \"model\": -1},{\"sphere\": {\"scale\": 0.4, \"color\": \"yellow\"}, \"stick\": {\"radius\": 0.1, \"color\": \"yellow\"}});\n\t\tviewer_17231315683470066.getModel(-1).setStyle({\"elem\": \"B\", \"model\": -1},{\"sphere\": {\"scale\": 0.4, \"color\": \"0xffa07a\"}, \"stick\": {\"radius\": 0.1, \"color\": \"0xffa07a\"}});\n\t\tviewer_17231315683470066.getModel(-1).setStyle({\"elem\": \"Li\", \"model\": -1},{\"sphere\": {\"scale\": 0.4, \"color\": \"0x32cd32\"}, \"stick\": {\"radius\": 0.1, \"color\": \"0x32cd32\"}});\n\t\tviewer_17231315683470066.getModel(-1).setStyle({\"elem\": \"Na\", \"model\": -1},{\"sphere\": {\"scale\": 0.4, \"color\": \"violet\"}, \"stick\": {\"radius\": 0.1, \"color\": \"violet\"}});\n\t\tviewer_17231315683470066.getModel(-1).setStyle({\"elem\": \"K\", \"model\": -1},{\"sphere\": {\"scale\": 0.4, \"color\": \"violet\"}, \"stick\": {\"radius\": 0.1, \"color\": \"violet\"}});\n\t\tviewer_17231315683470066.getModel(-1).setStyle({\"elem\": \"Rb\", \"model\": -1},{\"sphere\": {\"scale\": 0.4, \"color\": \"violet\"}, \"stick\": {\"radius\": 0.1, \"color\": \"violet\"}});\n\t\tviewer_17231315683470066.getModel(-1).setStyle({\"elem\": \"Cs\", \"model\": -1},{\"sphere\": {\"scale\": 0.4, \"color\": \"violet\"}, \"stick\": {\"radius\": 0.1, \"color\": \"violet\"}});\n\t\tviewer_17231315683470066.getModel(-1).setStyle({\"elem\": \"Fr\", \"model\": -1},{\"sphere\": {\"scale\": 0.4, \"color\": \"violet\"}, \"stick\": {\"radius\": 0.1, \"color\": \"violet\"}});\n\t\tviewer_17231315683470066.getModel(-1).setStyle({\"elem\": \"Be\", \"model\": -1},{\"sphere\": {\"scale\": 0.4, \"color\": \"0x2e8b57\"}, \"stick\": {\"radius\": 0.1, \"color\": \"0x2e8b57\"}});\n\t\tviewer_17231315683470066.getModel(-1).setStyle({\"elem\": \"Mg\", \"model\": -1},{\"sphere\": {\"scale\": 0.4, \"color\": \"0x2e8b57\"}, \"stick\": {\"radius\": 0.1, \"color\": \"0x2e8b57\"}});\n\t\tviewer_17231315683470066.getModel(-1).setStyle({\"elem\": \"Ca\", \"model\": -1},{\"sphere\": {\"scale\": 0.4, \"color\": \"0x2e8b57\"}, \"stick\": {\"radius\": 0.1, \"color\": \"0x2e8b57\"}});\n\t\tviewer_17231315683470066.getModel(-1).setStyle({\"elem\": \"Sr\", \"model\": -1},{\"sphere\": {\"scale\": 0.4, \"color\": \"0x2e8b57\"}, \"stick\": {\"radius\": 0.1, \"color\": \"0x2e8b57\"}});\n\t\tviewer_17231315683470066.getModel(-1).setStyle({\"elem\": \"Ba\", \"model\": -1},{\"sphere\": {\"scale\": 0.4, \"color\": \"0x2e8b57\"}, \"stick\": {\"radius\": 0.1, \"color\": \"0x2e8b57\"}});\n\t\tviewer_17231315683470066.getModel(-1).setStyle({\"elem\": \"Ra\", \"model\": -1},{\"sphere\": {\"scale\": 0.4, \"color\": \"0x2e8b57\"}, \"stick\": {\"radius\": 0.1, \"color\": \"0x2e8b57\"}});\n\t\tviewer_17231315683470066.getModel(-1).setStyle({\"elem\": \"Ti\", \"model\": -1},{\"sphere\": {\"scale\": 0.4, \"color\": \"0x48d1cc\"}, \"stick\": {\"radius\": 0.1, \"color\": \"0x48d1cc\"}});\n\t\tviewer_17231315683470066.getModel(-1).setStyle({\"elem\": \"Fe\", \"model\": -1},{\"sphere\": {\"scale\": 0.4, \"color\": \"0xff8c00\"}, \"stick\": {\"radius\": 0.1, \"color\": \"0xff8c00\"}});\n\t\tviewer_17231315683470066.getModel(-1).setStyle({\"elem\": \"Sc\", \"model\": -1},{\"sphere\": {\"scale\": 0.4, \"color\": \"0x6b8e23\"}, \"stick\": {\"radius\": 0.1, \"color\": \"0x6b8e23\"}});\n\t\tviewer_17231315683470066.getModel(-1).setStyle({\"elem\": \"V\", \"model\": -1},{\"sphere\": {\"scale\": 0.4, \"color\": \"0xC71585\"}, \"stick\": {\"radius\": 0.1, \"color\": \"0xC71585\"}});\n\t\tviewer_17231315683470066.getModel(-1).setStyle({\"elem\": \"Cr\", \"model\": -1},{\"sphere\": {\"scale\": 0.4, \"color\": \"0x87cefa\"}, \"stick\": {\"radius\": 0.1, \"color\": \"0x87cefa\"}});\n\t\tviewer_17231315683470066.getModel(-1).setStyle({\"elem\": \"Mn\", \"model\": -1},{\"sphere\": {\"scale\": 0.4, \"color\": \"0x8b008b\"}, \"stick\": {\"radius\": 0.1, \"color\": \"0x8b008b\"}});\n\t\tviewer_17231315683470066.getModel(-1).setStyle({\"elem\": \"Co\", \"model\": -1},{\"sphere\": {\"scale\": 0.4, \"color\": \"0x00008b\"}, \"stick\": {\"radius\": 0.1, \"color\": \"0x00008b\"}});\n\t\tviewer_17231315683470066.getModel(-1).setStyle({\"elem\": \"Ni\", \"model\": -1},{\"sphere\": {\"scale\": 0.4, \"color\": \"blue\"}, \"stick\": {\"radius\": 0.1, \"color\": \"blue\"}});\n\t\tviewer_17231315683470066.getModel(-1).setStyle({\"elem\": \"Cu\", \"model\": -1},{\"sphere\": {\"scale\": 0.4, \"color\": \"0x8b0000\"}, \"stick\": {\"radius\": 0.1, \"color\": \"0x8b0000\"}});\n\t\tviewer_17231315683470066.getModel(-1).setStyle({\"elem\": \"Zn\", \"model\": -1},{\"sphere\": {\"scale\": 0.4, \"color\": \"0xadd8e6\"}, \"stick\": {\"radius\": 0.1, \"color\": \"0xadd8e6\"}});\n\t\tviewer_17231315683470066.getModel(-1).setStyle({\"elem\": \"Pt\", \"model\": -1},{\"sphere\": {\"scale\": 0.4, \"color\": \"cyan\"}, \"stick\": {\"radius\": 0.1, \"color\": \"cyan\"}});\n\t\tviewer_17231315683470066.getModel(-1).setStyle({\"elem\": \"Ir\", \"model\": -1},{\"sphere\": {\"scale\": 0.4, \"color\": \"violet\"}, \"stick\": {\"radius\": 0.1, \"color\": \"violet\"}});\n\t\tviewer_17231315683470066.getModel(-1).setFrame(-1);\n\tviewer_17231315683470066.addUnitCell({\"model\": 0},{\"box\": {\"linewidth\": 1.0, \"color\": \"black\"}, \"astyle\": {\"hidden\": true}, \"bstyle\": {\"hidden\": true}, \"cstyle\": {\"hidden\": true}});\n\tviewer_17231315683470066.zoomTo();\n\tviewer_17231315683470066.setHoverable({},true,\"function(atom, viewer, event, container) {\\n                 if(!atom.label) {\\n                   atom.label = viewer.addLabel(\\n                     atom.serial + \\\" \\\" + atom.atom,\\n                     {position: atom,\\n                      backgroundColor: 'mintcream',\\n                      fontColor:'black'});\\n                  }\\n                }\",\"function(atom, viewer) {\\n                 if(atom.label) {\\n                   viewer.removeLabel(atom.label);\\n                   delete atom.label;\\n                 }\\n               }\");\nviewer_17231315683470066.render();\n});\n</script>",
                  "text/html": "<div id=\"3dmolviewer_17231315683470066\"  style=\"position: relative; width: 600px; height: 400px;\">\n        <p id=\"3dmolwarning_17231315683470066\" style=\"background-color:#ffcccc;color:black\">3Dmol.js failed to load for some reason.  Please check your browser console for error messages.<br></p>\n        </div>\n<script>\n\nvar loadScriptAsync = function(uri){\n  return new Promise((resolve, reject) => {\n    //this is to ignore the existence of requirejs amd\n    var savedexports, savedmodule;\n    if (typeof exports !== 'undefined') savedexports = exports;\n    else exports = {}\n    if (typeof module !== 'undefined') savedmodule = module;\n    else module = {}\n\n    var tag = document.createElement('script');\n    tag.src = uri;\n    tag.async = true;\n    tag.onload = () => {\n        exports = savedexports;\n        module = savedmodule;\n        resolve();\n    };\n  var firstScriptTag = document.getElementsByTagName('script')[0];\n  firstScriptTag.parentNode.insertBefore(tag, firstScriptTag);\n});\n};\n\nif(typeof $3Dmolpromise === 'undefined') {\n$3Dmolpromise = null;\n  $3Dmolpromise = loadScriptAsync('https://cdnjs.cloudflare.com/ajax/libs/3Dmol/2.3.0/3Dmol-min.js');\n}\n\nvar viewer_17231315683470066 = null;\nvar warn = document.getElementById(\"3dmolwarning_17231315683470066\");\nif(warn) {\n    warn.parentNode.removeChild(warn);\n}\n$3Dmolpromise.then(function() {\nviewer_17231315683470066 = $3Dmol.createViewer(document.getElementById(\"3dmolviewer_17231315683470066\"),{backgroundColor:\"white\"});\nviewer_17231315683470066.zoomTo();\n\tviewer_17231315683470066.addModelsAsFrames(\"CRYST1    4.282    6.056    6.056  90.00  90.00  90.00 P 1\\nMODEL     1\\nATOM      0   Ni MOL     1       0.000   3.028   3.028  0.00  0.00          Ni\\nATOM      1   Ni MOL     1       0.000   0.000   3.028  0.00  0.00          Ni\\nATOM      2   Ni MOL     1       2.141   4.542   4.542  0.00  0.00          Ni\\nATOM      3   Ni MOL     1       2.141   1.514   4.542  0.00  0.00          Ni\\nATOM      4   Pt MOL     1       0.000   0.000   0.000  0.00  0.00          Pt\\nATOM      5   Pt MOL     1       0.000   3.028   0.000  0.00  0.00          Pt\\nATOM      6   Pt MOL     1       2.141   1.514   1.514  0.00  0.00          Pt\\nATOM      7   Pt MOL     1       2.141   4.542   1.514  0.00  0.00          Pt\\nENDMOL\\n\",\"pdb\");\n\t\tviewer_17231315683470066.getModel(-1).setStyle({\"model\": -1},{\"sphere\": {\"scale\": 0.4, \"color\": \"0xda70d6\"}, \"stick\": {\"radius\": 0.1, \"color\": \"0xda70d6\"}});\n\t\tviewer_17231315683470066.getModel(-1).setStyle({\"elem\": \"H\", \"model\": -1},{\"sphere\": {\"scale\": 0.4, \"color\": \"white\"}, \"stick\": {\"radius\": 0.1, \"color\": \"white\"}});\n\t\tviewer_17231315683470066.getModel(-1).setStyle({\"elem\": \"C\", \"model\": -1},{\"sphere\": {\"scale\": 0.4, \"color\": \"black\"}, \"stick\": {\"radius\": 0.1, \"color\": \"black\"}});\n\t\tviewer_17231315683470066.getModel(-1).setStyle({\"elem\": \"N\", \"model\": -1},{\"sphere\": {\"scale\": 0.4, \"color\": \"blue\"}, \"stick\": {\"radius\": 0.1, \"color\": \"blue\"}});\n\t\tviewer_17231315683470066.getModel(-1).setStyle({\"elem\": \"O\", \"model\": -1},{\"sphere\": {\"scale\": 0.4, \"color\": \"red\"}, \"stick\": {\"radius\": 0.1, \"color\": \"red\"}});\n\t\tviewer_17231315683470066.getModel(-1).setStyle({\"elem\": \"F\", \"model\": -1},{\"sphere\": {\"scale\": 0.4, \"color\": \"green\"}, \"stick\": {\"radius\": 0.1, \"color\": \"green\"}});\n\t\tviewer_17231315683470066.getModel(-1).setStyle({\"elem\": \"Cl\", \"model\": -1},{\"sphere\": {\"scale\": 0.4, \"color\": \"green\"}, \"stick\": {\"radius\": 0.1, \"color\": \"green\"}});\n\t\tviewer_17231315683470066.getModel(-1).setStyle({\"elem\": \"Br\", \"model\": -1},{\"sphere\": {\"scale\": 0.4, \"color\": \"0x8b0000\"}, \"stick\": {\"radius\": 0.1, \"color\": \"0x8b0000\"}});\n\t\tviewer_17231315683470066.getModel(-1).setStyle({\"elem\": \"I\", \"model\": -1},{\"sphere\": {\"scale\": 0.4, \"color\": \"0x9400d3\"}, \"stick\": {\"radius\": 0.1, \"color\": \"0x9400d3\"}});\n\t\tviewer_17231315683470066.getModel(-1).setStyle({\"elem\": \"He\", \"model\": -1},{\"sphere\": {\"scale\": 0.4, \"color\": \"cyan\"}, \"stick\": {\"radius\": 0.1, \"color\": \"cyan\"}});\n\t\tviewer_17231315683470066.getModel(-1).setStyle({\"elem\": \"Ne\", \"model\": -1},{\"sphere\": {\"scale\": 0.4, \"color\": \"cyan\"}, \"stick\": {\"radius\": 0.1, \"color\": \"cyan\"}});\n\t\tviewer_17231315683470066.getModel(-1).setStyle({\"elem\": \"Ar\", \"model\": -1},{\"sphere\": {\"scale\": 0.4, \"color\": \"cyan\"}, \"stick\": {\"radius\": 0.1, \"color\": \"cyan\"}});\n\t\tviewer_17231315683470066.getModel(-1).setStyle({\"elem\": \"Ce\", \"model\": -1},{\"sphere\": {\"scale\": 0.4, \"color\": \"cyan\"}, \"stick\": {\"radius\": 0.1, \"color\": \"cyan\"}});\n\t\tviewer_17231315683470066.getModel(-1).setStyle({\"elem\": \"Kr\", \"model\": -1},{\"sphere\": {\"scale\": 0.4, \"color\": \"cyan\"}, \"stick\": {\"radius\": 0.1, \"color\": \"cyan\"}});\n\t\tviewer_17231315683470066.getModel(-1).setStyle({\"elem\": \"P\", \"model\": -1},{\"sphere\": {\"scale\": 0.4, \"color\": \"orange\"}, \"stick\": {\"radius\": 0.1, \"color\": \"orange\"}});\n\t\tviewer_17231315683470066.getModel(-1).setStyle({\"elem\": \"S\", \"model\": -1},{\"sphere\": {\"scale\": 0.4, \"color\": \"yellow\"}, \"stick\": {\"radius\": 0.1, \"color\": \"yellow\"}});\n\t\tviewer_17231315683470066.getModel(-1).setStyle({\"elem\": \"B\", \"model\": -1},{\"sphere\": {\"scale\": 0.4, \"color\": \"0xffa07a\"}, \"stick\": {\"radius\": 0.1, \"color\": \"0xffa07a\"}});\n\t\tviewer_17231315683470066.getModel(-1).setStyle({\"elem\": \"Li\", \"model\": -1},{\"sphere\": {\"scale\": 0.4, \"color\": \"0x32cd32\"}, \"stick\": {\"radius\": 0.1, \"color\": \"0x32cd32\"}});\n\t\tviewer_17231315683470066.getModel(-1).setStyle({\"elem\": \"Na\", \"model\": -1},{\"sphere\": {\"scale\": 0.4, \"color\": \"violet\"}, \"stick\": {\"radius\": 0.1, \"color\": \"violet\"}});\n\t\tviewer_17231315683470066.getModel(-1).setStyle({\"elem\": \"K\", \"model\": -1},{\"sphere\": {\"scale\": 0.4, \"color\": \"violet\"}, \"stick\": {\"radius\": 0.1, \"color\": \"violet\"}});\n\t\tviewer_17231315683470066.getModel(-1).setStyle({\"elem\": \"Rb\", \"model\": -1},{\"sphere\": {\"scale\": 0.4, \"color\": \"violet\"}, \"stick\": {\"radius\": 0.1, \"color\": \"violet\"}});\n\t\tviewer_17231315683470066.getModel(-1).setStyle({\"elem\": \"Cs\", \"model\": -1},{\"sphere\": {\"scale\": 0.4, \"color\": \"violet\"}, \"stick\": {\"radius\": 0.1, \"color\": \"violet\"}});\n\t\tviewer_17231315683470066.getModel(-1).setStyle({\"elem\": \"Fr\", \"model\": -1},{\"sphere\": {\"scale\": 0.4, \"color\": \"violet\"}, \"stick\": {\"radius\": 0.1, \"color\": \"violet\"}});\n\t\tviewer_17231315683470066.getModel(-1).setStyle({\"elem\": \"Be\", \"model\": -1},{\"sphere\": {\"scale\": 0.4, \"color\": \"0x2e8b57\"}, \"stick\": {\"radius\": 0.1, \"color\": \"0x2e8b57\"}});\n\t\tviewer_17231315683470066.getModel(-1).setStyle({\"elem\": \"Mg\", \"model\": -1},{\"sphere\": {\"scale\": 0.4, \"color\": \"0x2e8b57\"}, \"stick\": {\"radius\": 0.1, \"color\": \"0x2e8b57\"}});\n\t\tviewer_17231315683470066.getModel(-1).setStyle({\"elem\": \"Ca\", \"model\": -1},{\"sphere\": {\"scale\": 0.4, \"color\": \"0x2e8b57\"}, \"stick\": {\"radius\": 0.1, \"color\": \"0x2e8b57\"}});\n\t\tviewer_17231315683470066.getModel(-1).setStyle({\"elem\": \"Sr\", \"model\": -1},{\"sphere\": {\"scale\": 0.4, \"color\": \"0x2e8b57\"}, \"stick\": {\"radius\": 0.1, \"color\": \"0x2e8b57\"}});\n\t\tviewer_17231315683470066.getModel(-1).setStyle({\"elem\": \"Ba\", \"model\": -1},{\"sphere\": {\"scale\": 0.4, \"color\": \"0x2e8b57\"}, \"stick\": {\"radius\": 0.1, \"color\": \"0x2e8b57\"}});\n\t\tviewer_17231315683470066.getModel(-1).setStyle({\"elem\": \"Ra\", \"model\": -1},{\"sphere\": {\"scale\": 0.4, \"color\": \"0x2e8b57\"}, \"stick\": {\"radius\": 0.1, \"color\": \"0x2e8b57\"}});\n\t\tviewer_17231315683470066.getModel(-1).setStyle({\"elem\": \"Ti\", \"model\": -1},{\"sphere\": {\"scale\": 0.4, \"color\": \"0x48d1cc\"}, \"stick\": {\"radius\": 0.1, \"color\": \"0x48d1cc\"}});\n\t\tviewer_17231315683470066.getModel(-1).setStyle({\"elem\": \"Fe\", \"model\": -1},{\"sphere\": {\"scale\": 0.4, \"color\": \"0xff8c00\"}, \"stick\": {\"radius\": 0.1, \"color\": \"0xff8c00\"}});\n\t\tviewer_17231315683470066.getModel(-1).setStyle({\"elem\": \"Sc\", \"model\": -1},{\"sphere\": {\"scale\": 0.4, \"color\": \"0x6b8e23\"}, \"stick\": {\"radius\": 0.1, \"color\": \"0x6b8e23\"}});\n\t\tviewer_17231315683470066.getModel(-1).setStyle({\"elem\": \"V\", \"model\": -1},{\"sphere\": {\"scale\": 0.4, \"color\": \"0xC71585\"}, \"stick\": {\"radius\": 0.1, \"color\": \"0xC71585\"}});\n\t\tviewer_17231315683470066.getModel(-1).setStyle({\"elem\": \"Cr\", \"model\": -1},{\"sphere\": {\"scale\": 0.4, \"color\": \"0x87cefa\"}, \"stick\": {\"radius\": 0.1, \"color\": \"0x87cefa\"}});\n\t\tviewer_17231315683470066.getModel(-1).setStyle({\"elem\": \"Mn\", \"model\": -1},{\"sphere\": {\"scale\": 0.4, \"color\": \"0x8b008b\"}, \"stick\": {\"radius\": 0.1, \"color\": \"0x8b008b\"}});\n\t\tviewer_17231315683470066.getModel(-1).setStyle({\"elem\": \"Co\", \"model\": -1},{\"sphere\": {\"scale\": 0.4, \"color\": \"0x00008b\"}, \"stick\": {\"radius\": 0.1, \"color\": \"0x00008b\"}});\n\t\tviewer_17231315683470066.getModel(-1).setStyle({\"elem\": \"Ni\", \"model\": -1},{\"sphere\": {\"scale\": 0.4, \"color\": \"blue\"}, \"stick\": {\"radius\": 0.1, \"color\": \"blue\"}});\n\t\tviewer_17231315683470066.getModel(-1).setStyle({\"elem\": \"Cu\", \"model\": -1},{\"sphere\": {\"scale\": 0.4, \"color\": \"0x8b0000\"}, \"stick\": {\"radius\": 0.1, \"color\": \"0x8b0000\"}});\n\t\tviewer_17231315683470066.getModel(-1).setStyle({\"elem\": \"Zn\", \"model\": -1},{\"sphere\": {\"scale\": 0.4, \"color\": \"0xadd8e6\"}, \"stick\": {\"radius\": 0.1, \"color\": \"0xadd8e6\"}});\n\t\tviewer_17231315683470066.getModel(-1).setStyle({\"elem\": \"Pt\", \"model\": -1},{\"sphere\": {\"scale\": 0.4, \"color\": \"cyan\"}, \"stick\": {\"radius\": 0.1, \"color\": \"cyan\"}});\n\t\tviewer_17231315683470066.getModel(-1).setStyle({\"elem\": \"Ir\", \"model\": -1},{\"sphere\": {\"scale\": 0.4, \"color\": \"violet\"}, \"stick\": {\"radius\": 0.1, \"color\": \"violet\"}});\n\t\tviewer_17231315683470066.getModel(-1).setFrame(-1);\n\tviewer_17231315683470066.addUnitCell({\"model\": 0},{\"box\": {\"linewidth\": 1.0, \"color\": \"black\"}, \"astyle\": {\"hidden\": true}, \"bstyle\": {\"hidden\": true}, \"cstyle\": {\"hidden\": true}});\n\tviewer_17231315683470066.zoomTo();\n\tviewer_17231315683470066.setHoverable({},true,\"function(atom, viewer, event, container) {\\n                 if(!atom.label) {\\n                   atom.label = viewer.addLabel(\\n                     atom.serial + \\\" \\\" + atom.atom,\\n                     {position: atom,\\n                      backgroundColor: 'mintcream',\\n                      fontColor:'black'});\\n                  }\\n                }\",\"function(atom, viewer) {\\n                 if(atom.label) {\\n                   viewer.removeLabel(atom.label);\\n                   delete atom.label;\\n                 }\\n               }\");\nviewer_17231315683470066.render();\n});\n</script>"
                },
                "metadata": {}
              },
              {
                "output_type": "display_data",
                "data": {
                  "application/3dmoljs_load.v0": "<script>\n            $3Dmolpromise.then(function() { //wrap in promise for non-interactive functionality\n                \t\tviewer_17231315683470066.getModel(-1).setFrame(0);\n\t\tviewer_17231315683470066.getModel(-1).setStyle({\"model\": 0},{\"sphere\": {\"scale\": 0.4, \"color\": \"0xda70d6\"}, \"stick\": {\"radius\": 0.1, \"color\": \"0xda70d6\"}});\n\t\tviewer_17231315683470066.getModel(-1).setStyle({\"elem\": \"H\", \"model\": 0},{\"sphere\": {\"scale\": 0.4, \"color\": \"white\"}, \"stick\": {\"radius\": 0.1, \"color\": \"white\"}});\n\t\tviewer_17231315683470066.getModel(-1).setStyle({\"elem\": \"C\", \"model\": 0},{\"sphere\": {\"scale\": 0.4, \"color\": \"black\"}, \"stick\": {\"radius\": 0.1, \"color\": \"black\"}});\n\t\tviewer_17231315683470066.getModel(-1).setStyle({\"elem\": \"N\", \"model\": 0},{\"sphere\": {\"scale\": 0.4, \"color\": \"blue\"}, \"stick\": {\"radius\": 0.1, \"color\": \"blue\"}});\n\t\tviewer_17231315683470066.getModel(-1).setStyle({\"elem\": \"O\", \"model\": 0},{\"sphere\": {\"scale\": 0.4, \"color\": \"red\"}, \"stick\": {\"radius\": 0.1, \"color\": \"red\"}});\n\t\tviewer_17231315683470066.getModel(-1).setStyle({\"elem\": \"F\", \"model\": 0},{\"sphere\": {\"scale\": 0.4, \"color\": \"green\"}, \"stick\": {\"radius\": 0.1, \"color\": \"green\"}});\n\t\tviewer_17231315683470066.getModel(-1).setStyle({\"elem\": \"Cl\", \"model\": 0},{\"sphere\": {\"scale\": 0.4, \"color\": \"green\"}, \"stick\": {\"radius\": 0.1, \"color\": \"green\"}});\n\t\tviewer_17231315683470066.getModel(-1).setStyle({\"elem\": \"Br\", \"model\": 0},{\"sphere\": {\"scale\": 0.4, \"color\": \"0x8b0000\"}, \"stick\": {\"radius\": 0.1, \"color\": \"0x8b0000\"}});\n\t\tviewer_17231315683470066.getModel(-1).setStyle({\"elem\": \"I\", \"model\": 0},{\"sphere\": {\"scale\": 0.4, \"color\": \"0x9400d3\"}, \"stick\": {\"radius\": 0.1, \"color\": \"0x9400d3\"}});\n\t\tviewer_17231315683470066.getModel(-1).setStyle({\"elem\": \"He\", \"model\": 0},{\"sphere\": {\"scale\": 0.4, \"color\": \"cyan\"}, \"stick\": {\"radius\": 0.1, \"color\": \"cyan\"}});\n\t\tviewer_17231315683470066.getModel(-1).setStyle({\"elem\": \"Ne\", \"model\": 0},{\"sphere\": {\"scale\": 0.4, \"color\": \"cyan\"}, \"stick\": {\"radius\": 0.1, \"color\": \"cyan\"}});\n\t\tviewer_17231315683470066.getModel(-1).setStyle({\"elem\": \"Ar\", \"model\": 0},{\"sphere\": {\"scale\": 0.4, \"color\": \"cyan\"}, \"stick\": {\"radius\": 0.1, \"color\": \"cyan\"}});\n\t\tviewer_17231315683470066.getModel(-1).setStyle({\"elem\": \"Ce\", \"model\": 0},{\"sphere\": {\"scale\": 0.4, \"color\": \"cyan\"}, \"stick\": {\"radius\": 0.1, \"color\": \"cyan\"}});\n\t\tviewer_17231315683470066.getModel(-1).setStyle({\"elem\": \"Kr\", \"model\": 0},{\"sphere\": {\"scale\": 0.4, \"color\": \"cyan\"}, \"stick\": {\"radius\": 0.1, \"color\": \"cyan\"}});\n\t\tviewer_17231315683470066.getModel(-1).setStyle({\"elem\": \"P\", \"model\": 0},{\"sphere\": {\"scale\": 0.4, \"color\": \"orange\"}, \"stick\": {\"radius\": 0.1, \"color\": \"orange\"}});\n\t\tviewer_17231315683470066.getModel(-1).setStyle({\"elem\": \"S\", \"model\": 0},{\"sphere\": {\"scale\": 0.4, \"color\": \"yellow\"}, \"stick\": {\"radius\": 0.1, \"color\": \"yellow\"}});\n\t\tviewer_17231315683470066.getModel(-1).setStyle({\"elem\": \"B\", \"model\": 0},{\"sphere\": {\"scale\": 0.4, \"color\": \"0xffa07a\"}, \"stick\": {\"radius\": 0.1, \"color\": \"0xffa07a\"}});\n\t\tviewer_17231315683470066.getModel(-1).setStyle({\"elem\": \"Li\", \"model\": 0},{\"sphere\": {\"scale\": 0.4, \"color\": \"0x32cd32\"}, \"stick\": {\"radius\": 0.1, \"color\": \"0x32cd32\"}});\n\t\tviewer_17231315683470066.getModel(-1).setStyle({\"elem\": \"Na\", \"model\": 0},{\"sphere\": {\"scale\": 0.4, \"color\": \"violet\"}, \"stick\": {\"radius\": 0.1, \"color\": \"violet\"}});\n\t\tviewer_17231315683470066.getModel(-1).setStyle({\"elem\": \"K\", \"model\": 0},{\"sphere\": {\"scale\": 0.4, \"color\": \"violet\"}, \"stick\": {\"radius\": 0.1, \"color\": \"violet\"}});\n\t\tviewer_17231315683470066.getModel(-1).setStyle({\"elem\": \"Rb\", \"model\": 0},{\"sphere\": {\"scale\": 0.4, \"color\": \"violet\"}, \"stick\": {\"radius\": 0.1, \"color\": \"violet\"}});\n\t\tviewer_17231315683470066.getModel(-1).setStyle({\"elem\": \"Cs\", \"model\": 0},{\"sphere\": {\"scale\": 0.4, \"color\": \"violet\"}, \"stick\": {\"radius\": 0.1, \"color\": \"violet\"}});\n\t\tviewer_17231315683470066.getModel(-1).setStyle({\"elem\": \"Fr\", \"model\": 0},{\"sphere\": {\"scale\": 0.4, \"color\": \"violet\"}, \"stick\": {\"radius\": 0.1, \"color\": \"violet\"}});\n\t\tviewer_17231315683470066.getModel(-1).setStyle({\"elem\": \"Be\", \"model\": 0},{\"sphere\": {\"scale\": 0.4, \"color\": \"0x2e8b57\"}, \"stick\": {\"radius\": 0.1, \"color\": \"0x2e8b57\"}});\n\t\tviewer_17231315683470066.getModel(-1).setStyle({\"elem\": \"Mg\", \"model\": 0},{\"sphere\": {\"scale\": 0.4, \"color\": \"0x2e8b57\"}, \"stick\": {\"radius\": 0.1, \"color\": \"0x2e8b57\"}});\n\t\tviewer_17231315683470066.getModel(-1).setStyle({\"elem\": \"Ca\", \"model\": 0},{\"sphere\": {\"scale\": 0.4, \"color\": \"0x2e8b57\"}, \"stick\": {\"radius\": 0.1, \"color\": \"0x2e8b57\"}});\n\t\tviewer_17231315683470066.getModel(-1).setStyle({\"elem\": \"Sr\", \"model\": 0},{\"sphere\": {\"scale\": 0.4, \"color\": \"0x2e8b57\"}, \"stick\": {\"radius\": 0.1, \"color\": \"0x2e8b57\"}});\n\t\tviewer_17231315683470066.getModel(-1).setStyle({\"elem\": \"Ba\", \"model\": 0},{\"sphere\": {\"scale\": 0.4, \"color\": \"0x2e8b57\"}, \"stick\": {\"radius\": 0.1, \"color\": \"0x2e8b57\"}});\n\t\tviewer_17231315683470066.getModel(-1).setStyle({\"elem\": \"Ra\", \"model\": 0},{\"sphere\": {\"scale\": 0.4, \"color\": \"0x2e8b57\"}, \"stick\": {\"radius\": 0.1, \"color\": \"0x2e8b57\"}});\n\t\tviewer_17231315683470066.getModel(-1).setStyle({\"elem\": \"Ti\", \"model\": 0},{\"sphere\": {\"scale\": 0.4, \"color\": \"0x48d1cc\"}, \"stick\": {\"radius\": 0.1, \"color\": \"0x48d1cc\"}});\n\t\tviewer_17231315683470066.getModel(-1).setStyle({\"elem\": \"Fe\", \"model\": 0},{\"sphere\": {\"scale\": 0.4, \"color\": \"0xff8c00\"}, \"stick\": {\"radius\": 0.1, \"color\": \"0xff8c00\"}});\n\t\tviewer_17231315683470066.getModel(-1).setStyle({\"elem\": \"Sc\", \"model\": 0},{\"sphere\": {\"scale\": 0.4, \"color\": \"0x6b8e23\"}, \"stick\": {\"radius\": 0.1, \"color\": \"0x6b8e23\"}});\n\t\tviewer_17231315683470066.getModel(-1).setStyle({\"elem\": \"V\", \"model\": 0},{\"sphere\": {\"scale\": 0.4, \"color\": \"0xC71585\"}, \"stick\": {\"radius\": 0.1, \"color\": \"0xC71585\"}});\n\t\tviewer_17231315683470066.getModel(-1).setStyle({\"elem\": \"Cr\", \"model\": 0},{\"sphere\": {\"scale\": 0.4, \"color\": \"0x87cefa\"}, \"stick\": {\"radius\": 0.1, \"color\": \"0x87cefa\"}});\n\t\tviewer_17231315683470066.getModel(-1).setStyle({\"elem\": \"Mn\", \"model\": 0},{\"sphere\": {\"scale\": 0.4, \"color\": \"0x8b008b\"}, \"stick\": {\"radius\": 0.1, \"color\": \"0x8b008b\"}});\n\t\tviewer_17231315683470066.getModel(-1).setStyle({\"elem\": \"Co\", \"model\": 0},{\"sphere\": {\"scale\": 0.4, \"color\": \"0x00008b\"}, \"stick\": {\"radius\": 0.1, \"color\": \"0x00008b\"}});\n\t\tviewer_17231315683470066.getModel(-1).setStyle({\"elem\": \"Ni\", \"model\": 0},{\"sphere\": {\"scale\": 0.4, \"color\": \"blue\"}, \"stick\": {\"radius\": 0.1, \"color\": \"blue\"}});\n\t\tviewer_17231315683470066.getModel(-1).setStyle({\"elem\": \"Cu\", \"model\": 0},{\"sphere\": {\"scale\": 0.4, \"color\": \"0x8b0000\"}, \"stick\": {\"radius\": 0.1, \"color\": \"0x8b0000\"}});\n\t\tviewer_17231315683470066.getModel(-1).setStyle({\"elem\": \"Zn\", \"model\": 0},{\"sphere\": {\"scale\": 0.4, \"color\": \"0xadd8e6\"}, \"stick\": {\"radius\": 0.1, \"color\": \"0xadd8e6\"}});\n\t\tviewer_17231315683470066.getModel(-1).setStyle({\"elem\": \"Pt\", \"model\": 0},{\"sphere\": {\"scale\": 0.4, \"color\": \"cyan\"}, \"stick\": {\"radius\": 0.1, \"color\": \"cyan\"}});\n\t\tviewer_17231315683470066.getModel(-1).setStyle({\"elem\": \"Ir\", \"model\": 0},{\"sphere\": {\"scale\": 0.4, \"color\": \"violet\"}, \"stick\": {\"radius\": 0.1, \"color\": \"violet\"}});\n\t\tviewer_17231315683470066.getModel(-1).setFrame(0);\n\t\tviewer_17231315683470066.getModel(-1).setStyle({\"model\": 0},{\"sphere\": {\"scale\": 0.4, \"color\": \"0xda70d6\"}, \"stick\": {\"radius\": 0.1, \"color\": \"0xda70d6\"}});\n\t\tviewer_17231315683470066.getModel(-1).setStyle({\"elem\": \"H\", \"model\": 0},{\"sphere\": {\"scale\": 0.4, \"color\": \"white\"}, \"stick\": {\"radius\": 0.1, \"color\": \"white\"}});\n\t\tviewer_17231315683470066.getModel(-1).setStyle({\"elem\": \"C\", \"model\": 0},{\"sphere\": {\"scale\": 0.4, \"color\": \"black\"}, \"stick\": {\"radius\": 0.1, \"color\": \"black\"}});\n\t\tviewer_17231315683470066.getModel(-1).setStyle({\"elem\": \"N\", \"model\": 0},{\"sphere\": {\"scale\": 0.4, \"color\": \"blue\"}, \"stick\": {\"radius\": 0.1, \"color\": \"blue\"}});\n\t\tviewer_17231315683470066.getModel(-1).setStyle({\"elem\": \"O\", \"model\": 0},{\"sphere\": {\"scale\": 0.4, \"color\": \"red\"}, \"stick\": {\"radius\": 0.1, \"color\": \"red\"}});\n\t\tviewer_17231315683470066.getModel(-1).setStyle({\"elem\": \"F\", \"model\": 0},{\"sphere\": {\"scale\": 0.4, \"color\": \"green\"}, \"stick\": {\"radius\": 0.1, \"color\": \"green\"}});\n\t\tviewer_17231315683470066.getModel(-1).setStyle({\"elem\": \"Cl\", \"model\": 0},{\"sphere\": {\"scale\": 0.4, \"color\": \"green\"}, \"stick\": {\"radius\": 0.1, \"color\": \"green\"}});\n\t\tviewer_17231315683470066.getModel(-1).setStyle({\"elem\": \"Br\", \"model\": 0},{\"sphere\": {\"scale\": 0.4, \"color\": \"0x8b0000\"}, \"stick\": {\"radius\": 0.1, \"color\": \"0x8b0000\"}});\n\t\tviewer_17231315683470066.getModel(-1).setStyle({\"elem\": \"I\", \"model\": 0},{\"sphere\": {\"scale\": 0.4, \"color\": \"0x9400d3\"}, \"stick\": {\"radius\": 0.1, \"color\": \"0x9400d3\"}});\n\t\tviewer_17231315683470066.getModel(-1).setStyle({\"elem\": \"He\", \"model\": 0},{\"sphere\": {\"scale\": 0.4, \"color\": \"cyan\"}, \"stick\": {\"radius\": 0.1, \"color\": \"cyan\"}});\n\t\tviewer_17231315683470066.getModel(-1).setStyle({\"elem\": \"Ne\", \"model\": 0},{\"sphere\": {\"scale\": 0.4, \"color\": \"cyan\"}, \"stick\": {\"radius\": 0.1, \"color\": \"cyan\"}});\n\t\tviewer_17231315683470066.getModel(-1).setStyle({\"elem\": \"Ar\", \"model\": 0},{\"sphere\": {\"scale\": 0.4, \"color\": \"cyan\"}, \"stick\": {\"radius\": 0.1, \"color\": \"cyan\"}});\n\t\tviewer_17231315683470066.getModel(-1).setStyle({\"elem\": \"Ce\", \"model\": 0},{\"sphere\": {\"scale\": 0.4, \"color\": \"cyan\"}, \"stick\": {\"radius\": 0.1, \"color\": \"cyan\"}});\n\t\tviewer_17231315683470066.getModel(-1).setStyle({\"elem\": \"Kr\", \"model\": 0},{\"sphere\": {\"scale\": 0.4, \"color\": \"cyan\"}, \"stick\": {\"radius\": 0.1, \"color\": \"cyan\"}});\n\t\tviewer_17231315683470066.getModel(-1).setStyle({\"elem\": \"P\", \"model\": 0},{\"sphere\": {\"scale\": 0.4, \"color\": \"orange\"}, \"stick\": {\"radius\": 0.1, \"color\": \"orange\"}});\n\t\tviewer_17231315683470066.getModel(-1).setStyle({\"elem\": \"S\", \"model\": 0},{\"sphere\": {\"scale\": 0.4, \"color\": \"yellow\"}, \"stick\": {\"radius\": 0.1, \"color\": \"yellow\"}});\n\t\tviewer_17231315683470066.getModel(-1).setStyle({\"elem\": \"B\", \"model\": 0},{\"sphere\": {\"scale\": 0.4, \"color\": \"0xffa07a\"}, \"stick\": {\"radius\": 0.1, \"color\": \"0xffa07a\"}});\n\t\tviewer_17231315683470066.getModel(-1).setStyle({\"elem\": \"Li\", \"model\": 0},{\"sphere\": {\"scale\": 0.4, \"color\": \"0x32cd32\"}, \"stick\": {\"radius\": 0.1, \"color\": \"0x32cd32\"}});\n\t\tviewer_17231315683470066.getModel(-1).setStyle({\"elem\": \"Na\", \"model\": 0},{\"sphere\": {\"scale\": 0.4, \"color\": \"violet\"}, \"stick\": {\"radius\": 0.1, \"color\": \"violet\"}});\n\t\tviewer_17231315683470066.getModel(-1).setStyle({\"elem\": \"K\", \"model\": 0},{\"sphere\": {\"scale\": 0.4, \"color\": \"violet\"}, \"stick\": {\"radius\": 0.1, \"color\": \"violet\"}});\n\t\tviewer_17231315683470066.getModel(-1).setStyle({\"elem\": \"Rb\", \"model\": 0},{\"sphere\": {\"scale\": 0.4, \"color\": \"violet\"}, \"stick\": {\"radius\": 0.1, \"color\": \"violet\"}});\n\t\tviewer_17231315683470066.getModel(-1).setStyle({\"elem\": \"Cs\", \"model\": 0},{\"sphere\": {\"scale\": 0.4, \"color\": \"violet\"}, \"stick\": {\"radius\": 0.1, \"color\": \"violet\"}});\n\t\tviewer_17231315683470066.getModel(-1).setStyle({\"elem\": \"Fr\", \"model\": 0},{\"sphere\": {\"scale\": 0.4, \"color\": \"violet\"}, \"stick\": {\"radius\": 0.1, \"color\": \"violet\"}});\n\t\tviewer_17231315683470066.getModel(-1).setStyle({\"elem\": \"Be\", \"model\": 0},{\"sphere\": {\"scale\": 0.4, \"color\": \"0x2e8b57\"}, \"stick\": {\"radius\": 0.1, \"color\": \"0x2e8b57\"}});\n\t\tviewer_17231315683470066.getModel(-1).setStyle({\"elem\": \"Mg\", \"model\": 0},{\"sphere\": {\"scale\": 0.4, \"color\": \"0x2e8b57\"}, \"stick\": {\"radius\": 0.1, \"color\": \"0x2e8b57\"}});\n\t\tviewer_17231315683470066.getModel(-1).setStyle({\"elem\": \"Ca\", \"model\": 0},{\"sphere\": {\"scale\": 0.4, \"color\": \"0x2e8b57\"}, \"stick\": {\"radius\": 0.1, \"color\": \"0x2e8b57\"}});\n\t\tviewer_17231315683470066.getModel(-1).setStyle({\"elem\": \"Sr\", \"model\": 0},{\"sphere\": {\"scale\": 0.4, \"color\": \"0x2e8b57\"}, \"stick\": {\"radius\": 0.1, \"color\": \"0x2e8b57\"}});\n\t\tviewer_17231315683470066.getModel(-1).setStyle({\"elem\": \"Ba\", \"model\": 0},{\"sphere\": {\"scale\": 0.4, \"color\": \"0x2e8b57\"}, \"stick\": {\"radius\": 0.1, \"color\": \"0x2e8b57\"}});\n\t\tviewer_17231315683470066.getModel(-1).setStyle({\"elem\": \"Ra\", \"model\": 0},{\"sphere\": {\"scale\": 0.4, \"color\": \"0x2e8b57\"}, \"stick\": {\"radius\": 0.1, \"color\": \"0x2e8b57\"}});\n\t\tviewer_17231315683470066.getModel(-1).setStyle({\"elem\": \"Ti\", \"model\": 0},{\"sphere\": {\"scale\": 0.4, \"color\": \"0x48d1cc\"}, \"stick\": {\"radius\": 0.1, \"color\": \"0x48d1cc\"}});\n\t\tviewer_17231315683470066.getModel(-1).setStyle({\"elem\": \"Fe\", \"model\": 0},{\"sphere\": {\"scale\": 0.4, \"color\": \"0xff8c00\"}, \"stick\": {\"radius\": 0.1, \"color\": \"0xff8c00\"}});\n\t\tviewer_17231315683470066.getModel(-1).setStyle({\"elem\": \"Sc\", \"model\": 0},{\"sphere\": {\"scale\": 0.4, \"color\": \"0x6b8e23\"}, \"stick\": {\"radius\": 0.1, \"color\": \"0x6b8e23\"}});\n\t\tviewer_17231315683470066.getModel(-1).setStyle({\"elem\": \"V\", \"model\": 0},{\"sphere\": {\"scale\": 0.4, \"color\": \"0xC71585\"}, \"stick\": {\"radius\": 0.1, \"color\": \"0xC71585\"}});\n\t\tviewer_17231315683470066.getModel(-1).setStyle({\"elem\": \"Cr\", \"model\": 0},{\"sphere\": {\"scale\": 0.4, \"color\": \"0x87cefa\"}, \"stick\": {\"radius\": 0.1, \"color\": \"0x87cefa\"}});\n\t\tviewer_17231315683470066.getModel(-1).setStyle({\"elem\": \"Mn\", \"model\": 0},{\"sphere\": {\"scale\": 0.4, \"color\": \"0x8b008b\"}, \"stick\": {\"radius\": 0.1, \"color\": \"0x8b008b\"}});\n\t\tviewer_17231315683470066.getModel(-1).setStyle({\"elem\": \"Co\", \"model\": 0},{\"sphere\": {\"scale\": 0.4, \"color\": \"0x00008b\"}, \"stick\": {\"radius\": 0.1, \"color\": \"0x00008b\"}});\n\t\tviewer_17231315683470066.getModel(-1).setStyle({\"elem\": \"Ni\", \"model\": 0},{\"sphere\": {\"scale\": 0.4, \"color\": \"blue\"}, \"stick\": {\"radius\": 0.1, \"color\": \"blue\"}});\n\t\tviewer_17231315683470066.getModel(-1).setStyle({\"elem\": \"Cu\", \"model\": 0},{\"sphere\": {\"scale\": 0.4, \"color\": \"0x8b0000\"}, \"stick\": {\"radius\": 0.1, \"color\": \"0x8b0000\"}});\n\t\tviewer_17231315683470066.getModel(-1).setStyle({\"elem\": \"Zn\", \"model\": 0},{\"sphere\": {\"scale\": 0.4, \"color\": \"0xadd8e6\"}, \"stick\": {\"radius\": 0.1, \"color\": \"0xadd8e6\"}});\n\t\tviewer_17231315683470066.getModel(-1).setStyle({\"elem\": \"Pt\", \"model\": 0},{\"sphere\": {\"scale\": 0.4, \"color\": \"cyan\"}, \"stick\": {\"radius\": 0.1, \"color\": \"cyan\"}});\n\t\tviewer_17231315683470066.getModel(-1).setStyle({\"elem\": \"Ir\", \"model\": 0},{\"sphere\": {\"scale\": 0.4, \"color\": \"violet\"}, \"stick\": {\"radius\": 0.1, \"color\": \"violet\"}});\n\t\tviewer_17231315683470066.getModel(-1).setFrame(0);\n\tviewer_17231315683470066.setHoverable({},true,\"function(atom, viewer, event, container) {\\n                 if(!atom.label) {\\n                   atom.label = viewer.addLabel(\\n                     atom.serial + \\\" \\\" + atom.atom,\\n                     {position: atom,\\n                      backgroundColor: 'mintcream',\\n                      fontColor:'black'});\\n                  }\\n                }\",\"function(atom, viewer) {\\n                 if(atom.label) {\\n                   viewer.removeLabel(atom.label);\\n                   delete atom.label;\\n                 }\\n               }\");\n\n                viewer_17231315683470066.render();\n            });\n            </script>",
                  "text/html": "<script>\n            $3Dmolpromise.then(function() { //wrap in promise for non-interactive functionality\n                \t\tviewer_17231315683470066.getModel(-1).setFrame(0);\n\t\tviewer_17231315683470066.getModel(-1).setStyle({\"model\": 0},{\"sphere\": {\"scale\": 0.4, \"color\": \"0xda70d6\"}, \"stick\": {\"radius\": 0.1, \"color\": \"0xda70d6\"}});\n\t\tviewer_17231315683470066.getModel(-1).setStyle({\"elem\": \"H\", \"model\": 0},{\"sphere\": {\"scale\": 0.4, \"color\": \"white\"}, \"stick\": {\"radius\": 0.1, \"color\": \"white\"}});\n\t\tviewer_17231315683470066.getModel(-1).setStyle({\"elem\": \"C\", \"model\": 0},{\"sphere\": {\"scale\": 0.4, \"color\": \"black\"}, \"stick\": {\"radius\": 0.1, \"color\": \"black\"}});\n\t\tviewer_17231315683470066.getModel(-1).setStyle({\"elem\": \"N\", \"model\": 0},{\"sphere\": {\"scale\": 0.4, \"color\": \"blue\"}, \"stick\": {\"radius\": 0.1, \"color\": \"blue\"}});\n\t\tviewer_17231315683470066.getModel(-1).setStyle({\"elem\": \"O\", \"model\": 0},{\"sphere\": {\"scale\": 0.4, \"color\": \"red\"}, \"stick\": {\"radius\": 0.1, \"color\": \"red\"}});\n\t\tviewer_17231315683470066.getModel(-1).setStyle({\"elem\": \"F\", \"model\": 0},{\"sphere\": {\"scale\": 0.4, \"color\": \"green\"}, \"stick\": {\"radius\": 0.1, \"color\": \"green\"}});\n\t\tviewer_17231315683470066.getModel(-1).setStyle({\"elem\": \"Cl\", \"model\": 0},{\"sphere\": {\"scale\": 0.4, \"color\": \"green\"}, \"stick\": {\"radius\": 0.1, \"color\": \"green\"}});\n\t\tviewer_17231315683470066.getModel(-1).setStyle({\"elem\": \"Br\", \"model\": 0},{\"sphere\": {\"scale\": 0.4, \"color\": \"0x8b0000\"}, \"stick\": {\"radius\": 0.1, \"color\": \"0x8b0000\"}});\n\t\tviewer_17231315683470066.getModel(-1).setStyle({\"elem\": \"I\", \"model\": 0},{\"sphere\": {\"scale\": 0.4, \"color\": \"0x9400d3\"}, \"stick\": {\"radius\": 0.1, \"color\": \"0x9400d3\"}});\n\t\tviewer_17231315683470066.getModel(-1).setStyle({\"elem\": \"He\", \"model\": 0},{\"sphere\": {\"scale\": 0.4, \"color\": \"cyan\"}, \"stick\": {\"radius\": 0.1, \"color\": \"cyan\"}});\n\t\tviewer_17231315683470066.getModel(-1).setStyle({\"elem\": \"Ne\", \"model\": 0},{\"sphere\": {\"scale\": 0.4, \"color\": \"cyan\"}, \"stick\": {\"radius\": 0.1, \"color\": \"cyan\"}});\n\t\tviewer_17231315683470066.getModel(-1).setStyle({\"elem\": \"Ar\", \"model\": 0},{\"sphere\": {\"scale\": 0.4, \"color\": \"cyan\"}, \"stick\": {\"radius\": 0.1, \"color\": \"cyan\"}});\n\t\tviewer_17231315683470066.getModel(-1).setStyle({\"elem\": \"Ce\", \"model\": 0},{\"sphere\": {\"scale\": 0.4, \"color\": \"cyan\"}, \"stick\": {\"radius\": 0.1, \"color\": \"cyan\"}});\n\t\tviewer_17231315683470066.getModel(-1).setStyle({\"elem\": \"Kr\", \"model\": 0},{\"sphere\": {\"scale\": 0.4, \"color\": \"cyan\"}, \"stick\": {\"radius\": 0.1, \"color\": \"cyan\"}});\n\t\tviewer_17231315683470066.getModel(-1).setStyle({\"elem\": \"P\", \"model\": 0},{\"sphere\": {\"scale\": 0.4, \"color\": \"orange\"}, \"stick\": {\"radius\": 0.1, \"color\": \"orange\"}});\n\t\tviewer_17231315683470066.getModel(-1).setStyle({\"elem\": \"S\", \"model\": 0},{\"sphere\": {\"scale\": 0.4, \"color\": \"yellow\"}, \"stick\": {\"radius\": 0.1, \"color\": \"yellow\"}});\n\t\tviewer_17231315683470066.getModel(-1).setStyle({\"elem\": \"B\", \"model\": 0},{\"sphere\": {\"scale\": 0.4, \"color\": \"0xffa07a\"}, \"stick\": {\"radius\": 0.1, \"color\": \"0xffa07a\"}});\n\t\tviewer_17231315683470066.getModel(-1).setStyle({\"elem\": \"Li\", \"model\": 0},{\"sphere\": {\"scale\": 0.4, \"color\": \"0x32cd32\"}, \"stick\": {\"radius\": 0.1, \"color\": \"0x32cd32\"}});\n\t\tviewer_17231315683470066.getModel(-1).setStyle({\"elem\": \"Na\", \"model\": 0},{\"sphere\": {\"scale\": 0.4, \"color\": \"violet\"}, \"stick\": {\"radius\": 0.1, \"color\": \"violet\"}});\n\t\tviewer_17231315683470066.getModel(-1).setStyle({\"elem\": \"K\", \"model\": 0},{\"sphere\": {\"scale\": 0.4, \"color\": \"violet\"}, \"stick\": {\"radius\": 0.1, \"color\": \"violet\"}});\n\t\tviewer_17231315683470066.getModel(-1).setStyle({\"elem\": \"Rb\", \"model\": 0},{\"sphere\": {\"scale\": 0.4, \"color\": \"violet\"}, \"stick\": {\"radius\": 0.1, \"color\": \"violet\"}});\n\t\tviewer_17231315683470066.getModel(-1).setStyle({\"elem\": \"Cs\", \"model\": 0},{\"sphere\": {\"scale\": 0.4, \"color\": \"violet\"}, \"stick\": {\"radius\": 0.1, \"color\": \"violet\"}});\n\t\tviewer_17231315683470066.getModel(-1).setStyle({\"elem\": \"Fr\", \"model\": 0},{\"sphere\": {\"scale\": 0.4, \"color\": \"violet\"}, \"stick\": {\"radius\": 0.1, \"color\": \"violet\"}});\n\t\tviewer_17231315683470066.getModel(-1).setStyle({\"elem\": \"Be\", \"model\": 0},{\"sphere\": {\"scale\": 0.4, \"color\": \"0x2e8b57\"}, \"stick\": {\"radius\": 0.1, \"color\": \"0x2e8b57\"}});\n\t\tviewer_17231315683470066.getModel(-1).setStyle({\"elem\": \"Mg\", \"model\": 0},{\"sphere\": {\"scale\": 0.4, \"color\": \"0x2e8b57\"}, \"stick\": {\"radius\": 0.1, \"color\": \"0x2e8b57\"}});\n\t\tviewer_17231315683470066.getModel(-1).setStyle({\"elem\": \"Ca\", \"model\": 0},{\"sphere\": {\"scale\": 0.4, \"color\": \"0x2e8b57\"}, \"stick\": {\"radius\": 0.1, \"color\": \"0x2e8b57\"}});\n\t\tviewer_17231315683470066.getModel(-1).setStyle({\"elem\": \"Sr\", \"model\": 0},{\"sphere\": {\"scale\": 0.4, \"color\": \"0x2e8b57\"}, \"stick\": {\"radius\": 0.1, \"color\": \"0x2e8b57\"}});\n\t\tviewer_17231315683470066.getModel(-1).setStyle({\"elem\": \"Ba\", \"model\": 0},{\"sphere\": {\"scale\": 0.4, \"color\": \"0x2e8b57\"}, \"stick\": {\"radius\": 0.1, \"color\": \"0x2e8b57\"}});\n\t\tviewer_17231315683470066.getModel(-1).setStyle({\"elem\": \"Ra\", \"model\": 0},{\"sphere\": {\"scale\": 0.4, \"color\": \"0x2e8b57\"}, \"stick\": {\"radius\": 0.1, \"color\": \"0x2e8b57\"}});\n\t\tviewer_17231315683470066.getModel(-1).setStyle({\"elem\": \"Ti\", \"model\": 0},{\"sphere\": {\"scale\": 0.4, \"color\": \"0x48d1cc\"}, \"stick\": {\"radius\": 0.1, \"color\": \"0x48d1cc\"}});\n\t\tviewer_17231315683470066.getModel(-1).setStyle({\"elem\": \"Fe\", \"model\": 0},{\"sphere\": {\"scale\": 0.4, \"color\": \"0xff8c00\"}, \"stick\": {\"radius\": 0.1, \"color\": \"0xff8c00\"}});\n\t\tviewer_17231315683470066.getModel(-1).setStyle({\"elem\": \"Sc\", \"model\": 0},{\"sphere\": {\"scale\": 0.4, \"color\": \"0x6b8e23\"}, \"stick\": {\"radius\": 0.1, \"color\": \"0x6b8e23\"}});\n\t\tviewer_17231315683470066.getModel(-1).setStyle({\"elem\": \"V\", \"model\": 0},{\"sphere\": {\"scale\": 0.4, \"color\": \"0xC71585\"}, \"stick\": {\"radius\": 0.1, \"color\": \"0xC71585\"}});\n\t\tviewer_17231315683470066.getModel(-1).setStyle({\"elem\": \"Cr\", \"model\": 0},{\"sphere\": {\"scale\": 0.4, \"color\": \"0x87cefa\"}, \"stick\": {\"radius\": 0.1, \"color\": \"0x87cefa\"}});\n\t\tviewer_17231315683470066.getModel(-1).setStyle({\"elem\": \"Mn\", \"model\": 0},{\"sphere\": {\"scale\": 0.4, \"color\": \"0x8b008b\"}, \"stick\": {\"radius\": 0.1, \"color\": \"0x8b008b\"}});\n\t\tviewer_17231315683470066.getModel(-1).setStyle({\"elem\": \"Co\", \"model\": 0},{\"sphere\": {\"scale\": 0.4, \"color\": \"0x00008b\"}, \"stick\": {\"radius\": 0.1, \"color\": \"0x00008b\"}});\n\t\tviewer_17231315683470066.getModel(-1).setStyle({\"elem\": \"Ni\", \"model\": 0},{\"sphere\": {\"scale\": 0.4, \"color\": \"blue\"}, \"stick\": {\"radius\": 0.1, \"color\": \"blue\"}});\n\t\tviewer_17231315683470066.getModel(-1).setStyle({\"elem\": \"Cu\", \"model\": 0},{\"sphere\": {\"scale\": 0.4, \"color\": \"0x8b0000\"}, \"stick\": {\"radius\": 0.1, \"color\": \"0x8b0000\"}});\n\t\tviewer_17231315683470066.getModel(-1).setStyle({\"elem\": \"Zn\", \"model\": 0},{\"sphere\": {\"scale\": 0.4, \"color\": \"0xadd8e6\"}, \"stick\": {\"radius\": 0.1, \"color\": \"0xadd8e6\"}});\n\t\tviewer_17231315683470066.getModel(-1).setStyle({\"elem\": \"Pt\", \"model\": 0},{\"sphere\": {\"scale\": 0.4, \"color\": \"cyan\"}, \"stick\": {\"radius\": 0.1, \"color\": \"cyan\"}});\n\t\tviewer_17231315683470066.getModel(-1).setStyle({\"elem\": \"Ir\", \"model\": 0},{\"sphere\": {\"scale\": 0.4, \"color\": \"violet\"}, \"stick\": {\"radius\": 0.1, \"color\": \"violet\"}});\n\t\tviewer_17231315683470066.getModel(-1).setFrame(0);\n\t\tviewer_17231315683470066.getModel(-1).setStyle({\"model\": 0},{\"sphere\": {\"scale\": 0.4, \"color\": \"0xda70d6\"}, \"stick\": {\"radius\": 0.1, \"color\": \"0xda70d6\"}});\n\t\tviewer_17231315683470066.getModel(-1).setStyle({\"elem\": \"H\", \"model\": 0},{\"sphere\": {\"scale\": 0.4, \"color\": \"white\"}, \"stick\": {\"radius\": 0.1, \"color\": \"white\"}});\n\t\tviewer_17231315683470066.getModel(-1).setStyle({\"elem\": \"C\", \"model\": 0},{\"sphere\": {\"scale\": 0.4, \"color\": \"black\"}, \"stick\": {\"radius\": 0.1, \"color\": \"black\"}});\n\t\tviewer_17231315683470066.getModel(-1).setStyle({\"elem\": \"N\", \"model\": 0},{\"sphere\": {\"scale\": 0.4, \"color\": \"blue\"}, \"stick\": {\"radius\": 0.1, \"color\": \"blue\"}});\n\t\tviewer_17231315683470066.getModel(-1).setStyle({\"elem\": \"O\", \"model\": 0},{\"sphere\": {\"scale\": 0.4, \"color\": \"red\"}, \"stick\": {\"radius\": 0.1, \"color\": \"red\"}});\n\t\tviewer_17231315683470066.getModel(-1).setStyle({\"elem\": \"F\", \"model\": 0},{\"sphere\": {\"scale\": 0.4, \"color\": \"green\"}, \"stick\": {\"radius\": 0.1, \"color\": \"green\"}});\n\t\tviewer_17231315683470066.getModel(-1).setStyle({\"elem\": \"Cl\", \"model\": 0},{\"sphere\": {\"scale\": 0.4, \"color\": \"green\"}, \"stick\": {\"radius\": 0.1, \"color\": \"green\"}});\n\t\tviewer_17231315683470066.getModel(-1).setStyle({\"elem\": \"Br\", \"model\": 0},{\"sphere\": {\"scale\": 0.4, \"color\": \"0x8b0000\"}, \"stick\": {\"radius\": 0.1, \"color\": \"0x8b0000\"}});\n\t\tviewer_17231315683470066.getModel(-1).setStyle({\"elem\": \"I\", \"model\": 0},{\"sphere\": {\"scale\": 0.4, \"color\": \"0x9400d3\"}, \"stick\": {\"radius\": 0.1, \"color\": \"0x9400d3\"}});\n\t\tviewer_17231315683470066.getModel(-1).setStyle({\"elem\": \"He\", \"model\": 0},{\"sphere\": {\"scale\": 0.4, \"color\": \"cyan\"}, \"stick\": {\"radius\": 0.1, \"color\": \"cyan\"}});\n\t\tviewer_17231315683470066.getModel(-1).setStyle({\"elem\": \"Ne\", \"model\": 0},{\"sphere\": {\"scale\": 0.4, \"color\": \"cyan\"}, \"stick\": {\"radius\": 0.1, \"color\": \"cyan\"}});\n\t\tviewer_17231315683470066.getModel(-1).setStyle({\"elem\": \"Ar\", \"model\": 0},{\"sphere\": {\"scale\": 0.4, \"color\": \"cyan\"}, \"stick\": {\"radius\": 0.1, \"color\": \"cyan\"}});\n\t\tviewer_17231315683470066.getModel(-1).setStyle({\"elem\": \"Ce\", \"model\": 0},{\"sphere\": {\"scale\": 0.4, \"color\": \"cyan\"}, \"stick\": {\"radius\": 0.1, \"color\": \"cyan\"}});\n\t\tviewer_17231315683470066.getModel(-1).setStyle({\"elem\": \"Kr\", \"model\": 0},{\"sphere\": {\"scale\": 0.4, \"color\": \"cyan\"}, \"stick\": {\"radius\": 0.1, \"color\": \"cyan\"}});\n\t\tviewer_17231315683470066.getModel(-1).setStyle({\"elem\": \"P\", \"model\": 0},{\"sphere\": {\"scale\": 0.4, \"color\": \"orange\"}, \"stick\": {\"radius\": 0.1, \"color\": \"orange\"}});\n\t\tviewer_17231315683470066.getModel(-1).setStyle({\"elem\": \"S\", \"model\": 0},{\"sphere\": {\"scale\": 0.4, \"color\": \"yellow\"}, \"stick\": {\"radius\": 0.1, \"color\": \"yellow\"}});\n\t\tviewer_17231315683470066.getModel(-1).setStyle({\"elem\": \"B\", \"model\": 0},{\"sphere\": {\"scale\": 0.4, \"color\": \"0xffa07a\"}, \"stick\": {\"radius\": 0.1, \"color\": \"0xffa07a\"}});\n\t\tviewer_17231315683470066.getModel(-1).setStyle({\"elem\": \"Li\", \"model\": 0},{\"sphere\": {\"scale\": 0.4, \"color\": \"0x32cd32\"}, \"stick\": {\"radius\": 0.1, \"color\": \"0x32cd32\"}});\n\t\tviewer_17231315683470066.getModel(-1).setStyle({\"elem\": \"Na\", \"model\": 0},{\"sphere\": {\"scale\": 0.4, \"color\": \"violet\"}, \"stick\": {\"radius\": 0.1, \"color\": \"violet\"}});\n\t\tviewer_17231315683470066.getModel(-1).setStyle({\"elem\": \"K\", \"model\": 0},{\"sphere\": {\"scale\": 0.4, \"color\": \"violet\"}, \"stick\": {\"radius\": 0.1, \"color\": \"violet\"}});\n\t\tviewer_17231315683470066.getModel(-1).setStyle({\"elem\": \"Rb\", \"model\": 0},{\"sphere\": {\"scale\": 0.4, \"color\": \"violet\"}, \"stick\": {\"radius\": 0.1, \"color\": \"violet\"}});\n\t\tviewer_17231315683470066.getModel(-1).setStyle({\"elem\": \"Cs\", \"model\": 0},{\"sphere\": {\"scale\": 0.4, \"color\": \"violet\"}, \"stick\": {\"radius\": 0.1, \"color\": \"violet\"}});\n\t\tviewer_17231315683470066.getModel(-1).setStyle({\"elem\": \"Fr\", \"model\": 0},{\"sphere\": {\"scale\": 0.4, \"color\": \"violet\"}, \"stick\": {\"radius\": 0.1, \"color\": \"violet\"}});\n\t\tviewer_17231315683470066.getModel(-1).setStyle({\"elem\": \"Be\", \"model\": 0},{\"sphere\": {\"scale\": 0.4, \"color\": \"0x2e8b57\"}, \"stick\": {\"radius\": 0.1, \"color\": \"0x2e8b57\"}});\n\t\tviewer_17231315683470066.getModel(-1).setStyle({\"elem\": \"Mg\", \"model\": 0},{\"sphere\": {\"scale\": 0.4, \"color\": \"0x2e8b57\"}, \"stick\": {\"radius\": 0.1, \"color\": \"0x2e8b57\"}});\n\t\tviewer_17231315683470066.getModel(-1).setStyle({\"elem\": \"Ca\", \"model\": 0},{\"sphere\": {\"scale\": 0.4, \"color\": \"0x2e8b57\"}, \"stick\": {\"radius\": 0.1, \"color\": \"0x2e8b57\"}});\n\t\tviewer_17231315683470066.getModel(-1).setStyle({\"elem\": \"Sr\", \"model\": 0},{\"sphere\": {\"scale\": 0.4, \"color\": \"0x2e8b57\"}, \"stick\": {\"radius\": 0.1, \"color\": \"0x2e8b57\"}});\n\t\tviewer_17231315683470066.getModel(-1).setStyle({\"elem\": \"Ba\", \"model\": 0},{\"sphere\": {\"scale\": 0.4, \"color\": \"0x2e8b57\"}, \"stick\": {\"radius\": 0.1, \"color\": \"0x2e8b57\"}});\n\t\tviewer_17231315683470066.getModel(-1).setStyle({\"elem\": \"Ra\", \"model\": 0},{\"sphere\": {\"scale\": 0.4, \"color\": \"0x2e8b57\"}, \"stick\": {\"radius\": 0.1, \"color\": \"0x2e8b57\"}});\n\t\tviewer_17231315683470066.getModel(-1).setStyle({\"elem\": \"Ti\", \"model\": 0},{\"sphere\": {\"scale\": 0.4, \"color\": \"0x48d1cc\"}, \"stick\": {\"radius\": 0.1, \"color\": \"0x48d1cc\"}});\n\t\tviewer_17231315683470066.getModel(-1).setStyle({\"elem\": \"Fe\", \"model\": 0},{\"sphere\": {\"scale\": 0.4, \"color\": \"0xff8c00\"}, \"stick\": {\"radius\": 0.1, \"color\": \"0xff8c00\"}});\n\t\tviewer_17231315683470066.getModel(-1).setStyle({\"elem\": \"Sc\", \"model\": 0},{\"sphere\": {\"scale\": 0.4, \"color\": \"0x6b8e23\"}, \"stick\": {\"radius\": 0.1, \"color\": \"0x6b8e23\"}});\n\t\tviewer_17231315683470066.getModel(-1).setStyle({\"elem\": \"V\", \"model\": 0},{\"sphere\": {\"scale\": 0.4, \"color\": \"0xC71585\"}, \"stick\": {\"radius\": 0.1, \"color\": \"0xC71585\"}});\n\t\tviewer_17231315683470066.getModel(-1).setStyle({\"elem\": \"Cr\", \"model\": 0},{\"sphere\": {\"scale\": 0.4, \"color\": \"0x87cefa\"}, \"stick\": {\"radius\": 0.1, \"color\": \"0x87cefa\"}});\n\t\tviewer_17231315683470066.getModel(-1).setStyle({\"elem\": \"Mn\", \"model\": 0},{\"sphere\": {\"scale\": 0.4, \"color\": \"0x8b008b\"}, \"stick\": {\"radius\": 0.1, \"color\": \"0x8b008b\"}});\n\t\tviewer_17231315683470066.getModel(-1).setStyle({\"elem\": \"Co\", \"model\": 0},{\"sphere\": {\"scale\": 0.4, \"color\": \"0x00008b\"}, \"stick\": {\"radius\": 0.1, \"color\": \"0x00008b\"}});\n\t\tviewer_17231315683470066.getModel(-1).setStyle({\"elem\": \"Ni\", \"model\": 0},{\"sphere\": {\"scale\": 0.4, \"color\": \"blue\"}, \"stick\": {\"radius\": 0.1, \"color\": \"blue\"}});\n\t\tviewer_17231315683470066.getModel(-1).setStyle({\"elem\": \"Cu\", \"model\": 0},{\"sphere\": {\"scale\": 0.4, \"color\": \"0x8b0000\"}, \"stick\": {\"radius\": 0.1, \"color\": \"0x8b0000\"}});\n\t\tviewer_17231315683470066.getModel(-1).setStyle({\"elem\": \"Zn\", \"model\": 0},{\"sphere\": {\"scale\": 0.4, \"color\": \"0xadd8e6\"}, \"stick\": {\"radius\": 0.1, \"color\": \"0xadd8e6\"}});\n\t\tviewer_17231315683470066.getModel(-1).setStyle({\"elem\": \"Pt\", \"model\": 0},{\"sphere\": {\"scale\": 0.4, \"color\": \"cyan\"}, \"stick\": {\"radius\": 0.1, \"color\": \"cyan\"}});\n\t\tviewer_17231315683470066.getModel(-1).setStyle({\"elem\": \"Ir\", \"model\": 0},{\"sphere\": {\"scale\": 0.4, \"color\": \"violet\"}, \"stick\": {\"radius\": 0.1, \"color\": \"violet\"}});\n\t\tviewer_17231315683470066.getModel(-1).setFrame(0);\n\tviewer_17231315683470066.setHoverable({},true,\"function(atom, viewer, event, container) {\\n                 if(!atom.label) {\\n                   atom.label = viewer.addLabel(\\n                     atom.serial + \\\" \\\" + atom.atom,\\n                     {position: atom,\\n                      backgroundColor: 'mintcream',\\n                      fontColor:'black'});\\n                  }\\n                }\",\"function(atom, viewer) {\\n                 if(atom.label) {\\n                   viewer.removeLabel(atom.label);\\n                   delete atom.label;\\n                 }\\n               }\");\n\n                viewer_17231315683470066.render();\n            });\n            </script>"
                },
                "metadata": {}
              }
            ]
          }
        },
        "c2516ba10c4c41f7adcaa82a545fb6d4": {
          "model_module": "@jupyter-widgets/controls",
          "model_name": "HBoxModel",
          "model_module_version": "1.5.0",
          "state": {
            "_dom_classes": [],
            "_model_module": "@jupyter-widgets/controls",
            "_model_module_version": "1.5.0",
            "_model_name": "HBoxModel",
            "_view_count": null,
            "_view_module": "@jupyter-widgets/controls",
            "_view_module_version": "1.5.0",
            "_view_name": "HBoxView",
            "box_style": "",
            "children": [
              "IPY_MODEL_1a24a724ab7246e6ae10d93758ffed76",
              "IPY_MODEL_eca1b5c6b94748f299b0436b694eb1d6"
            ],
            "layout": "IPY_MODEL_583892cb62a64baa92011bcc95bb7bd5"
          }
        },
        "f9d8410d53924f33b700a5a0f65d2f62": {
          "model_module": "@jupyter-widgets/base",
          "model_name": "LayoutModel",
          "model_module_version": "1.2.0",
          "state": {
            "_model_module": "@jupyter-widgets/base",
            "_model_module_version": "1.2.0",
            "_model_name": "LayoutModel",
            "_view_count": null,
            "_view_module": "@jupyter-widgets/base",
            "_view_module_version": "1.2.0",
            "_view_name": "LayoutView",
            "align_content": null,
            "align_items": "center",
            "align_self": null,
            "border": null,
            "bottom": null,
            "display": null,
            "flex": null,
            "flex_flow": null,
            "grid_area": null,
            "grid_auto_columns": null,
            "grid_auto_flow": null,
            "grid_auto_rows": null,
            "grid_column": null,
            "grid_gap": null,
            "grid_row": null,
            "grid_template_areas": null,
            "grid_template_columns": null,
            "grid_template_rows": null,
            "height": null,
            "justify_content": null,
            "justify_items": null,
            "left": null,
            "margin": null,
            "max_height": null,
            "max_width": null,
            "min_height": null,
            "min_width": null,
            "object_fit": null,
            "object_position": null,
            "order": null,
            "overflow": null,
            "overflow_x": null,
            "overflow_y": null,
            "padding": null,
            "right": null,
            "top": null,
            "visibility": null,
            "width": null
          }
        },
        "4f845bb1be2f4a30993ab4f6f962cdea": {
          "model_module": "@jupyter-widgets/controls",
          "model_name": "DropdownModel",
          "model_module_version": "1.5.0",
          "state": {
            "_dom_classes": [],
            "_model_module": "@jupyter-widgets/controls",
            "_model_module_version": "1.5.0",
            "_model_name": "DropdownModel",
            "_options_labels": [
              "0"
            ],
            "_view_count": null,
            "_view_module": "@jupyter-widgets/controls",
            "_view_module_version": "1.5.0",
            "_view_name": "DropdownView",
            "description": "Model",
            "description_tooltip": null,
            "disabled": false,
            "index": 0,
            "layout": "IPY_MODEL_e36f30a13c8c4dbaa13377f2d30ff53e",
            "style": "IPY_MODEL_81672332923345b2bcb0219b86394cb9"
          }
        },
        "5313410546074d64bd99cdbaba63e456": {
          "model_module": "@jupyter-widgets/controls",
          "model_name": "DropdownModel",
          "model_module_version": "1.5.0",
          "state": {
            "_dom_classes": [],
            "_model_module": "@jupyter-widgets/controls",
            "_model_module_version": "1.5.0",
            "_model_name": "DropdownModel",
            "_options_labels": [
              "sticks",
              "ballsticks",
              "vanderwaals",
              "default"
            ],
            "_view_count": null,
            "_view_module": "@jupyter-widgets/controls",
            "_view_module_version": "1.5.0",
            "_view_name": "DropdownView",
            "description": "Style",
            "description_tooltip": null,
            "disabled": false,
            "index": 3,
            "layout": "IPY_MODEL_54336164e8b149a5ad29cd397d76956e",
            "style": "IPY_MODEL_53cdd0a255314d628ece6cb09a4af551"
          }
        },
        "394f8ecb44364e66af7638c54c27fea1": {
          "model_module": "@jupyter-widgets/base",
          "model_name": "LayoutModel",
          "model_module_version": "1.2.0",
          "state": {
            "_model_module": "@jupyter-widgets/base",
            "_model_module_version": "1.2.0",
            "_model_name": "LayoutModel",
            "_view_count": null,
            "_view_module": "@jupyter-widgets/base",
            "_view_module_version": "1.2.0",
            "_view_name": "LayoutView",
            "align_content": null,
            "align_items": null,
            "align_self": null,
            "border": null,
            "bottom": null,
            "display": null,
            "flex": null,
            "flex_flow": null,
            "grid_area": null,
            "grid_auto_columns": null,
            "grid_auto_flow": null,
            "grid_auto_rows": null,
            "grid_column": null,
            "grid_gap": null,
            "grid_row": null,
            "grid_template_areas": null,
            "grid_template_columns": null,
            "grid_template_rows": null,
            "height": null,
            "justify_content": null,
            "justify_items": null,
            "left": null,
            "margin": null,
            "max_height": null,
            "max_width": null,
            "min_height": null,
            "min_width": null,
            "object_fit": null,
            "object_position": null,
            "order": null,
            "overflow": null,
            "overflow_x": null,
            "overflow_y": null,
            "padding": null,
            "right": null,
            "top": null,
            "visibility": null,
            "width": null
          }
        },
        "1a24a724ab7246e6ae10d93758ffed76": {
          "model_module": "@jupyter-widgets/controls",
          "model_name": "VBoxModel",
          "model_module_version": "1.5.0",
          "state": {
            "_dom_classes": [],
            "_model_module": "@jupyter-widgets/controls",
            "_model_module_version": "1.5.0",
            "_model_name": "VBoxModel",
            "_view_count": null,
            "_view_module": "@jupyter-widgets/controls",
            "_view_module_version": "1.5.0",
            "_view_name": "VBoxView",
            "box_style": "",
            "children": [
              "IPY_MODEL_552da7b2983b48588827cae4e3685aa4",
              "IPY_MODEL_da8bab441fb7455e969e327a2a30344b"
            ],
            "layout": "IPY_MODEL_402e93cbf4db403f8a36381f81618ad6"
          }
        },
        "eca1b5c6b94748f299b0436b694eb1d6": {
          "model_module": "@jupyter-widgets/controls",
          "model_name": "VBoxModel",
          "model_module_version": "1.5.0",
          "state": {
            "_dom_classes": [],
            "_model_module": "@jupyter-widgets/controls",
            "_model_module_version": "1.5.0",
            "_model_name": "VBoxModel",
            "_view_count": null,
            "_view_module": "@jupyter-widgets/controls",
            "_view_module_version": "1.5.0",
            "_view_name": "VBoxView",
            "box_style": "",
            "children": [
              "IPY_MODEL_de5bbe4bde2c4c4f979ebcbb90efddd4",
              "IPY_MODEL_4d93621f8f874daba32a704229f6440d"
            ],
            "layout": "IPY_MODEL_87b2a5a5d7a24b98af7098649638b408"
          }
        },
        "583892cb62a64baa92011bcc95bb7bd5": {
          "model_module": "@jupyter-widgets/base",
          "model_name": "LayoutModel",
          "model_module_version": "1.2.0",
          "state": {
            "_model_module": "@jupyter-widgets/base",
            "_model_module_version": "1.2.0",
            "_model_name": "LayoutModel",
            "_view_count": null,
            "_view_module": "@jupyter-widgets/base",
            "_view_module_version": "1.2.0",
            "_view_name": "LayoutView",
            "align_content": null,
            "align_items": null,
            "align_self": null,
            "border": null,
            "bottom": null,
            "display": null,
            "flex": null,
            "flex_flow": null,
            "grid_area": null,
            "grid_auto_columns": null,
            "grid_auto_flow": null,
            "grid_auto_rows": null,
            "grid_column": null,
            "grid_gap": null,
            "grid_row": null,
            "grid_template_areas": null,
            "grid_template_columns": null,
            "grid_template_rows": null,
            "height": null,
            "justify_content": null,
            "justify_items": null,
            "left": null,
            "margin": null,
            "max_height": null,
            "max_width": null,
            "min_height": null,
            "min_width": null,
            "object_fit": null,
            "object_position": null,
            "order": null,
            "overflow": null,
            "overflow_x": null,
            "overflow_y": null,
            "padding": null,
            "right": null,
            "top": null,
            "visibility": null,
            "width": null
          }
        },
        "e36f30a13c8c4dbaa13377f2d30ff53e": {
          "model_module": "@jupyter-widgets/base",
          "model_name": "LayoutModel",
          "model_module_version": "1.2.0",
          "state": {
            "_model_module": "@jupyter-widgets/base",
            "_model_module_version": "1.2.0",
            "_model_name": "LayoutModel",
            "_view_count": null,
            "_view_module": "@jupyter-widgets/base",
            "_view_module_version": "1.2.0",
            "_view_name": "LayoutView",
            "align_content": null,
            "align_items": null,
            "align_self": null,
            "border": null,
            "bottom": null,
            "display": null,
            "flex": null,
            "flex_flow": null,
            "grid_area": null,
            "grid_auto_columns": null,
            "grid_auto_flow": null,
            "grid_auto_rows": null,
            "grid_column": null,
            "grid_gap": null,
            "grid_row": null,
            "grid_template_areas": null,
            "grid_template_columns": null,
            "grid_template_rows": null,
            "height": null,
            "justify_content": null,
            "justify_items": null,
            "left": null,
            "margin": null,
            "max_height": null,
            "max_width": null,
            "min_height": null,
            "min_width": null,
            "object_fit": null,
            "object_position": null,
            "order": null,
            "overflow": null,
            "overflow_x": null,
            "overflow_y": null,
            "padding": null,
            "right": null,
            "top": null,
            "visibility": null,
            "width": null
          }
        },
        "81672332923345b2bcb0219b86394cb9": {
          "model_module": "@jupyter-widgets/controls",
          "model_name": "DescriptionStyleModel",
          "model_module_version": "1.5.0",
          "state": {
            "_model_module": "@jupyter-widgets/controls",
            "_model_module_version": "1.5.0",
            "_model_name": "DescriptionStyleModel",
            "_view_count": null,
            "_view_module": "@jupyter-widgets/base",
            "_view_module_version": "1.2.0",
            "_view_name": "StyleView",
            "description_width": ""
          }
        },
        "54336164e8b149a5ad29cd397d76956e": {
          "model_module": "@jupyter-widgets/base",
          "model_name": "LayoutModel",
          "model_module_version": "1.2.0",
          "state": {
            "_model_module": "@jupyter-widgets/base",
            "_model_module_version": "1.2.0",
            "_model_name": "LayoutModel",
            "_view_count": null,
            "_view_module": "@jupyter-widgets/base",
            "_view_module_version": "1.2.0",
            "_view_name": "LayoutView",
            "align_content": null,
            "align_items": null,
            "align_self": null,
            "border": null,
            "bottom": null,
            "display": null,
            "flex": null,
            "flex_flow": null,
            "grid_area": null,
            "grid_auto_columns": null,
            "grid_auto_flow": null,
            "grid_auto_rows": null,
            "grid_column": null,
            "grid_gap": null,
            "grid_row": null,
            "grid_template_areas": null,
            "grid_template_columns": null,
            "grid_template_rows": null,
            "height": null,
            "justify_content": null,
            "justify_items": null,
            "left": null,
            "margin": null,
            "max_height": null,
            "max_width": null,
            "min_height": null,
            "min_width": null,
            "object_fit": null,
            "object_position": null,
            "order": null,
            "overflow": null,
            "overflow_x": null,
            "overflow_y": null,
            "padding": null,
            "right": null,
            "top": null,
            "visibility": null,
            "width": null
          }
        },
        "53cdd0a255314d628ece6cb09a4af551": {
          "model_module": "@jupyter-widgets/controls",
          "model_name": "DescriptionStyleModel",
          "model_module_version": "1.5.0",
          "state": {
            "_model_module": "@jupyter-widgets/controls",
            "_model_module_version": "1.5.0",
            "_model_name": "DescriptionStyleModel",
            "_view_count": null,
            "_view_module": "@jupyter-widgets/base",
            "_view_module_version": "1.2.0",
            "_view_name": "StyleView",
            "description_width": ""
          }
        },
        "552da7b2983b48588827cae4e3685aa4": {
          "model_module": "@jupyter-widgets/controls",
          "model_name": "BoundedIntTextModel",
          "model_module_version": "1.5.0",
          "state": {
            "_dom_classes": [],
            "_model_module": "@jupyter-widgets/controls",
            "_model_module_version": "1.5.0",
            "_model_name": "BoundedIntTextModel",
            "_view_count": null,
            "_view_module": "@jupyter-widgets/controls",
            "_view_module_version": "1.5.0",
            "_view_name": "IntTextView",
            "continuous_update": false,
            "description": "Step",
            "description_tooltip": null,
            "disabled": false,
            "layout": "IPY_MODEL_c92045e9b7154a50abf9f78aaeba0380",
            "max": 1,
            "min": 1,
            "step": 1,
            "style": "IPY_MODEL_cb762a89606948eca5cd26897f7223fd",
            "value": 1
          }
        },
        "da8bab441fb7455e969e327a2a30344b": {
          "model_module": "@jupyter-widgets/controls",
          "model_name": "IntTextModel",
          "model_module_version": "1.5.0",
          "state": {
            "_dom_classes": [],
            "_model_module": "@jupyter-widgets/controls",
            "_model_module_version": "1.5.0",
            "_model_name": "IntTextModel",
            "_view_count": null,
            "_view_module": "@jupyter-widgets/controls",
            "_view_module_version": "1.5.0",
            "_view_name": "IntTextView",
            "continuous_update": false,
            "description": "Delay (ms)",
            "description_tooltip": null,
            "disabled": false,
            "layout": "IPY_MODEL_294011973cd74a05aaaf6524fb8527b7",
            "step": 1,
            "style": "IPY_MODEL_ca0237f3a09b4d4e8e513eb85fc37db6",
            "value": 100
          }
        },
        "402e93cbf4db403f8a36381f81618ad6": {
          "model_module": "@jupyter-widgets/base",
          "model_name": "LayoutModel",
          "model_module_version": "1.2.0",
          "state": {
            "_model_module": "@jupyter-widgets/base",
            "_model_module_version": "1.2.0",
            "_model_name": "LayoutModel",
            "_view_count": null,
            "_view_module": "@jupyter-widgets/base",
            "_view_module_version": "1.2.0",
            "_view_name": "LayoutView",
            "align_content": null,
            "align_items": null,
            "align_self": null,
            "border": null,
            "bottom": null,
            "display": null,
            "flex": null,
            "flex_flow": null,
            "grid_area": null,
            "grid_auto_columns": null,
            "grid_auto_flow": null,
            "grid_auto_rows": null,
            "grid_column": null,
            "grid_gap": null,
            "grid_row": null,
            "grid_template_areas": null,
            "grid_template_columns": null,
            "grid_template_rows": null,
            "height": null,
            "justify_content": null,
            "justify_items": null,
            "left": null,
            "margin": null,
            "max_height": null,
            "max_width": null,
            "min_height": null,
            "min_width": null,
            "object_fit": null,
            "object_position": null,
            "order": null,
            "overflow": null,
            "overflow_x": null,
            "overflow_y": null,
            "padding": null,
            "right": null,
            "top": null,
            "visibility": null,
            "width": null
          }
        },
        "de5bbe4bde2c4c4f979ebcbb90efddd4": {
          "model_module": "@jupyter-widgets/controls",
          "model_name": "IntSliderModel",
          "model_module_version": "1.5.0",
          "state": {
            "_dom_classes": [],
            "_model_module": "@jupyter-widgets/controls",
            "_model_module_version": "1.5.0",
            "_model_name": "IntSliderModel",
            "_view_count": null,
            "_view_module": "@jupyter-widgets/controls",
            "_view_module_version": "1.5.0",
            "_view_name": "IntSliderView",
            "continuous_update": true,
            "description": "Frame",
            "description_tooltip": null,
            "disabled": false,
            "layout": "IPY_MODEL_dbe933b5a35947cbb337ea549232b902",
            "max": 0,
            "min": 0,
            "orientation": "horizontal",
            "readout": true,
            "readout_format": "d",
            "step": 1,
            "style": "IPY_MODEL_fd8c231a57d94d84b931b3e3d20b4292",
            "value": 0
          }
        },
        "4d93621f8f874daba32a704229f6440d": {
          "model_module": "@jupyter-widgets/controls",
          "model_name": "HBoxModel",
          "model_module_version": "1.5.0",
          "state": {
            "_dom_classes": [],
            "_model_module": "@jupyter-widgets/controls",
            "_model_module_version": "1.5.0",
            "_model_name": "HBoxModel",
            "_view_count": null,
            "_view_module": "@jupyter-widgets/controls",
            "_view_module_version": "1.5.0",
            "_view_name": "HBoxView",
            "box_style": "",
            "children": [
              "IPY_MODEL_2cc1df90cc344afe930e85775f7bb93c",
              "IPY_MODEL_fc5dada56073435e93d460eb460c3b09",
              "IPY_MODEL_adbb3f36157042d4b1e0dcb0d104f6cb"
            ],
            "layout": "IPY_MODEL_b0f35989553243368108e754a13c0dd5"
          }
        },
        "87b2a5a5d7a24b98af7098649638b408": {
          "model_module": "@jupyter-widgets/base",
          "model_name": "LayoutModel",
          "model_module_version": "1.2.0",
          "state": {
            "_model_module": "@jupyter-widgets/base",
            "_model_module_version": "1.2.0",
            "_model_name": "LayoutModel",
            "_view_count": null,
            "_view_module": "@jupyter-widgets/base",
            "_view_module_version": "1.2.0",
            "_view_name": "LayoutView",
            "align_content": null,
            "align_items": "center",
            "align_self": null,
            "border": null,
            "bottom": null,
            "display": null,
            "flex": null,
            "flex_flow": null,
            "grid_area": null,
            "grid_auto_columns": null,
            "grid_auto_flow": null,
            "grid_auto_rows": null,
            "grid_column": null,
            "grid_gap": null,
            "grid_row": null,
            "grid_template_areas": null,
            "grid_template_columns": null,
            "grid_template_rows": null,
            "height": null,
            "justify_content": null,
            "justify_items": null,
            "left": null,
            "margin": null,
            "max_height": null,
            "max_width": null,
            "min_height": null,
            "min_width": null,
            "object_fit": null,
            "object_position": null,
            "order": null,
            "overflow": null,
            "overflow_x": null,
            "overflow_y": null,
            "padding": null,
            "right": null,
            "top": null,
            "visibility": null,
            "width": null
          }
        },
        "c92045e9b7154a50abf9f78aaeba0380": {
          "model_module": "@jupyter-widgets/base",
          "model_name": "LayoutModel",
          "model_module_version": "1.2.0",
          "state": {
            "_model_module": "@jupyter-widgets/base",
            "_model_module_version": "1.2.0",
            "_model_name": "LayoutModel",
            "_view_count": null,
            "_view_module": "@jupyter-widgets/base",
            "_view_module_version": "1.2.0",
            "_view_name": "LayoutView",
            "align_content": null,
            "align_items": null,
            "align_self": null,
            "border": null,
            "bottom": null,
            "display": null,
            "flex": null,
            "flex_flow": null,
            "grid_area": null,
            "grid_auto_columns": null,
            "grid_auto_flow": null,
            "grid_auto_rows": null,
            "grid_column": null,
            "grid_gap": null,
            "grid_row": null,
            "grid_template_areas": null,
            "grid_template_columns": null,
            "grid_template_rows": null,
            "height": null,
            "justify_content": null,
            "justify_items": null,
            "left": null,
            "margin": null,
            "max_height": null,
            "max_width": "150px",
            "min_height": null,
            "min_width": null,
            "object_fit": null,
            "object_position": null,
            "order": null,
            "overflow": null,
            "overflow_x": null,
            "overflow_y": null,
            "padding": null,
            "right": null,
            "top": null,
            "visibility": null,
            "width": null
          }
        },
        "cb762a89606948eca5cd26897f7223fd": {
          "model_module": "@jupyter-widgets/controls",
          "model_name": "DescriptionStyleModel",
          "model_module_version": "1.5.0",
          "state": {
            "_model_module": "@jupyter-widgets/controls",
            "_model_module_version": "1.5.0",
            "_model_name": "DescriptionStyleModel",
            "_view_count": null,
            "_view_module": "@jupyter-widgets/base",
            "_view_module_version": "1.2.0",
            "_view_name": "StyleView",
            "description_width": ""
          }
        },
        "294011973cd74a05aaaf6524fb8527b7": {
          "model_module": "@jupyter-widgets/base",
          "model_name": "LayoutModel",
          "model_module_version": "1.2.0",
          "state": {
            "_model_module": "@jupyter-widgets/base",
            "_model_module_version": "1.2.0",
            "_model_name": "LayoutModel",
            "_view_count": null,
            "_view_module": "@jupyter-widgets/base",
            "_view_module_version": "1.2.0",
            "_view_name": "LayoutView",
            "align_content": null,
            "align_items": null,
            "align_self": null,
            "border": null,
            "bottom": null,
            "display": null,
            "flex": null,
            "flex_flow": null,
            "grid_area": null,
            "grid_auto_columns": null,
            "grid_auto_flow": null,
            "grid_auto_rows": null,
            "grid_column": null,
            "grid_gap": null,
            "grid_row": null,
            "grid_template_areas": null,
            "grid_template_columns": null,
            "grid_template_rows": null,
            "height": null,
            "justify_content": null,
            "justify_items": null,
            "left": null,
            "margin": null,
            "max_height": null,
            "max_width": "150px",
            "min_height": null,
            "min_width": null,
            "object_fit": null,
            "object_position": null,
            "order": null,
            "overflow": null,
            "overflow_x": null,
            "overflow_y": null,
            "padding": null,
            "right": null,
            "top": null,
            "visibility": null,
            "width": null
          }
        },
        "ca0237f3a09b4d4e8e513eb85fc37db6": {
          "model_module": "@jupyter-widgets/controls",
          "model_name": "DescriptionStyleModel",
          "model_module_version": "1.5.0",
          "state": {
            "_model_module": "@jupyter-widgets/controls",
            "_model_module_version": "1.5.0",
            "_model_name": "DescriptionStyleModel",
            "_view_count": null,
            "_view_module": "@jupyter-widgets/base",
            "_view_module_version": "1.2.0",
            "_view_name": "StyleView",
            "description_width": ""
          }
        },
        "dbe933b5a35947cbb337ea549232b902": {
          "model_module": "@jupyter-widgets/base",
          "model_name": "LayoutModel",
          "model_module_version": "1.2.0",
          "state": {
            "_model_module": "@jupyter-widgets/base",
            "_model_module_version": "1.2.0",
            "_model_name": "LayoutModel",
            "_view_count": null,
            "_view_module": "@jupyter-widgets/base",
            "_view_module_version": "1.2.0",
            "_view_name": "LayoutView",
            "align_content": null,
            "align_items": null,
            "align_self": null,
            "border": null,
            "bottom": null,
            "display": null,
            "flex": null,
            "flex_flow": null,
            "grid_area": null,
            "grid_auto_columns": null,
            "grid_auto_flow": null,
            "grid_auto_rows": null,
            "grid_column": null,
            "grid_gap": null,
            "grid_row": null,
            "grid_template_areas": null,
            "grid_template_columns": null,
            "grid_template_rows": null,
            "height": null,
            "justify_content": null,
            "justify_items": null,
            "left": null,
            "margin": null,
            "max_height": null,
            "max_width": null,
            "min_height": null,
            "min_width": null,
            "object_fit": null,
            "object_position": null,
            "order": null,
            "overflow": null,
            "overflow_x": null,
            "overflow_y": null,
            "padding": null,
            "right": null,
            "top": null,
            "visibility": null,
            "width": "600px"
          }
        },
        "fd8c231a57d94d84b931b3e3d20b4292": {
          "model_module": "@jupyter-widgets/controls",
          "model_name": "SliderStyleModel",
          "model_module_version": "1.5.0",
          "state": {
            "_model_module": "@jupyter-widgets/controls",
            "_model_module_version": "1.5.0",
            "_model_name": "SliderStyleModel",
            "_view_count": null,
            "_view_module": "@jupyter-widgets/base",
            "_view_module_version": "1.2.0",
            "_view_name": "StyleView",
            "description_width": "",
            "handle_color": null
          }
        },
        "2cc1df90cc344afe930e85775f7bb93c": {
          "model_module": "@jupyter-widgets/controls",
          "model_name": "ButtonModel",
          "model_module_version": "1.5.0",
          "state": {
            "_dom_classes": [],
            "_model_module": "@jupyter-widgets/controls",
            "_model_module_version": "1.5.0",
            "_model_name": "ButtonModel",
            "_view_count": null,
            "_view_module": "@jupyter-widgets/controls",
            "_view_module_version": "1.5.0",
            "_view_name": "ButtonView",
            "button_style": "",
            "description": "◀◀",
            "disabled": false,
            "icon": "",
            "layout": "IPY_MODEL_cd5e37e0421549d29183de2b61741d81",
            "style": "IPY_MODEL_1e825973884e4651b50d77b04f9a9d52",
            "tooltip": ""
          }
        },
        "fc5dada56073435e93d460eb460c3b09": {
          "model_module": "@jupyter-widgets/controls",
          "model_name": "PlayModel",
          "model_module_version": "1.5.0",
          "state": {
            "_dom_classes": [],
            "_model_module": "@jupyter-widgets/controls",
            "_model_module_version": "1.5.0",
            "_model_name": "PlayModel",
            "_playing": false,
            "_repeat": false,
            "_view_count": null,
            "_view_module": "@jupyter-widgets/controls",
            "_view_module_version": "1.5.0",
            "_view_name": "PlayView",
            "description": "Animate",
            "description_tooltip": null,
            "disabled": false,
            "interval": 100,
            "layout": "IPY_MODEL_f6162190b99d4130b08ebc4581eb6ab4",
            "max": 0,
            "min": 0,
            "show_repeat": true,
            "step": 1,
            "style": "IPY_MODEL_154dd855834a4c4f9c5adee988e6dae4",
            "value": 0
          }
        },
        "adbb3f36157042d4b1e0dcb0d104f6cb": {
          "model_module": "@jupyter-widgets/controls",
          "model_name": "ButtonModel",
          "model_module_version": "1.5.0",
          "state": {
            "_dom_classes": [],
            "_model_module": "@jupyter-widgets/controls",
            "_model_module_version": "1.5.0",
            "_model_name": "ButtonModel",
            "_view_count": null,
            "_view_module": "@jupyter-widgets/controls",
            "_view_module_version": "1.5.0",
            "_view_name": "ButtonView",
            "button_style": "",
            "description": "▶▶",
            "disabled": false,
            "icon": "",
            "layout": "IPY_MODEL_d231dde77d31405db9b4e0c31d561f10",
            "style": "IPY_MODEL_b496061984054ae0ba2b2098819b6d35",
            "tooltip": ""
          }
        },
        "b0f35989553243368108e754a13c0dd5": {
          "model_module": "@jupyter-widgets/base",
          "model_name": "LayoutModel",
          "model_module_version": "1.2.0",
          "state": {
            "_model_module": "@jupyter-widgets/base",
            "_model_module_version": "1.2.0",
            "_model_name": "LayoutModel",
            "_view_count": null,
            "_view_module": "@jupyter-widgets/base",
            "_view_module_version": "1.2.0",
            "_view_name": "LayoutView",
            "align_content": null,
            "align_items": null,
            "align_self": null,
            "border": null,
            "bottom": null,
            "display": null,
            "flex": null,
            "flex_flow": null,
            "grid_area": null,
            "grid_auto_columns": null,
            "grid_auto_flow": null,
            "grid_auto_rows": null,
            "grid_column": null,
            "grid_gap": null,
            "grid_row": null,
            "grid_template_areas": null,
            "grid_template_columns": null,
            "grid_template_rows": null,
            "height": null,
            "justify_content": null,
            "justify_items": null,
            "left": null,
            "margin": null,
            "max_height": null,
            "max_width": null,
            "min_height": null,
            "min_width": null,
            "object_fit": null,
            "object_position": null,
            "order": null,
            "overflow": null,
            "overflow_x": null,
            "overflow_y": null,
            "padding": null,
            "right": null,
            "top": null,
            "visibility": null,
            "width": null
          }
        },
        "cd5e37e0421549d29183de2b61741d81": {
          "model_module": "@jupyter-widgets/base",
          "model_name": "LayoutModel",
          "model_module_version": "1.2.0",
          "state": {
            "_model_module": "@jupyter-widgets/base",
            "_model_module_version": "1.2.0",
            "_model_name": "LayoutModel",
            "_view_count": null,
            "_view_module": "@jupyter-widgets/base",
            "_view_module_version": "1.2.0",
            "_view_name": "LayoutView",
            "align_content": null,
            "align_items": null,
            "align_self": null,
            "border": null,
            "bottom": null,
            "display": null,
            "flex": null,
            "flex_flow": null,
            "grid_area": null,
            "grid_auto_columns": null,
            "grid_auto_flow": null,
            "grid_auto_rows": null,
            "grid_column": null,
            "grid_gap": null,
            "grid_row": null,
            "grid_template_areas": null,
            "grid_template_columns": null,
            "grid_template_rows": null,
            "height": null,
            "justify_content": null,
            "justify_items": null,
            "left": null,
            "margin": null,
            "max_height": null,
            "max_width": null,
            "min_height": null,
            "min_width": null,
            "object_fit": null,
            "object_position": null,
            "order": null,
            "overflow": null,
            "overflow_x": null,
            "overflow_y": null,
            "padding": null,
            "right": null,
            "top": null,
            "visibility": null,
            "width": "auto"
          }
        },
        "1e825973884e4651b50d77b04f9a9d52": {
          "model_module": "@jupyter-widgets/controls",
          "model_name": "ButtonStyleModel",
          "model_module_version": "1.5.0",
          "state": {
            "_model_module": "@jupyter-widgets/controls",
            "_model_module_version": "1.5.0",
            "_model_name": "ButtonStyleModel",
            "_view_count": null,
            "_view_module": "@jupyter-widgets/base",
            "_view_module_version": "1.2.0",
            "_view_name": "StyleView",
            "button_color": null,
            "font_weight": ""
          }
        },
        "f6162190b99d4130b08ebc4581eb6ab4": {
          "model_module": "@jupyter-widgets/base",
          "model_name": "LayoutModel",
          "model_module_version": "1.2.0",
          "state": {
            "_model_module": "@jupyter-widgets/base",
            "_model_module_version": "1.2.0",
            "_model_name": "LayoutModel",
            "_view_count": null,
            "_view_module": "@jupyter-widgets/base",
            "_view_module_version": "1.2.0",
            "_view_name": "LayoutView",
            "align_content": null,
            "align_items": null,
            "align_self": null,
            "border": null,
            "bottom": null,
            "display": null,
            "flex": null,
            "flex_flow": null,
            "grid_area": null,
            "grid_auto_columns": null,
            "grid_auto_flow": null,
            "grid_auto_rows": null,
            "grid_column": null,
            "grid_gap": null,
            "grid_row": null,
            "grid_template_areas": null,
            "grid_template_columns": null,
            "grid_template_rows": null,
            "height": null,
            "justify_content": null,
            "justify_items": null,
            "left": null,
            "margin": null,
            "max_height": null,
            "max_width": null,
            "min_height": null,
            "min_width": null,
            "object_fit": null,
            "object_position": null,
            "order": null,
            "overflow": null,
            "overflow_x": null,
            "overflow_y": null,
            "padding": null,
            "right": null,
            "top": null,
            "visibility": null,
            "width": null
          }
        },
        "154dd855834a4c4f9c5adee988e6dae4": {
          "model_module": "@jupyter-widgets/controls",
          "model_name": "DescriptionStyleModel",
          "model_module_version": "1.5.0",
          "state": {
            "_model_module": "@jupyter-widgets/controls",
            "_model_module_version": "1.5.0",
            "_model_name": "DescriptionStyleModel",
            "_view_count": null,
            "_view_module": "@jupyter-widgets/base",
            "_view_module_version": "1.2.0",
            "_view_name": "StyleView",
            "description_width": ""
          }
        },
        "d231dde77d31405db9b4e0c31d561f10": {
          "model_module": "@jupyter-widgets/base",
          "model_name": "LayoutModel",
          "model_module_version": "1.2.0",
          "state": {
            "_model_module": "@jupyter-widgets/base",
            "_model_module_version": "1.2.0",
            "_model_name": "LayoutModel",
            "_view_count": null,
            "_view_module": "@jupyter-widgets/base",
            "_view_module_version": "1.2.0",
            "_view_name": "LayoutView",
            "align_content": null,
            "align_items": null,
            "align_self": null,
            "border": null,
            "bottom": null,
            "display": null,
            "flex": null,
            "flex_flow": null,
            "grid_area": null,
            "grid_auto_columns": null,
            "grid_auto_flow": null,
            "grid_auto_rows": null,
            "grid_column": null,
            "grid_gap": null,
            "grid_row": null,
            "grid_template_areas": null,
            "grid_template_columns": null,
            "grid_template_rows": null,
            "height": null,
            "justify_content": null,
            "justify_items": null,
            "left": null,
            "margin": null,
            "max_height": null,
            "max_width": null,
            "min_height": null,
            "min_width": null,
            "object_fit": null,
            "object_position": null,
            "order": null,
            "overflow": null,
            "overflow_x": null,
            "overflow_y": null,
            "padding": null,
            "right": null,
            "top": null,
            "visibility": null,
            "width": "auto"
          }
        },
        "b496061984054ae0ba2b2098819b6d35": {
          "model_module": "@jupyter-widgets/controls",
          "model_name": "ButtonStyleModel",
          "model_module_version": "1.5.0",
          "state": {
            "_model_module": "@jupyter-widgets/controls",
            "_model_module_version": "1.5.0",
            "_model_name": "ButtonStyleModel",
            "_view_count": null,
            "_view_module": "@jupyter-widgets/base",
            "_view_module_version": "1.2.0",
            "_view_name": "StyleView",
            "button_color": null,
            "font_weight": ""
          }
        },
        "85830f1a449a4dd28d4f18ff8436d1f0": {
          "model_module": "@jupyter-widgets/base",
          "model_name": "LayoutModel",
          "model_module_version": "1.2.0",
          "state": {
            "_model_module": "@jupyter-widgets/base",
            "_model_module_version": "1.2.0",
            "_model_name": "LayoutModel",
            "_view_count": null,
            "_view_module": "@jupyter-widgets/base",
            "_view_module_version": "1.2.0",
            "_view_name": "LayoutView",
            "align_content": null,
            "align_items": null,
            "align_self": null,
            "border": "1px solid black",
            "bottom": null,
            "display": null,
            "flex": null,
            "flex_flow": null,
            "grid_area": null,
            "grid_auto_columns": null,
            "grid_auto_flow": null,
            "grid_auto_rows": null,
            "grid_column": null,
            "grid_gap": null,
            "grid_row": null,
            "grid_template_areas": null,
            "grid_template_columns": null,
            "grid_template_rows": null,
            "height": "402px",
            "justify_content": null,
            "justify_items": null,
            "left": null,
            "margin": null,
            "max_height": null,
            "max_width": null,
            "min_height": null,
            "min_width": null,
            "object_fit": null,
            "object_position": null,
            "order": null,
            "overflow": null,
            "overflow_x": null,
            "overflow_y": null,
            "padding": null,
            "right": null,
            "top": null,
            "visibility": null,
            "width": "602px"
          }
        }
      }
    }
  },
  "cells": [
    {
      "cell_type": "markdown",
      "metadata": {
        "id": "view-in-github",
        "colab_type": "text"
      },
      "source": [
        "<a href=\"https://colab.research.google.com/github/Davikky/My-IBM_QC-Lab_works/blob/main/DFT_automation_and_databases.ipynb\" target=\"_parent\"><img src=\"https://colab.research.google.com/assets/colab-badge.svg\" alt=\"Open In Colab\"/></a>"
      ]
    },
    {
      "cell_type": "markdown",
      "metadata": {
        "id": "y-EPBfC6u7WG"
      },
      "source": [
        "2024-08-08 Alexander Urban <au2229@columbia.edu>, Columbia University"
      ]
    },
    {
      "cell_type": "markdown",
      "metadata": {
        "id": "yqrF_w734Vev"
      },
      "source": [
        "# Installation of the required software"
      ]
    },
    {
      "cell_type": "markdown",
      "metadata": {
        "id": "hBlk1YIJsHWd"
      },
      "source": [
        "PyMatgen: http://pymatgen.org\n",
        "\n",
        "S. P. Ong et al., *Comput. Mater. Sci.* **68**, 2013, 314-319."
      ]
    },
    {
      "cell_type": "code",
      "source": [
        "%pip install pymatgen"
      ],
      "metadata": {
        "id": "KHb38KE151dC",
        "outputId": "8a28871e-5146-46d7-cc48-6d77d529caac",
        "colab": {
          "base_uri": "https://localhost:8080/"
        }
      },
      "execution_count": 1,
      "outputs": [
        {
          "output_type": "stream",
          "name": "stdout",
          "text": [
            "Collecting pymatgen\n",
            "  Downloading pymatgen-2024.7.18-cp310-cp310-manylinux_2_17_x86_64.manylinux2014_x86_64.whl.metadata (13 kB)\n",
            "Collecting matplotlib>=3.8 (from pymatgen)\n",
            "  Downloading matplotlib-3.9.1.post1-cp310-cp310-manylinux_2_17_x86_64.manylinux2014_x86_64.whl.metadata (11 kB)\n",
            "Collecting monty>=2024.5.24 (from pymatgen)\n",
            "  Downloading monty-2024.7.30-py3-none-any.whl.metadata (3.2 kB)\n",
            "Requirement already satisfied: networkx>=2.2 in /usr/local/lib/python3.10/dist-packages (from pymatgen) (3.3)\n",
            "Collecting palettable>=3.1.1 (from pymatgen)\n",
            "  Downloading palettable-3.3.3-py2.py3-none-any.whl.metadata (3.3 kB)\n",
            "Requirement already satisfied: pandas>=2 in /usr/local/lib/python3.10/dist-packages (from pymatgen) (2.1.4)\n",
            "Requirement already satisfied: plotly>=4.5.0 in /usr/local/lib/python3.10/dist-packages (from pymatgen) (5.15.0)\n",
            "Collecting pybtex>=0.24.0 (from pymatgen)\n",
            "  Downloading pybtex-0.24.0-py2.py3-none-any.whl.metadata (2.0 kB)\n",
            "Requirement already satisfied: requests>=2.32 in /usr/local/lib/python3.10/dist-packages (from pymatgen) (2.32.3)\n",
            "Collecting ruamel.yaml>=0.17.0 (from pymatgen)\n",
            "  Downloading ruamel.yaml-0.18.6-py3-none-any.whl.metadata (23 kB)\n",
            "Requirement already satisfied: scipy>=1.13.0 in /usr/local/lib/python3.10/dist-packages (from pymatgen) (1.13.1)\n",
            "Collecting spglib>=2.5.0 (from pymatgen)\n",
            "  Downloading spglib-2.5.0-cp310-cp310-manylinux_2_17_x86_64.manylinux2014_x86_64.whl.metadata (4.2 kB)\n",
            "Requirement already satisfied: sympy>=1.2 in /usr/local/lib/python3.10/dist-packages (from pymatgen) (1.13.1)\n",
            "Requirement already satisfied: tabulate>=0.9 in /usr/local/lib/python3.10/dist-packages (from pymatgen) (0.9.0)\n",
            "Requirement already satisfied: tqdm>=4.60 in /usr/local/lib/python3.10/dist-packages (from pymatgen) (4.66.5)\n",
            "Collecting uncertainties>=3.1.4 (from pymatgen)\n",
            "  Downloading uncertainties-3.2.2-py3-none-any.whl.metadata (6.9 kB)\n",
            "Requirement already satisfied: joblib>=1 in /usr/local/lib/python3.10/dist-packages (from pymatgen) (1.4.2)\n",
            "Requirement already satisfied: numpy>=1.25.0 in /usr/local/lib/python3.10/dist-packages (from pymatgen) (1.26.4)\n",
            "Requirement already satisfied: contourpy>=1.0.1 in /usr/local/lib/python3.10/dist-packages (from matplotlib>=3.8->pymatgen) (1.2.1)\n",
            "Requirement already satisfied: cycler>=0.10 in /usr/local/lib/python3.10/dist-packages (from matplotlib>=3.8->pymatgen) (0.12.1)\n",
            "Requirement already satisfied: fonttools>=4.22.0 in /usr/local/lib/python3.10/dist-packages (from matplotlib>=3.8->pymatgen) (4.53.1)\n",
            "Requirement already satisfied: kiwisolver>=1.3.1 in /usr/local/lib/python3.10/dist-packages (from matplotlib>=3.8->pymatgen) (1.4.5)\n",
            "Requirement already satisfied: packaging>=20.0 in /usr/local/lib/python3.10/dist-packages (from matplotlib>=3.8->pymatgen) (24.1)\n",
            "Requirement already satisfied: pillow>=8 in /usr/local/lib/python3.10/dist-packages (from matplotlib>=3.8->pymatgen) (9.4.0)\n",
            "Requirement already satisfied: pyparsing>=2.3.1 in /usr/local/lib/python3.10/dist-packages (from matplotlib>=3.8->pymatgen) (3.1.2)\n",
            "Requirement already satisfied: python-dateutil>=2.7 in /usr/local/lib/python3.10/dist-packages (from matplotlib>=3.8->pymatgen) (2.8.2)\n",
            "Requirement already satisfied: pytz>=2020.1 in /usr/local/lib/python3.10/dist-packages (from pandas>=2->pymatgen) (2024.1)\n",
            "Requirement already satisfied: tzdata>=2022.1 in /usr/local/lib/python3.10/dist-packages (from pandas>=2->pymatgen) (2024.1)\n",
            "Requirement already satisfied: tenacity>=6.2.0 in /usr/local/lib/python3.10/dist-packages (from plotly>=4.5.0->pymatgen) (9.0.0)\n",
            "Requirement already satisfied: PyYAML>=3.01 in /usr/local/lib/python3.10/dist-packages (from pybtex>=0.24.0->pymatgen) (6.0.1)\n",
            "Collecting latexcodec>=1.0.4 (from pybtex>=0.24.0->pymatgen)\n",
            "  Downloading latexcodec-3.0.0-py3-none-any.whl.metadata (4.9 kB)\n",
            "Requirement already satisfied: six in /usr/local/lib/python3.10/dist-packages (from pybtex>=0.24.0->pymatgen) (1.16.0)\n",
            "Requirement already satisfied: charset-normalizer<4,>=2 in /usr/local/lib/python3.10/dist-packages (from requests>=2.32->pymatgen) (3.3.2)\n",
            "Requirement already satisfied: idna<4,>=2.5 in /usr/local/lib/python3.10/dist-packages (from requests>=2.32->pymatgen) (3.7)\n",
            "Requirement already satisfied: urllib3<3,>=1.21.1 in /usr/local/lib/python3.10/dist-packages (from requests>=2.32->pymatgen) (2.0.7)\n",
            "Requirement already satisfied: certifi>=2017.4.17 in /usr/local/lib/python3.10/dist-packages (from requests>=2.32->pymatgen) (2024.7.4)\n",
            "Collecting ruamel.yaml.clib>=0.2.7 (from ruamel.yaml>=0.17.0->pymatgen)\n",
            "  Downloading ruamel.yaml.clib-0.2.8-cp310-cp310-manylinux_2_17_x86_64.manylinux2014_x86_64.manylinux_2_24_x86_64.whl.metadata (2.2 kB)\n",
            "Requirement already satisfied: mpmath<1.4,>=1.1.0 in /usr/local/lib/python3.10/dist-packages (from sympy>=1.2->pymatgen) (1.3.0)\n",
            "Downloading pymatgen-2024.7.18-cp310-cp310-manylinux_2_17_x86_64.manylinux2014_x86_64.whl (4.9 MB)\n",
            "\u001b[2K   \u001b[90m━━━━━━━━━━━━━━━━━━━━━━━━━━━━━━━━━━━━━━━━\u001b[0m \u001b[32m4.9/4.9 MB\u001b[0m \u001b[31m18.4 MB/s\u001b[0m eta \u001b[36m0:00:00\u001b[0m\n",
            "\u001b[?25hDownloading matplotlib-3.9.1.post1-cp310-cp310-manylinux_2_17_x86_64.manylinux2014_x86_64.whl (8.3 MB)\n",
            "\u001b[2K   \u001b[90m━━━━━━━━━━━━━━━━━━━━━━━━━━━━━━━━━━━━━━━━\u001b[0m \u001b[32m8.3/8.3 MB\u001b[0m \u001b[31m58.2 MB/s\u001b[0m eta \u001b[36m0:00:00\u001b[0m\n",
            "\u001b[?25hDownloading monty-2024.7.30-py3-none-any.whl (48 kB)\n",
            "\u001b[2K   \u001b[90m━━━━━━━━━━━━━━━━━━━━━━━━━━━━━━━━━━━━━━━━\u001b[0m \u001b[32m48.9/48.9 kB\u001b[0m \u001b[31m2.8 MB/s\u001b[0m eta \u001b[36m0:00:00\u001b[0m\n",
            "\u001b[?25hDownloading palettable-3.3.3-py2.py3-none-any.whl (332 kB)\n",
            "\u001b[2K   \u001b[90m━━━━━━━━━━━━━━━━━━━━━━━━━━━━━━━━━━━━━━━━\u001b[0m \u001b[32m332.3/332.3 kB\u001b[0m \u001b[31m20.5 MB/s\u001b[0m eta \u001b[36m0:00:00\u001b[0m\n",
            "\u001b[?25hDownloading pybtex-0.24.0-py2.py3-none-any.whl (561 kB)\n",
            "\u001b[2K   \u001b[90m━━━━━━━━━━━━━━━━━━━━━━━━━━━━━━━━━━━━━━━━\u001b[0m \u001b[32m561.4/561.4 kB\u001b[0m \u001b[31m29.0 MB/s\u001b[0m eta \u001b[36m0:00:00\u001b[0m\n",
            "\u001b[?25hDownloading ruamel.yaml-0.18.6-py3-none-any.whl (117 kB)\n",
            "\u001b[2K   \u001b[90m━━━━━━━━━━━━━━━━━━━━━━━━━━━━━━━━━━━━━━━━\u001b[0m \u001b[32m117.8/117.8 kB\u001b[0m \u001b[31m8.8 MB/s\u001b[0m eta \u001b[36m0:00:00\u001b[0m\n",
            "\u001b[?25hDownloading spglib-2.5.0-cp310-cp310-manylinux_2_17_x86_64.manylinux2014_x86_64.whl (1.1 MB)\n",
            "\u001b[2K   \u001b[90m━━━━━━━━━━━━━━━━━━━━━━━━━━━━━━━━━━━━━━━━\u001b[0m \u001b[32m1.1/1.1 MB\u001b[0m \u001b[31m39.3 MB/s\u001b[0m eta \u001b[36m0:00:00\u001b[0m\n",
            "\u001b[?25hDownloading uncertainties-3.2.2-py3-none-any.whl (58 kB)\n",
            "\u001b[2K   \u001b[90m━━━━━━━━━━━━━━━━━━━━━━━━━━━━━━━━━━━━━━━━\u001b[0m \u001b[32m58.3/58.3 kB\u001b[0m \u001b[31m3.9 MB/s\u001b[0m eta \u001b[36m0:00:00\u001b[0m\n",
            "\u001b[?25hDownloading latexcodec-3.0.0-py3-none-any.whl (18 kB)\n",
            "Downloading ruamel.yaml.clib-0.2.8-cp310-cp310-manylinux_2_17_x86_64.manylinux2014_x86_64.manylinux_2_24_x86_64.whl (526 kB)\n",
            "\u001b[2K   \u001b[90m━━━━━━━━━━━━━━━━━━━━━━━━━━━━━━━━━━━━━━━━\u001b[0m \u001b[32m526.7/526.7 kB\u001b[0m \u001b[31m28.0 MB/s\u001b[0m eta \u001b[36m0:00:00\u001b[0m\n",
            "\u001b[?25hInstalling collected packages: uncertainties, spglib, ruamel.yaml.clib, palettable, monty, latexcodec, ruamel.yaml, pybtex, matplotlib, pymatgen\n",
            "  Attempting uninstall: matplotlib\n",
            "    Found existing installation: matplotlib 3.7.1\n",
            "    Uninstalling matplotlib-3.7.1:\n",
            "      Successfully uninstalled matplotlib-3.7.1\n",
            "Successfully installed latexcodec-3.0.0 matplotlib-3.9.1.post1 monty-2024.7.30 palettable-3.3.3 pybtex-0.24.0 pymatgen-2024.7.18 ruamel.yaml-0.18.6 ruamel.yaml.clib-0.2.8 spglib-2.5.0 uncertainties-3.2.2\n"
          ]
        }
      ]
    },
    {
      "cell_type": "markdown",
      "metadata": {
        "id": "13963eyUtiop"
      },
      "source": [
        "Enumlib: https://github.com/msg-byu/enumlib\n",
        "\n",
        "Gus L. W. Hart and Rodney W. Forcade, \"Algorithm for generating derivative structures,\" Phys. Rev. B 77 224115, (26 June 2008)\n",
        "\n",
        "Gus L. W. Hart and Rodney W. Forcade, \"Generating derivative structures from multilattices: Application to hcp alloys,\" Phys. Rev. B 80 014120 (July 2009)\n",
        "\n",
        "Gus L. W. Hart, Lance J. Nelson, and Rodney W. Forcade, \"Generating derivative structures at a fixed concentration,\" Comp. Mat. Sci. 59 101-107 (March 2012)\n",
        "\n",
        "Wiley S. Morgan, Gus L. W. Hart, Rodney W. Forcade, \"Generating derivative superstructures for systems with high configurational freedom,\" Comp. Mat. Sci. 136 144-149 (May 2017)"
      ]
    },
    {
      "cell_type": "code",
      "metadata": {
        "id": "EFkjsrObthyR",
        "outputId": "501b86d4-43c5-43e0-e5f6-8f2d88e874cb",
        "colab": {
          "base_uri": "https://localhost:8080/"
        }
      },
      "source": [
        "!! git clone  --branch v2.0.4 --recursive https://github.com/msg-byu/enumlib.git\n",
        "!! cd enumlib/symlib/src && make F90=gfortran\n",
        "!! cd enumlib/src && make F90=gfortran\n",
        "!! cd enumlib/src && F90=gfortran make enum.x\n",
        "!! cd enumlib/src && F90=gfortran make makestr.x\n",
        "!! mkdir -p /opt/bin\n",
        "!! cp enumlib/src/*.x /opt/bin"
      ],
      "execution_count": 2,
      "outputs": [
        {
          "output_type": "execute_result",
          "data": {
            "text/plain": [
              "[]"
            ]
          },
          "metadata": {},
          "execution_count": 2
        }
      ]
    },
    {
      "cell_type": "markdown",
      "metadata": {
        "id": "UGMb15V3yS8D"
      },
      "source": [
        "Our own `aetoms` package for structure visualization"
      ]
    },
    {
      "cell_type": "code",
      "metadata": {
        "id": "6jSneePYyakG",
        "outputId": "27c12a0c-e1b1-463f-f55c-180b6328e1e5",
        "colab": {
          "base_uri": "https://localhost:8080/"
        }
      },
      "source": [
        "%pip install git+https://github.com/atomisticnet/aetoms"
      ],
      "execution_count": 3,
      "outputs": [
        {
          "output_type": "stream",
          "name": "stdout",
          "text": [
            "Collecting git+https://github.com/atomisticnet/aetoms\n",
            "  Cloning https://github.com/atomisticnet/aetoms to /tmp/pip-req-build-f3nps30f\n",
            "  Running command git clone --filter=blob:none --quiet https://github.com/atomisticnet/aetoms /tmp/pip-req-build-f3nps30f\n",
            "  Resolved https://github.com/atomisticnet/aetoms to commit 4ab1e0979d4420900ed9e8da3dc060100ec033ff\n",
            "  Preparing metadata (setup.py) ... \u001b[?25l\u001b[?25hdone\n",
            "Collecting py3Dmol (from aetoms==0.0.1)\n",
            "  Downloading py3Dmol-2.3.0-py2.py3-none-any.whl.metadata (1.9 kB)\n",
            "Downloading py3Dmol-2.3.0-py2.py3-none-any.whl (7.0 kB)\n",
            "Building wheels for collected packages: aetoms\n",
            "  Building wheel for aetoms (setup.py) ... \u001b[?25l\u001b[?25hdone\n",
            "  Created wheel for aetoms: filename=aetoms-0.0.1-py3-none-any.whl size=7782 sha256=86982fe6fbc2764182b7ab76c61e1e019baa61127b4d9369ed6511b79a5882c8\n",
            "  Stored in directory: /tmp/pip-ephem-wheel-cache-rwady1uh/wheels/14/b8/7e/88098856f279b666bad23ff52dd8cf89d19d0a7b78d5bf4253\n",
            "Successfully built aetoms\n",
            "Installing collected packages: py3Dmol, aetoms\n",
            "Successfully installed aetoms-0.0.1 py3Dmol-2.3.0\n"
          ]
        }
      ]
    },
    {
      "cell_type": "markdown",
      "metadata": {
        "id": "vy-jW1cxs-II"
      },
      "source": [
        "# Basic structure manipulations with PyMatgen"
      ]
    },
    {
      "cell_type": "code",
      "metadata": {
        "id": "ivhwrtxF4Vex",
        "execution": {
          "iopub.status.busy": "2020-04-30T18:03:33.837Z",
          "iopub.execute_input": "2020-04-30T18:03:33.846Z",
          "shell.execute_reply": "2020-04-30T18:03:35.239Z",
          "iopub.status.idle": "2020-04-30T18:03:35.247Z"
        }
      },
      "source": [
        "import pymatgen as mg\n",
        "from pymatgen.core import Structure, Element, Composition"
      ],
      "execution_count": 4,
      "outputs": []
    },
    {
      "cell_type": "markdown",
      "metadata": {
        "id": "msXDeheR4Ve5"
      },
      "source": [
        "### Periodic Table\n",
        "\n",
        "Pymatgen knows about chemical elements and their properties.  Here a few examples:"
      ]
    },
    {
      "cell_type": "code",
      "metadata": {
        "id": "vQs7NCuA4Ve9",
        "execution": {
          "iopub.status.busy": "2020-04-30T18:03:36.606Z",
          "iopub.execute_input": "2020-04-30T18:03:36.612Z",
          "iopub.status.idle": "2020-04-30T18:03:36.626Z",
          "shell.execute_reply": "2020-04-30T18:03:36.633Z"
        },
        "outputId": "6730f7bd-a622-4288-bc15-1cafc8da213d",
        "colab": {
          "base_uri": "https://localhost:8080/"
        }
      },
      "source": [
        "Pt = Element(\"Pt\")\n",
        "print(\"Chemical Species : \", Pt.name)\n",
        "print(\"Atomic Number    : \", Pt.number)\n",
        "print(\"Group & period   : \", Pt.group, Pt.row)\n",
        "print(\"Atomic mass      : \", Pt.atomic_mass)\n",
        "print(\"Melting point    : \", Pt.melting_point)\n",
        "print(\"Atomic radius    : \", Pt.metallic_radius)"
      ],
      "execution_count": 5,
      "outputs": [
        {
          "output_type": "stream",
          "name": "stdout",
          "text": [
            "Chemical Species :  Pt\n",
            "Atomic Number    :  78\n",
            "Group & period   :  10 6\n",
            "Atomic mass      :  195.084 amu\n",
            "Melting point    :  2041.4 K\n",
            "Atomic radius    :  1.387\n"
          ]
        }
      ]
    },
    {
      "cell_type": "markdown",
      "metadata": {
        "id": "H0w_opc74VfB"
      },
      "source": [
        "Pymatgen can also handle compositions.  For example:"
      ]
    },
    {
      "cell_type": "code",
      "metadata": {
        "id": "T2BujQz04VfD",
        "outputId": "5e643403-b210-4d9e-c3d1-39e7fff815c8",
        "colab": {
          "base_uri": "https://localhost:8080/"
        }
      },
      "source": [
        "Ni2Pt2 = Composition(\"Ni2Pt2\")\n",
        "print(\"Chemical formula     : \", Ni2Pt2.formula)\n",
        "print(\"Composition          : \", Ni2Pt2.reduced_formula)\n",
        "print(\"Total mass           : \", Ni2Pt2.weight)\n",
        "print(\"Numnber of electrons : \", Ni2Pt2.total_electrons)"
      ],
      "execution_count": 6,
      "outputs": [
        {
          "output_type": "stream",
          "name": "stdout",
          "text": [
            "Chemical formula     :  Ni2 Pt2\n",
            "Composition          :  NiPt\n",
            "Total mass           :  507.5548 amu\n",
            "Numnber of electrons :  212.0\n"
          ]
        }
      ]
    },
    {
      "cell_type": "markdown",
      "metadata": {
        "id": "V1bBH1rM4VfI"
      },
      "source": [
        "### Atomic Structures\n",
        "\n",
        "Atomic structures can be created on the fly:"
      ]
    },
    {
      "cell_type": "code",
      "metadata": {
        "id": "3k3qljRC4VfI",
        "execution": {
          "iopub.status.busy": "2020-04-30T18:03:44.636Z",
          "iopub.execute_input": "2020-04-30T18:03:44.642Z",
          "iopub.status.idle": "2020-04-30T18:03:44.657Z",
          "shell.execute_reply": "2020-04-30T18:03:44.662Z"
        },
        "outputId": "a91beb01-1159-4824-c711-23c0c8dfe002",
        "colab": {
          "base_uri": "https://localhost:8080/"
        }
      },
      "source": [
        "a = 3.92\n",
        "lattice = [[a, 0.0, 0.0],\n",
        "           [0.0, a, 0.0],\n",
        "           [0.0, 0.0, a]]\n",
        "coords = [[0.0, 0.0, 0.0],\n",
        "          [0.0, 0.5, 0.5],\n",
        "          [0.5, 0.0, 0.5],\n",
        "          [0.5, 0.5, 0.0]]\n",
        "species = [\"Pt\", \"Pt\", \"Pt\", \"Pt\"]\n",
        "Pt_fcc = Structure(lattice=lattice, species=species, coords=coords)\n",
        "print(Pt_fcc)"
      ],
      "execution_count": 7,
      "outputs": [
        {
          "output_type": "stream",
          "name": "stdout",
          "text": [
            "Full Formula (Pt4)\n",
            "Reduced Formula: Pt\n",
            "abc   :   3.920000   3.920000   3.920000\n",
            "angles:  90.000000  90.000000  90.000000\n",
            "pbc   :       True       True       True\n",
            "Sites (4)\n",
            "  #  SP      a    b    c\n",
            "---  ----  ---  ---  ---\n",
            "  0  Pt    0    0    0\n",
            "  1  Pt    0    0.5  0.5\n",
            "  2  Pt    0.5  0    0.5\n",
            "  3  Pt    0.5  0.5  0\n"
          ]
        }
      ]
    },
    {
      "cell_type": "markdown",
      "metadata": {
        "id": "P-N5Eacc4VfO"
      },
      "source": [
        "Atomic structures can be saved in several output formats.  For example in the CIF format."
      ]
    },
    {
      "cell_type": "code",
      "metadata": {
        "id": "6_4wcbk54VfP",
        "execution": {
          "iopub.status.busy": "2020-04-30T18:03:48.625Z",
          "iopub.execute_input": "2020-04-30T18:03:48.632Z",
          "iopub.status.idle": "2020-04-30T18:03:48.649Z",
          "shell.execute_reply": "2020-04-30T18:03:48.656Z"
        },
        "outputId": "ca345609-6c8b-4f9b-9acc-cd0ddbe1c6c0",
        "colab": {
          "base_uri": "https://localhost:8080/"
        }
      },
      "source": [
        "Pt_fcc.to(filename=\"Pt_fcc.cif\")\n",
        "! ls"
      ],
      "execution_count": 8,
      "outputs": [
        {
          "output_type": "stream",
          "name": "stdout",
          "text": [
            "enumlib  Pt_fcc.cif  sample_data\n"
          ]
        }
      ]
    },
    {
      "cell_type": "markdown",
      "metadata": {
        "id": "tRdsbj0Y4VfU"
      },
      "source": [
        "Of course, structures can also be loaded from files:"
      ]
    },
    {
      "cell_type": "code",
      "metadata": {
        "id": "NpsaYdQS4VfV",
        "outputId": "c858ac60-bc01-47d4-ef3d-a0448390afbd",
        "colab": {
          "base_uri": "https://localhost:8080/"
        }
      },
      "source": [
        "struc = Structure.from_file(\"Pt_fcc.cif\")\n",
        "print(struc)"
      ],
      "execution_count": 9,
      "outputs": [
        {
          "output_type": "stream",
          "name": "stdout",
          "text": [
            "Full Formula (Pt4)\n",
            "Reduced Formula: Pt\n",
            "abc   :   3.920000   3.920000   3.920000\n",
            "angles:  90.000000  90.000000  90.000000\n",
            "pbc   :       True       True       True\n",
            "Sites (4)\n",
            "  #  SP      a    b    c\n",
            "---  ----  ---  ---  ---\n",
            "  0  Pt    0    0    0\n",
            "  1  Pt    0    0.5  0.5\n",
            "  2  Pt    0.5  0    0.5\n",
            "  3  Pt    0.5  0.5  0\n"
          ]
        }
      ]
    },
    {
      "cell_type": "markdown",
      "metadata": {
        "id": "9tFuLDNezEDk"
      },
      "source": [
        "Let's take a look at the structure:"
      ]
    },
    {
      "cell_type": "code",
      "metadata": {
        "id": "JG7vsdo6zC7k",
        "outputId": "e54e77aa-b544-48cc-dae4-8c58e5e12618",
        "colab": {
          "base_uri": "https://localhost:8080/",
          "height": 517,
          "referenced_widgets": [
            "6911f7fe33f24877be569c9d80de0f6a",
            "237cb0930f1946d9a0fed185b93e1884",
            "7ba2f9e2465a44af977e96f307f8c830",
            "844eb4300821457bb33de84b0174dbfb",
            "ec33beae56394e749b08337ecd5cbe09",
            "9f99733216a54c8996f1c57fbeed0dd1",
            "bf7b386f38e74b5cacc4f3f075831cc2",
            "4fe2c16735ea4c53ba645e251f2d1d15",
            "0fac33b958ed43009ef4ab6f2f0abaa2",
            "206f11489866442f9fc07a027dc88add",
            "7b40ea74a4c145ea9812e8dd6a09d0ca",
            "f31aa52578974fefb5d9f41997e0e693",
            "10a66c1df01e4c838fd666297a6b67f5",
            "6ed5f696acdb49608d382cf21ef4798b",
            "871f630c862e481ea55385afb1ea9e8b",
            "e4109a3bbcf945118650e96fbe5c3b02",
            "c3dcb33e0e054d70921def8fdec5abd2",
            "0d6304fd92bd4acd9e0303bebe3e73d3",
            "b084214049844454a79105ecf9142f63",
            "6f9689d19cf545e284abca0c40b4441b",
            "dd71e0a79ce645d391e5bb602a6da3d3",
            "d90464763209463fb57672059ba3f494",
            "ed1bdb8510f645f99923367f60c9f08b",
            "35ee55f7ebe643768332fe5730f5a05e",
            "f22d56d7f1554478bde29ba3814848d0",
            "4724af294d7548b3a51cc60361a0422d",
            "506e7f790c054263a6258aed2c7d7df8",
            "5a942fd8b4b54c17b74cfb1849ae761c",
            "31d2a1daf9064270b57c5fe688e72809",
            "d469fdbbbc8f42038a504a85a0e43a2a",
            "0a539d505dcf440db85fbe1c71b0abe3",
            "df8d8d3241994111bec825a744eced78",
            "7f29f003f53049cfa9325c535983e7cb",
            "2ffcda1dc64045348a30faeebc3ecf7b",
            "3b246c0450aa470a96a9fb46efcc7319",
            "19d5f17d257f47498dee135b3f29f36b",
            "90d91339162246de8a439a56ef05184e",
            "dca7578d61fd4b03bc95c3c4d4e47334"
          ]
        }
      },
      "source": [
        "import aetoms\n",
        "model = aetoms.Model.from_pymatgen_structures(struc)\n",
        "viewer = aetoms.Viewer(model=model)\n",
        "viewer.app()"
      ],
      "execution_count": 11,
      "outputs": [
        {
          "output_type": "display_data",
          "data": {
            "text/plain": [
              "VBox(children=(HBox(children=(Dropdown(description='Model', options=(0,), value=0), Dropdown(description='Styl…"
            ],
            "application/vnd.jupyter.widget-view+json": {
              "version_major": 2,
              "version_minor": 0,
              "model_id": "6911f7fe33f24877be569c9d80de0f6a"
            }
          },
          "metadata": {}
        }
      ]
    },
    {
      "cell_type": "markdown",
      "metadata": {
        "id": "aO92QqFW4VfY"
      },
      "source": [
        "Pymatgen can determine various properties of atomic structures, for example:"
      ]
    },
    {
      "cell_type": "code",
      "metadata": {
        "id": "MmW24TVf4VfZ",
        "outputId": "012edff3-5acd-4770-b79d-46ef1c0960ee",
        "colab": {
          "base_uri": "https://localhost:8080/"
        }
      },
      "source": [
        "print(\"Composition : \", Pt_fcc.composition)\n",
        "print(\"Cell volume : \", Pt_fcc.volume)\n",
        "print(\"Density     : \", Pt_fcc.density)"
      ],
      "execution_count": 12,
      "outputs": [
        {
          "output_type": "stream",
          "name": "stdout",
          "text": [
            "Composition :  Pt4\n",
            "Cell volume :  60.236287999999995\n",
            "Density     :  21.511591369547496 g cm^-3\n"
          ]
        }
      ]
    },
    {
      "cell_type": "markdown",
      "metadata": {
        "id": "9o1FmKwa4Vfd"
      },
      "source": [
        "And Pymatgen can perform operations on atomic structures.  For example, we can create supercells:"
      ]
    },
    {
      "cell_type": "code",
      "metadata": {
        "id": "-ZT484qa4Vfe",
        "outputId": "002f68b2-e018-4a35-f58f-001784e87686",
        "colab": {
          "base_uri": "https://localhost:8080/",
          "height": 517,
          "referenced_widgets": [
            "7bf93a88a538411f9c6c3e9df4bb1f30",
            "b9e1c748d26340a887076535cbcb007f",
            "668f4dd2c3dc44b9abcae2d096c281a3",
            "2498befa80314135bd5a3edd0117db1b",
            "1aff0c4ab9734ead95b06ab8984e0e2a",
            "c9de7e91008b499687c9a180aee7d945",
            "d995ed48abb8431fb8a0ffe02549f938",
            "090348f512694316b66f07afbe669522",
            "2649bc434fc34ed394a5999d6f2b6a02",
            "d62b15d46dbe48ae9fa43936918c95a1",
            "55c84538b81b4c25b3baf71020d729c1",
            "b68a2fb1f91941d5a87e7916a518b845",
            "0e0fc123587a4089a715d8e10793fc88",
            "9fbcf057c0af48d5868383dec20cf307",
            "e3685279c6e74027a516dfc7a74e5131",
            "e125469fc2a54eb1a842363536a9e4a0",
            "62cb76c2ad7c4bcc9ee1462507f1b5a7",
            "fd70a95b10bb412bafcad03dd6442b44",
            "382eeac8ced34bfcb763c01777d541e0",
            "5c4cb0981a2649c9b8a4eac55d2095f0",
            "42e4f93f0e124d9e8f290c2c4c92cdc1",
            "9892782ba19445b48b7368116b4c3701",
            "10e7f03e18b949ed9ec8816fbcbc8eb8",
            "56904cf4ca594e07b49cea08f73600e5",
            "c73ed3b8aee14f03b00fa8b0a0e650bd",
            "f1f2caffa9b343169d8eacc7aa6a966e",
            "53a4065e0f274ce6be4a719f1047dc6a",
            "f85722ab079d4ad9bfde227db3a2a2a6",
            "4415b9d8082645f8a329dc32bce9009c",
            "2684f041fda34139a84e22c398f4e678",
            "5a3c23a5a79049c8aa0368338bd1edd3",
            "b76e97d0f54a4572a98362430384d6d4",
            "ff2970da6b2f46f99edceb265eca934b",
            "980f64e1cb39447cbf356cb1a71ac43a",
            "062e331a3916435580f00a15a431f50e",
            "2be5c39cc25e454e821fa0cb3b0f00a5",
            "d32a5883e89d46758fb894ea8e3675cc",
            "7433ea5711fa49b4979f080ec9cc2929"
          ]
        }
      },
      "source": [
        "Pt_fcc_2x2x2 = Pt_fcc.copy()\n",
        "Pt_fcc_2x2x2.make_supercell([2, 2, 2])\n",
        "model = aetoms.Model.from_pymatgen_structures(Pt_fcc_2x2x2)\n",
        "viewer = aetoms.Viewer(model=model)\n",
        "viewer.app()"
      ],
      "execution_count": 13,
      "outputs": [
        {
          "output_type": "display_data",
          "data": {
            "text/plain": [
              "VBox(children=(HBox(children=(Dropdown(description='Model', options=(0,), value=0), Dropdown(description='Styl…"
            ],
            "application/vnd.jupyter.widget-view+json": {
              "version_major": 2,
              "version_minor": 0,
              "model_id": "7bf93a88a538411f9c6c3e9df4bb1f30"
            }
          },
          "metadata": {}
        }
      ]
    },
    {
      "cell_type": "markdown",
      "metadata": {
        "id": "JIxBlB2R4Vfi"
      },
      "source": [
        "Or we can change the lattice parameter:"
      ]
    },
    {
      "cell_type": "code",
      "metadata": {
        "id": "cmXZmmph4Vfj",
        "outputId": "d9451aa4-cc90-4154-93c5-cce6b2f9ca2f",
        "colab": {
          "base_uri": "https://localhost:8080/"
        }
      },
      "source": [
        "Pt_fcc_scaled = Pt_fcc.copy()\n",
        "Pt_fcc_scaled.apply_strain(0.05)\n",
        "print(Pt_fcc_scaled)"
      ],
      "execution_count": 14,
      "outputs": [
        {
          "output_type": "stream",
          "name": "stdout",
          "text": [
            "Full Formula (Pt4)\n",
            "Reduced Formula: Pt\n",
            "abc   :   4.116000   4.116000   4.116000\n",
            "angles:  90.000000  90.000000  90.000000\n",
            "pbc   :       True       True       True\n",
            "Sites (4)\n",
            "  #  SP      a    b    c\n",
            "---  ----  ---  ---  ---\n",
            "  0  Pt    0    0    0\n",
            "  1  Pt    0    0.5  0.5\n",
            "  2  Pt    0.5  0    0.5\n",
            "  3  Pt    0.5  0.5  0\n"
          ]
        }
      ]
    },
    {
      "cell_type": "markdown",
      "metadata": {
        "id": "gtF2t8zW4Vfo"
      },
      "source": [
        "Or even replace atomic species:"
      ]
    },
    {
      "cell_type": "code",
      "metadata": {
        "id": "-Y8OxX8J4Vfo",
        "outputId": "a721a1c7-c8d3-4ba3-b728-318c80895a55",
        "colab": {
          "base_uri": "https://localhost:8080/"
        }
      },
      "source": [
        "Ni_fcc = Pt_fcc.copy()\n",
        "Ni_fcc.replace_species({\"Pt\": \"Ni\"})\n",
        "print(Ni_fcc)"
      ],
      "execution_count": 15,
      "outputs": [
        {
          "output_type": "stream",
          "name": "stdout",
          "text": [
            "Full Formula (Ni4)\n",
            "Reduced Formula: Ni\n",
            "abc   :   3.920000   3.920000   3.920000\n",
            "angles:  90.000000  90.000000  90.000000\n",
            "pbc   :       True       True       True\n",
            "Sites (4)\n",
            "  #  SP      a    b    c\n",
            "---  ----  ---  ---  ---\n",
            "  0  Ni    0    0    0\n",
            "  1  Ni    0    0.5  0.5\n",
            "  2  Ni    0.5  0    0.5\n",
            "  3  Ni    0.5  0.5  0\n"
          ]
        }
      ]
    },
    {
      "cell_type": "markdown",
      "metadata": {
        "id": "KZqUZtuG4Vfs"
      },
      "source": [
        "## Problem 1\n",
        "\n",
        "### 1.A Write out a CIF file for the Ni FCC structure\n",
        "\n",
        "Derive the new structure from the Pt FCC structure.  Use the lattice parameter $a=3.50$ Å."
      ]
    },
    {
      "cell_type": "code",
      "metadata": {
        "id": "HqxCKE9g4Vfs"
      },
      "source": [],
      "execution_count": 15,
      "outputs": []
    },
    {
      "cell_type": "markdown",
      "source": [
        "#### Solution"
      ],
      "metadata": {
        "id": "8gRG8c5q8YuF"
      }
    },
    {
      "cell_type": "code",
      "source": [
        "Ni_fcc_scaled = Ni_fcc.copy()\n",
        "Ni_fcc_scaled.apply_strain(3.50/3.92 - 1.0)\n",
        "print(Ni_fcc_scaled)\n",
        "Ni_fcc_scaled.to(filename=\"Ni_fcc.cif\")"
      ],
      "metadata": {
        "id": "s1awz4818ait",
        "outputId": "97d6c7c1-7ce9-4f7b-a74c-6bbcbfff368c",
        "colab": {
          "base_uri": "https://localhost:8080/",
          "height": 0
        }
      },
      "execution_count": 16,
      "outputs": [
        {
          "output_type": "stream",
          "name": "stdout",
          "text": [
            "Full Formula (Ni4)\n",
            "Reduced Formula: Ni\n",
            "abc   :   3.500000   3.500000   3.500000\n",
            "angles:  90.000000  90.000000  90.000000\n",
            "pbc   :       True       True       True\n",
            "Sites (4)\n",
            "  #  SP      a    b    c\n",
            "---  ----  ---  ---  ---\n",
            "  0  Ni    0    0    0\n",
            "  1  Ni    0    0.5  0.5\n",
            "  2  Ni    0.5  0    0.5\n",
            "  3  Ni    0.5  0.5  0\n"
          ]
        },
        {
          "output_type": "execute_result",
          "data": {
            "text/plain": [
              "\"# generated using pymatgen\\ndata_Ni\\n_symmetry_space_group_name_H-M   'P 1'\\n_cell_length_a   3.50000000\\n_cell_length_b   3.50000000\\n_cell_length_c   3.50000000\\n_cell_angle_alpha   90.00000000\\n_cell_angle_beta   90.00000000\\n_cell_angle_gamma   90.00000000\\n_symmetry_Int_Tables_number   1\\n_chemical_formula_structural   Ni\\n_chemical_formula_sum   Ni4\\n_cell_volume   42.87500000\\n_cell_formula_units_Z   4\\nloop_\\n _symmetry_equiv_pos_site_id\\n _symmetry_equiv_pos_as_xyz\\n  1  'x, y, z'\\nloop_\\n _atom_site_type_symbol\\n _atom_site_label\\n _atom_site_symmetry_multiplicity\\n _atom_site_fract_x\\n _atom_site_fract_y\\n _atom_site_fract_z\\n _atom_site_occupancy\\n  Ni  Ni0  1  0.00000000  0.00000000  0.00000000  1.0\\n  Ni  Ni1  1  0.00000000  0.50000000  0.50000000  1.0\\n  Ni  Ni2  1  0.50000000  0.00000000  0.50000000  1.0\\n  Ni  Ni3  1  0.50000000  0.50000000  0.00000000  1.0\\n\""
            ],
            "application/vnd.google.colaboratory.intrinsic+json": {
              "type": "string"
            }
          },
          "metadata": {},
          "execution_count": 16
        }
      ]
    },
    {
      "cell_type": "markdown",
      "metadata": {
        "id": "bJyzVb7X4Vf5"
      },
      "source": [
        "### 1.B Fractional substitutions\n",
        "\n",
        "The `replace_species` method can also handle fractional substitutions.  In fractional substitutions, the target \"species\" is a Python dictionary with **fractions**, for example: `replace_species({\"A\": {\"A\": 1/2, \"B\": 1/2}})`.  Generate structures for the three NiPt alloy compositions Ni$_3$Pt, Ni$_2$Pt$_2$, and NiPt$_3$.  Scale the lattice vectors according to Vegard's law."
      ]
    },
    {
      "cell_type": "code",
      "source": [],
      "metadata": {
        "id": "Y26ElfNY-VlR"
      },
      "execution_count": 16,
      "outputs": []
    },
    {
      "cell_type": "markdown",
      "source": [
        "#### Solution"
      ],
      "metadata": {
        "id": "G5eZNRlb-WOg"
      }
    },
    {
      "cell_type": "code",
      "metadata": {
        "id": "JJWad3Vr4Vf6",
        "outputId": "9b34d939-6031-4174-dd13-f593ca225d8b",
        "colab": {
          "base_uri": "https://localhost:8080/"
        }
      },
      "source": [
        "a_Pt = 3.92\n",
        "a_Ni = 3.50\n",
        "NiPt3 = Pt_fcc.copy()\n",
        "NiPt3.replace_species({\"Pt\": {\"Pt\": 3/4, \"Ni\": 1/4}})\n",
        "a_NiPt3 = 3/4*a_Pt + 1/4*a_Ni\n",
        "NiPt3.apply_strain(a_NiPt3/a_Pt - 1.0)\n",
        "print(NiPt3)\n",
        "\n",
        "# and equivalently for the other compositions"
      ],
      "execution_count": 17,
      "outputs": [
        {
          "output_type": "stream",
          "name": "stdout",
          "text": [
            "Full Formula (Ni1 Pt3)\n",
            "Reduced Formula: NiPt3\n",
            "abc   :   3.815000   3.815000   3.815000\n",
            "angles:  90.000000  90.000000  90.000000\n",
            "pbc   :       True       True       True\n",
            "Sites (4)\n",
            "  #  SP                  a    b    c\n",
            "---  ----------------  ---  ---  ---\n",
            "  0  Ni:0.25, Pt:0.75  0    0    0\n",
            "  1  Ni:0.25, Pt:0.75  0    0.5  0.5\n",
            "  2  Ni:0.25, Pt:0.75  0.5  0    0.5\n",
            "  3  Ni:0.25, Pt:0.75  0.5  0.5  0\n"
          ]
        }
      ]
    },
    {
      "cell_type": "markdown",
      "metadata": {
        "id": "90qSyvbx0Bhg"
      },
      "source": [
        "# Structure enumeration with Pymatgen\n",
        "\n",
        "To run all of the below commands, Prof. Gus Hart's enumlib has to be installed on your system.\n",
        "\n",
        "Source code and installation instructions: https://github.com/msg-byu/enumlib\n",
        "\n",
        "Anaconda users can install enumlib with: conda install --channel matsci enumlib"
      ]
    },
    {
      "cell_type": "markdown",
      "metadata": {
        "id": "D20G9ZDk0SFZ"
      },
      "source": [
        "Check whether the enumeration utilities are available:"
      ]
    },
    {
      "cell_type": "code",
      "metadata": {
        "id": "nhBzEBCd0Ilz",
        "outputId": "f231bcdc-f784-4117-90ae-9bd3ef0446a9",
        "colab": {
          "base_uri": "https://localhost:8080/"
        }
      },
      "source": [
        "from shutil import which\n",
        "print(which(\"enum.x\"))\n",
        "print(which(\"makestr.x\"))"
      ],
      "execution_count": 18,
      "outputs": [
        {
          "output_type": "stream",
          "name": "stdout",
          "text": [
            "/opt/bin/enum.x\n",
            "/opt/bin/makestr.x\n"
          ]
        }
      ]
    },
    {
      "cell_type": "markdown",
      "metadata": {
        "id": "2cLSdDwVEAzI"
      },
      "source": [
        "## Enumeration of CuAu alloy structures\n",
        "\n",
        "Fractional substitution gives rise to atomic sites with partial occupations. For atomistic simulations, we need structures with integer occupations."
      ]
    },
    {
      "cell_type": "code",
      "metadata": {
        "id": "H6euGubs0VxM",
        "outputId": "3543d83a-df1a-4dcd-cb70-80cc724034dd",
        "colab": {
          "base_uri": "https://localhost:8080/"
        }
      },
      "source": [
        "Pt_fcc = Structure.from_file(\"Pt_fcc.cif\")\n",
        "Ni2Pt2 = Pt_fcc.copy()\n",
        "Ni2Pt2.replace_species({\"Pt\": {\"Pt\": 1/2, \"Ni\": 1/2}})\n",
        "Ni2Pt2.apply_strain(0.5*(3.91/3.30-1.0))\n",
        "print(Ni2Pt2)"
      ],
      "execution_count": 19,
      "outputs": [
        {
          "output_type": "stream",
          "name": "stdout",
          "text": [
            "Full Formula (Ni2 Pt2)\n",
            "Reduced Formula: NiPt\n",
            "abc   :   4.282303   4.282303   4.282303\n",
            "angles:  90.000000  90.000000  90.000000\n",
            "pbc   :       True       True       True\n",
            "Sites (4)\n",
            "  #  SP                a    b    c\n",
            "---  --------------  ---  ---  ---\n",
            "  0  Ni:0.5, Pt:0.5  0    0    0\n",
            "  1  Ni:0.5, Pt:0.5  0    0.5  0.5\n",
            "  2  Ni:0.5, Pt:0.5  0.5  0    0.5\n",
            "  3  Ni:0.5, Pt:0.5  0.5  0.5  0\n"
          ]
        }
      ]
    },
    {
      "cell_type": "markdown",
      "metadata": {
        "id": "CggEWq-dEG8-"
      },
      "source": [
        "Pymatgen implements various \"transformations\" that can be applied to atomic structures. Enumeration is an example of such a transformation."
      ]
    },
    {
      "cell_type": "code",
      "metadata": {
        "id": "1GoJtZM9EFFn"
      },
      "source": [
        "from pymatgen.transformations.advanced_transformations \\\n",
        "    import EnumerateStructureTransformation"
      ],
      "execution_count": 20,
      "outputs": []
    },
    {
      "cell_type": "markdown",
      "metadata": {
        "id": "jCCpEFoZEP_w"
      },
      "source": [
        "The enumeration transformation accepts several parameters. The most important one is the size of the supercells that should be considered. For now, we set this size to 2, meaning that no more than 2×4 atomic sites will be considered."
      ]
    },
    {
      "cell_type": "code",
      "metadata": {
        "id": "7sXg_Lo-EJcn"
      },
      "source": [
        "enum = EnumerateStructureTransformation(max_cell_size=3)"
      ],
      "execution_count": 29,
      "outputs": []
    },
    {
      "cell_type": "markdown",
      "metadata": {
        "id": "Zgb6aG9QEWzr"
      },
      "source": [
        "Now apply the transformation to our \"disordered\" structure to generate a list of \"ordered\" structures (we request at most 100 ordered structures)."
      ]
    },
    {
      "cell_type": "code",
      "metadata": {
        "id": "6Aenn4W5EN4u",
        "outputId": "39f7ff1c-4787-4328-97d9-7f7c225b838d",
        "colab": {
          "base_uri": "https://localhost:8080/"
        }
      },
      "source": [
        "ordered_structures = enum.apply_transformation(Ni2Pt2, return_ranked_list=100)\n",
        "print(\"The enumeration found {} distinct structures.\".format(len(ordered_structures)))"
      ],
      "execution_count": 30,
      "outputs": [
        {
          "output_type": "stream",
          "name": "stdout",
          "text": [
            "The enumeration found 94 distinct structures.\n"
          ]
        }
      ]
    },
    {
      "cell_type": "markdown",
      "metadata": {
        "id": "uODx3HwfEdz7"
      },
      "source": [
        "`ordered_structures` is a list of dictionaries, and each dictionary contains an ordered structure as one of its entries."
      ]
    },
    {
      "cell_type": "code",
      "metadata": {
        "id": "DJbjaAfXEfqL",
        "outputId": "5fb96693-18ea-4762-82de-dbaf67bacd0f",
        "colab": {
          "base_uri": "https://localhost:8080/"
        }
      },
      "source": [
        "print(ordered_structures[0])"
      ],
      "execution_count": 23,
      "outputs": [
        {
          "output_type": "stream",
          "name": "stdout",
          "text": [
            "{'num_sites': 4, 'structure': Structure Summary\n",
            "Lattice\n",
            "    abc : 4.282303 4.282303 4.282303\n",
            " angles : 90.0 90.0 90.0\n",
            " volume : 78.52938193872221\n",
            "      A : 0.0 4.282303 0.0\n",
            "      B : 0.0 0.0 4.282303\n",
            "      C : 4.282303 0.0 0.0\n",
            "    pbc : True True True\n",
            "PeriodicSite: Ni (2.141, 0.0, 2.141) [0.0, 0.5, 0.5]\n",
            "PeriodicSite: Ni (2.141, 2.141, 0.0) [0.5, 0.0, 0.5]\n",
            "PeriodicSite: Pt (0.0, 0.0, 0.0) [0.0, 0.0, 0.0]\n",
            "PeriodicSite: Pt (0.0, 2.141, 2.141) [0.5, 0.5, 0.0]}\n"
          ]
        }
      ]
    },
    {
      "cell_type": "markdown",
      "metadata": {
        "id": "2IM4EqE-EkVy"
      },
      "source": [
        "Save the enumerated structures as CIF files in a directory:"
      ]
    },
    {
      "cell_type": "code",
      "metadata": {
        "id": "_gfvjtOVEmWw",
        "outputId": "726d2c52-5b6c-4765-aab1-d267fc1250f3",
        "colab": {
          "base_uri": "https://localhost:8080/"
        }
      },
      "source": [
        "import os\n",
        "dirname = \"enumerated-Ni2Pt2\"\n",
        "if not os.path.exists(dirname):\n",
        "    os.makedirs(dirname)\n",
        "for i, s in enumerate(ordered_structures):\n",
        "    s[\"structure\"].to(filename=os.path.join(dirname, \"structure-{}.cif\".format(i)))\n",
        "! ls ./enumerated-Ni2Pt2/"
      ],
      "execution_count": 25,
      "outputs": [
        {
          "output_type": "stream",
          "name": "stdout",
          "text": [
            "structure-0.cif   structure-12.cif  structure-2.cif  structure-5.cif  structure-8.cif\n",
            "structure-10.cif  structure-13.cif  structure-3.cif  structure-6.cif  structure-9.cif\n",
            "structure-11.cif  structure-1.cif   structure-4.cif  structure-7.cif\n"
          ]
        }
      ]
    },
    {
      "cell_type": "markdown",
      "metadata": {
        "id": "XKb1X3b9Eq-6"
      },
      "source": [
        "You can inspect the structure files to confirm that they are all distinct."
      ]
    },
    {
      "cell_type": "code",
      "metadata": {
        "id": "QHvvaPtOEoLz",
        "outputId": "f049b9df-f069-4d6a-e86c-12f185e4c00b",
        "colab": {
          "base_uri": "https://localhost:8080/",
          "height": 517,
          "referenced_widgets": [
            "927820a4b53448c4b583816c9156d3d7",
            "0f533fc29f6f46f5b2b8612d4397fb28",
            "c721255eef9942e48f5a2d8c376b55a5",
            "c2516ba10c4c41f7adcaa82a545fb6d4",
            "f9d8410d53924f33b700a5a0f65d2f62",
            "4f845bb1be2f4a30993ab4f6f962cdea",
            "5313410546074d64bd99cdbaba63e456",
            "394f8ecb44364e66af7638c54c27fea1",
            "1a24a724ab7246e6ae10d93758ffed76",
            "eca1b5c6b94748f299b0436b694eb1d6",
            "583892cb62a64baa92011bcc95bb7bd5",
            "e36f30a13c8c4dbaa13377f2d30ff53e",
            "81672332923345b2bcb0219b86394cb9",
            "54336164e8b149a5ad29cd397d76956e",
            "53cdd0a255314d628ece6cb09a4af551",
            "552da7b2983b48588827cae4e3685aa4",
            "da8bab441fb7455e969e327a2a30344b",
            "402e93cbf4db403f8a36381f81618ad6",
            "de5bbe4bde2c4c4f979ebcbb90efddd4",
            "4d93621f8f874daba32a704229f6440d",
            "87b2a5a5d7a24b98af7098649638b408",
            "c92045e9b7154a50abf9f78aaeba0380",
            "cb762a89606948eca5cd26897f7223fd",
            "294011973cd74a05aaaf6524fb8527b7",
            "ca0237f3a09b4d4e8e513eb85fc37db6",
            "dbe933b5a35947cbb337ea549232b902",
            "fd8c231a57d94d84b931b3e3d20b4292",
            "2cc1df90cc344afe930e85775f7bb93c",
            "fc5dada56073435e93d460eb460c3b09",
            "adbb3f36157042d4b1e0dcb0d104f6cb",
            "b0f35989553243368108e754a13c0dd5",
            "cd5e37e0421549d29183de2b61741d81",
            "1e825973884e4651b50d77b04f9a9d52",
            "f6162190b99d4130b08ebc4581eb6ab4",
            "154dd855834a4c4f9c5adee988e6dae4",
            "d231dde77d31405db9b4e0c31d561f10",
            "b496061984054ae0ba2b2098819b6d35",
            "85830f1a449a4dd28d4f18ff8436d1f0"
          ]
        }
      },
      "source": [
        "s = Structure.from_file('./enumerated-Ni2Pt2/structure-13.cif')\n",
        "model = aetoms.Model.from_pymatgen_structures(s)\n",
        "viewer = aetoms.Viewer(model=model)\n",
        "viewer.app()"
      ],
      "execution_count": 28,
      "outputs": [
        {
          "output_type": "display_data",
          "data": {
            "text/plain": [
              "VBox(children=(HBox(children=(Dropdown(description='Model', options=(0,), value=0), Dropdown(description='Styl…"
            ],
            "application/vnd.jupyter.widget-view+json": {
              "version_major": 2,
              "version_minor": 0,
              "model_id": "927820a4b53448c4b583816c9156d3d7"
            }
          },
          "metadata": {}
        }
      ]
    },
    {
      "cell_type": "markdown",
      "metadata": {
        "id": "RzDt6wvaFHzl"
      },
      "source": [
        "# Generating input files for DFT calculations\n",
        "\n",
        "Let's first go through the input file generation for one example structure."
      ]
    },
    {
      "cell_type": "code",
      "metadata": {
        "id": "mKXAvNmeE9EN"
      },
      "source": [
        "struc = ordered_structures[4][\"structure\"]"
      ],
      "execution_count": 31,
      "outputs": []
    },
    {
      "cell_type": "markdown",
      "metadata": {
        "id": "pR2LJ435FQYN"
      },
      "source": [
        "First, determine a suitable k-point mesh for a given k-point density.  The k-point mesh routines were originally meant for VASP (another DFT software) but we can also use it for Quantum Espresso"
      ]
    },
    {
      "cell_type": "code",
      "metadata": {
        "id": "OwZRdo6sFNEW",
        "outputId": "f1028ca2-be8e-4ac0-956f-7e08693fd596",
        "colab": {
          "base_uri": "https://localhost:8080/"
        }
      },
      "source": [
        "from pymatgen.io.vasp.inputs import Kpoints\n",
        "kpt = Kpoints.automatic_density(struc, kppa=2000)\n",
        "print(kpt.kpts)"
      ],
      "execution_count": 32,
      "outputs": [
        {
          "output_type": "stream",
          "name": "stdout",
          "text": [
            "[(6, 6, 6)]\n"
          ]
        }
      ]
    },
    {
      "cell_type": "markdown",
      "metadata": {
        "id": "yi9OzxeBFc19"
      },
      "source": [
        "Next, generate a PWSCF input file for our example structure and the above k-point mesh."
      ]
    },
    {
      "cell_type": "code",
      "metadata": {
        "id": "nlIycvn5FS11",
        "outputId": "43d7b374-a2a2-44ec-da75-45095044a3a2",
        "colab": {
          "base_uri": "https://localhost:8080/"
        }
      },
      "source": [
        "from pymatgen.io.pwscf import PWInput\n",
        "control = {\"calculation\": \"relax\"}\n",
        "pseudo = {\"Pt\": \"pt_pbe_v1.4.uspp.F.UPF\",\n",
        "          \"Ni\": \"ni_pbe_v1.4.uspp.F.UPF\"}\n",
        "system = {\"ecutwfc\": 40, \"ecutrho\": 200}\n",
        "pwi = PWInput(struc, pseudo=pseudo, control=control, system=system, kpoints_grid=kpt.kpts[0])\n",
        "print(pwi)"
      ],
      "execution_count": 33,
      "outputs": [
        {
          "output_type": "stream",
          "name": "stdout",
          "text": [
            "&CONTROL\n",
            "  calculation = 'relax',\n",
            "/\n",
            "&SYSTEM\n",
            "  ecutrho = 200,\n",
            "  ecutwfc = 40,\n",
            "  ibrav = 0,\n",
            "  nat = 8,\n",
            "  ntyp = 2,\n",
            "/\n",
            "&ELECTRONS\n",
            "/\n",
            "&IONS\n",
            "/\n",
            "&CELL\n",
            "/\n",
            "ATOMIC_SPECIES\n",
            "  Ni  58.6934 ni_pbe_v1.4.uspp.F.UPF\n",
            "  Pt  195.0840 pt_pbe_v1.4.uspp.F.UPF\n",
            "ATOMIC_POSITIONS crystal\n",
            "  Ni 0.000000 0.500000 0.500000\n",
            "  Ni 0.000000 0.000000 0.500000\n",
            "  Ni 0.500000 0.500000 0.500000\n",
            "  Ni 0.000000 0.500000 1.000000\n",
            "  Pt 0.000000 0.000000 0.000000\n",
            "  Pt 0.500000 0.000000 0.500000\n",
            "  Pt 0.500000 0.500000 0.000000\n",
            "  Pt 0.500000 0.000000 0.000000\n",
            "K_POINTS automatic\n",
            "  6 6 6 0 0 0\n",
            "CELL_PARAMETERS angstrom\n",
            "  4.282303 0.000000 4.282303\n",
            "  -4.282303 4.282303 0.000000\n",
            "  -4.282303 0.000000 4.282303\n"
          ]
        }
      ]
    },
    {
      "cell_type": "markdown",
      "metadata": {
        "id": "kudQ2u4vFkg5"
      },
      "source": [
        "Now let's generate PWSCF input files for all of the enumerated structures."
      ]
    },
    {
      "cell_type": "code",
      "metadata": {
        "id": "HzoqVzmaFgEx"
      },
      "source": [
        "dirname = \"enumerated-Ni2Pt2\"\n",
        "if not os.path.exists(dirname):\n",
        "    os.makedirs(dirname)\n",
        "for i, s in enumerate(ordered_structures):\n",
        "    struc = s[\"structure\"]\n",
        "    kpt = Kpoints.automatic_density(struc, kppa=2000)\n",
        "    pwi = PWInput(struc, pseudo=pseudo, control=control, system=system, kpoints_grid=kpt.kpts[0])\n",
        "    pwi.write_file(filename=os.path.join(dirname, \"structure-{}.in\".format(i)))"
      ],
      "execution_count": 34,
      "outputs": []
    },
    {
      "cell_type": "code",
      "metadata": {
        "id": "_C6eeCPdFvHR",
        "outputId": "2328f251-2737-4def-9ea5-df3f0d7cbc10",
        "colab": {
          "base_uri": "https://localhost:8080/"
        }
      },
      "source": [
        "! ls enumerated-Ni2Pt2"
      ],
      "execution_count": 35,
      "outputs": [
        {
          "output_type": "stream",
          "name": "stdout",
          "text": [
            "structure-0.cif   structure-24.in  structure-42.in  structure-60.in  structure-7.cif\n",
            "structure-0.in\t  structure-25.in  structure-43.in  structure-61.in  structure-7.in\n",
            "structure-10.cif  structure-26.in  structure-44.in  structure-62.in  structure-80.in\n",
            "structure-10.in   structure-27.in  structure-45.in  structure-63.in  structure-81.in\n",
            "structure-11.cif  structure-28.in  structure-46.in  structure-64.in  structure-82.in\n",
            "structure-11.in   structure-29.in  structure-47.in  structure-65.in  structure-83.in\n",
            "structure-12.cif  structure-2.cif  structure-48.in  structure-66.in  structure-84.in\n",
            "structure-12.in   structure-2.in   structure-49.in  structure-67.in  structure-85.in\n",
            "structure-13.cif  structure-30.in  structure-4.cif  structure-68.in  structure-86.in\n",
            "structure-13.in   structure-31.in  structure-4.in   structure-69.in  structure-87.in\n",
            "structure-14.in   structure-32.in  structure-50.in  structure-6.cif  structure-88.in\n",
            "structure-15.in   structure-33.in  structure-51.in  structure-6.in   structure-89.in\n",
            "structure-16.in   structure-34.in  structure-52.in  structure-70.in  structure-8.cif\n",
            "structure-17.in   structure-35.in  structure-53.in  structure-71.in  structure-8.in\n",
            "structure-18.in   structure-36.in  structure-54.in  structure-72.in  structure-90.in\n",
            "structure-19.in   structure-37.in  structure-55.in  structure-73.in  structure-91.in\n",
            "structure-1.cif   structure-38.in  structure-56.in  structure-74.in  structure-92.in\n",
            "structure-1.in\t  structure-39.in  structure-57.in  structure-75.in  structure-93.in\n",
            "structure-20.in   structure-3.cif  structure-58.in  structure-76.in  structure-9.cif\n",
            "structure-21.in   structure-3.in   structure-59.in  structure-77.in  structure-9.in\n",
            "structure-22.in   structure-40.in  structure-5.cif  structure-78.in\n",
            "structure-23.in   structure-41.in  structure-5.in   structure-79.in\n"
          ]
        }
      ]
    },
    {
      "cell_type": "markdown",
      "metadata": {
        "id": "WR_Y1tZyF2wn"
      },
      "source": [
        "## Problem 2\n",
        "\n",
        "Apply what you have learned above to enumerate NiPt3 structures. Also generate PWSCF input files."
      ]
    },
    {
      "cell_type": "code",
      "metadata": {
        "id": "o-A8awiLF6ci"
      },
      "source": [],
      "execution_count": null,
      "outputs": []
    },
    {
      "cell_type": "markdown",
      "source": [
        "### Solution"
      ],
      "metadata": {
        "id": "FsoThbGuVPjA"
      }
    },
    {
      "cell_type": "code",
      "source": [
        "NiPt3 = Pt_fcc.copy()\n",
        "NiPt3.replace_species({\"Pt\": {\"Pt\": 3/4, \"Ni\": 1/4}})\n",
        "NiPt3.apply_strain((0.75*3.91 + 0.25*3.50) - 1.0)\n",
        "NiPt3_ordered_structures = enum.apply_transformation(Ni2Pt2, return_ranked_list=100)\n",
        "dirname = \"enumerated-NiPt3\"\n",
        "if not os.path.exists(dirname):\n",
        "    os.makedirs(dirname)\n",
        "for i, s in enumerate(NiPt3_ordered_structures):\n",
        "    struc = s[\"structure\"]\n",
        "    kpt = Kpoints.automatic_density(struc, kppa=2000)\n",
        "    pwi = PWInput(struc, pseudo=pseudo, control=control, system=system, kpoints_grid=kpt.kpts[0])\n",
        "    pwi.write_file(filename=os.path.join(dirname, \"structure-{}.in\".format(i)))\n",
        "%ls enumerated-NiPt3"
      ],
      "metadata": {
        "id": "kSV6AxxXVSpq"
      },
      "execution_count": null,
      "outputs": []
    },
    {
      "cell_type": "markdown",
      "source": [
        "# Interacting with the Materials Project\n",
        "\n",
        "In this section, we will access the Materials Project database (https://materialsproject.org) using Pymatgen.  \n",
        "\n",
        "The Materials Project API is currently undergoing a transition period during which two APIs exist, a Legacy API and a New API (https://legacy.materialsproject.org/open).  For now, the Legacy API is still recommended as the New API is still in flux.\n",
        "\n",
        "You will need an API key for the Legacy API to run the code below.  Get it from: https://legacy.materialsproject.org/open"
      ],
      "metadata": {
        "id": "8unt5jMzbF9k"
      }
    },
    {
      "cell_type": "code",
      "source": [
        "USER_API_KEY =  \"gwKykDXMAPTs4h7Rtw\""
      ],
      "metadata": {
        "id": "0cUDL4fFh9Jk"
      },
      "execution_count": 36,
      "outputs": []
    },
    {
      "cell_type": "markdown",
      "source": [
        "You can find more information about the Materials Project API on the website on the [Materials Project REST API](http://pymatgen.org/usage.html#pymatgen-matproj-rest-integration-with-the-materials-project-rest-api)"
      ],
      "metadata": {
        "id": "HilZRED3iGQu"
      }
    },
    {
      "cell_type": "markdown",
      "source": [
        "## Accessing data in the Materials Project database"
      ],
      "metadata": {
        "id": "0yQrQEphicEz"
      }
    },
    {
      "cell_type": "markdown",
      "source": [
        "The MP API can be accessed from within Python using the `MPRester` object:"
      ],
      "metadata": {
        "id": "WYRDCW7OiiRL"
      }
    },
    {
      "cell_type": "code",
      "source": [
        "from pymatgen.ext.matproj import MPRester\n",
        "import pymatgen as mg"
      ],
      "metadata": {
        "id": "K1jNcmoZiAgq"
      },
      "execution_count": 37,
      "outputs": []
    },
    {
      "cell_type": "markdown",
      "source": [
        "Using your personal API key, you can then query the Materials Project database:"
      ],
      "metadata": {
        "id": "VmiN6G9zio2N"
      }
    },
    {
      "cell_type": "code",
      "source": [
        "with MPRester(USER_API_KEY) as m:\n",
        "    # get data for all entries with formula Fe2O3\n",
        "    data = m.get_data(\"Fe2O3\")\n",
        "print(\"{} entries downloaded.\".format(len(data)))"
      ],
      "metadata": {
        "id": "sI2fhFN4ioYC",
        "outputId": "d01a9627-6f99-4fe0-f4ad-9a7a5ae09f8f",
        "colab": {
          "base_uri": "https://localhost:8080/"
        }
      },
      "execution_count": 38,
      "outputs": [
        {
          "output_type": "stream",
          "name": "stderr",
          "text": [
            "/usr/local/lib/python3.10/dist-packages/pymatgen/ext/matproj_legacy.py:166: UserWarning: You are using the legacy MPRester. This version of the MPRester will no longer be updated. To access the latest data with the new MPRester, obtain a new API key from https://materialsproject.org/api and consult the docs at https://docs.materialsproject.org/ for more information.\n",
            "  warnings.warn(\n"
          ]
        },
        {
          "output_type": "stream",
          "name": "stdout",
          "text": [
            "24 entries downloaded.\n"
          ]
        }
      ]
    },
    {
      "cell_type": "markdown",
      "source": [
        "The warning only let's us know that we are using the Legacy API and can be ignored.\n",
        "\n",
        "Once downloaded, you can work with the entries from the database locally.  Each entry contains information in a Python dictionary that can be accessed using the following `keys`:"
      ],
      "metadata": {
        "id": "Ez4SKKzCiyBP"
      }
    },
    {
      "cell_type": "code",
      "source": [
        "entry0 = data[0]\n",
        "print(entry0.keys())"
      ],
      "metadata": {
        "id": "uBf9Th4MiukC",
        "outputId": "01afd822-4e1e-453f-9963-7dca3e5ee24e",
        "colab": {
          "base_uri": "https://localhost:8080/"
        }
      },
      "execution_count": 39,
      "outputs": [
        {
          "output_type": "stream",
          "name": "stdout",
          "text": [
            "dict_keys(['energy', 'energy_per_atom', 'volume', 'formation_energy_per_atom', 'nsites', 'unit_cell_formula', 'pretty_formula', 'is_hubbard', 'elements', 'nelements', 'e_above_hull', 'hubbards', 'is_compatible', 'spacegroup', 'task_ids', 'band_gap', 'density', 'icsd_id', 'icsd_ids', 'cif', 'total_magnetization', 'material_id', 'oxide_type', 'tags', 'elasticity', 'piezo', 'diel', 'deprecated', 'full_formula'])\n"
          ]
        }
      ]
    },
    {
      "cell_type": "markdown",
      "source": [
        "The structure itself is stored in CIF format under the `cif` key.  We can use this information, for example, to construct a Pymatgen structure:"
      ],
      "metadata": {
        "id": "Sk_3sto0i4Jo"
      }
    },
    {
      "cell_type": "code",
      "source": [
        "struc = Structure.from_str(entry0[\"cif\"], \"cif\")\n",
        "print(struc)"
      ],
      "metadata": {
        "id": "eLF9M56pi1Q_",
        "outputId": "efeda896-ad83-4e81-a667-5b08befad420",
        "colab": {
          "base_uri": "https://localhost:8080/"
        }
      },
      "execution_count": 40,
      "outputs": [
        {
          "output_type": "stream",
          "name": "stdout",
          "text": [
            "Full Formula (Fe32 O48)\n",
            "Reduced Formula: Fe2O3\n",
            "abc   :   8.647561  10.935362  10.375002\n",
            "angles:  89.307787  91.847811  93.817325\n",
            "pbc   :       True       True       True\n",
            "Sites (80)\n",
            "  #  SP           a         b         c\n",
            "---  ----  --------  --------  --------\n",
            "  0  Fe    0.636972  0.931437  0.049516\n",
            "  1  Fe    0.300622  0.92826   0.528641\n",
            "  2  Fe    0.942643  0.759602  0.595005\n",
            "  3  Fe    0.536794  0.176069  0.544655\n",
            "  4  Fe    0.678006  0.383225  0.232541\n",
            "  5  Fe    0.28754   0.425156  0.569575\n",
            "  6  Fe    0.417335  0.19352   0.79181\n",
            "  7  Fe    0.616648  0.596651  0.049378\n",
            "  8  Fe    0.068027  0.04833   0.664294\n",
            "  9  Fe    0.347859  0.426247  0.902265\n",
            " 10  Fe    0.925837  0.081796  0.072849\n",
            " 11  Fe    0.724159  0.993458  0.805239\n",
            " 12  Fe    0.637997  0.538792  0.785618\n",
            " 13  Fe    0.171499  0.191223  0.365534\n",
            " 14  Fe    0.302003  0.477483  0.244202\n",
            " 15  Fe    0.30151   0.967898  0.91929\n",
            " 16  Fe    0.229822  0.206894  0.031446\n",
            " 17  Fe    0.687311  0.47279   0.534432\n",
            " 18  Fe    0.416021  0.682684  0.498797\n",
            " 19  Fe    0.016793  0.437914  0.066951\n",
            " 20  Fe    0.804863  0.79788   0.274359\n",
            " 21  Fe    0.00129   0.507224  0.418795\n",
            " 22  Fe    0.128282  0.703033  0.284409\n",
            " 23  Fe    0.467328  0.094408  0.270075\n",
            " 24  Fe    0.761103  0.291307  0.938069\n",
            " 25  Fe    0.238716  0.664471  0.856176\n",
            " 26  Fe    0.949347  0.755524  0.972566\n",
            " 27  Fe    0.898648  0.26152   0.638687\n",
            " 28  Fe    0.83566   0.068562  0.360887\n",
            " 29  Fe    0.44878   0.786159  0.241977\n",
            " 30  Fe    0.003147  0.511851  0.741767\n",
            " 31  Fe    0.657322  0.883338  0.523386\n",
            " 32  O     0.710095  0.29884   0.546281\n",
            " 33  O     0.862819  0.368642  0.788484\n",
            " 34  O     0.498594  0.537161  0.589782\n",
            " 35  O     0.97353   0.265476  0.026866\n",
            " 36  O     0.781306  0.47568   0.371453\n",
            " 37  O     0.788651  0.972807  0.197187\n",
            " 38  O     0.341951  0.08692   0.439282\n",
            " 39  O     0.273144  0.040818  0.739514\n",
            " 40  O     0.302332  0.657988  0.185447\n",
            " 41  O     0.242432  0.494122  0.748673\n",
            " 42  O     0.633228  0.217382  0.26708\n",
            " 43  O     0.727416  0.114722  0.972533\n",
            " 44  O     0.442275  0.597612  0.918652\n",
            " 45  O     0.014304  0.153311  0.512538\n",
            " 46  O     0.231976  0.271649  0.860694\n",
            " 47  O     0.903264  0.112355  0.74705\n",
            " 48  O     0.410749  0.130482  0.972611\n",
            " 49  O     0.24806   0.395122  0.07382\n",
            " 50  O     0.813202  0.583121  0.644132\n",
            " 51  O     0.585525  0.10765   0.710275\n",
            " 52  O     0.289414  0.815497  0.377306\n",
            " 53  O     0.064507  0.502184  0.241032\n",
            " 54  O     0.630646  0.044621  0.444824\n",
            " 55  O     0.24485   0.572031  0.443292\n",
            " 56  O     0.969937  0.755022  0.163268\n",
            " 57  O     0.784446  0.863174  0.675828\n",
            " 58  O     0.097298  0.898087  0.580896\n",
            " 59  O     0.388199  0.278985  0.623176\n",
            " 60  O     0.088356  0.682465  0.70831\n",
            " 61  O     0.517366  0.914036  0.892849\n",
            " 62  O     0.775814  0.430338  0.071697\n",
            " 63  O     0.273772  0.352033  0.385889\n",
            " 64  O     0.554071  0.364981  0.865657\n",
            " 65  O     0.854043  0.896584  0.42624\n",
            " 66  O     0.122634  0.047373  0.006326\n",
            " 67  O     0.839747  0.906942  0.951702\n",
            " 68  O     0.988785  0.150107  0.257776\n",
            " 69  O     0.059112  0.567329  0.936297\n",
            " 70  O     0.290498  0.174417  0.205964\n",
            " 71  O     0.594652  0.746564  0.392242\n",
            " 72  O     0.458986  0.948392  0.168549\n",
            " 73  O     0.968592  0.683566  0.419326\n",
            " 74  O     0.037311  0.408176  0.574272\n",
            " 75  O     0.453568  0.827582  0.603152\n",
            " 76  O     0.633843  0.755104  0.13755\n",
            " 77  O     0.521004  0.493335  0.194427\n",
            " 78  O     0.174106  0.810404  0.930315\n",
            " 79  O     0.765754  0.645949  0.923239\n"
          ]
        }
      ]
    },
    {
      "cell_type": "markdown",
      "source": [
        "Note that the DFT energy (for Materials Project default parameters) is available as well:"
      ],
      "metadata": {
        "id": "0aErujdyz4el"
      }
    },
    {
      "cell_type": "code",
      "source": [
        "print(\"The total energy of the structure is E = {:.4f} eV\".format(entry0[\"energy\"]))"
      ],
      "metadata": {
        "id": "bEOR6KF6z3Ow",
        "outputId": "2f447b8d-a11d-4fba-bd10-ce23ae65e07f",
        "colab": {
          "base_uri": "https://localhost:8080/"
        }
      },
      "execution_count": 41,
      "outputs": [
        {
          "output_type": "stream",
          "name": "stdout",
          "text": [
            "The total energy of the structure is E = -517.6639 eV\n"
          ]
        }
      ]
    },
    {
      "cell_type": "markdown",
      "source": [
        "To check whether the structure is predicted to be stable, look at the \"energy above hull\" (in eV/atoms):"
      ],
      "metadata": {
        "id": "TOjlRdb50A8u"
      }
    },
    {
      "cell_type": "code",
      "source": [
        "print(\"The energy above hull is Eh = {:.4f} eV/atom\".format(entry0[\"e_above_hull\"]))"
      ],
      "metadata": {
        "id": "8aZSZzOWz_vE",
        "outputId": "9309a408-75fd-4d62-9022-6ba5d37cd85d",
        "colab": {
          "base_uri": "https://localhost:8080/"
        }
      },
      "execution_count": 42,
      "outputs": [
        {
          "output_type": "stream",
          "name": "stdout",
          "text": [
            "The energy above hull is Eh = 0.2785 eV/atom\n"
          ]
        }
      ]
    },
    {
      "cell_type": "markdown",
      "source": [
        "## General database queries\n",
        "\n",
        "Custom database queries are also supported by Pymatgen.  You can even use wildcards (placeholders) in queries, e.g., to search for similar compositions with different chemical species.\n",
        "\n",
        "The following instructions search for all perovskite oxides with general composition BaAO$_3$ for any species A:"
      ],
      "metadata": {
        "id": "Y-BaW4BF0LXm"
      }
    },
    {
      "cell_type": "code",
      "source": [
        "with MPRester(USER_API_KEY) as m:\n",
        "    results = m.query(\"Ba1*1O3\", [\"energy\", \"e_above_hull\", \"band_gap\", \"icsd_ids\", \"structure\"])\n",
        "print(\"{} matching entries found.\".format(len(results)))"
      ],
      "metadata": {
        "id": "brYrVMbb0Hgj",
        "outputId": "c814fac1-96c7-4292-9d0c-61c06751a71d",
        "colab": {
          "base_uri": "https://localhost:8080/"
        }
      },
      "execution_count": 43,
      "outputs": [
        {
          "output_type": "stream",
          "name": "stderr",
          "text": [
            "/usr/local/lib/python3.10/dist-packages/pymatgen/core/periodic_table.py:265: UserWarning: No Pauling electronegativity for He. Setting to NaN. This has no physical meaning, and is mainly done to avoid errors caused by the code expecting a float.\n",
            "  warnings.warn(\n",
            "/usr/local/lib/python3.10/dist-packages/pymatgen/core/periodic_table.py:265: UserWarning: No Pauling electronegativity for Ne. Setting to NaN. This has no physical meaning, and is mainly done to avoid errors caused by the code expecting a float.\n",
            "  warnings.warn(\n",
            "/usr/local/lib/python3.10/dist-packages/pymatgen/core/periodic_table.py:265: UserWarning: No Pauling electronegativity for Ar. Setting to NaN. This has no physical meaning, and is mainly done to avoid errors caused by the code expecting a float.\n",
            "  warnings.warn(\n",
            "/usr/local/lib/python3.10/dist-packages/pymatgen/core/periodic_table.py:265: UserWarning: No Pauling electronegativity for Rf. Setting to NaN. This has no physical meaning, and is mainly done to avoid errors caused by the code expecting a float.\n",
            "  warnings.warn(\n",
            "/usr/local/lib/python3.10/dist-packages/pymatgen/core/periodic_table.py:265: UserWarning: No Pauling electronegativity for Db. Setting to NaN. This has no physical meaning, and is mainly done to avoid errors caused by the code expecting a float.\n",
            "  warnings.warn(\n",
            "/usr/local/lib/python3.10/dist-packages/pymatgen/core/periodic_table.py:265: UserWarning: No Pauling electronegativity for Sg. Setting to NaN. This has no physical meaning, and is mainly done to avoid errors caused by the code expecting a float.\n",
            "  warnings.warn(\n",
            "/usr/local/lib/python3.10/dist-packages/pymatgen/core/periodic_table.py:265: UserWarning: No Pauling electronegativity for Bh. Setting to NaN. This has no physical meaning, and is mainly done to avoid errors caused by the code expecting a float.\n",
            "  warnings.warn(\n",
            "/usr/local/lib/python3.10/dist-packages/pymatgen/core/periodic_table.py:265: UserWarning: No Pauling electronegativity for Hs. Setting to NaN. This has no physical meaning, and is mainly done to avoid errors caused by the code expecting a float.\n",
            "  warnings.warn(\n",
            "/usr/local/lib/python3.10/dist-packages/pymatgen/core/periodic_table.py:265: UserWarning: No Pauling electronegativity for Mt. Setting to NaN. This has no physical meaning, and is mainly done to avoid errors caused by the code expecting a float.\n",
            "  warnings.warn(\n",
            "/usr/local/lib/python3.10/dist-packages/pymatgen/core/periodic_table.py:265: UserWarning: No Pauling electronegativity for Ds. Setting to NaN. This has no physical meaning, and is mainly done to avoid errors caused by the code expecting a float.\n",
            "  warnings.warn(\n",
            "/usr/local/lib/python3.10/dist-packages/pymatgen/core/periodic_table.py:265: UserWarning: No Pauling electronegativity for Rg. Setting to NaN. This has no physical meaning, and is mainly done to avoid errors caused by the code expecting a float.\n",
            "  warnings.warn(\n",
            "/usr/local/lib/python3.10/dist-packages/pymatgen/core/periodic_table.py:265: UserWarning: No Pauling electronegativity for Cn. Setting to NaN. This has no physical meaning, and is mainly done to avoid errors caused by the code expecting a float.\n",
            "  warnings.warn(\n",
            "/usr/local/lib/python3.10/dist-packages/pymatgen/core/periodic_table.py:265: UserWarning: No Pauling electronegativity for Nh. Setting to NaN. This has no physical meaning, and is mainly done to avoid errors caused by the code expecting a float.\n",
            "  warnings.warn(\n",
            "/usr/local/lib/python3.10/dist-packages/pymatgen/core/periodic_table.py:265: UserWarning: No Pauling electronegativity for Fl. Setting to NaN. This has no physical meaning, and is mainly done to avoid errors caused by the code expecting a float.\n",
            "  warnings.warn(\n",
            "/usr/local/lib/python3.10/dist-packages/pymatgen/core/periodic_table.py:265: UserWarning: No Pauling electronegativity for Mc. Setting to NaN. This has no physical meaning, and is mainly done to avoid errors caused by the code expecting a float.\n",
            "  warnings.warn(\n",
            "/usr/local/lib/python3.10/dist-packages/pymatgen/core/periodic_table.py:265: UserWarning: No Pauling electronegativity for Lv. Setting to NaN. This has no physical meaning, and is mainly done to avoid errors caused by the code expecting a float.\n",
            "  warnings.warn(\n",
            "/usr/local/lib/python3.10/dist-packages/pymatgen/core/periodic_table.py:265: UserWarning: No Pauling electronegativity for Ts. Setting to NaN. This has no physical meaning, and is mainly done to avoid errors caused by the code expecting a float.\n",
            "  warnings.warn(\n",
            "/usr/local/lib/python3.10/dist-packages/pymatgen/core/periodic_table.py:265: UserWarning: No Pauling electronegativity for Og. Setting to NaN. This has no physical meaning, and is mainly done to avoid errors caused by the code expecting a float.\n",
            "  warnings.warn(\n"
          ]
        },
        {
          "output_type": "stream",
          "name": "stdout",
          "text": [
            "137 matching entries found.\n"
          ]
        }
      ]
    },
    {
      "cell_type": "markdown",
      "source": [
        "Let's filter these entries by their stability:"
      ],
      "metadata": {
        "id": "loP1UgOp0cN6"
      }
    },
    {
      "cell_type": "code",
      "source": [
        "stable_entries = [entry for entry in results if entry[\"e_above_hull\"] == 0.0]\n",
        "print(\"{} stable perovskite oxides found.\".format(len(stable_entries)))"
      ],
      "metadata": {
        "id": "e8f92H9R0W0X",
        "outputId": "01235f8e-f62d-4232-c51d-bd8fae78251b",
        "colab": {
          "base_uri": "https://localhost:8080/"
        }
      },
      "execution_count": 44,
      "outputs": [
        {
          "output_type": "stream",
          "name": "stdout",
          "text": [
            "25 stable perovskite oxides found.\n"
          ]
        }
      ]
    },
    {
      "cell_type": "code",
      "source": [
        "import pandas as pd\n",
        "data = {\"Composition\": [], \"Energy (eV)\": [], \"Band Gap (eV)\": [], \"ICSD\": []}\n",
        "for entry in stable_entries:\n",
        "    data[\"Composition\"].append(entry[\"structure\"].formula)\n",
        "    data[\"Energy (eV)\"].append(entry[\"energy\"])\n",
        "    data[\"Band Gap (eV)\"].append(entry[\"band_gap\"])\n",
        "    data[\"ICSD\"].append(entry[\"icsd_ids\"])\n",
        "df = pd.DataFrame(data)\n",
        "df.sort_values(by=\"Band Gap (eV)\", inplace=True)\n",
        "df"
      ],
      "metadata": {
        "id": "vPuBr_2I0iP6",
        "outputId": "a9a51619-9ec8-4de9-81ae-5213a4490c97",
        "colab": {
          "base_uri": "https://localhost:8080/",
          "height": 833
        }
      },
      "execution_count": 45,
      "outputs": [
        {
          "output_type": "execute_result",
          "data": {
            "text/plain": [
              "    Composition  Energy (eV)  Band Gap (eV)  \\\n",
              "0    Ba2 Bi2 O6   -59.517331         0.0000   \n",
              "19  Ba6 Tc6 O18  -223.638948         0.0000   \n",
              "15   Ba3 Ru3 O9  -104.746018         0.0000   \n",
              "14  Ba4 Pu4 O12  -184.640339         0.0000   \n",
              "23   Ba4 U4 O12  -173.702276         0.0000   \n",
              "11   Ba1 Np1 O3   -44.532301         0.0000   \n",
              "9    Ba1 Nb1 O3   -40.696819         0.0000   \n",
              "8    Ba1 Mo1 O3   -34.932173         0.0000   \n",
              "12   Ba1 Pa1 O3   -42.065921         0.0000   \n",
              "4    Ba1 Fe1 O3   -31.632426         0.0000   \n",
              "13   Ba2 Pb2 O6   -57.917511         0.2094   \n",
              "18   Ba1 Sn1 O3   -31.648110         0.3949   \n",
              "3   Ba4 Co4 O12  -121.725155         1.1424   \n",
              "10   Ba2 Ni2 O6   -54.081405         1.5467   \n",
              "7   Ba4 Mn4 O12  -138.429863         1.8948   \n",
              "2   Ba4 Ce4 O12  -154.351966         2.2290   \n",
              "22   Ba1 Ti1 O3   -40.058535         2.6212   \n",
              "20   Ba2 Te2 O6   -59.260402         2.8464   \n",
              "24   Ba1 Zr1 O3   -41.444713         3.4102   \n",
              "5   Ba4 Ge4 O12  -131.219465         3.5490   \n",
              "16   Ba2 Se2 O6   -59.576330         3.9277   \n",
              "6    Ba1 Hf1 O3   -43.591893         3.9410   \n",
              "21  Ba4 Th4 O12  -163.964784         4.0440   \n",
              "1    Ba4 C4 O12  -149.386828         4.3979   \n",
              "17  Ba6 Si6 O18  -222.882942         4.5424   \n",
              "\n",
              "                                                 ICSD  \n",
              "0   [1431, 28163, 1430, 67073, 28162, 61499, 17275...  \n",
              "19                                           [109077]  \n",
              "15      [172175, 150205, 110770, 51293, 91075, 10253]  \n",
              "14                                            [65033]  \n",
              "23                                                 []  \n",
              "11                                            [61316]  \n",
              "9                                     [50275, 150792]  \n",
              "8                                             [43799]  \n",
              "12                                            [61315]  \n",
              "4               [262131, 28917, 262132, 29096, 28918]  \n",
              "13  [252031, 94313, 154038, 245600, 51657, 94312, ...  \n",
              "18  [239582, 186899, 180138, 181091, 190601, 18814...  \n",
              "3                                                  []  \n",
              "10                                            [15761]  \n",
              "7                                      [89996, 89995]  \n",
              "2   [188637, 165830, 165831, 2751, 92180, 79625, 9...  \n",
              "22  [73631, 73629, 73628, 73634, 186461, 100463, 7...  \n",
              "20                                      [4320, 10106]  \n",
              "24  [43136, 90049, 97460, 97462, 97461, 27048, 290...  \n",
              "5                                             [23925]  \n",
              "16                                            [54156]  \n",
              "6                                                  []  \n",
              "21                                           [189333]  \n",
              "1   [91893, 166090, 91888, 158382, 91896, 190075, ...  \n",
              "17                                                 []  "
            ],
            "text/html": [
              "\n",
              "  <div id=\"df-8e952304-151f-4061-a440-2eeb4ec0bdab\" class=\"colab-df-container\">\n",
              "    <div>\n",
              "<style scoped>\n",
              "    .dataframe tbody tr th:only-of-type {\n",
              "        vertical-align: middle;\n",
              "    }\n",
              "\n",
              "    .dataframe tbody tr th {\n",
              "        vertical-align: top;\n",
              "    }\n",
              "\n",
              "    .dataframe thead th {\n",
              "        text-align: right;\n",
              "    }\n",
              "</style>\n",
              "<table border=\"1\" class=\"dataframe\">\n",
              "  <thead>\n",
              "    <tr style=\"text-align: right;\">\n",
              "      <th></th>\n",
              "      <th>Composition</th>\n",
              "      <th>Energy (eV)</th>\n",
              "      <th>Band Gap (eV)</th>\n",
              "      <th>ICSD</th>\n",
              "    </tr>\n",
              "  </thead>\n",
              "  <tbody>\n",
              "    <tr>\n",
              "      <th>0</th>\n",
              "      <td>Ba2 Bi2 O6</td>\n",
              "      <td>-59.517331</td>\n",
              "      <td>0.0000</td>\n",
              "      <td>[1431, 28163, 1430, 67073, 28162, 61499, 17275...</td>\n",
              "    </tr>\n",
              "    <tr>\n",
              "      <th>19</th>\n",
              "      <td>Ba6 Tc6 O18</td>\n",
              "      <td>-223.638948</td>\n",
              "      <td>0.0000</td>\n",
              "      <td>[109077]</td>\n",
              "    </tr>\n",
              "    <tr>\n",
              "      <th>15</th>\n",
              "      <td>Ba3 Ru3 O9</td>\n",
              "      <td>-104.746018</td>\n",
              "      <td>0.0000</td>\n",
              "      <td>[172175, 150205, 110770, 51293, 91075, 10253]</td>\n",
              "    </tr>\n",
              "    <tr>\n",
              "      <th>14</th>\n",
              "      <td>Ba4 Pu4 O12</td>\n",
              "      <td>-184.640339</td>\n",
              "      <td>0.0000</td>\n",
              "      <td>[65033]</td>\n",
              "    </tr>\n",
              "    <tr>\n",
              "      <th>23</th>\n",
              "      <td>Ba4 U4 O12</td>\n",
              "      <td>-173.702276</td>\n",
              "      <td>0.0000</td>\n",
              "      <td>[]</td>\n",
              "    </tr>\n",
              "    <tr>\n",
              "      <th>11</th>\n",
              "      <td>Ba1 Np1 O3</td>\n",
              "      <td>-44.532301</td>\n",
              "      <td>0.0000</td>\n",
              "      <td>[61316]</td>\n",
              "    </tr>\n",
              "    <tr>\n",
              "      <th>9</th>\n",
              "      <td>Ba1 Nb1 O3</td>\n",
              "      <td>-40.696819</td>\n",
              "      <td>0.0000</td>\n",
              "      <td>[50275, 150792]</td>\n",
              "    </tr>\n",
              "    <tr>\n",
              "      <th>8</th>\n",
              "      <td>Ba1 Mo1 O3</td>\n",
              "      <td>-34.932173</td>\n",
              "      <td>0.0000</td>\n",
              "      <td>[43799]</td>\n",
              "    </tr>\n",
              "    <tr>\n",
              "      <th>12</th>\n",
              "      <td>Ba1 Pa1 O3</td>\n",
              "      <td>-42.065921</td>\n",
              "      <td>0.0000</td>\n",
              "      <td>[61315]</td>\n",
              "    </tr>\n",
              "    <tr>\n",
              "      <th>4</th>\n",
              "      <td>Ba1 Fe1 O3</td>\n",
              "      <td>-31.632426</td>\n",
              "      <td>0.0000</td>\n",
              "      <td>[262131, 28917, 262132, 29096, 28918]</td>\n",
              "    </tr>\n",
              "    <tr>\n",
              "      <th>13</th>\n",
              "      <td>Ba2 Pb2 O6</td>\n",
              "      <td>-57.917511</td>\n",
              "      <td>0.2094</td>\n",
              "      <td>[252031, 94313, 154038, 245600, 51657, 94312, ...</td>\n",
              "    </tr>\n",
              "    <tr>\n",
              "      <th>18</th>\n",
              "      <td>Ba1 Sn1 O3</td>\n",
              "      <td>-31.648110</td>\n",
              "      <td>0.3949</td>\n",
              "      <td>[239582, 186899, 180138, 181091, 190601, 18814...</td>\n",
              "    </tr>\n",
              "    <tr>\n",
              "      <th>3</th>\n",
              "      <td>Ba4 Co4 O12</td>\n",
              "      <td>-121.725155</td>\n",
              "      <td>1.1424</td>\n",
              "      <td>[]</td>\n",
              "    </tr>\n",
              "    <tr>\n",
              "      <th>10</th>\n",
              "      <td>Ba2 Ni2 O6</td>\n",
              "      <td>-54.081405</td>\n",
              "      <td>1.5467</td>\n",
              "      <td>[15761]</td>\n",
              "    </tr>\n",
              "    <tr>\n",
              "      <th>7</th>\n",
              "      <td>Ba4 Mn4 O12</td>\n",
              "      <td>-138.429863</td>\n",
              "      <td>1.8948</td>\n",
              "      <td>[89996, 89995]</td>\n",
              "    </tr>\n",
              "    <tr>\n",
              "      <th>2</th>\n",
              "      <td>Ba4 Ce4 O12</td>\n",
              "      <td>-154.351966</td>\n",
              "      <td>2.2290</td>\n",
              "      <td>[188637, 165830, 165831, 2751, 92180, 79625, 9...</td>\n",
              "    </tr>\n",
              "    <tr>\n",
              "      <th>22</th>\n",
              "      <td>Ba1 Ti1 O3</td>\n",
              "      <td>-40.058535</td>\n",
              "      <td>2.6212</td>\n",
              "      <td>[73631, 73629, 73628, 73634, 186461, 100463, 7...</td>\n",
              "    </tr>\n",
              "    <tr>\n",
              "      <th>20</th>\n",
              "      <td>Ba2 Te2 O6</td>\n",
              "      <td>-59.260402</td>\n",
              "      <td>2.8464</td>\n",
              "      <td>[4320, 10106]</td>\n",
              "    </tr>\n",
              "    <tr>\n",
              "      <th>24</th>\n",
              "      <td>Ba1 Zr1 O3</td>\n",
              "      <td>-41.444713</td>\n",
              "      <td>3.4102</td>\n",
              "      <td>[43136, 90049, 97460, 97462, 97461, 27048, 290...</td>\n",
              "    </tr>\n",
              "    <tr>\n",
              "      <th>5</th>\n",
              "      <td>Ba4 Ge4 O12</td>\n",
              "      <td>-131.219465</td>\n",
              "      <td>3.5490</td>\n",
              "      <td>[23925]</td>\n",
              "    </tr>\n",
              "    <tr>\n",
              "      <th>16</th>\n",
              "      <td>Ba2 Se2 O6</td>\n",
              "      <td>-59.576330</td>\n",
              "      <td>3.9277</td>\n",
              "      <td>[54156]</td>\n",
              "    </tr>\n",
              "    <tr>\n",
              "      <th>6</th>\n",
              "      <td>Ba1 Hf1 O3</td>\n",
              "      <td>-43.591893</td>\n",
              "      <td>3.9410</td>\n",
              "      <td>[]</td>\n",
              "    </tr>\n",
              "    <tr>\n",
              "      <th>21</th>\n",
              "      <td>Ba4 Th4 O12</td>\n",
              "      <td>-163.964784</td>\n",
              "      <td>4.0440</td>\n",
              "      <td>[189333]</td>\n",
              "    </tr>\n",
              "    <tr>\n",
              "      <th>1</th>\n",
              "      <td>Ba4 C4 O12</td>\n",
              "      <td>-149.386828</td>\n",
              "      <td>4.3979</td>\n",
              "      <td>[91893, 166090, 91888, 158382, 91896, 190075, ...</td>\n",
              "    </tr>\n",
              "    <tr>\n",
              "      <th>17</th>\n",
              "      <td>Ba6 Si6 O18</td>\n",
              "      <td>-222.882942</td>\n",
              "      <td>4.5424</td>\n",
              "      <td>[]</td>\n",
              "    </tr>\n",
              "  </tbody>\n",
              "</table>\n",
              "</div>\n",
              "    <div class=\"colab-df-buttons\">\n",
              "\n",
              "  <div class=\"colab-df-container\">\n",
              "    <button class=\"colab-df-convert\" onclick=\"convertToInteractive('df-8e952304-151f-4061-a440-2eeb4ec0bdab')\"\n",
              "            title=\"Convert this dataframe to an interactive table.\"\n",
              "            style=\"display:none;\">\n",
              "\n",
              "  <svg xmlns=\"http://www.w3.org/2000/svg\" height=\"24px\" viewBox=\"0 -960 960 960\">\n",
              "    <path d=\"M120-120v-720h720v720H120Zm60-500h600v-160H180v160Zm220 220h160v-160H400v160Zm0 220h160v-160H400v160ZM180-400h160v-160H180v160Zm440 0h160v-160H620v160ZM180-180h160v-160H180v160Zm440 0h160v-160H620v160Z\"/>\n",
              "  </svg>\n",
              "    </button>\n",
              "\n",
              "  <style>\n",
              "    .colab-df-container {\n",
              "      display:flex;\n",
              "      gap: 12px;\n",
              "    }\n",
              "\n",
              "    .colab-df-convert {\n",
              "      background-color: #E8F0FE;\n",
              "      border: none;\n",
              "      border-radius: 50%;\n",
              "      cursor: pointer;\n",
              "      display: none;\n",
              "      fill: #1967D2;\n",
              "      height: 32px;\n",
              "      padding: 0 0 0 0;\n",
              "      width: 32px;\n",
              "    }\n",
              "\n",
              "    .colab-df-convert:hover {\n",
              "      background-color: #E2EBFA;\n",
              "      box-shadow: 0px 1px 2px rgba(60, 64, 67, 0.3), 0px 1px 3px 1px rgba(60, 64, 67, 0.15);\n",
              "      fill: #174EA6;\n",
              "    }\n",
              "\n",
              "    .colab-df-buttons div {\n",
              "      margin-bottom: 4px;\n",
              "    }\n",
              "\n",
              "    [theme=dark] .colab-df-convert {\n",
              "      background-color: #3B4455;\n",
              "      fill: #D2E3FC;\n",
              "    }\n",
              "\n",
              "    [theme=dark] .colab-df-convert:hover {\n",
              "      background-color: #434B5C;\n",
              "      box-shadow: 0px 1px 3px 1px rgba(0, 0, 0, 0.15);\n",
              "      filter: drop-shadow(0px 1px 2px rgba(0, 0, 0, 0.3));\n",
              "      fill: #FFFFFF;\n",
              "    }\n",
              "  </style>\n",
              "\n",
              "    <script>\n",
              "      const buttonEl =\n",
              "        document.querySelector('#df-8e952304-151f-4061-a440-2eeb4ec0bdab button.colab-df-convert');\n",
              "      buttonEl.style.display =\n",
              "        google.colab.kernel.accessAllowed ? 'block' : 'none';\n",
              "\n",
              "      async function convertToInteractive(key) {\n",
              "        const element = document.querySelector('#df-8e952304-151f-4061-a440-2eeb4ec0bdab');\n",
              "        const dataTable =\n",
              "          await google.colab.kernel.invokeFunction('convertToInteractive',\n",
              "                                                    [key], {});\n",
              "        if (!dataTable) return;\n",
              "\n",
              "        const docLinkHtml = 'Like what you see? Visit the ' +\n",
              "          '<a target=\"_blank\" href=https://colab.research.google.com/notebooks/data_table.ipynb>data table notebook</a>'\n",
              "          + ' to learn more about interactive tables.';\n",
              "        element.innerHTML = '';\n",
              "        dataTable['output_type'] = 'display_data';\n",
              "        await google.colab.output.renderOutput(dataTable, element);\n",
              "        const docLink = document.createElement('div');\n",
              "        docLink.innerHTML = docLinkHtml;\n",
              "        element.appendChild(docLink);\n",
              "      }\n",
              "    </script>\n",
              "  </div>\n",
              "\n",
              "\n",
              "<div id=\"df-16eeec84-1746-4adb-99fa-d2710840d78c\">\n",
              "  <button class=\"colab-df-quickchart\" onclick=\"quickchart('df-16eeec84-1746-4adb-99fa-d2710840d78c')\"\n",
              "            title=\"Suggest charts\"\n",
              "            style=\"display:none;\">\n",
              "\n",
              "<svg xmlns=\"http://www.w3.org/2000/svg\" height=\"24px\"viewBox=\"0 0 24 24\"\n",
              "     width=\"24px\">\n",
              "    <g>\n",
              "        <path d=\"M19 3H5c-1.1 0-2 .9-2 2v14c0 1.1.9 2 2 2h14c1.1 0 2-.9 2-2V5c0-1.1-.9-2-2-2zM9 17H7v-7h2v7zm4 0h-2V7h2v10zm4 0h-2v-4h2v4z\"/>\n",
              "    </g>\n",
              "</svg>\n",
              "  </button>\n",
              "\n",
              "<style>\n",
              "  .colab-df-quickchart {\n",
              "      --bg-color: #E8F0FE;\n",
              "      --fill-color: #1967D2;\n",
              "      --hover-bg-color: #E2EBFA;\n",
              "      --hover-fill-color: #174EA6;\n",
              "      --disabled-fill-color: #AAA;\n",
              "      --disabled-bg-color: #DDD;\n",
              "  }\n",
              "\n",
              "  [theme=dark] .colab-df-quickchart {\n",
              "      --bg-color: #3B4455;\n",
              "      --fill-color: #D2E3FC;\n",
              "      --hover-bg-color: #434B5C;\n",
              "      --hover-fill-color: #FFFFFF;\n",
              "      --disabled-bg-color: #3B4455;\n",
              "      --disabled-fill-color: #666;\n",
              "  }\n",
              "\n",
              "  .colab-df-quickchart {\n",
              "    background-color: var(--bg-color);\n",
              "    border: none;\n",
              "    border-radius: 50%;\n",
              "    cursor: pointer;\n",
              "    display: none;\n",
              "    fill: var(--fill-color);\n",
              "    height: 32px;\n",
              "    padding: 0;\n",
              "    width: 32px;\n",
              "  }\n",
              "\n",
              "  .colab-df-quickchart:hover {\n",
              "    background-color: var(--hover-bg-color);\n",
              "    box-shadow: 0 1px 2px rgba(60, 64, 67, 0.3), 0 1px 3px 1px rgba(60, 64, 67, 0.15);\n",
              "    fill: var(--button-hover-fill-color);\n",
              "  }\n",
              "\n",
              "  .colab-df-quickchart-complete:disabled,\n",
              "  .colab-df-quickchart-complete:disabled:hover {\n",
              "    background-color: var(--disabled-bg-color);\n",
              "    fill: var(--disabled-fill-color);\n",
              "    box-shadow: none;\n",
              "  }\n",
              "\n",
              "  .colab-df-spinner {\n",
              "    border: 2px solid var(--fill-color);\n",
              "    border-color: transparent;\n",
              "    border-bottom-color: var(--fill-color);\n",
              "    animation:\n",
              "      spin 1s steps(1) infinite;\n",
              "  }\n",
              "\n",
              "  @keyframes spin {\n",
              "    0% {\n",
              "      border-color: transparent;\n",
              "      border-bottom-color: var(--fill-color);\n",
              "      border-left-color: var(--fill-color);\n",
              "    }\n",
              "    20% {\n",
              "      border-color: transparent;\n",
              "      border-left-color: var(--fill-color);\n",
              "      border-top-color: var(--fill-color);\n",
              "    }\n",
              "    30% {\n",
              "      border-color: transparent;\n",
              "      border-left-color: var(--fill-color);\n",
              "      border-top-color: var(--fill-color);\n",
              "      border-right-color: var(--fill-color);\n",
              "    }\n",
              "    40% {\n",
              "      border-color: transparent;\n",
              "      border-right-color: var(--fill-color);\n",
              "      border-top-color: var(--fill-color);\n",
              "    }\n",
              "    60% {\n",
              "      border-color: transparent;\n",
              "      border-right-color: var(--fill-color);\n",
              "    }\n",
              "    80% {\n",
              "      border-color: transparent;\n",
              "      border-right-color: var(--fill-color);\n",
              "      border-bottom-color: var(--fill-color);\n",
              "    }\n",
              "    90% {\n",
              "      border-color: transparent;\n",
              "      border-bottom-color: var(--fill-color);\n",
              "    }\n",
              "  }\n",
              "</style>\n",
              "\n",
              "  <script>\n",
              "    async function quickchart(key) {\n",
              "      const quickchartButtonEl =\n",
              "        document.querySelector('#' + key + ' button');\n",
              "      quickchartButtonEl.disabled = true;  // To prevent multiple clicks.\n",
              "      quickchartButtonEl.classList.add('colab-df-spinner');\n",
              "      try {\n",
              "        const charts = await google.colab.kernel.invokeFunction(\n",
              "            'suggestCharts', [key], {});\n",
              "      } catch (error) {\n",
              "        console.error('Error during call to suggestCharts:', error);\n",
              "      }\n",
              "      quickchartButtonEl.classList.remove('colab-df-spinner');\n",
              "      quickchartButtonEl.classList.add('colab-df-quickchart-complete');\n",
              "    }\n",
              "    (() => {\n",
              "      let quickchartButtonEl =\n",
              "        document.querySelector('#df-16eeec84-1746-4adb-99fa-d2710840d78c button');\n",
              "      quickchartButtonEl.style.display =\n",
              "        google.colab.kernel.accessAllowed ? 'block' : 'none';\n",
              "    })();\n",
              "  </script>\n",
              "</div>\n",
              "\n",
              "  <div id=\"id_e519a3f0-1cb1-4834-867e-a697ff9cd0b9\">\n",
              "    <style>\n",
              "      .colab-df-generate {\n",
              "        background-color: #E8F0FE;\n",
              "        border: none;\n",
              "        border-radius: 50%;\n",
              "        cursor: pointer;\n",
              "        display: none;\n",
              "        fill: #1967D2;\n",
              "        height: 32px;\n",
              "        padding: 0 0 0 0;\n",
              "        width: 32px;\n",
              "      }\n",
              "\n",
              "      .colab-df-generate:hover {\n",
              "        background-color: #E2EBFA;\n",
              "        box-shadow: 0px 1px 2px rgba(60, 64, 67, 0.3), 0px 1px 3px 1px rgba(60, 64, 67, 0.15);\n",
              "        fill: #174EA6;\n",
              "      }\n",
              "\n",
              "      [theme=dark] .colab-df-generate {\n",
              "        background-color: #3B4455;\n",
              "        fill: #D2E3FC;\n",
              "      }\n",
              "\n",
              "      [theme=dark] .colab-df-generate:hover {\n",
              "        background-color: #434B5C;\n",
              "        box-shadow: 0px 1px 3px 1px rgba(0, 0, 0, 0.15);\n",
              "        filter: drop-shadow(0px 1px 2px rgba(0, 0, 0, 0.3));\n",
              "        fill: #FFFFFF;\n",
              "      }\n",
              "    </style>\n",
              "    <button class=\"colab-df-generate\" onclick=\"generateWithVariable('df')\"\n",
              "            title=\"Generate code using this dataframe.\"\n",
              "            style=\"display:none;\">\n",
              "\n",
              "  <svg xmlns=\"http://www.w3.org/2000/svg\" height=\"24px\"viewBox=\"0 0 24 24\"\n",
              "       width=\"24px\">\n",
              "    <path d=\"M7,19H8.4L18.45,9,17,7.55,7,17.6ZM5,21V16.75L18.45,3.32a2,2,0,0,1,2.83,0l1.4,1.43a1.91,1.91,0,0,1,.58,1.4,1.91,1.91,0,0,1-.58,1.4L9.25,21ZM18.45,9,17,7.55Zm-12,3A5.31,5.31,0,0,0,4.9,8.1,5.31,5.31,0,0,0,1,6.5,5.31,5.31,0,0,0,4.9,4.9,5.31,5.31,0,0,0,6.5,1,5.31,5.31,0,0,0,8.1,4.9,5.31,5.31,0,0,0,12,6.5,5.46,5.46,0,0,0,6.5,12Z\"/>\n",
              "  </svg>\n",
              "    </button>\n",
              "    <script>\n",
              "      (() => {\n",
              "      const buttonEl =\n",
              "        document.querySelector('#id_e519a3f0-1cb1-4834-867e-a697ff9cd0b9 button.colab-df-generate');\n",
              "      buttonEl.style.display =\n",
              "        google.colab.kernel.accessAllowed ? 'block' : 'none';\n",
              "\n",
              "      buttonEl.onclick = () => {\n",
              "        google.colab.notebook.generateWithVariable('df');\n",
              "      }\n",
              "      })();\n",
              "    </script>\n",
              "  </div>\n",
              "\n",
              "    </div>\n",
              "  </div>\n"
            ],
            "application/vnd.google.colaboratory.intrinsic+json": {
              "type": "dataframe",
              "variable_name": "df",
              "summary": "{\n  \"name\": \"df\",\n  \"rows\": 25,\n  \"fields\": [\n    {\n      \"column\": \"Composition\",\n      \"properties\": {\n        \"dtype\": \"string\",\n        \"num_unique_values\": 25,\n        \"samples\": [\n          \"Ba1 Pa1 O3\",\n          \"Ba1 Ti1 O3\",\n          \"Ba2 Bi2 O6\"\n        ],\n        \"semantic_type\": \"\",\n        \"description\": \"\"\n      }\n    },\n    {\n      \"column\": \"Energy (eV)\",\n      \"properties\": {\n        \"dtype\": \"number\",\n        \"std\": 63.78101884178677,\n        \"min\": -223.63894775,\n        \"max\": -31.63242596,\n        \"num_unique_values\": 25,\n        \"samples\": [\n          -42.06592061,\n          -40.05853491,\n          -59.5173313\n        ],\n        \"semantic_type\": \"\",\n        \"description\": \"\"\n      }\n    },\n    {\n      \"column\": \"Band Gap (eV)\",\n      \"properties\": {\n        \"dtype\": \"number\",\n        \"std\": 1.7403393179683857,\n        \"min\": 0.0,\n        \"max\": 4.5424,\n        \"num_unique_values\": 16,\n        \"samples\": [\n          0.0,\n          0.2093999999999996,\n          1.8948\n        ],\n        \"semantic_type\": \"\",\n        \"description\": \"\"\n      }\n    },\n    {\n      \"column\": \"ICSD\",\n      \"properties\": {\n        \"dtype\": \"object\",\n        \"semantic_type\": \"\",\n        \"description\": \"\"\n      }\n    }\n  ]\n}"
            }
          },
          "metadata": {},
          "execution_count": 45
        }
      ]
    },
    {
      "cell_type": "markdown",
      "source": [
        "## Phase diagrams\n",
        "\n",
        "Pymatgen can use data from the Materials Project (also together with your own local calculation results) to construct phase diagrams."
      ],
      "metadata": {
        "id": "s62gZjAn0nNc"
      }
    },
    {
      "cell_type": "code",
      "source": [
        "from pymatgen.analysis.phase_diagram import PhaseDiagram, PDPlotter\n",
        "\n",
        "with MPRester(USER_API_KEY) as m:\n",
        "    mp_entries = m.get_entries_in_chemsys([\"Cu\", \"Au\"], inc_structure=True)"
      ],
      "metadata": {
        "id": "SdjU6JKJ0jvO",
        "outputId": "8690ad42-f15b-4f09-cb32-b27442bd396c",
        "colab": {
          "base_uri": "https://localhost:8080/"
        }
      },
      "execution_count": 47,
      "outputs": [
        {
          "output_type": "stream",
          "name": "stderr",
          "text": [
            "/usr/local/lib/python3.10/dist-packages/pymatgen/ext/matproj_legacy.py:166: UserWarning: You are using the legacy MPRester. This version of the MPRester will no longer be updated. To access the latest data with the new MPRester, obtain a new API key from https://materialsproject.org/api and consult the docs at https://docs.materialsproject.org/ for more information.\n",
            "  warnings.warn(\n"
          ]
        }
      ]
    },
    {
      "cell_type": "code",
      "source": [
        "pd = PhaseDiagram(mp_entries)\n",
        "# set of stable structures\n",
        "stable = pd.stable_entries\n",
        "# let's take a look at one stable structure\n",
        "entry = list(stable)[0]\n",
        "print(entry.structure)"
      ],
      "metadata": {
        "id": "tn6Dq1X70uE3",
        "outputId": "0c4a21ca-0b4b-4f57-e9dc-693c69fcfa9c",
        "colab": {
          "base_uri": "https://localhost:8080/"
        }
      },
      "execution_count": 48,
      "outputs": [
        {
          "output_type": "stream",
          "name": "stdout",
          "text": [
            "Full Formula (Cu1 Au1)\n",
            "Reduced Formula: CuAu\n",
            "abc   :   2.864168   2.864168   3.661910\n",
            "angles:  90.000000  90.000000  90.000000\n",
            "pbc   :       True       True       True\n",
            "Sites (2)\n",
            "  #  SP      a    b    c    magmom\n",
            "---  ----  ---  ---  ---  --------\n",
            "  0  Cu    0.5  0.5  0.5        -0\n",
            "  1  Au    0    0    0          -0\n"
          ]
        }
      ]
    },
    {
      "cell_type": "markdown",
      "source": [
        "Pymatgen provides a simple plotting class for the visualization of phase diagrams.  It does not necessarily create publication-quality plots, but is good enough for a quick check."
      ],
      "metadata": {
        "id": "IB_FDFhd04hZ"
      }
    },
    {
      "cell_type": "code",
      "source": [
        "%matplotlib inline\n",
        "plotter = PDPlotter(pd)\n",
        "plotter.show()"
      ],
      "metadata": {
        "id": "XRw2dq6c0wts",
        "outputId": "04b9b108-c008-496e-c361-e700f5874042",
        "colab": {
          "base_uri": "https://localhost:8080/",
          "height": 542
        }
      },
      "execution_count": 49,
      "outputs": [
        {
          "output_type": "display_data",
          "data": {
            "text/html": [
              "<html>\n",
              "<head><meta charset=\"utf-8\" /></head>\n",
              "<body>\n",
              "    <div>            <script src=\"https://cdnjs.cloudflare.com/ajax/libs/mathjax/2.7.5/MathJax.js?config=TeX-AMS-MML_SVG\"></script><script type=\"text/javascript\">if (window.MathJax && window.MathJax.Hub && window.MathJax.Hub.Config) {window.MathJax.Hub.Config({SVG: {font: \"STIX-Web\"}});}</script>                <script type=\"text/javascript\">window.PlotlyConfig = {MathJaxConfig: 'local'};</script>\n",
              "        <script charset=\"utf-8\" src=\"https://cdn.plot.ly/plotly-2.24.1.min.js\"></script>                <div id=\"d13d7f35-8b70-40a4-b673-48680c675565\" class=\"plotly-graph-div\" style=\"height:525px; width:100%;\"></div>            <script type=\"text/javascript\">                                    window.PLOTLYENV=window.PLOTLYENV || {};                                    if (document.getElementById(\"d13d7f35-8b70-40a4-b673-48680c675565\")) {                    Plotly.newPlot(                        \"d13d7f35-8b70-40a4-b673-48680c675565\",                        [{\"hoverinfo\":\"none\",\"line\":{\"color\":\"black\",\"width\":4.0},\"mode\":\"lines\",\"showlegend\":false,\"x\":[0.25,0.0,null,0.5,1.0,null,0.5,0.25,null],\"y\":[-0.036223427500000405,0.0,null,-0.04800011999999976,0.0,null,-0.04800011999999976,-0.036223427500000405,null],\"type\":\"scatter\"},{\"hoverinfo\":\"skip\",\"mode\":\"text\",\"name\":\"Labels (stable)\",\"opacity\":1.0,\"showlegend\":true,\"text\":[\"Cu\\u003csub\\u003e3\\u003c\\u002fsub\\u003eAu\",\"CuAu\"],\"textposition\":[\"bottom left\",\"bottom right\"],\"visible\":true,\"x\":[0.242,0.508],\"y\":[-0.0492234275000004,-0.061000119999999755],\"type\":\"scatter\"},{\"error_y\":{\"array\":[0,0,0,0],\"color\":\"gray\",\"thickness\":2.5,\"type\":\"data\",\"width\":5},\"hoverinfo\":\"text\",\"hoverlabel\":{\"font\":{\"size\":14}},\"hovertext\":[\"Cu\\u003csub\\u003e3\\u003c\\u002fsub\\u003eAu (mp-2258) \\u003cbr\\u003e -0.036 eV\\u002fatom (Stable)\",\"Cu (mp-30) \\u003cbr\\u003e 0.0 eV\\u002fatom (Stable)\",\"CuAu (mp-522) \\u003cbr\\u003e -0.048 eV\\u002fatom (Stable)\",\"Au (mp-81) \\u003cbr\\u003e 0.0 eV\\u002fatom (Stable)\"],\"marker\":{\"color\":\"darkgreen\",\"line\":{\"color\":\"black\",\"width\":2},\"size\":16},\"mode\":\"markers\",\"name\":\"Stable\",\"opacity\":0.99,\"showlegend\":true,\"x\":[0.25,0.0,0.5,1.0],\"y\":[-0.036223427500000405,0.0,-0.04800011999999976,0.0],\"type\":\"scatter\"},{\"hoverinfo\":\"text\",\"hoverlabel\":{\"font\":{\"size\":14}},\"hovertext\":[\"Au (mp-1008634) \\u003cbr\\u003e 0.005 eV\\u002fatom (+0.005 eV\\u002fatom)\",\"Cu (mp-1010136) \\u003cbr\\u003e 0.036 eV\\u002fatom (+0.036 eV\\u002fatom)\",\"Cu (mp-989782) \\u003cbr\\u003e 0.008 eV\\u002fatom (+0.008 eV\\u002fatom)\",\"Cu (mp-1059259) \\u003cbr\\u003e 0.144 eV\\u002fatom (+0.144 eV\\u002fatom)\",\"Cu (mp-998890) \\u003cbr\\u003e 0.037 eV\\u002fatom (+0.037 eV\\u002fatom)\",\"Cu (mp-989695) \\u003cbr\\u003e 0.006 eV\\u002fatom (+0.006 eV\\u002fatom)\",\"Cu (mp-1120774) \\u003cbr\\u003e 0.158 eV\\u002fatom (+0.158 eV\\u002fatom)\",\"CuAu (mp-582681) \\u003cbr\\u003e -0.038 eV\\u002fatom (+0.01 eV\\u002fatom)\",\"CuAu (mp-1225677) \\u003cbr\\u003e 0.024 eV\\u002fatom (+0.072 eV\\u002fatom)\",\"CuAu\\u003csub\\u003e3\\u003c\\u002fsub\\u003e (mp-2103) \\u003cbr\\u003e -0.017 eV\\u002fatom (+0.007 eV\\u002fatom)\",\"CuAu\\u003csub\\u003e3\\u003c\\u002fsub\\u003e (mp-1184018) \\u003cbr\\u003e -0.012 eV\\u002fatom (+0.012 eV\\u002fatom)\",\"CuAu\\u003csub\\u003e3\\u003c\\u002fsub\\u003e (mp-1184004) \\u003cbr\\u003e -0.008 eV\\u002fatom (+0.016 eV\\u002fatom)\",\"CuAu\\u003csub\\u003e4\\u003c\\u002fsub\\u003e (mp-1225742) \\u003cbr\\u003e 0.013 eV\\u002fatom (+0.033 eV\\u002fatom)\",\"Cu\\u003csub\\u003e4\\u003c\\u002fsub\\u003eAu (mp-1225761) \\u003cbr\\u003e 0.065 eV\\u002fatom (+0.094 eV\\u002fatom)\"],\"marker\":{\"color\":[0.005,0.036,0.008,0.144,0.037,0.006,0.158,0.01,0.072,0.007,0.012,0.016,0.033,0.094],\"colorscale\":[[0.0,\"#fff5e3\"],[0.5,\"#f24324\"],[1.0,\"#c40000\"]],\"line\":{\"color\":\"black\",\"width\":1},\"opacity\":0.8,\"size\":7,\"symbol\":\"diamond\"},\"mode\":\"markers\",\"name\":\"Above Hull\",\"showlegend\":true,\"x\":[1.0,0.0,0.0,0.0,0.0,0.0,0.0,0.5,0.5,0.75,0.75,0.75,0.8,0.2],\"y\":[0.005307830000000013,0.03637878999999966,0.007702955000000067,0.14412787000000016,0.0370346399999999,0.0057660850000003094,0.15775761999999993,-0.03787861899999996,0.02404122000000042,-0.017447599999999674,-0.012298159999999392,-0.008161527499999544,0.01334215799999967,0.06480295400000032],\"type\":\"scatter\"}],                        {\"annotations\":[{\"align\":\"center\",\"font\":{\"color\":\"#000000\",\"size\":24.0},\"opacity\":1.0,\"showarrow\":false,\"text\":\"Cu\",\"x\":-0.03,\"xref\":\"x\",\"y\":-0.03,\"yref\":\"y\"},{\"align\":\"center\",\"font\":{\"color\":\"#000000\",\"size\":24.0},\"opacity\":1.0,\"showarrow\":false,\"text\":\"Au\",\"x\":1.03,\"xref\":\"x\",\"y\":-0.03,\"yref\":\"y\"}],\"autosize\":true,\"hovermode\":\"closest\",\"legend\":{\"orientation\":\"h\",\"tracegroupgap\":7,\"traceorder\":\"reversed\",\"x\":0,\"xanchor\":\"left\",\"y\":1.05},\"margin\":{\"b\":10,\"l\":10,\"pad\":0,\"r\":10,\"t\":0},\"paper_bgcolor\":\"rgba(0,0,0,0)\",\"plot_bgcolor\":\"rgba(0,0,0,0)\",\"showlegend\":true,\"xaxis\":{\"anchor\":\"y\",\"gridcolor\":\"rgba(0,0,0,0.1)\",\"mirror\":\"ticks\",\"nticks\":8,\"showgrid\":true,\"showline\":true,\"side\":\"bottom\",\"tickfont\":{\"size\":16.0},\"ticks\":\"inside\",\"title\":{\"text\":\"Composition (Fraction Au)\",\"font\":{\"color\":\"#000000\",\"size\":20.0}},\"type\":\"linear\",\"zeroline\":false},\"yaxis\":{\"anchor\":\"x\",\"gridcolor\":\"rgba(0,0,0,0.1)\",\"mirror\":\"ticks\",\"showgrid\":true,\"showline\":true,\"side\":\"left\",\"tickfont\":{\"size\":16.0},\"ticks\":\"inside\",\"title\":{\"text\":\"Formation energy (eV\\u002fatom)\",\"font\":{\"color\":\"#000000\",\"size\":20.0}},\"type\":\"linear\"},\"template\":{\"data\":{\"histogram2dcontour\":[{\"type\":\"histogram2dcontour\",\"colorbar\":{\"outlinewidth\":0,\"ticks\":\"\"},\"colorscale\":[[0.0,\"#0d0887\"],[0.1111111111111111,\"#46039f\"],[0.2222222222222222,\"#7201a8\"],[0.3333333333333333,\"#9c179e\"],[0.4444444444444444,\"#bd3786\"],[0.5555555555555556,\"#d8576b\"],[0.6666666666666666,\"#ed7953\"],[0.7777777777777778,\"#fb9f3a\"],[0.8888888888888888,\"#fdca26\"],[1.0,\"#f0f921\"]]}],\"choropleth\":[{\"type\":\"choropleth\",\"colorbar\":{\"outlinewidth\":0,\"ticks\":\"\"}}],\"histogram2d\":[{\"type\":\"histogram2d\",\"colorbar\":{\"outlinewidth\":0,\"ticks\":\"\"},\"colorscale\":[[0.0,\"#0d0887\"],[0.1111111111111111,\"#46039f\"],[0.2222222222222222,\"#7201a8\"],[0.3333333333333333,\"#9c179e\"],[0.4444444444444444,\"#bd3786\"],[0.5555555555555556,\"#d8576b\"],[0.6666666666666666,\"#ed7953\"],[0.7777777777777778,\"#fb9f3a\"],[0.8888888888888888,\"#fdca26\"],[1.0,\"#f0f921\"]]}],\"heatmap\":[{\"type\":\"heatmap\",\"colorbar\":{\"outlinewidth\":0,\"ticks\":\"\"},\"colorscale\":[[0.0,\"#0d0887\"],[0.1111111111111111,\"#46039f\"],[0.2222222222222222,\"#7201a8\"],[0.3333333333333333,\"#9c179e\"],[0.4444444444444444,\"#bd3786\"],[0.5555555555555556,\"#d8576b\"],[0.6666666666666666,\"#ed7953\"],[0.7777777777777778,\"#fb9f3a\"],[0.8888888888888888,\"#fdca26\"],[1.0,\"#f0f921\"]]}],\"heatmapgl\":[{\"type\":\"heatmapgl\",\"colorbar\":{\"outlinewidth\":0,\"ticks\":\"\"},\"colorscale\":[[0.0,\"#0d0887\"],[0.1111111111111111,\"#46039f\"],[0.2222222222222222,\"#7201a8\"],[0.3333333333333333,\"#9c179e\"],[0.4444444444444444,\"#bd3786\"],[0.5555555555555556,\"#d8576b\"],[0.6666666666666666,\"#ed7953\"],[0.7777777777777778,\"#fb9f3a\"],[0.8888888888888888,\"#fdca26\"],[1.0,\"#f0f921\"]]}],\"contourcarpet\":[{\"type\":\"contourcarpet\",\"colorbar\":{\"outlinewidth\":0,\"ticks\":\"\"}}],\"contour\":[{\"type\":\"contour\",\"colorbar\":{\"outlinewidth\":0,\"ticks\":\"\"},\"colorscale\":[[0.0,\"#0d0887\"],[0.1111111111111111,\"#46039f\"],[0.2222222222222222,\"#7201a8\"],[0.3333333333333333,\"#9c179e\"],[0.4444444444444444,\"#bd3786\"],[0.5555555555555556,\"#d8576b\"],[0.6666666666666666,\"#ed7953\"],[0.7777777777777778,\"#fb9f3a\"],[0.8888888888888888,\"#fdca26\"],[1.0,\"#f0f921\"]]}],\"surface\":[{\"type\":\"surface\",\"colorbar\":{\"outlinewidth\":0,\"ticks\":\"\"},\"colorscale\":[[0.0,\"#0d0887\"],[0.1111111111111111,\"#46039f\"],[0.2222222222222222,\"#7201a8\"],[0.3333333333333333,\"#9c179e\"],[0.4444444444444444,\"#bd3786\"],[0.5555555555555556,\"#d8576b\"],[0.6666666666666666,\"#ed7953\"],[0.7777777777777778,\"#fb9f3a\"],[0.8888888888888888,\"#fdca26\"],[1.0,\"#f0f921\"]]}],\"mesh3d\":[{\"type\":\"mesh3d\",\"colorbar\":{\"outlinewidth\":0,\"ticks\":\"\"}}],\"scatter\":[{\"fillpattern\":{\"fillmode\":\"overlay\",\"size\":10,\"solidity\":0.2},\"type\":\"scatter\"}],\"parcoords\":[{\"type\":\"parcoords\",\"line\":{\"colorbar\":{\"outlinewidth\":0,\"ticks\":\"\"}}}],\"scatterpolargl\":[{\"type\":\"scatterpolargl\",\"marker\":{\"colorbar\":{\"outlinewidth\":0,\"ticks\":\"\"}}}],\"bar\":[{\"error_x\":{\"color\":\"#2a3f5f\"},\"error_y\":{\"color\":\"#2a3f5f\"},\"marker\":{\"line\":{\"color\":\"#E5ECF6\",\"width\":0.5},\"pattern\":{\"fillmode\":\"overlay\",\"size\":10,\"solidity\":0.2}},\"type\":\"bar\"}],\"scattergeo\":[{\"type\":\"scattergeo\",\"marker\":{\"colorbar\":{\"outlinewidth\":0,\"ticks\":\"\"}}}],\"scatterpolar\":[{\"type\":\"scatterpolar\",\"marker\":{\"colorbar\":{\"outlinewidth\":0,\"ticks\":\"\"}}}],\"histogram\":[{\"marker\":{\"pattern\":{\"fillmode\":\"overlay\",\"size\":10,\"solidity\":0.2}},\"type\":\"histogram\"}],\"scattergl\":[{\"type\":\"scattergl\",\"marker\":{\"colorbar\":{\"outlinewidth\":0,\"ticks\":\"\"}}}],\"scatter3d\":[{\"type\":\"scatter3d\",\"line\":{\"colorbar\":{\"outlinewidth\":0,\"ticks\":\"\"}},\"marker\":{\"colorbar\":{\"outlinewidth\":0,\"ticks\":\"\"}}}],\"scattermapbox\":[{\"type\":\"scattermapbox\",\"marker\":{\"colorbar\":{\"outlinewidth\":0,\"ticks\":\"\"}}}],\"scatterternary\":[{\"type\":\"scatterternary\",\"marker\":{\"colorbar\":{\"outlinewidth\":0,\"ticks\":\"\"}}}],\"scattercarpet\":[{\"type\":\"scattercarpet\",\"marker\":{\"colorbar\":{\"outlinewidth\":0,\"ticks\":\"\"}}}],\"carpet\":[{\"aaxis\":{\"endlinecolor\":\"#2a3f5f\",\"gridcolor\":\"white\",\"linecolor\":\"white\",\"minorgridcolor\":\"white\",\"startlinecolor\":\"#2a3f5f\"},\"baxis\":{\"endlinecolor\":\"#2a3f5f\",\"gridcolor\":\"white\",\"linecolor\":\"white\",\"minorgridcolor\":\"white\",\"startlinecolor\":\"#2a3f5f\"},\"type\":\"carpet\"}],\"table\":[{\"cells\":{\"fill\":{\"color\":\"#EBF0F8\"},\"line\":{\"color\":\"white\"}},\"header\":{\"fill\":{\"color\":\"#C8D4E3\"},\"line\":{\"color\":\"white\"}},\"type\":\"table\"}],\"barpolar\":[{\"marker\":{\"line\":{\"color\":\"#E5ECF6\",\"width\":0.5},\"pattern\":{\"fillmode\":\"overlay\",\"size\":10,\"solidity\":0.2}},\"type\":\"barpolar\"}],\"pie\":[{\"automargin\":true,\"type\":\"pie\"}]},\"layout\":{\"autotypenumbers\":\"strict\",\"colorway\":[\"#636efa\",\"#EF553B\",\"#00cc96\",\"#ab63fa\",\"#FFA15A\",\"#19d3f3\",\"#FF6692\",\"#B6E880\",\"#FF97FF\",\"#FECB52\"],\"font\":{\"color\":\"#2a3f5f\"},\"hovermode\":\"closest\",\"hoverlabel\":{\"align\":\"left\"},\"paper_bgcolor\":\"white\",\"plot_bgcolor\":\"#E5ECF6\",\"polar\":{\"bgcolor\":\"#E5ECF6\",\"angularaxis\":{\"gridcolor\":\"white\",\"linecolor\":\"white\",\"ticks\":\"\"},\"radialaxis\":{\"gridcolor\":\"white\",\"linecolor\":\"white\",\"ticks\":\"\"}},\"ternary\":{\"bgcolor\":\"#E5ECF6\",\"aaxis\":{\"gridcolor\":\"white\",\"linecolor\":\"white\",\"ticks\":\"\"},\"baxis\":{\"gridcolor\":\"white\",\"linecolor\":\"white\",\"ticks\":\"\"},\"caxis\":{\"gridcolor\":\"white\",\"linecolor\":\"white\",\"ticks\":\"\"}},\"coloraxis\":{\"colorbar\":{\"outlinewidth\":0,\"ticks\":\"\"}},\"colorscale\":{\"sequential\":[[0.0,\"#0d0887\"],[0.1111111111111111,\"#46039f\"],[0.2222222222222222,\"#7201a8\"],[0.3333333333333333,\"#9c179e\"],[0.4444444444444444,\"#bd3786\"],[0.5555555555555556,\"#d8576b\"],[0.6666666666666666,\"#ed7953\"],[0.7777777777777778,\"#fb9f3a\"],[0.8888888888888888,\"#fdca26\"],[1.0,\"#f0f921\"]],\"sequentialminus\":[[0.0,\"#0d0887\"],[0.1111111111111111,\"#46039f\"],[0.2222222222222222,\"#7201a8\"],[0.3333333333333333,\"#9c179e\"],[0.4444444444444444,\"#bd3786\"],[0.5555555555555556,\"#d8576b\"],[0.6666666666666666,\"#ed7953\"],[0.7777777777777778,\"#fb9f3a\"],[0.8888888888888888,\"#fdca26\"],[1.0,\"#f0f921\"]],\"diverging\":[[0,\"#8e0152\"],[0.1,\"#c51b7d\"],[0.2,\"#de77ae\"],[0.3,\"#f1b6da\"],[0.4,\"#fde0ef\"],[0.5,\"#f7f7f7\"],[0.6,\"#e6f5d0\"],[0.7,\"#b8e186\"],[0.8,\"#7fbc41\"],[0.9,\"#4d9221\"],[1,\"#276419\"]]},\"xaxis\":{\"gridcolor\":\"white\",\"linecolor\":\"white\",\"ticks\":\"\",\"title\":{\"standoff\":15},\"zerolinecolor\":\"white\",\"automargin\":true,\"zerolinewidth\":2},\"yaxis\":{\"gridcolor\":\"white\",\"linecolor\":\"white\",\"ticks\":\"\",\"title\":{\"standoff\":15},\"zerolinecolor\":\"white\",\"automargin\":true,\"zerolinewidth\":2},\"scene\":{\"xaxis\":{\"backgroundcolor\":\"#E5ECF6\",\"gridcolor\":\"white\",\"linecolor\":\"white\",\"showbackground\":true,\"ticks\":\"\",\"zerolinecolor\":\"white\",\"gridwidth\":2},\"yaxis\":{\"backgroundcolor\":\"#E5ECF6\",\"gridcolor\":\"white\",\"linecolor\":\"white\",\"showbackground\":true,\"ticks\":\"\",\"zerolinecolor\":\"white\",\"gridwidth\":2},\"zaxis\":{\"backgroundcolor\":\"#E5ECF6\",\"gridcolor\":\"white\",\"linecolor\":\"white\",\"showbackground\":true,\"ticks\":\"\",\"zerolinecolor\":\"white\",\"gridwidth\":2}},\"shapedefaults\":{\"line\":{\"color\":\"#2a3f5f\"}},\"annotationdefaults\":{\"arrowcolor\":\"#2a3f5f\",\"arrowhead\":0,\"arrowwidth\":1},\"geo\":{\"bgcolor\":\"white\",\"landcolor\":\"#E5ECF6\",\"subunitcolor\":\"white\",\"showland\":true,\"showlakes\":true,\"lakecolor\":\"white\"},\"title\":{\"x\":0.05},\"mapbox\":{\"style\":\"light\"}}},\"coloraxis\":{\"colorbar\":{\"yanchor\":\"top\",\"y\":0.05,\"x\":1}}},                        {\"responsive\": true}                    ).then(function(){\n",
              "                            \n",
              "var gd = document.getElementById('d13d7f35-8b70-40a4-b673-48680c675565');\n",
              "var x = new MutationObserver(function (mutations, observer) {{\n",
              "        var display = window.getComputedStyle(gd).display;\n",
              "        if (!display || display === 'none') {{\n",
              "            console.log([gd, 'removed!']);\n",
              "            Plotly.purge(gd);\n",
              "            observer.disconnect();\n",
              "        }}\n",
              "}});\n",
              "\n",
              "// Listen for the removal of the full notebook cells\n",
              "var notebookContainer = gd.closest('#notebook-container');\n",
              "if (notebookContainer) {{\n",
              "    x.observe(notebookContainer, {childList: true});\n",
              "}}\n",
              "\n",
              "// Listen for the clearing of the current output cell\n",
              "var outputEl = gd.closest('.output');\n",
              "if (outputEl) {{\n",
              "    x.observe(outputEl, {childList: true});\n",
              "}}\n",
              "\n",
              "                        })                };                            </script>        </div>\n",
              "</body>\n",
              "</html>"
            ]
          },
          "metadata": {}
        }
      ]
    },
    {
      "cell_type": "markdown",
      "source": [
        "## Problem 3\n",
        "\n",
        "Search the Materials Project database for all stable quaternary compounds containing Li, Fe, P, and O.  Plot the *quaternary* phase diagram, and compile a table with the stable compositions."
      ],
      "metadata": {
        "id": "sBWTR3x61Bfk"
      }
    },
    {
      "cell_type": "code",
      "source": [],
      "metadata": {
        "id": "40TP1bk108jr"
      },
      "execution_count": null,
      "outputs": []
    },
    {
      "cell_type": "markdown",
      "source": [
        "### Solution"
      ],
      "metadata": {
        "id": "iAipEw-n9Lm3"
      }
    },
    {
      "cell_type": "code",
      "source": [
        "from pymatgen.analysis.phase_diagram import PhaseDiagram, PDPlotter\n",
        "\n",
        "with MPRester(USER_API_KEY) as m:\n",
        "    mp_entries = m.get_entries_in_chemsys([\"Li\", \"Fe\", \"P\", \"O\"], inc_structure=True)\n",
        "\n",
        "pd = PhaseDiagram(mp_entries)\n",
        "\n",
        "plotter = PDPlotter(pd)\n",
        "plotter.show()"
      ],
      "metadata": {
        "id": "R-4iac1S9NYF"
      },
      "execution_count": null,
      "outputs": []
    },
    {
      "cell_type": "code",
      "source": [
        "import pandas\n",
        "\n",
        "data = {\"Composition\": [], \"Energy (eV)\": [], \"ID\": []}\n",
        "for entry in pd.stable_entries:\n",
        "    data[\"Composition\"].append(entry.structure.formula)\n",
        "    data[\"Energy (eV)\"].append(entry.energy)\n",
        "    data[\"ID\"].append(entry.entry_id)\n",
        "df = pandas.DataFrame(data)\n",
        "df"
      ],
      "metadata": {
        "id": "q5xdCxdY9caN"
      },
      "execution_count": null,
      "outputs": []
    },
    {
      "cell_type": "code",
      "source": [
        "entry = list(pd.stable_entries)[0]\n",
        "entry.entry_id"
      ],
      "metadata": {
        "id": "CesN6eae_blc"
      },
      "execution_count": null,
      "outputs": []
    }
  ]
}