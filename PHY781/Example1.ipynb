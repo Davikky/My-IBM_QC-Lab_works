{
 "cells": [
  {
   "cell_type": "code",
   "execution_count": 1,
   "id": "171d343c-e350-465c-beb6-dc95e74adecf",
   "metadata": {},
   "outputs": [
    {
     "data": {
      "text/plain": [
       "2"
      ]
     },
     "execution_count": 1,
     "metadata": {},
     "output_type": "execute_result"
    }
   ],
   "source": [
    "1+1"
   ]
  },
  {
   "cell_type": "code",
   "execution_count": 2,
   "id": "f7032678-0566-4e17-bc91-d9991bc21287",
   "metadata": {},
   "outputs": [
    {
     "name": "stdout",
     "output_type": "stream",
     "text": [
      "Hello World\n"
     ]
    }
   ],
   "source": [
    "print(\"Hello World\")"
   ]
  },
  {
   "cell_type": "markdown",
   "id": "ad15c27e-9886-4efd-b924-8096ee1214a8",
   "metadata": {},
   "source": [
    "# Introduction to Data visualization using MatPlotLib"
   ]
  },
  {
   "cell_type": "code",
   "execution_count": 3,
   "id": "e4f38a87-ce19-4af5-9f4e-255b7413cb2c",
   "metadata": {},
   "outputs": [],
   "source": [
    "# import necessary libraries\n",
    "import matplotlib.pyplot as plt\n",
    "%matplotlib tk"
   ]
  },
  {
   "cell_type": "markdown",
   "id": "96762bd4-1240-4026-81f5-19c095cdbda7",
   "metadata": {},
   "source": [
    "### Understanding arrays"
   ]
  },
  {
   "cell_type": "code",
   "execution_count": 4,
   "id": "d7a46f6a-6ff8-4969-8504-5fff4ea8ed08",
   "metadata": {},
   "outputs": [],
   "source": [
    "# define datapoints\n",
    "x=[0.0, 1.0, 2.0, 3.0, 4.0]\n",
    "f=[1.0, 3.0, 4.0, 2.0, 5.5]\n"
   ]
  },
  {
   "cell_type": "code",
   "execution_count": 5,
   "id": "444e2a76-6a54-49ba-8b56-77f4df713afa",
   "metadata": {},
   "outputs": [
    {
     "name": "stdout",
     "output_type": "stream",
     "text": [
      "There are 5 items in array x and 5 items in array f\n"
     ]
    }
   ],
   "source": [
    "# determine number of items in each array\n",
    "x_len=len(x)\n",
    "f_len=len(f)\n",
    "\n",
    "print(f\"There are {x_len} items in array x and {f_len} items in array f\")"
   ]
  },
  {
   "cell_type": "code",
   "execution_count": 6,
   "id": "b0d2c733-8324-4a90-8015-5df6a65a37b9",
   "metadata": {},
   "outputs": [
    {
     "data": {
      "text/plain": [
       "1.0"
      ]
     },
     "execution_count": 6,
     "metadata": {},
     "output_type": "execute_result"
    }
   ],
   "source": [
    "# select item in position # in the array\n",
    "x[1] #this selects the second item in the array x"
   ]
  },
  {
   "cell_type": "code",
   "execution_count": 8,
   "id": "30c45690-61bb-432a-beb8-737d1c06f1cd",
   "metadata": {},
   "outputs": [
    {
     "data": {
      "text/plain": [
       "4.0"
      ]
     },
     "execution_count": 8,
     "metadata": {},
     "output_type": "execute_result"
    }
   ],
   "source": [
    "f[2] #this selects the third item in array f"
   ]
  },
  {
   "cell_type": "markdown",
   "id": "fda3549a-6ff3-40f8-9300-eca19d7596e4",
   "metadata": {},
   "source": [
    "### Plotting data using matplotlib"
   ]
  },
  {
   "cell_type": "code",
   "execution_count": 12,
   "id": "0e9fb7d2-dca2-471b-a51c-6722b1c7327b",
   "metadata": {},
   "outputs": [],
   "source": [
    "plt.plot(x,f, marker=\"o\") #this shows line graph\n",
    "plt.grid() #this adds gridline"
   ]
  },
  {
   "cell_type": "code",
   "execution_count": null,
   "id": "704ed83b-93c8-488d-8915-8d0914eaceab",
   "metadata": {},
   "outputs": [],
   "source": [
    "plt.scatter(x,f, marker=\"o\")\n",
    "plt.grid()"
   ]
  },
  {
   "cell_type": "markdown",
   "id": "7834b604-3d19-4e11-a90c-3c0a95312c86",
   "metadata": {},
   "source": [
    "### Adding labels to plots"
   ]
  },
  {
   "cell_type": "code",
   "execution_count": 13,
   "id": "b6056ad5-1f36-440b-bad7-e83060f914de",
   "metadata": {},
   "outputs": [],
   "source": [
    "plt.plot(x,f, marker=\"o\") #this shows line graph\n",
    "plt.xlabel(\"x values\")\n",
    "plt.ylabel(\"f values\")\n",
    "plt.title(\"Interpolation Example 1\")\n",
    "plt.grid() #this adds gridline"
   ]
  },
  {
   "cell_type": "code",
   "execution_count": null,
   "id": "f67817ba-7020-4146-9c40-008eea397141",
   "metadata": {},
   "outputs": [],
   "source": []
  }
 ],
 "metadata": {
  "kernelspec": {
   "display_name": "Python 3 (ipykernel)",
   "language": "python",
   "name": "python3"
  },
  "language_info": {
   "codemirror_mode": {
    "name": "ipython",
    "version": 3
   },
   "file_extension": ".py",
   "mimetype": "text/x-python",
   "name": "python",
   "nbconvert_exporter": "python",
   "pygments_lexer": "ipython3",
   "version": "3.12.4"
  }
 },
 "nbformat": 4,
 "nbformat_minor": 5
}
