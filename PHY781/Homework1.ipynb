{
 "cells": [
  {
   "cell_type": "markdown",
   "id": "10236a65-89d1-4d13-a506-c7a10e5e046c",
   "metadata": {},
   "source": [
    "# INTERPOLATION ASSIGNMENT (Homework 1) SOLUTION\n",
    "\n",
    "***PHY781: Numerical and Computational Methods,***  \n",
    "**Department of Physics,**  \n",
    "**University of Ibadan**"
   ]
  },
  {
   "cell_type": "markdown",
   "id": "2a6ac574-897d-4530-a4bd-0efc2c1584fa",
   "metadata": {},
   "source": [
    "**Submission Due Date: July 15, 2024**  \n",
    "*Submission by: Victor A. Adeyemi*"
   ]
  },
  {
   "cell_type": "markdown",
   "id": "144dc722-c178-4cf4-b240-43342602ec1a",
   "metadata": {},
   "source": [
    "## Homework 1"
   ]
  },
  {
   "cell_type": "markdown",
   "id": "91145d36-ea90-4d63-be11-490a898edfb1",
   "metadata": {
    "jp-MarkdownHeadingCollapsed": true
   },
   "source": [
    "Collect monthly highest and lowest average temperatures for one of these cities: Ibadan, Lagos, Abuja, Accra, Yaounde.  \n",
    "For your chosen city,  \n",
    "\n",
    "> a) Using linear interpolation, determine  \n",
    "    I. the highest temperature on your birth date and estimate the accuracy of your result for 2023  \n",
    "    II. the lowest temperature on your birth date and estimate the accuracy of your result for 2023\n",
    "\n",
    "> b) Write a Python code that performs Lagrangian Interpolation and use this code to repeat \n",
    "question (a) above\n",
    "\n",
    "> c) Write a Python code that performs a polynomial approximation and use it to determine the \n",
    "date when the average temperature wa\n",
    "    I. Highest in 2023\n",
    "    II. Lowest in 2023\n",
    "\n",
    "> d) Plot the data points alongside your polynomial approximation in (c) above\n",
    "\n",
    "> e) Represent the data using linear combinations of sine/cosine. Determine the appropriate \n",
    "coefficients using a least square fitting approachs."
   ]
  },
  {
   "cell_type": "markdown",
   "id": "f3b49788-1a22-4a4a-817e-df7b62ac25b0",
   "metadata": {},
   "source": [
    "## Data Collection\n",
    "\n",
    "***[Climate Data](https://en.tutiempo.net/climate/01-2023/ws-652010.html)*** was collected for Lagos/Ikeja 2023  \n",
    "Latitude: 6.58 | Longitude: 3.33 | Altitude: 40\n"
   ]
  },
  {
   "cell_type": "raw",
   "id": "2bf09477-6e3c-4e56-bda1-d2a1dac6d7b4",
   "metadata": {},
   "source": [
    "# datasets from collected data\n",
    "months = [\"January\",\"February\",\"March\",\"April\",\"May\",\"June\",\"July\",\"August\",\"September\",\"October\",\"November\",\"December\"]\n",
    "x_mon=[1,2,3,4,5,6,7,8,9,10,11,12]\n",
    "TM_ave = [29.5,32.2,29.7,29.8,30.1,28.8,27.7,27.4,28.2,29.4,31.5,30.3] #monthly highest average temperatures ⁰C for 2023\n",
    "Tm_ave = [27,28.4,27.1,26.1,25.8,25.2,24.3,25.4,24.5,25.1,24.6,27.1] #monthly lowest average temperatures in ⁰C for 2023"
   ]
  },
  {
   "cell_type": "markdown",
   "id": "00b8a8c0-cdc8-4135-aa8c-243658896100",
   "metadata": {},
   "source": [
    "**Note:**  \n",
    "- *Average temperature on September 5, 2023 was 26.2 $^0$C*\n",
    "- *Highest temperature on September 5, 2023 was 28 $^0$C*\n",
    "- *Lowest temperature on September 5, 2023 was 23.8 $^0$C*"
   ]
  },
  {
   "cell_type": "markdown",
   "id": "117d69e8-94f7-49d7-82b4-0a8e43de417e",
   "metadata": {},
   "source": [
    "## Lagrange Interpolation Implementation"
   ]
  },
  {
   "cell_type": "markdown",
   "id": "cb110ae9-366d-497d-81c8-bfa83cc301c6",
   "metadata": {},
   "source": [
    "Here, the task is to implement the Lagrange interpolation function, $f(x_n)$ at $x_n$ given by:\n",
    "\n",
    "$$f(x_n) = \\sum_{i=1}^{N}f_i\\lambda_i(x_n)$$\n",
    "\n",
    "*where*\n",
    "\n",
    "$$\\lambda_i(x_n) = \\prod_{{j=1},{j \\neq i}}^N \\frac{(x_n-x_j)}{(x_i-x_j)}$$\n",
    "\n",
    "**so that,**\n",
    "\n",
    "$$f(x_n)=\\sum_{i=1}^{N}f_i\\left[\\prod_{{j=1},{j \\neq i}}^N \\frac{(x_n-x_j)}{(x_i-x_j)}\\right]$$"
   ]
  },
  {
   "cell_type": "code",
   "execution_count": 1,
   "id": "3fdf2b6b-1bcb-4969-946e-442a5f679cb9",
   "metadata": {},
   "outputs": [],
   "source": [
    "# define function to implement the lagrange formula\n",
    "def lagrange(x, f, x_n):\n",
    "    \"\"\"\n",
    "    Implements lagrange interpolation\n",
    "\n",
    "    Args:\n",
    "        x (list/array): numerical values associated datapoints (months of the year 2023)\n",
    "        f (list/array): values at each datapoint (average temperature values corresponding to each month in ⁰C).\n",
    "        x_n (float): numerical value corresponding to datapoint for interpolation (birth date)\n",
    "\n",
    "    Returns:\n",
    "        y (float): expected value from interpolation (average temperature value for birth date provided)\n",
    "    \"\"\"\n",
    "    y = 0\n",
    "    for i in range(len(x)):\n",
    "        lagr_lambda = 1\n",
    "        for j in range(len(x)):\n",
    "            if i != j: #to avoid trivial or undefined solution\n",
    "                lagr_lambda *= (x_n - x[j]) / (x[i] - x[j])\n",
    "        y += f[i] * lagr_lambda\n",
    "    return y         "
   ]
  },
  {
   "cell_type": "markdown",
   "id": "db828d70-b671-4a53-b9c8-b71e3dbfc72e",
   "metadata": {},
   "source": [
    "### Use class exercise to test lagrange interpolation function"
   ]
  },
  {
   "cell_type": "code",
   "execution_count": 2,
   "id": "4f92e9d8-a729-456c-88e0-267fa5291dc9",
   "metadata": {},
   "outputs": [],
   "source": [
    "# class example dataset to test lagrange implementation\n",
    "x = [0.0, 1.0, 2.0, 3.0, 4.0]\n",
    "f = [1.0, 3.0, 4.0, 2.0, 5.5]"
   ]
  },
  {
   "cell_type": "code",
   "execution_count": 4,
   "id": "5b7f4033-d16e-4c7c-9ed2-567a53f60a59",
   "metadata": {},
   "outputs": [
    {
     "name": "stdout",
     "output_type": "stream",
     "text": [
      "value of function at \u001b[1m2.3\u001b[0m using our implemented lagrange interpolation is \u001b[1m3.53\u001b[0m to 2dp\n",
      "expected value is \u001b[1m3.53\u001b[0m\n",
      "Percentage error is \u001b[1m0.04%\u001b[0m \n",
      "\n",
      "value of function at \u001b[1m2.5\u001b[0m using our implemented lagrange interpolation is \u001b[1m3.09\u001b[0m to 2dp\n",
      "expected value is \u001b[1m3.09\u001b[0m\n",
      "Percentage error is \u001b[1m-0.01%\u001b[0m \n",
      "\n",
      "value of function at \u001b[1m1.0\u001b[0m using our implemented lagrange interpolation is \u001b[1m3.00\u001b[0m to 2dp\n",
      "expected value is \u001b[1m3.0\u001b[0m\n",
      "Percentage error is \u001b[1m0.00%\u001b[0m \n",
      "\n"
     ]
    }
   ],
   "source": [
    "# call function on class example dataset and check interpolation for various values of x_n\n",
    "check = [[2.3, 3.53], [2.5, 3.09], [1.0,3.0]]\n",
    "\n",
    "for x_n, f_class in check:\n",
    "    f_n = lagrange(x, f, x_n)\n",
    "    \n",
    "    percent_error = ((f_n - f_class)/f_class) * 100\n",
    "    \n",
    "    print(f\"value of function at \\033[1m{x_n}\\033[0m using our implemented lagrange interpolation is \\033[1m{f_n:.2f}\\033[0m to 2dp\")\n",
    "    print(f\"expected value is \\033[1m{f_class}\\033[0m\")\n",
    "    print(f\"Percentage error is \\033[1m{percent_error:.2f}%\\033[0m \\n\")"
   ]
  },
  {
   "cell_type": "markdown",
   "id": "d199c89e-3634-4132-841b-fc71103fa64c",
   "metadata": {},
   "source": [
    "**The results above shows that the Lagrange Interpolation function was implemented well relative to values collected from class exercise.**  \n",
    "We shall now proceed to use the implemented function to answer assignment questions"
   ]
  },
  {
   "cell_type": "markdown",
   "id": "a15411c8-4bfa-4b2c-939e-5358b1b62c29",
   "metadata": {},
   "source": [
    "## Solution to question(a)"
   ]
  },
  {
   "cell_type": "markdown",
   "id": "a5644712-aad1-42d6-89f4-3fc292261b69",
   "metadata": {},
   "source": [
    "Linear interpolation of a function $f(x)$ at the point $x$ is given by the relation:\n",
    "\n",
    "$$f(x) = f_m + \\frac{(x-x_m)}{(x_n-x_m)}(f_n - f_m)$$\n",
    "\n",
    "*where*\n",
    "> $[x_m,x_n]$ is a small interval (the smallest interval) which contains $x$ in the given dataset; and $f(x_i) = f_i$"
   ]
  },
  {
   "cell_type": "raw",
   "id": "93d973d0-f28c-4070-86c0-d6675fc846a3",
   "metadata": {},
   "source": [
    "# datasets from collected data\n",
    "months = [\"January\",\"February\",\"March\",\"April\",\"May\",\"June\",\"July\",\"August\",\"September\",\"October\",\"November\",\"December\"]\n",
    "x_mon=[1,2,3,4,5,6,7,8,9,10,11,12]\n",
    "TM_ave = [29.5,32.2,29.7,29.8,30.1,28.8,27.7,27.4,28.2,29.4,31.5,30.3] #monthly highest average temperatures ⁰C for 2023\n",
    "Tm_ave = [27,28.4,27.1,26.1,25.8,25.2,24.3,25.4,24.5,25.1,24.6,27.1] #monthly lowest average temperatures in ⁰C for 2023"
   ]
  },
  {
   "cell_type": "markdown",
   "id": "1ce77b56-7c78-4238-b9fc-ad4c806ade7a",
   "metadata": {},
   "source": [
    "## Solution to question(b)"
   ]
  },
  {
   "cell_type": "code",
   "execution_count": 5,
   "id": "0e01a5a1-eeb1-40af-b89e-e9b9166ed1fc",
   "metadata": {},
   "outputs": [],
   "source": [
    "#collected data set\n",
    "months = [\"January\",\"February\",\"March\",\"April\",\"May\",\"June\",\"July\",\"August\",\"September\",\"October\",\"November\",\"December\"]\n",
    "x_mon=[1,2,3,4,5,6,7,8,9,10,11,12]\n",
    "TM_ave = [29.5,32.2,29.7,29.8,30.1,28.8,27.7,27.4,28.2,29.4,31.5,30.3] #monthly highest average temperatures ⁰C for 2023\n",
    "Tm_ave = [27,28.4,27.1,26.1,25.8,25.2,24.3,25.4,24.5,25.1,24.6,27.1] #monthly lowest average temperatures in ⁰C for 2023"
   ]
  },
  {
   "cell_type": "code",
   "execution_count": 6,
   "id": "612da1c5-0baa-4960-9075-f7a8c3a43c7f",
   "metadata": {},
   "outputs": [
    {
     "name": "stdout",
     "output_type": "stream",
     "text": [
      "Highest temperature on \u001b[1m5th September, 2023\u001b[0m using implemented lagrange interpolation is \u001b[1m28.4⁰C\u001b[0m to 1dp\n",
      "Expected value: \u001b[1m28⁰C\u001b[0m\n",
      "Estimated accuracy: \u001b[1m98.49%\u001b[0m \n",
      "\n",
      "Lowest temperature on \u001b[1m5th September, 2023\u001b[0m using implemented lagrange interpolation is \u001b[1m24.2⁰C\u001b[0m to 1dp\n",
      "Expected value: \u001b[1m23.8⁰C\u001b[0m\n",
      "Estimated accuracy: \u001b[1m98.43%\u001b[0m \n",
      "\n"
     ]
    }
   ],
   "source": [
    "#define birthdate\n",
    "x_birthDate = 9 + (5/30) #for 5th September\n",
    "\n",
    "#define expected result\n",
    "f_TM_expected = 28 #Highest temperature in ⁰C as at birthdate \n",
    "f_Tm_expected = 23.8 #Lowest temperature in ⁰C as at birthdate\n",
    "\n",
    "# call lagrange function for interpolation\n",
    "f_TM = lagrange(x_mon, TM_ave, x_birthDate) #Highest temp on Sept 5th\n",
    "f_Tm = lagrange(x_mon, Tm_ave, x_birthDate) #Lowest temp on Sept 5th\n",
    "\n",
    "# compute estmated accuracy\n",
    "error_TM = ((f_TM - f_TM_expected)/f_TM_expected) * 100 #error rate for highest temp\n",
    "accuracy_TM = 100 - error_TM #estimated accuracy for highest temp\n",
    "\n",
    "error_Tm = ((f_Tm - f_Tm_expected)/f_Tm_expected) * 100 #error rate for lowest temp\n",
    "accuracy_Tm = 100 - error_Tm #estimated accuracy for lowest temp\n",
    "\n",
    "print(f\"Highest temperature on \\033[1m5th September, 2023\\033[0m using implemented lagrange interpolation is \\033[1m{f_TM:.1f}⁰C\\033[0m to 1dp\")\n",
    "print(f\"Expected value: \\033[1m{f_TM_expected}⁰C\\033[0m\")\n",
    "print(f\"Estimated accuracy: \\033[1m{accuracy_TM:.2f}%\\033[0m \\n\")\n",
    "\n",
    "print(f\"Lowest temperature on \\033[1m5th September, 2023\\033[0m using implemented lagrange interpolation is \\033[1m{f_Tm:.1f}⁰C\\033[0m to 1dp\")\n",
    "print(f\"Expected value: \\033[1m{f_Tm_expected}⁰C\\033[0m\")\n",
    "print(f\"Estimated accuracy: \\033[1m{accuracy_Tm:.2f}%\\033[0m \\n\")"
   ]
  },
  {
   "cell_type": "markdown",
   "id": "b3da8a45-3d88-4d8e-83ff-271405d7f98a",
   "metadata": {},
   "source": [
    "## Solution to question(c)"
   ]
  },
  {
   "cell_type": "code",
   "execution_count": null,
   "id": "4c2e1fe0-638f-4a59-ad3f-75b08a64cc75",
   "metadata": {},
   "outputs": [],
   "source": []
  },
  {
   "cell_type": "markdown",
   "id": "1a67059c-3e9c-453c-8334-a1d50946377f",
   "metadata": {},
   "source": [
    "### Contribution"
   ]
  },
  {
   "cell_type": "markdown",
   "id": "22e080dd-c1f3-42d2-96c8-c2b249a086aa",
   "metadata": {
    "jp-MarkdownHeadingCollapsed": true
   },
   "source": [
    "The following colleagues are acknowledged for their useful contributions:\n",
    "- **Michael Adeniji**: Discussion with him helped with accurate data collection  \n",
    "- **Peter Ogundipe**: Discussion with him helped with effective function implementation  \n",
    "\n",
    "Special thanks to **Prof. Janet Ademola** of the Department of Physics. Discussion with her helped with data collection source  "
   ]
  },
  {
   "cell_type": "code",
   "execution_count": null,
   "id": "5519a318-f003-48f5-9b88-bc57dba37889",
   "metadata": {},
   "outputs": [],
   "source": []
  }
 ],
 "metadata": {
  "kernelspec": {
   "display_name": "Python 3 (ipykernel)",
   "language": "python",
   "name": "python3"
  },
  "language_info": {
   "codemirror_mode": {
    "name": "ipython",
    "version": 3
   },
   "file_extension": ".py",
   "mimetype": "text/x-python",
   "name": "python",
   "nbconvert_exporter": "python",
   "pygments_lexer": "ipython3",
   "version": "3.12.4"
  }
 },
 "nbformat": 4,
 "nbformat_minor": 5
}
