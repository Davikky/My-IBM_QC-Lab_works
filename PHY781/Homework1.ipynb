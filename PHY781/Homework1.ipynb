{
 "cells": [
  {
   "cell_type": "markdown",
   "id": "10236a65-89d1-4d13-a506-c7a10e5e046c",
   "metadata": {},
   "source": [
    "# INTERPOLATION ASSIGNMENT (Homework 1) SOLUTION\n",
    "\n",
    "***PHY781: Numerical and Computational Methods,***  \n",
    "**Department of Physics,**  \n",
    "**University of Ibadan**"
   ]
  },
  {
   "cell_type": "markdown",
   "id": "2a6ac574-897d-4530-a4bd-0efc2c1584fa",
   "metadata": {},
   "source": [
    "**Submission Due Date: July 15, 2024**  \n",
    "*Submission by: Victor A. Adeyemi*"
   ]
  },
  {
   "cell_type": "markdown",
   "id": "144dc722-c178-4cf4-b240-43342602ec1a",
   "metadata": {
    "jp-MarkdownHeadingCollapsed": true
   },
   "source": [
    "## Homework 1"
   ]
  },
  {
   "cell_type": "markdown",
   "id": "91145d36-ea90-4d63-be11-490a898edfb1",
   "metadata": {
    "jp-MarkdownHeadingCollapsed": true
   },
   "source": [
    "Collect monthly highest and lowest average temperatures for one of these cities: Ibadan, Lagos, Abuja, Accra, Yaounde.  \n",
    "For your chosen city,  \n",
    "\n",
    "> a) Using linear interpolation, determine  \n",
    "    I. the highest temperature on your birth date and estimate the accuracy of your result for 2023  \n",
    "    II. the lowest temperature on your birth date and estimate the accuracy of your result for 2023\n",
    "\n",
    "> b) Write a Python code that performs Lagrangian Interpolation and use this code to repeat \n",
    "question (a) above\n",
    "\n",
    "> c) Write a Python code that performs a polynomial approximation and use it to determine the \n",
    "date when the average temperature wa\n",
    "    I. Highest in 2023\n",
    "    II. Lowest in 2023\n",
    "\n",
    "> d) Plot the data points alongside your polynomial approximation in (c) above\n",
    "\n",
    "> e) Represent the data using linear combinations of sine/cosine. Determine the appropriate \n",
    "coefficients using a least square fitting approachs."
   ]
  },
  {
   "cell_type": "markdown",
   "id": "f3b49788-1a22-4a4a-817e-df7b62ac25b0",
   "metadata": {},
   "source": [
    "## Data Collection\n",
    "\n",
    "***[Climate Data](https://en.tutiempo.net/climate/01-2023/ws-652010.html)*** was collected for Lagos/Ikeja 2023  \n",
    "Latitude: 6.58 | Longitude: 3.33 | Altitude: 40\n"
   ]
  },
  {
   "cell_type": "raw",
   "id": "2bf09477-6e3c-4e56-bda1-d2a1dac6d7b4",
   "metadata": {},
   "source": [
    "# datasets from collected data\n",
    "months = [\"January\",\"February\",\"March\",\"April\",\"May\",\"June\",\"July\",\"August\",\"September\",\"October\",\"November\",\"December\"]\n",
    "x_mon=[1,2,3,4,5,6,7,8,9,10,11,12]\n",
    "TM_ave = [29.5,32.2,29.7,29.8,30.1,28.8,27.7,27.4,28.2,29.4,31.5,30.3] #monthly highest average temperatures ⁰C for 2023\n",
    "Tm_ave = [27,28.4,27.1,26.1,25.8,25.2,24.3,25.4,24.5,25.1,24.6,27.1] #monthly lowest average temperatures in ⁰C for 2023"
   ]
  },
  {
   "cell_type": "markdown",
   "id": "00b8a8c0-cdc8-4135-aa8c-243658896100",
   "metadata": {},
   "source": [
    "**Note:**  \n",
    "- *Average temperature on September 5, 2023 was 26.2 $^0$C*\n",
    "- *Highest temperature on September 5, 2023 was 28 $^0$C*\n",
    "- *Lowest temperature on September 5, 2023 was 23.8 $^0$C*"
   ]
  },
  {
   "attachments": {},
   "cell_type": "markdown",
   "id": "e566e567-f3c8-451d-bd3c-c6701a8054d3",
   "metadata": {
    "jp-MarkdownHeadingCollapsed": true
   },
   "source": [
    "## Lagrange Interpolation Implementation\n",
    "\n",
    "Here, the task is to implement the Lagrange interpolation function, $f(x_n)$ at $x_n$ given by:\n",
    "\n",
    "$$f(x_n) = \\sum_{i=1}^{N}f_i\\lambda_i(x_n) \\tag{1.1}$$\n",
    "\n",
    "*where*\n",
    "\n",
    "$$\\lambda_i(x_n) = \\prod_{{j=1},{j \\neq i}}^N \\frac{(x_n-x_j)}{(x_i-x_j)} \\tag{1.2}$$\n",
    "\n",
    "**so that,**\n",
    "\n",
    "$$f(x_n)=\\sum_{i=1}^{N}f_i\\left[\\prod_{{j=1},{j \\neq i}}^N \\frac{(x_n-x_j)}{(x_i-x_j)}\\right] \\tag{1.3}$$"
   ]
  },
  {
   "cell_type": "code",
   "execution_count": null,
   "id": "3fdf2b6b-1bcb-4969-946e-442a5f679cb9",
   "metadata": {},
   "outputs": [],
   "source": [
    "# define function to implement the lagrange formula\n",
    "def lagrange(x, f, x_n):\n",
    "    \"\"\"\n",
    "    Implements lagrange interpolation\n",
    "\n",
    "    Args:\n",
    "        x (list/array): numerical values associated datapoints (months of the year 2023)\n",
    "        f (list/array): values at each datapoint (average temperature values corresponding to each month in ⁰C).\n",
    "        x_n (float): numerical value corresponding to datapoint for interpolation (birth date)\n",
    "\n",
    "    Returns:\n",
    "        y (float): expected value from interpolation (average temperature value for birth date provided)\n",
    "    \"\"\"\n",
    "    y = 0\n",
    "    for i in range(len(x)):\n",
    "        lagr_lambda = 1\n",
    "        for j in range(len(x)):\n",
    "            if i != j: #to avoid trivial or undefined solution\n",
    "                lagr_lambda *= (x_n - x[j]) / (x[i] - x[j])\n",
    "        y += f[i] * lagr_lambda\n",
    "    return y         "
   ]
  },
  {
   "cell_type": "markdown",
   "id": "db828d70-b671-4a53-b9c8-b71e3dbfc72e",
   "metadata": {},
   "source": [
    "### Use class exercise to test lagrange interpolation function"
   ]
  },
  {
   "cell_type": "code",
   "execution_count": null,
   "id": "4f92e9d8-a729-456c-88e0-267fa5291dc9",
   "metadata": {},
   "outputs": [],
   "source": [
    "# class example dataset to test lagrange implementation\n",
    "x = [0.0, 1.0, 2.0, 3.0, 4.0]\n",
    "f = [1.0, 3.0, 4.0, 2.0, 5.5]"
   ]
  },
  {
   "cell_type": "code",
   "execution_count": null,
   "id": "5b7f4033-d16e-4c7c-9ed2-567a53f60a59",
   "metadata": {},
   "outputs": [],
   "source": [
    "# call function on class example dataset and check interpolation for various values of x_n\n",
    "check = [[2.3, 3.53], [2.5, 3.09], [1.0,3.0]]\n",
    "\n",
    "for x_n, f_class in check:\n",
    "    f_n = lagrange(x, f, x_n)\n",
    "    \n",
    "    percent_error = ((f_n - f_class)/f_class) * 100\n",
    "    \n",
    "    print(f\"value of function at \\033[1m{x_n}\\033[0m using our implemented lagrange interpolation is \\033[1m{f_n:.2f}\\033[0m to 2dp\")\n",
    "    print(f\"expected value is \\033[1m{f_class}\\033[0m\")\n",
    "    print(f\"Percentage error is \\033[1m{percent_error:.2f}%\\033[0m \\n\")"
   ]
  },
  {
   "cell_type": "markdown",
   "id": "d199c89e-3634-4132-841b-fc71103fa64c",
   "metadata": {},
   "source": [
    "**The results above shows that the Lagrange Interpolation function was implemented well relative to values collected from class exercise.**  \n",
    "We shall now proceed to use the implemented function to answer assignment questions"
   ]
  },
  {
   "attachments": {},
   "cell_type": "markdown",
   "id": "8668a450-9ef4-4129-ae93-acfe73a1ce95",
   "metadata": {
    "jp-MarkdownHeadingCollapsed": true
   },
   "source": [
    "## Solution to question(a)\n",
    "\n",
    "Linear interpolation of a function $f(x)$ at the point $x$ is given by the relation:\n",
    "\n",
    "$$f(x) = f_m + \\frac{(x-x_m)}{(x_n-x_m)}(f_n - f_m) \\tag{1.4}$$\n",
    "\n",
    "*where*\n",
    "> $[x_m,x_n]$ is a small interval (the smallest interval) which contains $x$ in the given dataset; and $f(x_i) = f_i$\n",
    "\n",
    "With the datasets provided above, using **linear interpolation**, we shall proceed to find:\n",
    "1. the *highest* temperature on my birth date (5th September) and estimate the accuracy of your result for 2023\n",
    "2. the *lowest* temperature on my birth date (5th September) and estimate the accuracy of your result for 2023"
   ]
  },
  {
   "cell_type": "markdown",
   "id": "146e964c-5e6f-42fa-9bfc-38a079bc353d",
   "metadata": {
    "jp-MarkdownHeadingCollapsed": true
   },
   "source": [
    "#### 1. highest temperature on my birth date (5th September)"
   ]
  },
  {
   "cell_type": "markdown",
   "id": "9f3d0fcb-c6db-4b03-ac37-56ee52c2e71d",
   "metadata": {
    "jp-MarkdownHeadingCollapsed": true
   },
   "source": [
    "Representing September 5th as $9 + \\frac{5}{30} = 9.167$ to 3dp, we have from `Eq.(1.4)` that $x=9.167$.  \n",
    "Since highest temperature on September 5, 2023 was $28^0C$, we expect to have $f(x) = 28$.  \n",
    "\n",
    "Using the interval $[9,10]$ from the datasets for TM_average (monthly highest average temperatures), we shall have that,  \n",
    "\n",
    "$(x_m,f_m) = (9,28.2)$, and $(x_n,f_n) = (10,29.4)$\n",
    "\n",
    "so that `Eq. (1.4)` becomes:  \n",
    "\n",
    "$$f(x=9.167) = 28.2 + \\frac{(9.167-9)}{(10-9)}(29.4 - 28.2) \\tag{1.5}$$\n",
    "$$= 28.2 + (0.167)(1.2)$$\n",
    "$$= 28.2 + 0.2004$$\n",
    "$$=28.4$$ \n",
    "\n",
    "$i.e. f_{9.167} = 28.4$ for highest temperature.  \n",
    "`Note: expected value is 28`"
   ]
  },
  {
   "cell_type": "markdown",
   "id": "f9d4d275-dd45-4360-b6e5-aaa934413fde",
   "metadata": {},
   "source": [
    "##### Estimating accuracy"
   ]
  },
  {
   "cell_type": "markdown",
   "id": "8d3023e5-2738-4fcb-b016-cacf6e7c22f7",
   "metadata": {},
   "source": [
    "Using the fact that $accuracy = (100 - \\text{Error rate} )\\%$, and\n",
    "$$\\text{Error rate} = \\frac{\\text{calculated value} - \\text{true value}}{\\text{true value}} \\times100\\% \\tag{1.6}$$\n",
    "$$ = \\frac{28.4 - 28}{28} \\times100\\%$$\n",
    "$$ = 1.43\\%$$\n",
    "\n",
    "We have,\n",
    "\n",
    "$$accuracy = (100 - 1.43)\\%$$\n",
    "$$ = 98.57\\% $$"
   ]
  },
  {
   "cell_type": "markdown",
   "id": "532cb0ef-d688-4eb7-97a9-cd867214765d",
   "metadata": {
    "jp-MarkdownHeadingCollapsed": true
   },
   "source": [
    "#### 2. lowest temperature on my birth date (5th September)"
   ]
  },
  {
   "cell_type": "markdown",
   "id": "94d28eb3-343e-4a13-908c-bec94d9c28c8",
   "metadata": {
    "jp-MarkdownHeadingCollapsed": true
   },
   "source": [
    "Representing September 5th as $9 + \\frac{5}{30} = 9.167$ to 3dp, we have from `Eq.(1.4)` that $x=9.167$.  \n",
    "Since lowest temperature on September 5, 2023 was $23.8^0C$, we expect to have $f(x) = 23.8$.  \n",
    "\n",
    "Using the interval $[9,10]$ from the datasets for Tm_average (monthly lowest average temperatures), we shall have that,  \n",
    "\n",
    "$(x_m,f_m) = (9,24.5)$, and $(x_n,f_n) = (10,25.1)$\n",
    "\n",
    "so that `Eq. (1.4)` becomes:  \n",
    "\n",
    "$$f(x=9.167) = 24.5 + \\frac{(9.167-9)}{(10-9)}(25.1 - 24.5) \\tag{1.7}$$\n",
    "$$= 24.5 + (0.167)(0.6)$$\n",
    "$$= 24.5 + 0.10$$\n",
    "$$=24.6$$ \n",
    "\n",
    "$i.e. f_{9.167} = 24.6$ for lowest temperature.  \n",
    "`Note: expected value is 23.8`"
   ]
  },
  {
   "cell_type": "markdown",
   "id": "c8157bef-cab3-4656-83a7-55cff135b715",
   "metadata": {},
   "source": [
    "##### Estimating accuracy"
   ]
  },
  {
   "cell_type": "markdown",
   "id": "4c4117b3-103d-47c1-a5b9-12bd84432304",
   "metadata": {},
   "source": [
    "Using the fact that $accuracy = (100 - \\text{Error rate} )\\%$, and\n",
    "$$\\text{Error rate} = \\frac{\\text{calculated value} - \\text{true value}}{\\text{true value}} \\times100\\% $$\n",
    "$$ = \\frac{24.6 - 23.8}{23.8} \\times100\\%$$\n",
    "$$ = 3.36\\%$$\n",
    "\n",
    "We have,\n",
    "\n",
    "$$accuracy = (100 - 3.36)\\%$$\n",
    "$$ = 96.64\\% $$"
   ]
  },
  {
   "cell_type": "markdown",
   "id": "c3c083da-54d3-44e8-b7c0-878d36ee7565",
   "metadata": {},
   "source": [
    "### Summary\n",
    "`Highest temperature value from linear interpolation: 28.4⁰C`  \n",
    "`Expected value: 28⁰C`  \n",
    "`Estimated accuracy = 98.57%`\n",
    "\n",
    "\n",
    "`Lowest temperature value from linear interpolation: 24.6⁰C`  \n",
    "`Expected value: 23.8⁰C`  \n",
    "`Estimated accuracy = 96.64%`"
   ]
  },
  {
   "cell_type": "markdown",
   "id": "1ce77b56-7c78-4238-b9fc-ad4c806ade7a",
   "metadata": {
    "jp-MarkdownHeadingCollapsed": true
   },
   "source": [
    "## Solution to question(b)\n",
    "\n",
    "Using the *Lagrange interpolation* function implemented, ***`function: lagrange(x, f, x_n)`***, we shall proceed to repeat the procedure in (a) above using python code."
   ]
  },
  {
   "cell_type": "code",
   "execution_count": null,
   "id": "0e01a5a1-eeb1-40af-b89e-e9b9166ed1fc",
   "metadata": {},
   "outputs": [],
   "source": [
    "#collected data set\n",
    "months = [\"January\",\"February\",\"March\",\"April\",\"May\",\"June\",\"July\",\"August\",\"September\",\"October\",\"November\",\"December\"]\n",
    "x_mon=[1,2,3,4,5,6,7,8,9,10,11,12]\n",
    "TM_ave = [29.5,32.2,29.7,29.8,30.1,28.8,27.7,27.4,28.2,29.4,31.5,30.3] #monthly highest average temperatures ⁰C for 2023\n",
    "Tm_ave = [27,28.4,27.1,26.1,25.8,25.2,24.3,25.4,24.5,25.1,24.6,27.1] #monthly lowest average temperatures in ⁰C for 2023"
   ]
  },
  {
   "cell_type": "code",
   "execution_count": null,
   "id": "612da1c5-0baa-4960-9075-f7a8c3a43c7f",
   "metadata": {},
   "outputs": [],
   "source": [
    "#define birthdate\n",
    "x_birthDate = 9 + (5/30) #for 5th September\n",
    "\n",
    "#define expected result\n",
    "f_TM_expected = 28 #Highest temperature in ⁰C as at birthdate \n",
    "f_Tm_expected = 23.8 #Lowest temperature in ⁰C as at birthdate\n",
    "\n",
    "# call lagrange function for interpolation\n",
    "f_TM = lagrange(x_mon, TM_ave, x_birthDate) #Highest temp on Sept 5th\n",
    "f_Tm = lagrange(x_mon, Tm_ave, x_birthDate) #Lowest temp on Sept 5th\n",
    "\n",
    "# compute estmated accuracy\n",
    "error_TM = ((f_TM - f_TM_expected)/f_TM_expected) * 100 #error rate for highest temp\n",
    "accuracy_TM = 100 - error_TM #estimated accuracy for highest temp\n",
    "\n",
    "error_Tm = ((f_Tm - f_Tm_expected)/f_Tm_expected) * 100 #error rate for lowest temp\n",
    "accuracy_Tm = 100 - error_Tm #estimated accuracy for lowest temp\n",
    "\n",
    "print(f\"Highest temperature on \\033[1m5th September, 2023\\033[0m using implemented lagrange interpolation is \\033[1m{f_TM:.1f}⁰C\\033[0m to 1dp\")\n",
    "print(f\"Expected value: \\033[1m{f_TM_expected}⁰C\\033[0m\")\n",
    "print(f\"Estimated accuracy: \\033[1m{accuracy_TM:.2f}%\\033[0m \\n\")\n",
    "\n",
    "print(f\"Lowest temperature on \\033[1m5th September, 2023\\033[0m using implemented lagrange interpolation is \\033[1m{f_Tm:.1f}⁰C\\033[0m to 1dp\")\n",
    "print(f\"Expected value: \\033[1m{f_Tm_expected}⁰C\\033[0m\")\n",
    "print(f\"Estimated accuracy: \\033[1m{accuracy_Tm:.2f}%\\033[0m \\n\")"
   ]
  },
  {
   "cell_type": "markdown",
   "id": "b3da8a45-3d88-4d8e-83ff-271405d7f98a",
   "metadata": {
    "jp-MarkdownHeadingCollapsed": true
   },
   "source": [
    "## Solution to question(c)"
   ]
  },
  {
   "cell_type": "code",
   "execution_count": null,
   "id": "4c2e1fe0-638f-4a59-ad3f-75b08a64cc75",
   "metadata": {},
   "outputs": [],
   "source": []
  },
  {
   "cell_type": "markdown",
   "id": "1a67059c-3e9c-453c-8334-a1d50946377f",
   "metadata": {},
   "source": [
    "## Contribution"
   ]
  },
  {
   "cell_type": "markdown",
   "id": "22e080dd-c1f3-42d2-96c8-c2b249a086aa",
   "metadata": {
    "jp-MarkdownHeadingCollapsed": true
   },
   "source": [
    "The following colleagues are acknowledged for their useful contributions:\n",
    "- **Michael Adeniji**: Discussion with him helped with accurate data collection  \n",
    "- **Peter Ogundipe**: Discussion with him helped with effective function implementation  \n",
    "\n",
    "Special thanks to **Prof. Janet Ademola** of the Department of Physics. Discussion with her helped with data collection source  "
   ]
  }
 ],
 "metadata": {
  "kernelspec": {
   "display_name": "Python 3 (ipykernel)",
   "language": "python",
   "name": "python3"
  },
  "language_info": {
   "codemirror_mode": {
    "name": "ipython",
    "version": 3
   },
   "file_extension": ".py",
   "mimetype": "text/x-python",
   "name": "python",
   "nbconvert_exporter": "python",
   "pygments_lexer": "ipython3",
   "version": "3.12.4"
  }
 },
 "nbformat": 4,
 "nbformat_minor": 5
}
